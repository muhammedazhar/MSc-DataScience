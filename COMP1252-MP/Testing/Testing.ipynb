{
 "cells": [],
 "metadata": {
  "kernelspec": {
   "display_name": "COMP1252-MP(GPU)",
   "language": "python",
   "name": "comp1252-mp"
  },
  "language_info": {
   "name": "python",
   "version": "3.10.15"
  }
 },
 "nbformat": 4,
 "nbformat_minor": 2
}
