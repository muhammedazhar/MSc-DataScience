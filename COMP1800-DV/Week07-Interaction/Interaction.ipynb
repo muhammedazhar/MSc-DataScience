{
 "cells": [
  {
   "cell_type": "markdown",
   "metadata": {},
   "source": [
    "# Delete HTML files"
   ]
  },
  {
   "cell_type": "code",
   "execution_count": 2,
   "metadata": {},
   "outputs": [
    {
     "name": "stdout",
     "output_type": "stream",
     "text": [
      "deleting html files in /Users/muhammedazhar/Developer/MSc-DataScience/COMP1800-DV/Week07-Interaction\n"
     ]
    }
   ],
   "source": [
    "%run ./clean.py"
   ]
  },
  {
   "cell_type": "markdown",
   "metadata": {},
   "source": [
    "# 1. Bar Chart All"
   ]
  },
  {
   "cell_type": "code",
   "execution_count": 6,
   "metadata": {},
   "outputs": [
    {
     "name": "stdout",
     "output_type": "stream",
     "text": [
      "              A   B   C  D   E    F    G    H   I    J  ...   P   Q  R    S  \\\n",
      "Date                                                    ...                   \n",
      "2019-01-01  526   3   9  0  66  472  260  116  45  202  ...  85  38  0   97   \n",
      "2019-01-02  504  11  10  0  57  472  157  108   3  223  ...  73   0  0   92   \n",
      "2019-01-03  499   0  10  0  42  475  154  104   0  199  ...  65  20  5   84   \n",
      "2019-01-04  504   0   7  0  57  464  149   83  17  198  ...  83  19  0   89   \n",
      "2019-01-05  499  15   9  0  31  466  159   84  14  219  ...  97  31  0  104   \n",
      "\n",
      "             T  U   V    W   X   Y  \n",
      "Date                                \n",
      "2019-01-01  19  7   0  174  55  12  \n",
      "2019-01-02  45  0  14  132  65   8  \n",
      "2019-01-03  89  0   4  132  39   6  \n",
      "2019-01-04   0  0  14  143  57  20  \n",
      "2019-01-05   0  8  28   46  44  15  \n",
      "\n",
      "[5 rows x 25 columns]\n",
      "A    175173\n",
      "B      4489\n",
      "C      3649\n",
      "D     18672\n",
      "E     17449\n",
      "F    176462\n",
      "G     45193\n",
      "H     51118\n",
      "I      5249\n",
      "J     63273\n",
      "K      3346\n",
      "L    141115\n",
      "M     25577\n",
      "N      6011\n",
      "O     25573\n",
      "P     29187\n",
      "Q      6272\n",
      "R      2457\n",
      "S     46225\n",
      "T     20944\n",
      "U      3069\n",
      "V      5330\n",
      "W     53517\n",
      "X     15809\n",
      "Y      5468\n",
      "dtype: int64\n",
      "Launching server at http://localhost:64673\n"
     ]
    }
   ],
   "source": [
    "# this file is not used in the lecture\n",
    "# but is included here as an example of an interactive bar chart\n",
    "import matplotlib.pyplot as plt\n",
    "import numpy as np\n",
    "import pandas as pd\n",
    "import hvplot.pandas\n",
    "\n",
    "# Week00-Welcome/Datasets/Products/DailySales.csv\n",
    "data = pd.read_csv('../Week00-Welcome/Datasets/Products/DailySales.csv', index_col=0)\n",
    "\n",
    "print(data.head())\n",
    "print(data.sum())\n",
    "\n",
    "plot = data.sum().hvplot.bar(\n",
    "    width=600, height=200,\n",
    "    xlabel='Product', ylabel='Units sold',\n",
    "    title='All Products',\n",
    ")\n",
    "hvplot.show(plot);"
   ]
  },
  {
   "cell_type": "markdown",
   "metadata": {},
   "source": [
    "# 1. Line Plot All"
   ]
  },
  {
   "cell_type": "code",
   "execution_count": 10,
   "metadata": {},
   "outputs": [
    {
     "name": "stdout",
     "output_type": "stream",
     "text": [
      "              A   B   C  D   E    F    G    H   I    J  ...   P   Q  R    S  \\\n",
      "Date                                                    ...                   \n",
      "2019-01-01  526   3   9  0  66  472  260  116  45  202  ...  85  38  0   97   \n",
      "2019-01-02  504  11  10  0  57  472  157  108   3  223  ...  73   0  0   92   \n",
      "2019-01-03  499   0  10  0  42  475  154  104   0  199  ...  65  20  5   84   \n",
      "2019-01-04  504   0   7  0  57  464  149   83  17  198  ...  83  19  0   89   \n",
      "2019-01-05  499  15   9  0  31  466  159   84  14  219  ...  97  31  0  104   \n",
      "\n",
      "             T  U   V    W   X   Y  \n",
      "Date                                \n",
      "2019-01-01  19  7   0  174  55  12  \n",
      "2019-01-02  45  0  14  132  65   8  \n",
      "2019-01-03  89  0   4  132  39   6  \n",
      "2019-01-04   0  0  14  143  57  20  \n",
      "2019-01-05   0  8  28   46  44  15  \n",
      "\n",
      "[5 rows x 25 columns]\n",
      "Launching server at http://localhost:64816\n"
     ]
    }
   ],
   "source": [
    "import pandas as pd\n",
    "import hvplot.pandas\n",
    "\n",
    "data = pd.read_csv('https://tinyurl.com/ChrisCoDV/Products/DailySales.csv', index_col=0)\n",
    "data.index = pd.to_datetime(data.index)\n",
    "print(data.head())\n",
    "\n",
    "plot = data.hvplot.line(\n",
    "    width=700, height=600,\n",
    "    xlabel='Date', ylabel='Units sold',\n",
    "    title='All Products'\n",
    ")\n",
    "hvplot.show(plot);"
   ]
  },
  {
   "cell_type": "markdown",
   "metadata": {},
   "source": [
    "# 2. Line Plot High Volume"
   ]
  },
  {
   "cell_type": "code",
   "execution_count": 12,
   "metadata": {},
   "outputs": [
    {
     "name": "stdout",
     "output_type": "stream",
     "text": [
      "              A   B   C  D   E    F    G    H   I    J  ...   P   Q  R    S  \\\n",
      "Date                                                    ...                   \n",
      "2019-01-01  526   3   9  0  66  472  260  116  45  202  ...  85  38  0   97   \n",
      "2019-01-02  504  11  10  0  57  472  157  108   3  223  ...  73   0  0   92   \n",
      "2019-01-03  499   0  10  0  42  475  154  104   0  199  ...  65  20  5   84   \n",
      "2019-01-04  504   0   7  0  57  464  149   83  17  198  ...  83  19  0   89   \n",
      "2019-01-05  499  15   9  0  31  466  159   84  14  219  ...  97  31  0  104   \n",
      "\n",
      "             T  U   V    W   X   Y  \n",
      "Date                                \n",
      "2019-01-01  19  7   0  174  55  12  \n",
      "2019-01-02  45  0  14  132  65   8  \n",
      "2019-01-03  89  0   4  132  39   6  \n",
      "2019-01-04   0  0  14  143  57  20  \n",
      "2019-01-05   0  8  28   46  44  15  \n",
      "\n",
      "[5 rows x 25 columns]\n",
      "Launching server at http://localhost:64916\n"
     ]
    }
   ],
   "source": [
    "import pandas as pd\n",
    "import hvplot.pandas\n",
    "\n",
    "data = pd.read_csv('https://tinyurl.com/ChrisCoDV/Products/DailySales.csv', index_col=0)\n",
    "data.index = pd.to_datetime(data.index)\n",
    "print(data.head())\n",
    "\n",
    "selected = ['A', 'F', 'L']\n",
    "\n",
    "plot = data[selected].hvplot.line(\n",
    "    width=700, height=600,\n",
    "    xlabel='Date', ylabel='Units sold',\n",
    "    title='High Volume Products'\n",
    ")\n",
    "hvplot.show(plot);"
   ]
  },
  {
   "cell_type": "markdown",
   "metadata": {},
   "source": [
    "# 3. Line Plot High Volume Subplots"
   ]
  },
  {
   "cell_type": "code",
   "execution_count": 16,
   "metadata": {},
   "outputs": [
    {
     "name": "stdout",
     "output_type": "stream",
     "text": [
      "              A   B   C  D   E    F    G    H   I    J  ...   P   Q  R    S  \\\n",
      "Date                                                    ...                   \n",
      "2019-01-01  526   3   9  0  66  472  260  116  45  202  ...  85  38  0   97   \n",
      "2019-01-02  504  11  10  0  57  472  157  108   3  223  ...  73   0  0   92   \n",
      "2019-01-03  499   0  10  0  42  475  154  104   0  199  ...  65  20  5   84   \n",
      "2019-01-04  504   0   7  0  57  464  149   83  17  198  ...  83  19  0   89   \n",
      "2019-01-05  499  15   9  0  31  466  159   84  14  219  ...  97  31  0  104   \n",
      "\n",
      "             T  U   V    W   X   Y  \n",
      "Date                                \n",
      "2019-01-01  19  7   0  174  55  12  \n",
      "2019-01-02  45  0  14  132  65   8  \n",
      "2019-01-03  89  0   4  132  39   6  \n",
      "2019-01-04   0  0  14  143  57  20  \n",
      "2019-01-05   0  8  28   46  44  15  \n",
      "\n",
      "[5 rows x 25 columns]\n",
      "Launching server at http://localhost:65000\n"
     ]
    }
   ],
   "source": [
    "import pandas as pd\n",
    "import hvplot.pandas\n",
    "\n",
    "data = pd.read_csv('https://tinyurl.com/ChrisCoDV/Products/DailySales.csv', index_col=0)\n",
    "data.index = pd.to_datetime(data.index)\n",
    "print(data.head())\n",
    "\n",
    "selected = ['A', 'F', 'L']\n",
    "\n",
    "plot = data[selected].hvplot.line(\n",
    "    width=400, height=400,\n",
    "    xlabel='Date', ylabel='Units sold',\n",
    "    title='High Volume Products',\n",
    "    subplots=True\n",
    ")\n",
    "hvplot.show(plot);"
   ]
  },
  {
   "cell_type": "markdown",
   "metadata": {},
   "source": [
    "# 4. Line Plot High Volume Subplots Vertical"
   ]
  },
  {
   "cell_type": "code",
   "execution_count": 17,
   "metadata": {},
   "outputs": [
    {
     "name": "stdout",
     "output_type": "stream",
     "text": [
      "              A   B   C  D   E    F    G    H   I    J  ...   P   Q  R    S  \\\n",
      "Date                                                    ...                   \n",
      "2019-01-01  526   3   9  0  66  472  260  116  45  202  ...  85  38  0   97   \n",
      "2019-01-02  504  11  10  0  57  472  157  108   3  223  ...  73   0  0   92   \n",
      "2019-01-03  499   0  10  0  42  475  154  104   0  199  ...  65  20  5   84   \n",
      "2019-01-04  504   0   7  0  57  464  149   83  17  198  ...  83  19  0   89   \n",
      "2019-01-05  499  15   9  0  31  466  159   84  14  219  ...  97  31  0  104   \n",
      "\n",
      "             T  U   V    W   X   Y  \n",
      "Date                                \n",
      "2019-01-01  19  7   0  174  55  12  \n",
      "2019-01-02  45  0  14  132  65   8  \n",
      "2019-01-03  89  0   4  132  39   6  \n",
      "2019-01-04   0  0  14  143  57  20  \n",
      "2019-01-05   0  8  28   46  44  15  \n",
      "\n",
      "[5 rows x 25 columns]\n",
      "Launching server at http://localhost:65035\n"
     ]
    }
   ],
   "source": [
    "import pandas as pd\n",
    "import hvplot.pandas\n",
    "\n",
    "data = pd.read_csv('https://tinyurl.com/ChrisCoDV/Products/DailySales.csv', index_col=0)\n",
    "data.index = pd.to_datetime(data.index)\n",
    "print(data.head())\n",
    "\n",
    "selected = ['A', 'F', 'L']\n",
    "\n",
    "plot = data[selected].hvplot.line(\n",
    "    height=200, width=600,\n",
    "    xlabel='Date', ylabel='Units sold',\n",
    "    title='High Volume Products',\n",
    "    subplots=True\n",
    ").cols(1)\n",
    "hvplot.show(plot);"
   ]
  },
  {
   "cell_type": "markdown",
   "metadata": {},
   "source": [
    "# 5. Line Plot High Volume Subplots Tools"
   ]
  },
  {
   "cell_type": "code",
   "execution_count": 18,
   "metadata": {},
   "outputs": [
    {
     "name": "stdout",
     "output_type": "stream",
     "text": [
      "              A   B   C  D   E    F    G    H   I    J  ...   P   Q  R    S  \\\n",
      "Date                                                    ...                   \n",
      "2019-01-01  526   3   9  0  66  472  260  116  45  202  ...  85  38  0   97   \n",
      "2019-01-02  504  11  10  0  57  472  157  108   3  223  ...  73   0  0   92   \n",
      "2019-01-03  499   0  10  0  42  475  154  104   0  199  ...  65  20  5   84   \n",
      "2019-01-04  504   0   7  0  57  464  149   83  17  198  ...  83  19  0   89   \n",
      "2019-01-05  499  15   9  0  31  466  159   84  14  219  ...  97  31  0  104   \n",
      "\n",
      "             T  U   V    W   X   Y  \n",
      "Date                                \n",
      "2019-01-01  19  7   0  174  55  12  \n",
      "2019-01-02  45  0  14  132  65   8  \n",
      "2019-01-03  89  0   4  132  39   6  \n",
      "2019-01-04   0  0  14  143  57  20  \n",
      "2019-01-05   0  8  28   46  44  15  \n",
      "\n",
      "[5 rows x 25 columns]\n",
      "Launching server at http://localhost:65145\n"
     ]
    }
   ],
   "source": [
    "import pandas as pd\n",
    "import hvplot.pandas\n",
    "\n",
    "data = pd.read_csv('https://tinyurl.com/ChrisCoDV/Products/DailySales.csv', index_col=0)\n",
    "data.index = pd.to_datetime(data.index)\n",
    "print(data.head())\n",
    "\n",
    "selected = ['A', 'F', 'L']\n",
    "\n",
    "plot = data[selected].hvplot.line(\n",
    "    height=200, width=600,\n",
    "    xlabel='Date', ylabel='Units sold',\n",
    "    title='High Volume Products',\n",
    "    tools=['pan', 'box_zoom', 'wheel_zoom', 'undo', 'redo', 'hover', 'save', 'reset'],\n",
    "    subplots=True\n",
    ").cols(1)\n",
    "hvplot.show(plot);"
   ]
  },
  {
   "cell_type": "markdown",
   "metadata": {},
   "source": [
    "# 6. Histogram High Volume"
   ]
  },
  {
   "cell_type": "code",
   "execution_count": 19,
   "metadata": {},
   "outputs": [
    {
     "name": "stdout",
     "output_type": "stream",
     "text": [
      "              A   B   C  D   E    F    G    H   I    J  ...   P   Q  R    S  \\\n",
      "Date                                                    ...                   \n",
      "2019-01-01  526   3   9  0  66  472  260  116  45  202  ...  85  38  0   97   \n",
      "2019-01-02  504  11  10  0  57  472  157  108   3  223  ...  73   0  0   92   \n",
      "2019-01-03  499   0  10  0  42  475  154  104   0  199  ...  65  20  5   84   \n",
      "2019-01-04  504   0   7  0  57  464  149   83  17  198  ...  83  19  0   89   \n",
      "2019-01-05  499  15   9  0  31  466  159   84  14  219  ...  97  31  0  104   \n",
      "\n",
      "             T  U   V    W   X   Y  \n",
      "Date                                \n",
      "2019-01-01  19  7   0  174  55  12  \n",
      "2019-01-02  45  0  14  132  65   8  \n",
      "2019-01-03  89  0   4  132  39   6  \n",
      "2019-01-04   0  0  14  143  57  20  \n",
      "2019-01-05   0  8  28   46  44  15  \n",
      "\n",
      "[5 rows x 25 columns]\n",
      "Launching server at http://localhost:65189\n"
     ]
    }
   ],
   "source": [
    "import pandas as pd\n",
    "import hvplot.pandas\n",
    "\n",
    "data = pd.read_csv('https://tinyurl.com/ChrisCoDV/Products/DailySales.csv', index_col=0)\n",
    "data.index = pd.to_datetime(data.index)\n",
    "print(data.head())\n",
    "\n",
    "selected = ['A', 'F', 'L']\n",
    "\n",
    "plot = data[selected].hvplot.hist(\n",
    "    height=500, width=500,\n",
    "    xlabel='Units sold per day', ylabel='Frequency',\n",
    "    title='High Volume Products',\n",
    "    alpha=0.5, muted_alpha=0, muted_fill_alpha=0, muted_line_alpha=0,\n",
    "    tools=['pan', 'box_zoom', 'wheel_zoom', 'undo', 'redo', 'hover', 'save', 'reset']\n",
    ")\n",
    "hvplot.show(plot);"
   ]
  },
  {
   "cell_type": "markdown",
   "metadata": {},
   "source": [
    "# &. Histogram High Volume Custom Bins"
   ]
  },
  {
   "cell_type": "code",
   "execution_count": 20,
   "metadata": {},
   "outputs": [
    {
     "name": "stdout",
     "output_type": "stream",
     "text": [
      "              A   B   C  D   E    F    G    H   I    J  ...   P   Q  R    S  \\\n",
      "Date                                                    ...                   \n",
      "2019-01-01  526   3   9  0  66  472  260  116  45  202  ...  85  38  0   97   \n",
      "2019-01-02  504  11  10  0  57  472  157  108   3  223  ...  73   0  0   92   \n",
      "2019-01-03  499   0  10  0  42  475  154  104   0  199  ...  65  20  5   84   \n",
      "2019-01-04  504   0   7  0  57  464  149   83  17  198  ...  83  19  0   89   \n",
      "2019-01-05  499  15   9  0  31  466  159   84  14  219  ...  97  31  0  104   \n",
      "\n",
      "             T  U   V    W   X   Y  \n",
      "Date                                \n",
      "2019-01-01  19  7   0  174  55  12  \n",
      "2019-01-02  45  0  14  132  65   8  \n",
      "2019-01-03  89  0   4  132  39   6  \n",
      "2019-01-04   0  0  14  143  57  20  \n",
      "2019-01-05   0  8  28   46  44  15  \n",
      "\n",
      "[5 rows x 25 columns]\n",
      "30 bins\n",
      "Launching server at http://localhost:65255\n"
     ]
    }
   ],
   "source": [
    "import pandas as pd\n",
    "import hvplot.pandas\n",
    "\n",
    "data = pd.read_csv('https://tinyurl.com/ChrisCoDV/Products/DailySales.csv', index_col=0)\n",
    "data.index = pd.to_datetime(data.index)\n",
    "print(data.head())\n",
    "\n",
    "selected = ['A', 'F', 'L']\n",
    "\n",
    "x_min = 250\n",
    "x_max = 550\n",
    "bin_width = 10\n",
    "n_bins = int((x_max - x_min) / bin_width)\n",
    "print(f'{n_bins} bins')\n",
    "bins = [(x_min + x * bin_width) for x in range(n_bins + 1)]\n",
    "\n",
    "plot = data[selected].hvplot.hist(\n",
    "    height=500, width=500,\n",
    "    xlabel='Units sold per day', ylabel='Frequency',\n",
    "    title='High Volume Products',\n",
    "    alpha=0.5, muted_alpha=0, muted_fill_alpha=0, muted_line_alpha=0,\n",
    "    tools=['pan', 'box_zoom', 'wheel_zoom', 'undo', 'redo', 'hover', 'save', 'reset'],\n",
    "    bins=bins\n",
    ")\n",
    "hvplot.show(plot);"
   ]
  },
  {
   "cell_type": "markdown",
   "metadata": {},
   "source": [
    "# *. Heat Map Correlation"
   ]
  },
  {
   "cell_type": "code",
   "execution_count": 21,
   "metadata": {},
   "outputs": [
    {
     "name": "stdout",
     "output_type": "stream",
     "text": [
      "              A   B   C  D   E    F    G    H   I    J  ...   P   Q  R    S  \\\n",
      "Date                                                    ...                   \n",
      "2019-01-01  526   3   9  0  66  472  260  116  45  202  ...  85  38  0   97   \n",
      "2019-01-02  504  11  10  0  57  472  157  108   3  223  ...  73   0  0   92   \n",
      "2019-01-03  499   0  10  0  42  475  154  104   0  199  ...  65  20  5   84   \n",
      "2019-01-04  504   0   7  0  57  464  149   83  17  198  ...  83  19  0   89   \n",
      "2019-01-05  499  15   9  0  31  466  159   84  14  219  ...  97  31  0  104   \n",
      "\n",
      "             T  U   V    W   X   Y  \n",
      "Date                                \n",
      "2019-01-01  19  7   0  174  55  12  \n",
      "2019-01-02  45  0  14  132  65   8  \n",
      "2019-01-03  89  0   4  132  39   6  \n",
      "2019-01-04   0  0  14  143  57  20  \n",
      "2019-01-05   0  8  28   46  44  15  \n",
      "\n",
      "[5 rows x 25 columns]\n",
      "Launching server at http://localhost:65297\n"
     ]
    }
   ],
   "source": [
    "import pandas as pd\n",
    "import hvplot.pandas\n",
    "\n",
    "data = pd.read_csv('https://tinyurl.com/ChrisCoDV/Products/DailySales.csv', index_col=0)\n",
    "data.index = pd.to_datetime(data.index)\n",
    "print(data.head())\n",
    "\n",
    "plot = data.corr().hvplot.heatmap(\n",
    "    height=500, width=500,\n",
    "    title='Product correlations',\n",
    "    rot=90, cmap='coolwarm'  # see http://holoviews.org/user_guide/Colormaps.html\n",
    ").opts(invert_yaxis=True, clim=(-1, 1))\n",
    "hvplot.show(plot);"
   ]
  },
  {
   "cell_type": "markdown",
   "metadata": {},
   "source": [
    "# 9. Scatter Plot Selected Correlations"
   ]
  },
  {
   "cell_type": "code",
   "execution_count": 22,
   "metadata": {},
   "outputs": [
    {
     "name": "stdout",
     "output_type": "stream",
     "text": [
      "              A   B   C  D   E    F    G    H   I    J  ...   P   Q  R    S  \\\n",
      "Date                                                    ...                   \n",
      "2019-01-01  526   3   9  0  66  472  260  116  45  202  ...  85  38  0   97   \n",
      "2019-01-02  504  11  10  0  57  472  157  108   3  223  ...  73   0  0   92   \n",
      "2019-01-03  499   0  10  0  42  475  154  104   0  199  ...  65  20  5   84   \n",
      "2019-01-04  504   0   7  0  57  464  149   83  17  198  ...  83  19  0   89   \n",
      "2019-01-05  499  15   9  0  31  466  159   84  14  219  ...  97  31  0  104   \n",
      "\n",
      "             T  U   V    W   X   Y  \n",
      "Date                                \n",
      "2019-01-01  19  7   0  174  55  12  \n",
      "2019-01-02  45  0  14  132  65   8  \n",
      "2019-01-03  89  0   4  132  39   6  \n",
      "2019-01-04   0  0  14  143  57  20  \n",
      "2019-01-05   0  8  28   46  44  15  \n",
      "\n",
      "[5 rows x 25 columns]\n",
      "Launching server at http://localhost:65350\n"
     ]
    }
   ],
   "source": [
    "import pandas as pd\n",
    "import hvplot.pandas\n",
    "\n",
    "data = pd.read_csv('https://tinyurl.com/ChrisCoDV/Products/DailySales.csv', index_col=0)\n",
    "data.index = pd.to_datetime(data.index)\n",
    "print(data.head())\n",
    "\n",
    "xlimits = (20, 230)\n",
    "ylimits = (20, 120)\n",
    "plot = data.hvplot.scatter(\n",
    "    height=300, width=300,\n",
    "    x='H', y='M', title='H vs M',\n",
    "    xlim=xlimits, ylim=ylimits, size=10\n",
    ") + \\\n",
    "data.hvplot.scatter(\n",
    "    height=300, width=300,\n",
    "    x='H', y='O', title='H vs O',\n",
    "    xlim=xlimits, ylim=ylimits, size=10\n",
    ") + \\\n",
    "data.hvplot.scatter(\n",
    "    height=300, width=300,\n",
    "    x='M', y='O', title='M vs O',\n",
    "    xlim=xlimits, ylim=ylimits, size=10\n",
    ")\n",
    "hvplot.show(plot);"
   ]
  },
  {
   "cell_type": "markdown",
   "metadata": {},
   "source": [
    "# 10. Scatter Plot Selected Correlations"
   ]
  },
  {
   "cell_type": "code",
   "execution_count": 23,
   "metadata": {},
   "outputs": [
    {
     "name": "stdout",
     "output_type": "stream",
     "text": [
      "              A   B   C  D   E    F    G    H   I    J  ...   P   Q  R    S  \\\n",
      "Date                                                    ...                   \n",
      "2019-01-01  526   3   9  0  66  472  260  116  45  202  ...  85  38  0   97   \n",
      "2019-01-02  504  11  10  0  57  472  157  108   3  223  ...  73   0  0   92   \n",
      "2019-01-03  499   0  10  0  42  475  154  104   0  199  ...  65  20  5   84   \n",
      "2019-01-04  504   0   7  0  57  464  149   83  17  198  ...  83  19  0   89   \n",
      "2019-01-05  499  15   9  0  31  466  159   84  14  219  ...  97  31  0  104   \n",
      "\n",
      "             T  U   V    W   X   Y  \n",
      "Date                                \n",
      "2019-01-01  19  7   0  174  55  12  \n",
      "2019-01-02  45  0  14  132  65   8  \n",
      "2019-01-03  89  0   4  132  39   6  \n",
      "2019-01-04   0  0  14  143  57  20  \n",
      "2019-01-05   0  8  28   46  44  15  \n",
      "\n",
      "[5 rows x 25 columns]\n",
      "Launching server at http://localhost:65404\n"
     ]
    }
   ],
   "source": [
    "import pandas as pd\n",
    "import hvplot.pandas\n",
    "\n",
    "data = pd.read_csv('https://tinyurl.com/ChrisCoDV/Products/DailySales.csv', index_col=0)\n",
    "data.index = pd.to_datetime(data.index)\n",
    "print(data.head())\n",
    "\n",
    "xlimits = (20, 230)\n",
    "ylimits = (20, 120)\n",
    "plot = data.hvplot.scatter(\n",
    "    height=300, width=300,\n",
    "    x='H', y='M', xlabel='', ylabel='',\n",
    "    xlim=xlimits, ylim=ylimits, size=10\n",
    ") * \\\n",
    "data.hvplot.scatter(\n",
    "    height=300, width=300,\n",
    "    x='H', y='O', xlabel='', ylabel='',\n",
    "    xlim=xlimits, ylim=ylimits, size=10\n",
    ") * \\\n",
    "data.hvplot.scatter(\n",
    "    height=300, width=300,\n",
    "    x='M', y='O', xlabel='', ylabel='',\n",
    "    xlim=xlimits, ylim=ylimits, size=10\n",
    ")\n",
    "hvplot.show(plot);"
   ]
  },
  {
   "cell_type": "markdown",
   "metadata": {},
   "source": [
    "# 11. Bubble Plot Profit Advertising Sales"
   ]
  },
  {
   "cell_type": "code",
   "execution_count": 24,
   "metadata": {},
   "outputs": [
    {
     "name": "stdout",
     "output_type": "stream",
     "text": [
      "              A   B   C  D   E    F    G    H   I    J  ...   P   Q  R    S  \\\n",
      "Date                                                    ...                   \n",
      "2019-01-01  526   3   9  0  66  472  260  116  45  202  ...  85  38  0   97   \n",
      "2019-01-02  504  11  10  0  57  472  157  108   3  223  ...  73   0  0   92   \n",
      "2019-01-03  499   0  10  0  42  475  154  104   0  199  ...  65  20  5   84   \n",
      "2019-01-04  504   0   7  0  57  464  149   83  17  198  ...  83  19  0   89   \n",
      "2019-01-05  499  15   9  0  31  466  159   84  14  219  ...  97  31  0  104   \n",
      "\n",
      "             T  U   V    W   X   Y  \n",
      "Date                                \n",
      "2019-01-01  19  7   0  174  55  12  \n",
      "2019-01-02  45  0  14  132  65   8  \n",
      "2019-01-03  89  0   4  132  39   6  \n",
      "2019-01-04   0  0  14  143  57  20  \n",
      "2019-01-05   0  8  28   46  44  15  \n",
      "\n",
      "[5 rows x 25 columns]\n",
      "   Price  Profit   Sales  Marketing  Advertising  Cost\n",
      "A     21       6  175173      21000     0.119881    15\n",
      "B     28      16    4489       3000     0.668300    12\n",
      "C     43       2    3649       3000     0.822143    41\n",
      "D     47       2   18672      42000     2.249357    45\n",
      "E     38      14   17449      13000     0.745028    24\n",
      "          Price    Profit          Sales    Marketing  Advertising       Cost\n",
      "count  25.00000  25.00000      25.000000     25.00000    25.000000  25.000000\n",
      "mean   31.24000  10.80000   38025.080000  20360.00000     1.855427  20.440000\n",
      "std    11.71637   6.98212   51223.822256  13996.66627     3.236241  11.554508\n",
      "min     8.00000   1.00000    2457.000000      0.00000     0.000000   6.000000\n",
      "25%    21.00000   4.00000    5330.000000   6000.00000     0.616377  12.000000\n",
      "50%    29.00000  12.00000   18672.000000  25000.00000     0.811688  15.000000\n",
      "75%    42.00000  16.00000   46225.000000  29000.00000     0.998170  28.000000\n",
      "max    49.00000  25.00000  176462.000000  44000.00000    14.336918  45.000000\n",
      "Launching server at http://localhost:65460\n"
     ]
    }
   ],
   "source": [
    "import pandas as pd\n",
    "import hvplot.pandas\n",
    "\n",
    "data = pd.read_csv('https://tinyurl.com/ChrisCoDV/Products/DailySales.csv', index_col=0)\n",
    "print(data.head())\n",
    "\n",
    "marketing_data = pd.read_csv('https://tinyurl.com/ChrisCoDV/Products/MarketingPerProduct.csv', index_col=0)\n",
    "price_per_unit = pd.read_csv('https://tinyurl.com/ChrisCoDV/Products/PricePerUnit.csv', index_col=0)\n",
    "profit_per_unit = pd.read_csv('https://tinyurl.com/ChrisCoDV/Products/ProfitPerUnit.csv', index_col=0)\n",
    "\n",
    "summary_data = pd.DataFrame(index=data.columns)\n",
    "summary_data['Price'] = price_per_unit.values\n",
    "summary_data['Profit'] = profit_per_unit.values\n",
    "summary_data['Sales'] = data.sum().values\n",
    "summary_data['Marketing'] = marketing_data.values\n",
    "summary_data['Advertising'] = summary_data['Marketing'] / summary_data['Sales']\n",
    "summary_data['Cost'] = summary_data['Price'] - summary_data['Profit']\n",
    "print(summary_data.head())\n",
    "print(summary_data.describe())\n",
    "\n",
    "\n",
    "summary_data['BubbleSize'] = summary_data['Sales'] * 0.01\n",
    "\n",
    "plot = summary_data.hvplot.scatter(\n",
    "    height=500, width=500,\n",
    "    title='Profit vs Advertising (vs Sales)',\n",
    "    xlabel='Profit (£/unit)', ylabel='Advertising (£/unit)',\n",
    "    alpha=0.5, padding=0.1, hover_cols='all',\n",
    "    tools=['pan', 'box_zoom', 'wheel_zoom', 'undo', 'redo', 'hover', 'save', 'reset'],\n",
    "    x='Profit', y='Advertising', size='BubbleSize'\n",
    ")\n",
    "hvplot.show(plot);"
   ]
  },
  {
   "cell_type": "markdown",
   "metadata": {},
   "source": [
    "# 12. Bubble Plot Profit Advertising Sales Limits"
   ]
  },
  {
   "cell_type": "code",
   "execution_count": 25,
   "metadata": {},
   "outputs": [
    {
     "name": "stdout",
     "output_type": "stream",
     "text": [
      "              A   B   C  D   E    F    G    H   I    J  ...   P   Q  R    S  \\\n",
      "Date                                                    ...                   \n",
      "2019-01-01  526   3   9  0  66  472  260  116  45  202  ...  85  38  0   97   \n",
      "2019-01-02  504  11  10  0  57  472  157  108   3  223  ...  73   0  0   92   \n",
      "2019-01-03  499   0  10  0  42  475  154  104   0  199  ...  65  20  5   84   \n",
      "2019-01-04  504   0   7  0  57  464  149   83  17  198  ...  83  19  0   89   \n",
      "2019-01-05  499  15   9  0  31  466  159   84  14  219  ...  97  31  0  104   \n",
      "\n",
      "             T  U   V    W   X   Y  \n",
      "Date                                \n",
      "2019-01-01  19  7   0  174  55  12  \n",
      "2019-01-02  45  0  14  132  65   8  \n",
      "2019-01-03  89  0   4  132  39   6  \n",
      "2019-01-04   0  0  14  143  57  20  \n",
      "2019-01-05   0  8  28   46  44  15  \n",
      "\n",
      "[5 rows x 25 columns]\n",
      "   Price  Profit   Sales  Marketing  Advertising  Cost\n",
      "A     21       6  175173      21000     0.119881    15\n",
      "B     28      16    4489       3000     0.668300    12\n",
      "C     43       2    3649       3000     0.822143    41\n",
      "D     47       2   18672      42000     2.249357    45\n",
      "E     38      14   17449      13000     0.745028    24\n",
      "          Price    Profit          Sales    Marketing  Advertising       Cost\n",
      "count  25.00000  25.00000      25.000000     25.00000    25.000000  25.000000\n",
      "mean   31.24000  10.80000   38025.080000  20360.00000     1.855427  20.440000\n",
      "std    11.71637   6.98212   51223.822256  13996.66627     3.236241  11.554508\n",
      "min     8.00000   1.00000    2457.000000      0.00000     0.000000   6.000000\n",
      "25%    21.00000   4.00000    5330.000000   6000.00000     0.616377  12.000000\n",
      "50%    29.00000  12.00000   18672.000000  25000.00000     0.811688  15.000000\n",
      "75%    42.00000  16.00000   46225.000000  29000.00000     0.998170  28.000000\n",
      "max    49.00000  25.00000  176462.000000  44000.00000    14.336918  45.000000\n",
      "Launching server at http://localhost:65532\n"
     ]
    }
   ],
   "source": [
    "import pandas as pd\n",
    "import hvplot.pandas\n",
    "import holoviews as hv\n",
    "\n",
    "data = pd.read_csv('https://tinyurl.com/ChrisCoDV/Products/DailySales.csv', index_col=0)\n",
    "print(data.head())\n",
    "\n",
    "marketing_data = pd.read_csv('https://tinyurl.com/ChrisCoDV/Products/MarketingPerProduct.csv', index_col=0)\n",
    "price_per_unit = pd.read_csv('https://tinyurl.com/ChrisCoDV/Products/PricePerUnit.csv', index_col=0)\n",
    "profit_per_unit = pd.read_csv('https://tinyurl.com/ChrisCoDV/Products/ProfitPerUnit.csv', index_col=0)\n",
    "\n",
    "summary_data = pd.DataFrame(index=data.columns)\n",
    "summary_data['Price'] = price_per_unit.values\n",
    "summary_data['Profit'] = profit_per_unit.values\n",
    "summary_data['Sales'] = data.sum().values\n",
    "summary_data['Marketing'] = marketing_data.values\n",
    "summary_data['Advertising'] = summary_data['Marketing'] / summary_data['Sales']\n",
    "summary_data['Cost'] = summary_data['Price'] - summary_data['Profit']\n",
    "print(summary_data.head())\n",
    "print(summary_data.describe())\n",
    "\n",
    "summary_data['BubbleSize'] = summary_data['Sales'] * 0.01\n",
    "\n",
    "hline200 = hv.HLine(2.00, label='£2.00 per unit').opts(line_dash='dashed', line_width=0.5, color='black')\n",
    "hline100 = hv.HLine(1.00, label='£1.00 per unit').opts(line_dash='dashed', line_width=0.5, color='red')\n",
    "hline050 = hv.HLine(0.50, label='£0.50 per unit').opts(line_dash='dashed', line_width=0.5, color='orange')\n",
    "hline025 = hv.HLine(0.25, label='£0.25 per unit').opts(line_dash='dashed', line_width=0.5, color='green')\n",
    "\n",
    "plot = summary_data.hvplot.scatter(\n",
    "    height=500, width=500,\n",
    "    title='Profit vs Advertising (vs Sales)',\n",
    "    xlabel='Profit (£/unit)', ylabel='Advertising (£/unit)',\n",
    "    alpha=0.5, padding=0.1, hover_cols='all',\n",
    "    tools=['pan', 'box_zoom', 'wheel_zoom', 'undo', 'redo', 'hover', 'save', 'reset'],\n",
    "    x='Profit', y='Advertising', size='BubbleSize'\n",
    ") * \\\n",
    "hline200 * \\\n",
    "hline100 * \\\n",
    "hline050 * \\\n",
    "hline025\n",
    "hvplot.show(plot);"
   ]
  },
  {
   "cell_type": "markdown",
   "metadata": {},
   "source": [
    "# 13. Bubble Plot Marketing Sales Profit"
   ]
  },
  {
   "cell_type": "code",
   "execution_count": 26,
   "metadata": {},
   "outputs": [
    {
     "name": "stdout",
     "output_type": "stream",
     "text": [
      "              A   B   C  D   E    F    G    H   I    J  ...   P   Q  R    S  \\\n",
      "Date                                                    ...                   \n",
      "2019-01-01  526   3   9  0  66  472  260  116  45  202  ...  85  38  0   97   \n",
      "2019-01-02  504  11  10  0  57  472  157  108   3  223  ...  73   0  0   92   \n",
      "2019-01-03  499   0  10  0  42  475  154  104   0  199  ...  65  20  5   84   \n",
      "2019-01-04  504   0   7  0  57  464  149   83  17  198  ...  83  19  0   89   \n",
      "2019-01-05  499  15   9  0  31  466  159   84  14  219  ...  97  31  0  104   \n",
      "\n",
      "             T  U   V    W   X   Y  \n",
      "Date                                \n",
      "2019-01-01  19  7   0  174  55  12  \n",
      "2019-01-02  45  0  14  132  65   8  \n",
      "2019-01-03  89  0   4  132  39   6  \n",
      "2019-01-04   0  0  14  143  57  20  \n",
      "2019-01-05   0  8  28   46  44  15  \n",
      "\n",
      "[5 rows x 25 columns]\n",
      "   Price  Profit   Sales  Marketing  Advertising  Cost\n",
      "A     21       6  175173      21000     0.119881    15\n",
      "B     28      16    4489       3000     0.668300    12\n",
      "C     43       2    3649       3000     0.822143    41\n",
      "D     47       2   18672      42000     2.249357    45\n",
      "E     38      14   17449      13000     0.745028    24\n",
      "          Price    Profit          Sales    Marketing  Advertising       Cost\n",
      "count  25.00000  25.00000      25.000000     25.00000    25.000000  25.000000\n",
      "mean   31.24000  10.80000   38025.080000  20360.00000     1.855427  20.440000\n",
      "std    11.71637   6.98212   51223.822256  13996.66627     3.236241  11.554508\n",
      "min     8.00000   1.00000    2457.000000      0.00000     0.000000   6.000000\n",
      "25%    21.00000   4.00000    5330.000000   6000.00000     0.616377  12.000000\n",
      "50%    29.00000  12.00000   18672.000000  25000.00000     0.811688  15.000000\n",
      "75%    42.00000  16.00000   46225.000000  29000.00000     0.998170  28.000000\n",
      "max    49.00000  25.00000  176462.000000  44000.00000    14.336918  45.000000\n",
      "Launching server at http://localhost:49214\n"
     ]
    }
   ],
   "source": [
    "import pandas as pd\n",
    "import hvplot.pandas\n",
    "\n",
    "data = pd.read_csv('https://tinyurl.com/ChrisCoDV/Products/DailySales.csv', index_col=0)\n",
    "print(data.head())\n",
    "\n",
    "marketing_data = pd.read_csv('https://tinyurl.com/ChrisCoDV/Products/MarketingPerProduct.csv', index_col=0)\n",
    "price_per_unit = pd.read_csv('https://tinyurl.com/ChrisCoDV/Products/PricePerUnit.csv', index_col=0)\n",
    "profit_per_unit = pd.read_csv('https://tinyurl.com/ChrisCoDV/Products/ProfitPerUnit.csv', index_col=0)\n",
    "\n",
    "summary_data = pd.DataFrame(index=data.columns)\n",
    "summary_data['Price'] = price_per_unit.values\n",
    "summary_data['Profit'] = profit_per_unit.values\n",
    "summary_data['Sales'] = data.sum().values\n",
    "summary_data['Marketing'] = marketing_data.values\n",
    "summary_data['Advertising'] = summary_data['Marketing'] / summary_data['Sales']\n",
    "summary_data['Cost'] = summary_data['Price'] - summary_data['Profit']\n",
    "print(summary_data.head())\n",
    "print(summary_data.describe())\n",
    "\n",
    "summary_data['BubbleSize'] = summary_data['Profit'] * 50\n",
    "\n",
    "plot = summary_data.hvplot.scatter(\n",
    "    height=500, width=500,\n",
    "    title='Marketing vs Sales (vs Profit)',\n",
    "    xlabel='Marketing (£)', ylabel='Sales',\n",
    "    alpha=0.5, padding=0.1, hover_cols='all',\n",
    "    tools=['pan', 'box_zoom', 'wheel_zoom', 'undo', 'redo', 'hover', 'save', 'reset'],\n",
    "    x='Marketing', y='Sales', size='BubbleSize'\n",
    ")\n",
    "hvplot.show(plot);"
   ]
  },
  {
   "cell_type": "markdown",
   "metadata": {},
   "source": [
    "# 14. Bubble Plot Marketing Sales Profit Limits"
   ]
  },
  {
   "cell_type": "code",
   "execution_count": 27,
   "metadata": {},
   "outputs": [
    {
     "name": "stdout",
     "output_type": "stream",
     "text": [
      "              A   B   C  D   E    F    G    H   I    J  ...   P   Q  R    S  \\\n",
      "Date                                                    ...                   \n",
      "2019-01-01  526   3   9  0  66  472  260  116  45  202  ...  85  38  0   97   \n",
      "2019-01-02  504  11  10  0  57  472  157  108   3  223  ...  73   0  0   92   \n",
      "2019-01-03  499   0  10  0  42  475  154  104   0  199  ...  65  20  5   84   \n",
      "2019-01-04  504   0   7  0  57  464  149   83  17  198  ...  83  19  0   89   \n",
      "2019-01-05  499  15   9  0  31  466  159   84  14  219  ...  97  31  0  104   \n",
      "\n",
      "             T  U   V    W   X   Y  \n",
      "Date                                \n",
      "2019-01-01  19  7   0  174  55  12  \n",
      "2019-01-02  45  0  14  132  65   8  \n",
      "2019-01-03  89  0   4  132  39   6  \n",
      "2019-01-04   0  0  14  143  57  20  \n",
      "2019-01-05   0  8  28   46  44  15  \n",
      "\n",
      "[5 rows x 25 columns]\n",
      "   Price  Profit   Sales  Marketing  Advertising  Cost\n",
      "A     21       6  175173      21000     0.119881    15\n",
      "B     28      16    4489       3000     0.668300    12\n",
      "C     43       2    3649       3000     0.822143    41\n",
      "D     47       2   18672      42000     2.249357    45\n",
      "E     38      14   17449      13000     0.745028    24\n",
      "          Price    Profit          Sales    Marketing  Advertising       Cost\n",
      "count  25.00000  25.00000      25.000000     25.00000    25.000000  25.000000\n",
      "mean   31.24000  10.80000   38025.080000  20360.00000     1.855427  20.440000\n",
      "std    11.71637   6.98212   51223.822256  13996.66627     3.236241  11.554508\n",
      "min     8.00000   1.00000    2457.000000      0.00000     0.000000   6.000000\n",
      "25%    21.00000   4.00000    5330.000000   6000.00000     0.616377  12.000000\n",
      "50%    29.00000  12.00000   18672.000000  25000.00000     0.811688  15.000000\n",
      "75%    42.00000  16.00000   46225.000000  29000.00000     0.998170  28.000000\n",
      "max    49.00000  25.00000  176462.000000  44000.00000    14.336918  45.000000\n",
      "Launching server at http://localhost:49285\n"
     ]
    }
   ],
   "source": [
    "import pandas as pd\n",
    "import hvplot.pandas\n",
    "import holoviews as hv\n",
    "\n",
    "data = pd.read_csv('https://tinyurl.com/ChrisCoDV/Products/DailySales.csv', index_col=0)\n",
    "print(data.head())\n",
    "\n",
    "marketing_data = pd.read_csv('https://tinyurl.com/ChrisCoDV/Products/MarketingPerProduct.csv', index_col=0)\n",
    "price_per_unit = pd.read_csv('https://tinyurl.com/ChrisCoDV/Products/PricePerUnit.csv', index_col=0)\n",
    "profit_per_unit = pd.read_csv('https://tinyurl.com/ChrisCoDV/Products/ProfitPerUnit.csv', index_col=0)\n",
    "\n",
    "summary_data = pd.DataFrame(index=data.columns)\n",
    "summary_data['Price'] = price_per_unit.values\n",
    "summary_data['Profit'] = profit_per_unit.values\n",
    "summary_data['Sales'] = data.sum().values\n",
    "summary_data['Marketing'] = marketing_data.values\n",
    "summary_data['Advertising'] = summary_data['Marketing'] / summary_data['Sales']\n",
    "summary_data['Cost'] = summary_data['Price'] - summary_data['Profit']\n",
    "print(summary_data.head())\n",
    "print(summary_data.describe())\n",
    "\n",
    "summary_data['BubbleSize'] = summary_data['Profit'] * 50\n",
    "\n",
    "hline200 = hv.Curve([(0, 0), (40000,  20000)], label='£2.00 per unit').opts(line_dash='dashed', line_width=0.5, color='black')\n",
    "hline100 = hv.Curve([(0, 0), (40000,  40000)], label='£1.00 per unit').opts(line_dash='dashed', line_width=0.5, color='red')\n",
    "hline050 = hv.Curve([(0, 0), (40000,  80000)], label='£0.50 per unit').opts(line_dash='dashed', line_width=0.5, color='orange')\n",
    "hline025 = hv.Curve([(0, 0), (40000, 160000)], label='£0.25 per unit').opts(line_dash='dashed', line_width=0.5, color='green')\n",
    "\n",
    "plot = summary_data.hvplot.scatter(\n",
    "    height=500, width=500,\n",
    "    title='Marketing vs Sales (vs Profit)',\n",
    "    xlabel='Marketing (£)', ylabel='Sales',\n",
    "    alpha=0.5, padding=0.1, hover_cols='all',\n",
    "    tools=['pan', 'box_zoom', 'wheel_zoom', 'undo', 'redo', 'hover', 'save', 'reset'],\n",
    "    x='Marketing', y='Sales', size='BubbleSize'\n",
    ") *\\\n",
    "hline200 *\\\n",
    "hline100 *\\\n",
    "hline050 *\\\n",
    "hline025\n",
    "hvplot.show(plot);"
   ]
  },
  {
   "cell_type": "code",
   "execution_count": null,
   "metadata": {},
   "outputs": [],
   "source": []
  }
 ],
 "metadata": {
  "kernelspec": {
   "display_name": "COMP1800-DV(IPYNB)",
   "language": "python",
   "name": "comp1800-dv"
  },
  "language_info": {
   "codemirror_mode": {
    "name": "ipython",
    "version": 3
   },
   "file_extension": ".py",
   "mimetype": "text/x-python",
   "name": "python",
   "nbconvert_exporter": "python",
   "pygments_lexer": "ipython3",
   "version": "3.10.14"
  }
 },
 "nbformat": 4,
 "nbformat_minor": 2
}
