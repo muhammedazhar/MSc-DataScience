{
 "cells": [
  {
   "cell_type": "markdown",
   "metadata": {},
   "source": [
    "This is a Jupyter Notebook.\n",
    "\n",
    "This section contains markdown (just text).\n",
    "\n",
    "# This is a title\n",
    "\n",
    "**Here is some text in bold.**\n",
    "\n",
    "*Here is some text in italics.*\n",
    "\n",
    "## This is a subtitle\n",
    "\n",
    "Here's a bullet point list\n",
    "* One\n",
    "* Two\n",
    "* Three\n",
    "\n",
    "Here's a numbered list\n",
    "1. One\n",
    "2. Two\n",
    "3. Three\n",
    "\n",
    "Look at the \"Raw\" version (rather than \"Markdown\") to see how to format it.\n"
   ]
  },
  {
   "cell_type": "code",
   "execution_count": null,
   "metadata": {},
   "outputs": [],
   "source": [
    "# Here's some code\n",
    "# Let's read in the data\n",
    "\n",
    "import matplotlib.pyplot as plt\n",
    "import pandas as pd\n",
    "\n",
    "data = pd.read_csv('https://tinyurl.com/ChrisCoDV/Products/DailySales.csv', index_col=0)\n",
    "data.index = pd.to_datetime(data.index)"
   ]
  },
  {
   "cell_type": "markdown",
   "metadata": {},
   "source": [
    "There shouldn't be any output from the section above (unless something went wrong)."
   ]
  },
  {
   "cell_type": "code",
   "execution_count": null,
   "metadata": {},
   "outputs": [],
   "source": [
    "# Here's some more code\n",
    "# Let's print out some details about the data\n",
    "\n",
    "print(data.head())\n",
    "print(data.describe())"
   ]
  },
  {
   "cell_type": "markdown",
   "metadata": {},
   "source": [
    "We can see from the above that the data has 25 columns and each column has 365 rows (the count value).\n",
    "\n",
    "For column A, the max value is 527, the min is 434 and the average (mean) is 479.926."
   ]
  },
  {
   "cell_type": "code",
   "execution_count": null,
   "metadata": {},
   "outputs": [],
   "source": [
    "data.plot.line()\n",
    "plt.show()"
   ]
  },
  {
   "cell_type": "markdown",
   "metadata": {},
   "source": [
    "That's a bit of a mess.\n",
    "\n",
    "Looks like we need a data explorer to help out."
   ]
  },
  {
   "cell_type": "code",
   "execution_count": null,
   "metadata": {},
   "outputs": [],
   "source": []
  }
 ],
 "metadata": {
  "kernelspec": {
   "display_name": "Python 3",
   "language": "python",
   "name": "python3"
  },
  "language_info": {
   "codemirror_mode": {
    "name": "ipython",
    "version": 3
   },
   "file_extension": ".py",
   "mimetype": "text/x-python",
   "name": "python",
   "nbconvert_exporter": "python",
   "pygments_lexer": "ipython3",
   "version": "3.7.0"
  }
 },
 "nbformat": 4,
 "nbformat_minor": 4
}
