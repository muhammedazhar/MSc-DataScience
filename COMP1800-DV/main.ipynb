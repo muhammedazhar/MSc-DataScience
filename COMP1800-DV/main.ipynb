{
 "cells": [
  {
   "cell_type": "markdown",
   "metadata": {},
   "source": [
    "https://tinyurl.com/ChrisCoDV/001364857/CinemaWeeklyVisitors.csv\n",
    "https://tinyurl.com/ChrisCoDV/001364857/CinemaAge.csv\n",
    "https://tinyurl.com/ChrisCoDV/001364857/CinemaCapacity.csv\n",
    "https://tinyurl.com/ChrisCoDV/001364857/CinemaMarketing.csv\n",
    "https://tinyurl.com/ChrisCoDV/001364857/CinemaOverheads.csv\n",
    "https://tinyurl.com/ChrisCoDV/001364857/CinemaSpend.csv"
   ]
  },
  {
   "cell_type": "code",
   "execution_count": 6,
   "metadata": {},
   "outputs": [
    {
     "name": "stdout",
     "output_type": "stream",
     "text": [
      "^C\n",
      "Note: you may need to restart the kernel to use updated packages.\n",
      "Requirement already satisfied: charset-normalizer in c:\\users\\muhammedazhar\\miniconda3\\envs\\comp1800-dv\\lib\\site-packages (2.0.4)\n",
      "Note: you may need to restart the kernel to use updated packages.\n"
     ]
    }
   ],
   "source": [
    "%pip uninstall charset-normalizer\n",
    "%pip install charset-normalizer"
   ]
  },
  {
   "cell_type": "code",
   "execution_count": 4,
   "metadata": {},
   "outputs": [
    {
     "name": "stdout",
     "output_type": "stream",
     "text": [
      "Requirement already satisfied: charset-normalizer in c:\\users\\muhammedazhar\\miniconda3\\envs\\comp1800-dv\\lib\\site-packages (2.0.4)Note: you may need to restart the kernel to use updated packages.\n",
      "\n",
      "Collecting charset-normalizer\n",
      "  Using cached charset_normalizer-3.3.2-cp310-cp310-win_amd64.whl.metadata (34 kB)\n",
      "Requirement already satisfied: requests in c:\\users\\muhammedazhar\\miniconda3\\envs\\comp1800-dv\\lib\\site-packages (2.31.0)\n",
      "Requirement already satisfied: pandas in c:\\users\\muhammedazhar\\miniconda3\\envs\\comp1800-dv\\lib\\site-packages (2.2.1)\n",
      "Requirement already satisfied: idna<4,>=2.5 in c:\\users\\muhammedazhar\\miniconda3\\envs\\comp1800-dv\\lib\\site-packages (from requests) (3.4)\n",
      "Requirement already satisfied: urllib3<3,>=1.21.1 in c:\\users\\muhammedazhar\\miniconda3\\envs\\comp1800-dv\\lib\\site-packages (from requests) (2.1.0)\n",
      "Requirement already satisfied: certifi>=2017.4.17 in c:\\users\\muhammedazhar\\miniconda3\\envs\\comp1800-dv\\lib\\site-packages (from requests) (2024.2.2)\n",
      "Requirement already satisfied: numpy<2,>=1.22.4 in c:\\users\\muhammedazhar\\miniconda3\\envs\\comp1800-dv\\lib\\site-packages (from pandas) (1.26.4)\n",
      "Requirement already satisfied: python-dateutil>=2.8.2 in c:\\users\\muhammedazhar\\miniconda3\\envs\\comp1800-dv\\lib\\site-packages (from pandas) (2.8.2)\n",
      "Requirement already satisfied: pytz>=2020.1 in c:\\users\\muhammedazhar\\miniconda3\\envs\\comp1800-dv\\lib\\site-packages (from pandas) (2023.3.post1)\n",
      "Requirement already satisfied: tzdata>=2022.7 in c:\\users\\muhammedazhar\\miniconda3\\envs\\comp1800-dv\\lib\\site-packages (from pandas) (2023.3)\n",
      "Requirement already satisfied: six>=1.5 in c:\\users\\muhammedazhar\\miniconda3\\envs\\comp1800-dv\\lib\\site-packages (from python-dateutil>=2.8.2->pandas) (1.16.0)\n",
      "Using cached charset_normalizer-3.3.2-cp310-cp310-win_amd64.whl (100 kB)\n",
      "Installing collected packages: charset-normalizer\n",
      "  Attempting uninstall: charset-normalizer\n",
      "    Found existing installation: charset-normalizer 2.0.4\n",
      "    Uninstalling charset-normalizer-2.0.4:\n",
      "      Successfully uninstalled charset-normalizer-2.0.4\n",
      "  Rolling back uninstall of charset-normalizer\n",
      "  Moving to c:\\users\\muhammedazhar\\miniconda3\\envs\\comp1800-dv\\lib\\site-packages\\charset_normalizer-2.0.4.dist-info\\\n",
      "   from C:\\Users\\muhammedazhar\\miniconda3\\envs\\COMP1800-DV\\Lib\\site-packages\\~harset_normalizer-2.0.4.dist-info\n",
      "  Moving to c:\\users\\muhammedazhar\\miniconda3\\envs\\comp1800-dv\\lib\\site-packages\\charset_normalizer\\__init__.py\n",
      "   from C:\\Users\\muhammedazhar\\AppData\\Local\\Temp\\pip-uninstall-ji8r6okv\\__init__.py\n",
      "  Moving to c:\\users\\muhammedazhar\\miniconda3\\envs\\comp1800-dv\\lib\\site-packages\\charset_normalizer\\__pycache__\\__init__.cpython-310.pyc\n",
      "   from C:\\Users\\muhammedazhar\\AppData\\Local\\Temp\\pip-uninstall-ji8r6okv\\__pycache__\\__init__.cpython-310.pyc\n",
      "  Moving to c:\\users\\muhammedazhar\\miniconda3\\envs\\comp1800-dv\\lib\\site-packages\\charset_normalizer\\__pycache__\\api.cpython-310.pyc\n",
      "   from C:\\Users\\muhammedazhar\\AppData\\Local\\Temp\\pip-uninstall-ji8r6okv\\__pycache__\\api.cpython-310.pyc\n",
      "  Moving to c:\\users\\muhammedazhar\\miniconda3\\envs\\comp1800-dv\\lib\\site-packages\\charset_normalizer\\__pycache__\\cd.cpython-310.pyc\n",
      "   from C:\\Users\\muhammedazhar\\AppData\\Local\\Temp\\pip-uninstall-ji8r6okv\\__pycache__\\cd.cpython-310.pyc\n",
      "  Moving to c:\\users\\muhammedazhar\\miniconda3\\envs\\comp1800-dv\\lib\\site-packages\\charset_normalizer\\__pycache__\\constant.cpython-310.pyc\n",
      "   from C:\\Users\\muhammedazhar\\AppData\\Local\\Temp\\pip-uninstall-ji8r6okv\\__pycache__\\constant.cpython-310.pyc\n",
      "  Moving to c:\\users\\muhammedazhar\\miniconda3\\envs\\comp1800-dv\\lib\\site-packages\\charset_normalizer\\__pycache__\\legacy.cpython-310.pyc\n",
      "   from C:\\Users\\muhammedazhar\\AppData\\Local\\Temp\\pip-uninstall-ji8r6okv\\__pycache__\\legacy.cpython-310.pyc\n",
      "  Moving to c:\\users\\muhammedazhar\\miniconda3\\envs\\comp1800-dv\\lib\\site-packages\\charset_normalizer\\__pycache__\\md.cpython-310.pyc\n",
      "   from C:\\Users\\muhammedazhar\\AppData\\Local\\Temp\\pip-uninstall-ji8r6okv\\__pycache__\\md.cpython-310.pyc\n",
      "  Moving to c:\\users\\muhammedazhar\\miniconda3\\envs\\comp1800-dv\\lib\\site-packages\\charset_normalizer\\__pycache__\\models.cpython-310.pyc\n",
      "   from C:\\Users\\muhammedazhar\\AppData\\Local\\Temp\\pip-uninstall-ji8r6okv\\__pycache__\\models.cpython-310.pyc\n",
      "  Moving to c:\\users\\muhammedazhar\\miniconda3\\envs\\comp1800-dv\\lib\\site-packages\\charset_normalizer\\__pycache__\\utils.cpython-310.pyc\n",
      "   from C:\\Users\\muhammedazhar\\AppData\\Local\\Temp\\pip-uninstall-ji8r6okv\\__pycache__\\utils.cpython-310.pyc\n",
      "  Moving to c:\\users\\muhammedazhar\\miniconda3\\envs\\comp1800-dv\\lib\\site-packages\\charset_normalizer\\__pycache__\\version.cpython-310.pyc\n",
      "   from C:\\Users\\muhammedazhar\\AppData\\Local\\Temp\\pip-uninstall-ji8r6okv\\__pycache__\\version.cpython-310.pyc\n",
      "  Moving to c:\\users\\muhammedazhar\\miniconda3\\envs\\comp1800-dv\\lib\\site-packages\\charset_normalizer\\api.py\n",
      "   from C:\\Users\\muhammedazhar\\AppData\\Local\\Temp\\pip-uninstall-ji8r6okv\\api.py\n",
      "  Moving to c:\\users\\muhammedazhar\\miniconda3\\envs\\comp1800-dv\\lib\\site-packages\\charset_normalizer\\assets\\\n",
      "   from C:\\Users\\muhammedazhar\\miniconda3\\envs\\COMP1800-DV\\Lib\\site-packages\\charset_normalizer\\~ssets\n",
      "  Moving to c:\\users\\muhammedazhar\\miniconda3\\envs\\comp1800-dv\\lib\\site-packages\\charset_normalizer\\cd.py\n",
      "   from C:\\Users\\muhammedazhar\\AppData\\Local\\Temp\\pip-uninstall-ji8r6okv\\cd.py\n",
      "  Moving to c:\\users\\muhammedazhar\\miniconda3\\envs\\comp1800-dv\\lib\\site-packages\\charset_normalizer\\cli\\__init__.py\n",
      "   from C:\\Users\\muhammedazhar\\AppData\\Local\\Temp\\pip-uninstall-ji8r6okv\\cli\\__init__.py\n",
      "  Moving to c:\\users\\muhammedazhar\\miniconda3\\envs\\comp1800-dv\\lib\\site-packages\\charset_normalizer\\cli\\__pycache__\\__init__.cpython-310.pyc\n",
      "   from C:\\Users\\muhammedazhar\\AppData\\Local\\Temp\\pip-uninstall-ji8r6okv\\cli\\__pycache__\\__init__.cpython-310.pyc\n",
      "  Moving to c:\\users\\muhammedazhar\\miniconda3\\envs\\comp1800-dv\\lib\\site-packages\\charset_normalizer\\cli\\__pycache__\\normalizer.cpython-310.pyc\n",
      "   from C:\\Users\\muhammedazhar\\AppData\\Local\\Temp\\pip-uninstall-ji8r6okv\\cli\\__pycache__\\normalizer.cpython-310.pyc\n",
      "  Moving to c:\\users\\muhammedazhar\\miniconda3\\envs\\comp1800-dv\\lib\\site-packages\\charset_normalizer\\cli\\normalizer.py\n",
      "   from C:\\Users\\muhammedazhar\\AppData\\Local\\Temp\\pip-uninstall-ji8r6okv\\cli\\normalizer.py\n",
      "  Moving to c:\\users\\muhammedazhar\\miniconda3\\envs\\comp1800-dv\\lib\\site-packages\\charset_normalizer\\constant.py\n",
      "   from C:\\Users\\muhammedazhar\\AppData\\Local\\Temp\\pip-uninstall-ji8r6okv\\constant.py\n",
      "  Moving to c:\\users\\muhammedazhar\\miniconda3\\envs\\comp1800-dv\\lib\\site-packages\\charset_normalizer\\legacy.py\n",
      "   from C:\\Users\\muhammedazhar\\AppData\\Local\\Temp\\pip-uninstall-ji8r6okv\\legacy.py\n",
      "  Moving to c:\\users\\muhammedazhar\\miniconda3\\envs\\comp1800-dv\\lib\\site-packages\\charset_normalizer\\md.py\n",
      "   from C:\\Users\\muhammedazhar\\AppData\\Local\\Temp\\pip-uninstall-ji8r6okv\\md.py\n",
      "  Moving to c:\\users\\muhammedazhar\\miniconda3\\envs\\comp1800-dv\\lib\\site-packages\\charset_normalizer\\models.py\n",
      "   from C:\\Users\\muhammedazhar\\AppData\\Local\\Temp\\pip-uninstall-ji8r6okv\\models.py\n",
      "  Moving to c:\\users\\muhammedazhar\\miniconda3\\envs\\comp1800-dv\\lib\\site-packages\\charset_normalizer\\py.typed\n",
      "   from C:\\Users\\muhammedazhar\\AppData\\Local\\Temp\\pip-uninstall-ji8r6okv\\py.typed\n",
      "  Moving to c:\\users\\muhammedazhar\\miniconda3\\envs\\comp1800-dv\\lib\\site-packages\\charset_normalizer\\utils.py\n",
      "   from C:\\Users\\muhammedazhar\\AppData\\Local\\Temp\\pip-uninstall-ji8r6okv\\utils.py\n",
      "  Moving to c:\\users\\muhammedazhar\\miniconda3\\envs\\comp1800-dv\\lib\\site-packages\\charset_normalizer\\version.py\n",
      "   from C:\\Users\\muhammedazhar\\AppData\\Local\\Temp\\pip-uninstall-ji8r6okv\\version.py\n",
      "  Moving to c:\\users\\muhammedazhar\\miniconda3\\envs\\comp1800-dv\\scripts\\normalizer-script.py\n",
      "   from C:\\Users\\muhammedazhar\\AppData\\Local\\Temp\\pip-uninstall-rp6_9v0v\\normalizer-script.py\n",
      "  Moving to c:\\users\\muhammedazhar\\miniconda3\\envs\\comp1800-dv\\scripts\\normalizer.exe\n",
      "   from C:\\Users\\muhammedazhar\\AppData\\Local\\Temp\\pip-uninstall-rp6_9v0v\\normalizer.exe\n"
     ]
    },
    {
     "name": "stderr",
     "output_type": "stream",
     "text": [
      "ERROR: Could not install packages due to an OSError: [WinError 5] Access is denied: 'c:\\\\Users\\\\muhammedazhar\\\\miniconda3\\\\envs\\\\COMP1800-DV\\\\Lib\\\\site-packages\\\\charset_normalizer\\\\md.cp310-win_amd64.pyd'\n",
      "Consider using the `--user` option or check the permissions.\n",
      "\n"
     ]
    }
   ],
   "source": [
    "%pip install requests pandas"
   ]
  },
  {
   "cell_type": "code",
   "execution_count": 1,
   "metadata": {},
   "outputs": [
    {
     "ename": "ImportError",
     "evalue": "cannot import name 'COMMON_SAFE_ASCII_CHARACTERS' from 'charset_normalizer.constant' (c:\\Users\\muhammedazhar\\miniconda3\\envs\\COMP1800-DV\\lib\\site-packages\\charset_normalizer\\constant.py)",
     "output_type": "error",
     "traceback": [
      "\u001b[1;31m---------------------------------------------------------------------------\u001b[0m",
      "\u001b[1;31mModuleNotFoundError\u001b[0m                       Traceback (most recent call last)",
      "File \u001b[1;32mc:\\Users\\muhammedazhar\\miniconda3\\envs\\COMP1800-DV\\lib\\site-packages\\requests\\compat.py:11\u001b[0m\n\u001b[0;32m     10\u001b[0m \u001b[38;5;28;01mtry\u001b[39;00m:\n\u001b[1;32m---> 11\u001b[0m     \u001b[38;5;28;01mimport\u001b[39;00m \u001b[38;5;21;01mchardet\u001b[39;00m\n\u001b[0;32m     12\u001b[0m \u001b[38;5;28;01mexcept\u001b[39;00m \u001b[38;5;167;01mImportError\u001b[39;00m:\n",
      "\u001b[1;31mModuleNotFoundError\u001b[0m: No module named 'chardet'",
      "\nDuring handling of the above exception, another exception occurred:\n",
      "\u001b[1;31mImportError\u001b[0m                               Traceback (most recent call last)",
      "Cell \u001b[1;32mIn[1], line 1\u001b[0m\n\u001b[1;32m----> 1\u001b[0m \u001b[38;5;28;01mimport\u001b[39;00m \u001b[38;5;21;01mrequests\u001b[39;00m\n\u001b[0;32m      2\u001b[0m \u001b[38;5;28;01mimport\u001b[39;00m \u001b[38;5;21;01mpandas\u001b[39;00m \u001b[38;5;28;01mas\u001b[39;00m \u001b[38;5;21;01mpd\u001b[39;00m\n\u001b[0;32m      4\u001b[0m \u001b[38;5;66;03m# Your student ID\u001b[39;00m\n",
      "File \u001b[1;32mc:\\Users\\muhammedazhar\\miniconda3\\envs\\COMP1800-DV\\lib\\site-packages\\requests\\__init__.py:45\u001b[0m\n\u001b[0;32m     41\u001b[0m \u001b[38;5;28;01mimport\u001b[39;00m \u001b[38;5;21;01mwarnings\u001b[39;00m\n\u001b[0;32m     43\u001b[0m \u001b[38;5;28;01mimport\u001b[39;00m \u001b[38;5;21;01murllib3\u001b[39;00m\n\u001b[1;32m---> 45\u001b[0m \u001b[38;5;28;01mfrom\u001b[39;00m \u001b[38;5;21;01m.\u001b[39;00m\u001b[38;5;21;01mexceptions\u001b[39;00m \u001b[38;5;28;01mimport\u001b[39;00m RequestsDependencyWarning\n\u001b[0;32m     47\u001b[0m \u001b[38;5;28;01mtry\u001b[39;00m:\n\u001b[0;32m     48\u001b[0m     \u001b[38;5;28;01mfrom\u001b[39;00m \u001b[38;5;21;01mcharset_normalizer\u001b[39;00m \u001b[38;5;28;01mimport\u001b[39;00m __version__ \u001b[38;5;28;01mas\u001b[39;00m charset_normalizer_version\n",
      "File \u001b[1;32mc:\\Users\\muhammedazhar\\miniconda3\\envs\\COMP1800-DV\\lib\\site-packages\\requests\\exceptions.py:9\u001b[0m\n\u001b[0;32m      1\u001b[0m \u001b[38;5;124;03m\"\"\"\u001b[39;00m\n\u001b[0;32m      2\u001b[0m \u001b[38;5;124;03mrequests.exceptions\u001b[39;00m\n\u001b[0;32m      3\u001b[0m \u001b[38;5;124;03m~~~~~~~~~~~~~~~~~~~\u001b[39;00m\n\u001b[0;32m      4\u001b[0m \n\u001b[0;32m      5\u001b[0m \u001b[38;5;124;03mThis module contains the set of Requests' exceptions.\u001b[39;00m\n\u001b[0;32m      6\u001b[0m \u001b[38;5;124;03m\"\"\"\u001b[39;00m\n\u001b[0;32m      7\u001b[0m \u001b[38;5;28;01mfrom\u001b[39;00m \u001b[38;5;21;01murllib3\u001b[39;00m\u001b[38;5;21;01m.\u001b[39;00m\u001b[38;5;21;01mexceptions\u001b[39;00m \u001b[38;5;28;01mimport\u001b[39;00m HTTPError \u001b[38;5;28;01mas\u001b[39;00m BaseHTTPError\n\u001b[1;32m----> 9\u001b[0m \u001b[38;5;28;01mfrom\u001b[39;00m \u001b[38;5;21;01m.\u001b[39;00m\u001b[38;5;21;01mcompat\u001b[39;00m \u001b[38;5;28;01mimport\u001b[39;00m JSONDecodeError \u001b[38;5;28;01mas\u001b[39;00m CompatJSONDecodeError\n\u001b[0;32m     12\u001b[0m \u001b[38;5;28;01mclass\u001b[39;00m \u001b[38;5;21;01mRequestException\u001b[39;00m(\u001b[38;5;167;01mIOError\u001b[39;00m):\n\u001b[0;32m     13\u001b[0m \u001b[38;5;250m    \u001b[39m\u001b[38;5;124;03m\"\"\"There was an ambiguous exception that occurred while handling your\u001b[39;00m\n\u001b[0;32m     14\u001b[0m \u001b[38;5;124;03m    request.\u001b[39;00m\n\u001b[0;32m     15\u001b[0m \u001b[38;5;124;03m    \"\"\"\u001b[39;00m\n",
      "File \u001b[1;32mc:\\Users\\muhammedazhar\\miniconda3\\envs\\COMP1800-DV\\lib\\site-packages\\requests\\compat.py:13\u001b[0m\n\u001b[0;32m     11\u001b[0m     \u001b[38;5;28;01mimport\u001b[39;00m \u001b[38;5;21;01mchardet\u001b[39;00m\n\u001b[0;32m     12\u001b[0m \u001b[38;5;28;01mexcept\u001b[39;00m \u001b[38;5;167;01mImportError\u001b[39;00m:\n\u001b[1;32m---> 13\u001b[0m     \u001b[38;5;28;01mimport\u001b[39;00m \u001b[38;5;21;01mcharset_normalizer\u001b[39;00m \u001b[38;5;28;01mas\u001b[39;00m \u001b[38;5;21;01mchardet\u001b[39;00m\n\u001b[0;32m     15\u001b[0m \u001b[38;5;28;01mimport\u001b[39;00m \u001b[38;5;21;01msys\u001b[39;00m\n\u001b[0;32m     17\u001b[0m \u001b[38;5;66;03m# -------\u001b[39;00m\n\u001b[0;32m     18\u001b[0m \u001b[38;5;66;03m# Pythons\u001b[39;00m\n\u001b[0;32m     19\u001b[0m \u001b[38;5;66;03m# -------\u001b[39;00m\n\u001b[0;32m     20\u001b[0m \n\u001b[0;32m     21\u001b[0m \u001b[38;5;66;03m# Syntax sugar.\u001b[39;00m\n",
      "File \u001b[1;32mc:\\Users\\muhammedazhar\\miniconda3\\envs\\COMP1800-DV\\lib\\site-packages\\charset_normalizer\\__init__.py:23\u001b[0m\n\u001b[0;32m      1\u001b[0m \u001b[38;5;124;03m\"\"\"\u001b[39;00m\n\u001b[0;32m      2\u001b[0m \u001b[38;5;124;03mCharset-Normalizer\u001b[39;00m\n\u001b[0;32m      3\u001b[0m \u001b[38;5;124;03m~~~~~~~~~~~~~~\u001b[39;00m\n\u001b[1;32m   (...)\u001b[0m\n\u001b[0;32m     21\u001b[0m \u001b[38;5;124;03m:license: MIT, see LICENSE for more details.\u001b[39;00m\n\u001b[0;32m     22\u001b[0m \u001b[38;5;124;03m\"\"\"\u001b[39;00m\n\u001b[1;32m---> 23\u001b[0m \u001b[38;5;28;01mfrom\u001b[39;00m \u001b[38;5;21;01mcharset_normalizer\u001b[39;00m\u001b[38;5;21;01m.\u001b[39;00m\u001b[38;5;21;01mapi\u001b[39;00m \u001b[38;5;28;01mimport\u001b[39;00m from_fp, from_path, from_bytes, normalize\n\u001b[0;32m     24\u001b[0m \u001b[38;5;28;01mfrom\u001b[39;00m \u001b[38;5;21;01mcharset_normalizer\u001b[39;00m\u001b[38;5;21;01m.\u001b[39;00m\u001b[38;5;21;01mlegacy\u001b[39;00m \u001b[38;5;28;01mimport\u001b[39;00m detect\n\u001b[0;32m     25\u001b[0m \u001b[38;5;28;01mfrom\u001b[39;00m \u001b[38;5;21;01mcharset_normalizer\u001b[39;00m\u001b[38;5;21;01m.\u001b[39;00m\u001b[38;5;21;01mversion\u001b[39;00m \u001b[38;5;28;01mimport\u001b[39;00m __version__, VERSION\n",
      "File \u001b[1;32mc:\\Users\\muhammedazhar\\miniconda3\\envs\\COMP1800-DV\\lib\\site-packages\\charset_normalizer\\api.py:10\u001b[0m\n\u001b[0;32m      7\u001b[0m     PathLike \u001b[38;5;241m=\u001b[39m Union[\u001b[38;5;28mstr\u001b[39m, \u001b[38;5;124m'\u001b[39m\u001b[38;5;124mos.PathLike[str]\u001b[39m\u001b[38;5;124m'\u001b[39m]  \u001b[38;5;66;03m# type: ignore\u001b[39;00m\n\u001b[0;32m      9\u001b[0m \u001b[38;5;28;01mfrom\u001b[39;00m \u001b[38;5;21;01mcharset_normalizer\u001b[39;00m\u001b[38;5;21;01m.\u001b[39;00m\u001b[38;5;21;01mconstant\u001b[39;00m \u001b[38;5;28;01mimport\u001b[39;00m TOO_SMALL_SEQUENCE, TOO_BIG_SEQUENCE, IANA_SUPPORTED\n\u001b[1;32m---> 10\u001b[0m \u001b[38;5;28;01mfrom\u001b[39;00m \u001b[38;5;21;01mcharset_normalizer\u001b[39;00m\u001b[38;5;21;01m.\u001b[39;00m\u001b[38;5;21;01mmd\u001b[39;00m \u001b[38;5;28;01mimport\u001b[39;00m mess_ratio\n\u001b[0;32m     11\u001b[0m \u001b[38;5;28;01mfrom\u001b[39;00m \u001b[38;5;21;01mcharset_normalizer\u001b[39;00m\u001b[38;5;21;01m.\u001b[39;00m\u001b[38;5;21;01mmodels\u001b[39;00m \u001b[38;5;28;01mimport\u001b[39;00m CharsetMatches, CharsetMatch\n\u001b[0;32m     12\u001b[0m \u001b[38;5;28;01mfrom\u001b[39;00m \u001b[38;5;21;01mwarnings\u001b[39;00m \u001b[38;5;28;01mimport\u001b[39;00m warn\n",
      "File \u001b[1;32mc:\\Users\\muhammedazhar\\miniconda3\\envs\\COMP1800-DV\\lib\\site-packages\\charset_normalizer\\md.py:5\u001b[0m\n\u001b[0;32m      2\u001b[0m \u001b[38;5;28;01mfrom\u001b[39;00m \u001b[38;5;21;01mtyping\u001b[39;00m \u001b[38;5;28;01mimport\u001b[39;00m Optional, List\n\u001b[0;32m      4\u001b[0m \u001b[38;5;28;01mfrom\u001b[39;00m \u001b[38;5;21;01mcharset_normalizer\u001b[39;00m\u001b[38;5;21;01m.\u001b[39;00m\u001b[38;5;21;01mconstant\u001b[39;00m \u001b[38;5;28;01mimport\u001b[39;00m UNICODE_SECONDARY_RANGE_KEYWORD\n\u001b[1;32m----> 5\u001b[0m \u001b[38;5;28;01mfrom\u001b[39;00m \u001b[38;5;21;01mcharset_normalizer\u001b[39;00m\u001b[38;5;21;01m.\u001b[39;00m\u001b[38;5;21;01mutils\u001b[39;00m \u001b[38;5;28;01mimport\u001b[39;00m is_punctuation, is_symbol, unicode_range, is_accentuated, is_latin, \\\n\u001b[0;32m      6\u001b[0m     remove_accent, is_separator, is_cjk, is_case_variable, is_hangul, is_katakana, is_hiragana, is_ascii, is_thai\n\u001b[0;32m      9\u001b[0m \u001b[38;5;28;01mclass\u001b[39;00m \u001b[38;5;21;01mMessDetectorPlugin\u001b[39;00m:\n\u001b[0;32m     10\u001b[0m \u001b[38;5;250m    \u001b[39m\u001b[38;5;124;03m\"\"\"\u001b[39;00m\n\u001b[0;32m     11\u001b[0m \u001b[38;5;124;03m    Base abstract class used for mess detection plugins.\u001b[39;00m\n\u001b[0;32m     12\u001b[0m \u001b[38;5;124;03m    All detectors MUST extend and implement given methods.\u001b[39;00m\n\u001b[0;32m     13\u001b[0m \u001b[38;5;124;03m    \"\"\"\u001b[39;00m\n",
      "\u001b[1;31mImportError\u001b[0m: cannot import name 'COMMON_SAFE_ASCII_CHARACTERS' from 'charset_normalizer.constant' (c:\\Users\\muhammedazhar\\miniconda3\\envs\\COMP1800-DV\\lib\\site-packages\\charset_normalizer\\constant.py)"
     ]
    }
   ],
   "source": [
    "import requests\n",
    "import pandas as pd\n",
    "\n",
    "# Your student ID\n",
    "student_id = '001364857'  # Replace this with your actual student ID\n",
    "\n",
    "# Base URL without the ID and specific file name\n",
    "base_url = \"https://tinyurl.com/ChrisCoDV/{}/{}\"\n",
    "\n",
    "# List of dataset names as they appear in the URLs\n",
    "datasets = [\n",
    "    \"CinemaWeeklyVisitors.csv\",\n",
    "    \"CinemaAge.csv\",\n",
    "    \"CinemaCapacity.csv\",\n",
    "    \"CinemaMarketing.csv\",\n",
    "    \"CinemaOverheads.csv\",\n",
    "    \"CinemaSpend.csv\",\n",
    "]\n",
    "\n",
    "def download_dataset(file_name):\n",
    "    \"\"\"\n",
    "    Constructs the URL, downloads the dataset, and saves it as a CSV file.\n",
    "    \"\"\"\n",
    "    # Construct the URL by formatting with the student ID and the dataset name\n",
    "    url = base_url.format(student_id, file_name)\n",
    "    \n",
    "    # Make a request to the URL\n",
    "    response = requests.get(url)\n",
    "    \n",
    "    # Check if the request was successful\n",
    "    if response.status_code == 200:\n",
    "        # Read the content of the request into a pandas DataFrame\n",
    "        data = pd.read_csv(url)\n",
    "        # Save the DataFrame to a CSV file\n",
    "        data.to_csv(file_name, index=False)\n",
    "        print(f\"Downloaded and saved {file_name} successfully.\")\n",
    "    else:\n",
    "        print(f\"Failed to download {file_name}. Status code: {response.status_code}\")\n",
    "\n",
    "# Loop over each dataset and call the download function\n",
    "for dataset in datasets:\n",
    "    download_dataset(dataset)"
   ]
  }
 ],
 "metadata": {
  "kernelspec": {
   "display_name": "COMP1800-DV",
   "language": "python",
   "name": "comp1800-dv"
  },
  "language_info": {
   "codemirror_mode": {
    "name": "ipython",
    "version": 3
   },
   "file_extension": ".py",
   "mimetype": "text/x-python",
   "name": "python",
   "nbconvert_exporter": "python",
   "pygments_lexer": "ipython3",
   "version": "3.10.13"
  }
 },
 "nbformat": 4,
 "nbformat_minor": 2
}
