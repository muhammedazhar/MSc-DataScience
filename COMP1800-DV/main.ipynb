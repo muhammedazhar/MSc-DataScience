{
 "cells": [
  {
   "cell_type": "markdown",
   "metadata": {},
   "source": [
    "https://tinyurl.com/ChrisCoDV/001364857/CinemaWeeklyVisitors.csv\n",
    "https://tinyurl.com/ChrisCoDV/001364857/CinemaAge.csv\n",
    "https://tinyurl.com/ChrisCoDV/001364857/CinemaCapacity.csv\n",
    "https://tinyurl.com/ChrisCoDV/001364857/CinemaMarketing.csv\n",
    "https://tinyurl.com/ChrisCoDV/001364857/CinemaOverheads.csv\n",
    "https://tinyurl.com/ChrisCoDV/001364857/CinemaSpend.csv"
   ]
  },
  {
   "cell_type": "code",
   "execution_count": 6,
   "metadata": {},
   "outputs": [
    {
     "name": "stdout",
     "output_type": "stream",
     "text": [
      "^C\n",
      "Note: you may need to restart the kernel to use updated packages.\n",
      "Requirement already satisfied: charset-normalizer in c:\\users\\muhammedazhar\\miniconda3\\envs\\comp1800-dv\\lib\\site-packages (2.0.4)\n",
      "Note: you may need to restart the kernel to use updated packages.\n"
     ]
    }
   ],
   "source": [
    "%pip uninstall charset-normalizer\n",
    "%pip install charset-normalizer"
   ]
  },
  {
   "cell_type": "code",
   "execution_count": 4,
   "metadata": {},
   "outputs": [
    {
     "name": "stdout",
     "output_type": "stream",
     "text": [
      "Requirement already satisfied: charset-normalizer in c:\\users\\muhammedazhar\\miniconda3\\envs\\comp1800-dv\\lib\\site-packages (2.0.4)Note: you may need to restart the kernel to use updated packages.\n",
      "\n",
      "Collecting charset-normalizer\n",
      "  Using cached charset_normalizer-3.3.2-cp310-cp310-win_amd64.whl.metadata (34 kB)\n",
      "Requirement already satisfied: requests in c:\\users\\muhammedazhar\\miniconda3\\envs\\comp1800-dv\\lib\\site-packages (2.31.0)\n",
      "Requirement already satisfied: pandas in c:\\users\\muhammedazhar\\miniconda3\\envs\\comp1800-dv\\lib\\site-packages (2.2.1)\n",
      "Requirement already satisfied: idna<4,>=2.5 in c:\\users\\muhammedazhar\\miniconda3\\envs\\comp1800-dv\\lib\\site-packages (from requests) (3.4)\n",
      "Requirement already satisfied: urllib3<3,>=1.21.1 in c:\\users\\muhammedazhar\\miniconda3\\envs\\comp1800-dv\\lib\\site-packages (from requests) (2.1.0)\n",
      "Requirement already satisfied: certifi>=2017.4.17 in c:\\users\\muhammedazhar\\miniconda3\\envs\\comp1800-dv\\lib\\site-packages (from requests) (2024.2.2)\n",
      "Requirement already satisfied: numpy<2,>=1.22.4 in c:\\users\\muhammedazhar\\miniconda3\\envs\\comp1800-dv\\lib\\site-packages (from pandas) (1.26.4)\n",
      "Requirement already satisfied: python-dateutil>=2.8.2 in c:\\users\\muhammedazhar\\miniconda3\\envs\\comp1800-dv\\lib\\site-packages (from pandas) (2.8.2)\n",
      "Requirement already satisfied: pytz>=2020.1 in c:\\users\\muhammedazhar\\miniconda3\\envs\\comp1800-dv\\lib\\site-packages (from pandas) (2023.3.post1)\n",
      "Requirement already satisfied: tzdata>=2022.7 in c:\\users\\muhammedazhar\\miniconda3\\envs\\comp1800-dv\\lib\\site-packages (from pandas) (2023.3)\n",
      "Requirement already satisfied: six>=1.5 in c:\\users\\muhammedazhar\\miniconda3\\envs\\comp1800-dv\\lib\\site-packages (from python-dateutil>=2.8.2->pandas) (1.16.0)\n",
      "Using cached charset_normalizer-3.3.2-cp310-cp310-win_amd64.whl (100 kB)\n",
      "Installing collected packages: charset-normalizer\n",
      "  Attempting uninstall: charset-normalizer\n",
      "    Found existing installation: charset-normalizer 2.0.4\n",
      "    Uninstalling charset-normalizer-2.0.4:\n",
      "      Successfully uninstalled charset-normalizer-2.0.4\n",
      "  Rolling back uninstall of charset-normalizer\n",
      "  Moving to c:\\users\\muhammedazhar\\miniconda3\\envs\\comp1800-dv\\lib\\site-packages\\charset_normalizer-2.0.4.dist-info\\\n",
      "   from C:\\Users\\muhammedazhar\\miniconda3\\envs\\COMP1800-DV\\Lib\\site-packages\\~harset_normalizer-2.0.4.dist-info\n",
      "  Moving to c:\\users\\muhammedazhar\\miniconda3\\envs\\comp1800-dv\\lib\\site-packages\\charset_normalizer\\__init__.py\n",
      "   from C:\\Users\\muhammedazhar\\AppData\\Local\\Temp\\pip-uninstall-ji8r6okv\\__init__.py\n",
      "  Moving to c:\\users\\muhammedazhar\\miniconda3\\envs\\comp1800-dv\\lib\\site-packages\\charset_normalizer\\__pycache__\\__init__.cpython-310.pyc\n",
      "   from C:\\Users\\muhammedazhar\\AppData\\Local\\Temp\\pip-uninstall-ji8r6okv\\__pycache__\\__init__.cpython-310.pyc\n",
      "  Moving to c:\\users\\muhammedazhar\\miniconda3\\envs\\comp1800-dv\\lib\\site-packages\\charset_normalizer\\__pycache__\\api.cpython-310.pyc\n",
      "   from C:\\Users\\muhammedazhar\\AppData\\Local\\Temp\\pip-uninstall-ji8r6okv\\__pycache__\\api.cpython-310.pyc\n",
      "  Moving to c:\\users\\muhammedazhar\\miniconda3\\envs\\comp1800-dv\\lib\\site-packages\\charset_normalizer\\__pycache__\\cd.cpython-310.pyc\n",
      "   from C:\\Users\\muhammedazhar\\AppData\\Local\\Temp\\pip-uninstall-ji8r6okv\\__pycache__\\cd.cpython-310.pyc\n",
      "  Moving to c:\\users\\muhammedazhar\\miniconda3\\envs\\comp1800-dv\\lib\\site-packages\\charset_normalizer\\__pycache__\\constant.cpython-310.pyc\n",
      "   from C:\\Users\\muhammedazhar\\AppData\\Local\\Temp\\pip-uninstall-ji8r6okv\\__pycache__\\constant.cpython-310.pyc\n",
      "  Moving to c:\\users\\muhammedazhar\\miniconda3\\envs\\comp1800-dv\\lib\\site-packages\\charset_normalizer\\__pycache__\\legacy.cpython-310.pyc\n",
      "   from C:\\Users\\muhammedazhar\\AppData\\Local\\Temp\\pip-uninstall-ji8r6okv\\__pycache__\\legacy.cpython-310.pyc\n",
      "  Moving to c:\\users\\muhammedazhar\\miniconda3\\envs\\comp1800-dv\\lib\\site-packages\\charset_normalizer\\__pycache__\\md.cpython-310.pyc\n",
      "   from C:\\Users\\muhammedazhar\\AppData\\Local\\Temp\\pip-uninstall-ji8r6okv\\__pycache__\\md.cpython-310.pyc\n",
      "  Moving to c:\\users\\muhammedazhar\\miniconda3\\envs\\comp1800-dv\\lib\\site-packages\\charset_normalizer\\__pycache__\\models.cpython-310.pyc\n",
      "   from C:\\Users\\muhammedazhar\\AppData\\Local\\Temp\\pip-uninstall-ji8r6okv\\__pycache__\\models.cpython-310.pyc\n",
      "  Moving to c:\\users\\muhammedazhar\\miniconda3\\envs\\comp1800-dv\\lib\\site-packages\\charset_normalizer\\__pycache__\\utils.cpython-310.pyc\n",
      "   from C:\\Users\\muhammedazhar\\AppData\\Local\\Temp\\pip-uninstall-ji8r6okv\\__pycache__\\utils.cpython-310.pyc\n",
      "  Moving to c:\\users\\muhammedazhar\\miniconda3\\envs\\comp1800-dv\\lib\\site-packages\\charset_normalizer\\__pycache__\\version.cpython-310.pyc\n",
      "   from C:\\Users\\muhammedazhar\\AppData\\Local\\Temp\\pip-uninstall-ji8r6okv\\__pycache__\\version.cpython-310.pyc\n",
      "  Moving to c:\\users\\muhammedazhar\\miniconda3\\envs\\comp1800-dv\\lib\\site-packages\\charset_normalizer\\api.py\n",
      "   from C:\\Users\\muhammedazhar\\AppData\\Local\\Temp\\pip-uninstall-ji8r6okv\\api.py\n",
      "  Moving to c:\\users\\muhammedazhar\\miniconda3\\envs\\comp1800-dv\\lib\\site-packages\\charset_normalizer\\assets\\\n",
      "   from C:\\Users\\muhammedazhar\\miniconda3\\envs\\COMP1800-DV\\Lib\\site-packages\\charset_normalizer\\~ssets\n",
      "  Moving to c:\\users\\muhammedazhar\\miniconda3\\envs\\comp1800-dv\\lib\\site-packages\\charset_normalizer\\cd.py\n",
      "   from C:\\Users\\muhammedazhar\\AppData\\Local\\Temp\\pip-uninstall-ji8r6okv\\cd.py\n",
      "  Moving to c:\\users\\muhammedazhar\\miniconda3\\envs\\comp1800-dv\\lib\\site-packages\\charset_normalizer\\cli\\__init__.py\n",
      "   from C:\\Users\\muhammedazhar\\AppData\\Local\\Temp\\pip-uninstall-ji8r6okv\\cli\\__init__.py\n",
      "  Moving to c:\\users\\muhammedazhar\\miniconda3\\envs\\comp1800-dv\\lib\\site-packages\\charset_normalizer\\cli\\__pycache__\\__init__.cpython-310.pyc\n",
      "   from C:\\Users\\muhammedazhar\\AppData\\Local\\Temp\\pip-uninstall-ji8r6okv\\cli\\__pycache__\\__init__.cpython-310.pyc\n",
      "  Moving to c:\\users\\muhammedazhar\\miniconda3\\envs\\comp1800-dv\\lib\\site-packages\\charset_normalizer\\cli\\__pycache__\\normalizer.cpython-310.pyc\n",
      "   from C:\\Users\\muhammedazhar\\AppData\\Local\\Temp\\pip-uninstall-ji8r6okv\\cli\\__pycache__\\normalizer.cpython-310.pyc\n",
      "  Moving to c:\\users\\muhammedazhar\\miniconda3\\envs\\comp1800-dv\\lib\\site-packages\\charset_normalizer\\cli\\normalizer.py\n",
      "   from C:\\Users\\muhammedazhar\\AppData\\Local\\Temp\\pip-uninstall-ji8r6okv\\cli\\normalizer.py\n",
      "  Moving to c:\\users\\muhammedazhar\\miniconda3\\envs\\comp1800-dv\\lib\\site-packages\\charset_normalizer\\constant.py\n",
      "   from C:\\Users\\muhammedazhar\\AppData\\Local\\Temp\\pip-uninstall-ji8r6okv\\constant.py\n",
      "  Moving to c:\\users\\muhammedazhar\\miniconda3\\envs\\comp1800-dv\\lib\\site-packages\\charset_normalizer\\legacy.py\n",
      "   from C:\\Users\\muhammedazhar\\AppData\\Local\\Temp\\pip-uninstall-ji8r6okv\\legacy.py\n",
      "  Moving to c:\\users\\muhammedazhar\\miniconda3\\envs\\comp1800-dv\\lib\\site-packages\\charset_normalizer\\md.py\n",
      "   from C:\\Users\\muhammedazhar\\AppData\\Local\\Temp\\pip-uninstall-ji8r6okv\\md.py\n",
      "  Moving to c:\\users\\muhammedazhar\\miniconda3\\envs\\comp1800-dv\\lib\\site-packages\\charset_normalizer\\models.py\n",
      "   from C:\\Users\\muhammedazhar\\AppData\\Local\\Temp\\pip-uninstall-ji8r6okv\\models.py\n",
      "  Moving to c:\\users\\muhammedazhar\\miniconda3\\envs\\comp1800-dv\\lib\\site-packages\\charset_normalizer\\py.typed\n",
      "   from C:\\Users\\muhammedazhar\\AppData\\Local\\Temp\\pip-uninstall-ji8r6okv\\py.typed\n",
      "  Moving to c:\\users\\muhammedazhar\\miniconda3\\envs\\comp1800-dv\\lib\\site-packages\\charset_normalizer\\utils.py\n",
      "   from C:\\Users\\muhammedazhar\\AppData\\Local\\Temp\\pip-uninstall-ji8r6okv\\utils.py\n",
      "  Moving to c:\\users\\muhammedazhar\\miniconda3\\envs\\comp1800-dv\\lib\\site-packages\\charset_normalizer\\version.py\n",
      "   from C:\\Users\\muhammedazhar\\AppData\\Local\\Temp\\pip-uninstall-ji8r6okv\\version.py\n",
      "  Moving to c:\\users\\muhammedazhar\\miniconda3\\envs\\comp1800-dv\\scripts\\normalizer-script.py\n",
      "   from C:\\Users\\muhammedazhar\\AppData\\Local\\Temp\\pip-uninstall-rp6_9v0v\\normalizer-script.py\n",
      "  Moving to c:\\users\\muhammedazhar\\miniconda3\\envs\\comp1800-dv\\scripts\\normalizer.exe\n",
      "   from C:\\Users\\muhammedazhar\\AppData\\Local\\Temp\\pip-uninstall-rp6_9v0v\\normalizer.exe\n"
     ]
    },
    {
     "name": "stderr",
     "output_type": "stream",
     "text": [
      "ERROR: Could not install packages due to an OSError: [WinError 5] Access is denied: 'c:\\\\Users\\\\muhammedazhar\\\\miniconda3\\\\envs\\\\COMP1800-DV\\\\Lib\\\\site-packages\\\\charset_normalizer\\\\md.cp310-win_amd64.pyd'\n",
      "Consider using the `--user` option or check the permissions.\n",
      "\n"
     ]
    }
   ],
   "source": [
    "%pip install requests pandas"
   ]
  },
  {
   "cell_type": "code",
   "execution_count": 1,
   "metadata": {},
   "outputs": [
    {
     "name": "stderr",
     "output_type": "stream",
     "text": [
      "/tmp/ipykernel_4170/3618245177.py:2: DeprecationWarning: \n",
      "Pyarrow will become a required dependency of pandas in the next major release of pandas (pandas 3.0),\n",
      "(to allow more performant data types, such as the Arrow string type, and better interoperability with other libraries)\n",
      "but was not found to be installed on your system.\n",
      "If this would cause problems for you,\n",
      "please provide us feedback at https://github.com/pandas-dev/pandas/issues/54466\n",
      "        \n",
      "  import pandas as pd\n"
     ]
    },
    {
     "name": "stdout",
     "output_type": "stream",
     "text": [
      "Downloaded and saved CinemaWeeklyVisitors.csv successfully.\n",
      "Downloaded and saved CinemaAge.csv successfully.\n",
      "Downloaded and saved CinemaCapacity.csv successfully.\n",
      "Downloaded and saved CinemaMarketing.csv successfully.\n",
      "Downloaded and saved CinemaOverheads.csv successfully.\n",
      "Downloaded and saved CinemaSpend.csv successfully.\n"
     ]
    }
   ],
   "source": [
    "import requests\n",
    "import pandas as pd\n",
    "\n",
    "# Your student ID\n",
    "student_id = '001364857'  # Replace this with your actual student ID\n",
    "\n",
    "# Base URL without the ID and specific file name\n",
    "base_url = \"https://tinyurl.com/ChrisCoDV/{}/{}\"\n",
    "\n",
    "# List of dataset names as they appear in the URLs\n",
    "datasets = [\n",
    "    \"CinemaWeeklyVisitors.csv\",\n",
    "    \"CinemaAge.csv\",\n",
    "    \"CinemaCapacity.csv\",\n",
    "    \"CinemaMarketing.csv\",\n",
    "    \"CinemaOverheads.csv\",\n",
    "    \"CinemaSpend.csv\",\n",
    "]\n",
    "\n",
    "def download_dataset(file_name):\n",
    "    \"\"\"\n",
    "    Constructs the URL, downloads the dataset, and saves it as a CSV file.\n",
    "    \"\"\"\n",
    "    # Construct the URL by formatting with the student ID and the dataset name\n",
    "    url = base_url.format(student_id, file_name)\n",
    "    \n",
    "    # Make a request to the URL\n",
    "    response = requests.get(url)\n",
    "    \n",
    "    # Check if the request was successful\n",
    "    if response.status_code == 200:\n",
    "        # Read the content of the request into a pandas DataFrame\n",
    "        data = pd.read_csv(url)\n",
    "        # Save the DataFrame to a CSV file\n",
    "        data.to_csv(file_name, index=False)\n",
    "        print(f\"Downloaded and saved {file_name} successfully.\")\n",
    "    else:\n",
    "        print(f\"Failed to download {file_name}. Status code: {response.status_code}\")\n",
    "\n",
    "# Loop over each dataset and call the download function\n",
    "for dataset in datasets:\n",
    "    download_dataset(dataset)"
   ]
  }
 ],
 "metadata": {
  "kernelspec": {
   "display_name": "COMP1800-DV",
   "language": "python",
   "name": "comp1800-dv"
  },
  "language_info": {
   "codemirror_mode": {
    "name": "ipython",
    "version": 3
   },
   "file_extension": ".py",
   "mimetype": "text/x-python",
   "name": "python",
   "nbconvert_exporter": "python",
   "pygments_lexer": "ipython3",
   "version": "3.10.13"
  }
 },
 "nbformat": 4,
 "nbformat_minor": 2
}
