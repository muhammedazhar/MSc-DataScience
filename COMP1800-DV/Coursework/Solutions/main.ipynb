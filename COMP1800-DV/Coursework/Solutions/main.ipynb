{
 "cells": [
  {
   "cell_type": "markdown",
   "metadata": {},
   "source": [
    "# COMP1800 - Data Visualization (Coursework)\n",
    "<u>Introduction</u>: The task embarked upon involves a comprehensive analysis of ChrisCo, a fictional cinema chain in the UK, through the lens of data visualization. The process entails compiling and examining data to glean insights into the company's operations, customer demographics, and financial performance. This report outlines the steps taken and achievements made using Python, specifically within a Visual Studio Code environment.\n",
    "\n",
    "#### Setting Up a Python Environment\n",
    "\n",
    "Setting up a dedicated Python environment is essential for managing dependencies in data science projects. You can use either Anaconda or Miniconda for this purpose.\n",
    "\n",
    "**Creating and Activating a New Environment**:\n",
    "```bash\n",
    "conda create --name COMP1804-AML python=3.10.10\n",
    "conda activate COMP1804-AML\n",
    "```\n",
    "\n",
    "#### Installing Required Packages\n",
    "\n",
    "Ensure all necessary packages are installed by using a `pip install` command that references a `requirements.txt` file. This file lists all packages needed to run the Jupyter notebook effectively.\n",
    "\n",
    "**Installing Packages**:\n",
    "```python\n",
    "%pip install -r ../Docs/requirements.txt --quiet\n",
    "```\n",
    "Note that the `--quiet` flag is used to suppress any unnecessary output from package installation, which can make it easier to see when there are errors.\n",
    "\n",
    "**Downloading  Datasets**:\n",
    "```python\n",
    "%run ../Datasets/download.py\n",
    "```\n",
    "This will download the datasets specified in coursework specificatiom into the 'Datasets' directory specified by the `directory` variable in `../Datasets/download.py`.\n",
    "\n",
    "**Setting Up an IPython Kernel for Jupyter**:\n",
    "To use the new Python environment in Jupyter, install a new IPython kernel with the environment.\n",
    "```bash\n",
    "python -m ipykernel install --user --name=COMP1800-DV --display-name \"COMP1800-DV(IPYNB)\"\n",
    "conda install -n COMP1800-DV ipykernel --update-deps --force-reinstall\n",
    "```\n",
    "This creates a kernel named `COMP1800-DV` for Jupyter, ensuring it uses the specific Python environment created for this coursework."
   ]
  },
  {
   "cell_type": "code",
   "execution_count": 11,
   "metadata": {},
   "outputs": [
    {
     "name": "stdout",
     "output_type": "stream",
     "text": [
      "Note: you may need to restart the kernel to use updated packages.\n"
     ]
    }
   ],
   "source": [
    "%pip install -r ../Docs/requirements.txt --quiet"
   ]
  },
  {
   "cell_type": "markdown",
   "metadata": {},
   "source": [
    "## Data Collection\n",
    "Access and download your specific datasets from the provided links by replacing 'ID' with student ID number."
   ]
  },
  {
   "cell_type": "code",
   "execution_count": 12,
   "metadata": {},
   "outputs": [
    {
     "name": "stdout",
     "output_type": "stream",
     "text": [
      "Downloaded and saved CinemaWeeklyVisitors.csv successfully.\n",
      "Downloaded and saved CinemaAge.csv successfully.\n",
      "Downloaded and saved CinemaCapacity.csv successfully.\n",
      "Downloaded and saved CinemaMarketing.csv successfully.\n",
      "Downloaded and saved CinemaOverheads.csv successfully.\n",
      "Downloaded and saved CinemaSpend.csv successfully.\n"
     ]
    }
   ],
   "source": [
    "%run ../Datasets/download.py"
   ]
  },
  {
   "cell_type": "markdown",
   "metadata": {},
   "source": [
    "## Importing Libraries\n",
    "Importing necessary libraries needed for the this coursework."
   ]
  },
  {
   "cell_type": "code",
   "execution_count": 7,
   "metadata": {},
   "outputs": [],
   "source": [
    "try:\n",
    "    import requests\n",
    "    import pandas as pd\n",
    "    import os\n",
    "except Exception as e:\n",
    "    print(f\"Error : {e}\")"
   ]
  },
  {
   "cell_type": "markdown",
   "metadata": {},
   "source": [
    "## Loading and Inspecting the Dataset\n",
    "Datasets spanning weekly visitors, cinema ages, capacities, marketing expenditures, overheads, and customer spend were meticulously gathered and loaded for subsequent analysis."
   ]
  },
  {
   "cell_type": "code",
   "execution_count": 9,
   "metadata": {},
   "outputs": [
    {
     "data": {
      "text/plain": [
       "(    Id  Avg age (yrs)\n",
       " 0  UDD             27\n",
       " 1  CCX             38\n",
       " 2  VJV             41\n",
       " 3  WVA             45\n",
       " 4  AKA             26,\n",
       "     Id  Seating capacity\n",
       " 0  UDD               163\n",
       " 1  CCX                30\n",
       " 2  VJV               449\n",
       " 3  WVA               181\n",
       " 4  AKA                43,\n",
       "     Id  Marketing (£000s)\n",
       " 0  UDD                  5\n",
       " 1  CCX                  2\n",
       " 2  VJV                 13\n",
       " 3  WVA                 24\n",
       " 4  AKA                  2,\n",
       "     Id  Overheads (£000s)\n",
       " 0  UDD                 65\n",
       " 1  CCX                 18\n",
       " 2  VJV                 87\n",
       " 3  WVA                 58\n",
       " 4  AKA                 13,\n",
       "     Id  Avg spend (£)\n",
       " 0  UDD             15\n",
       " 1  CCX             19\n",
       " 2  VJV             15\n",
       " 3  WVA             15\n",
       " 4  AKA             12,\n",
       "          Date  UDD  CCX   VJV   WVA  AKA  JJQ  SJE  WQW  ZWY  ...  TJN  TPY  \\\n",
       " 0  2019-01-01  372    0   845   923    0  163  314  160  191  ...  411  436   \n",
       " 1  2019-01-08  378    0  1012   725    0  148  303  195  165  ...  442  444   \n",
       " 2  2019-01-15  360    0   944  1174    0  151  332  183  120  ...  478  517   \n",
       " 3  2019-01-22  347    0   905   796    0  152  319  199  137  ...  505  406   \n",
       " 4  2019-01-29  387    0   975   857    0  147  301  183  146  ...  486  415   \n",
       " \n",
       "    TVJ  SDT  WKL  CWN  XQE  VPG  YCI  RPQ  \n",
       " 0  224    0  109    0  177  927  141  326  \n",
       " 1  342    0  123    0  160  714  125  252  \n",
       " 2  321    0  135    0  164  902  131  402  \n",
       " 3  231    0  110    0  212  901  129  265  \n",
       " 4  262    0  128    0  157  887  136  295  \n",
       " \n",
       " [5 rows x 31 columns])"
      ]
     },
     "execution_count": 9,
     "metadata": {},
     "output_type": "execute_result"
    }
   ],
   "source": [
    "# Load the datasets\n",
    "directory = '../Datasets/'\n",
    "age_df = pd.read_csv(f'{directory}CinemaAge.csv')\n",
    "capacity_df = pd.read_csv(f'{directory}CinemaCapacity.csv')\n",
    "marketing_df = pd.read_csv(f'{directory}CinemaMarketing.csv')\n",
    "overheads_df = pd.read_csv(f'{directory}CinemaOverheads.csv')\n",
    "spend_df = pd.read_csv(f'{directory}CinemaSpend.csv')\n",
    "weekly_visitors_df = pd.read_csv(f'{directory}CinemaWeeklyVisitors.csv')\n",
    "\n",
    "# Display the first few rows of each dataframe to understand their structure\n",
    "(age_df.head(), capacity_df.head(), marketing_df.head(), overheads_df.head(), spend_df.head(), weekly_visitors_df.head())"
   ]
  },
  {
   "cell_type": "markdown",
   "metadata": {},
   "source": []
  },
  {
   "cell_type": "markdown",
   "metadata": {},
   "source": [
    "## Creating Dataframes\n",
    "**Summary DataFrame**: This includes one row for each cinema, with details such as average age of visitors, seating capacity, marketing spend, overheads, and average spend per visitor.\n",
    "\n",
    "**Customer DataFrame**: This is derived from the weekly visitors data, reformatted to include one row for each date with the cinema ID and the number of weekly visitors."
   ]
  },
  {
   "cell_type": "code",
   "execution_count": 10,
   "metadata": {},
   "outputs": [
    {
     "data": {
      "text/plain": [
       "(  Cinema ID  Average Age (Years)  Seating Capacity  Marketing Spend (£000s)  \\\n",
       " 0       UDD                   27               163                        5   \n",
       " 1       CCX                   38                30                        2   \n",
       " 2       VJV                   41               449                       13   \n",
       " 3       WVA                   45               181                       24   \n",
       " 4       AKA                   26                43                        2   \n",
       " \n",
       "    Overheads (£000s)  Average Spend (£)  \n",
       " 0                 65                 15  \n",
       " 1                 18                 19  \n",
       " 2                 87                 15  \n",
       " 3                 58                 15  \n",
       " 4                 13                 12  ,\n",
       "          Date Cinema ID  Weekly Visitors\n",
       " 0  2019-01-01       UDD              372\n",
       " 1  2019-01-08       UDD              378\n",
       " 2  2019-01-15       UDD              360\n",
       " 3  2019-01-22       UDD              347\n",
       " 4  2019-01-29       UDD              387)"
      ]
     },
     "execution_count": 10,
     "metadata": {},
     "output_type": "execute_result"
    }
   ],
   "source": [
    "# Create the summary dataframe by merging the individual dataframes on the 'Id' column\n",
    "summary_df = pd.merge(age_df, capacity_df, on='Id', how='inner')\n",
    "summary_df = pd.merge(summary_df, marketing_df, on='Id', how='inner')\n",
    "summary_df = pd.merge(summary_df, overheads_df, on='Id', how='inner')\n",
    "summary_df = pd.merge(summary_df, spend_df, on='Id', how='inner')\n",
    "\n",
    "# Rename columns for clarity\n",
    "summary_df.columns = ['Cinema ID', 'Average Age (Years)', 'Seating Capacity', 'Marketing Spend (£000s)', 'Overheads (£000s)', 'Average Spend (£)']\n",
    "\n",
    "# The customer dataframe will be the weekly visitors dataframe as it already represents one row per date\n",
    "customer_df = weekly_visitors_df.melt(id_vars=[\"Date\"], var_name=\"Cinema ID\", value_name=\"Weekly Visitors\")\n",
    "\n",
    "(summary_df.head(), customer_df.head())"
   ]
  },
  {
   "cell_type": "code",
   "execution_count": null,
   "metadata": {},
   "outputs": [],
   "source": []
  }
 ],
 "metadata": {
  "kernelspec": {
   "display_name": "COMP1800-DV(IPYNB)",
   "language": "python",
   "name": "comp1800-dv"
  },
  "language_info": {
   "codemirror_mode": {
    "name": "ipython",
    "version": 3
   },
   "file_extension": ".py",
   "mimetype": "text/x-python",
   "name": "python",
   "nbconvert_exporter": "python",
   "pygments_lexer": "ipython3",
   "version": "3.10.14"
  }
 },
 "nbformat": 4,
 "nbformat_minor": 2
}
