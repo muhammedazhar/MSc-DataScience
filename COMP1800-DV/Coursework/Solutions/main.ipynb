{
 "cells": [
  {
   "cell_type": "code",
   "execution_count": 1,
   "metadata": {},
   "outputs": [
    {
     "name": "stdout",
     "output_type": "stream",
     "text": [
      "Note: you may need to restart the kernel to use updated packages.\n"
     ]
    }
   ],
   "source": [
    "%pip install -r ../Docs/requirements.txt --quiet"
   ]
  },
  {
   "cell_type": "code",
   "execution_count": 2,
   "metadata": {},
   "outputs": [],
   "source": [
    "try:\n",
    "    import requests\n",
    "    import pandas as pd\n",
    "    import os\n",
    "except Exception as e:\n",
    "    print(f\"Error : {e}\")"
   ]
  },
  {
   "cell_type": "code",
   "execution_count": 1,
   "metadata": {},
   "outputs": [],
   "source": [
    "# Your student ID\n",
    "student_id = '001364857'  # Replace this with your actual student ID\n",
    "\n",
    "# Base URL without the ID and specific file name\n",
    "base_url = \"https://tinyurl.com/ChrisCoDV/{}/{}\"\n",
    "\n",
    "# List of dataset names as they appear in the URLs\n",
    "datasets = [\n",
    "    \"CinemaWeeklyVisitors.csv\",\n",
    "    \"CinemaAge.csv\",\n",
    "    \"CinemaCapacity.csv\",\n",
    "    \"CinemaMarketing.csv\",\n",
    "    \"CinemaOverheads.csv\",\n",
    "    \"CinemaSpend.csv\",\n",
    "]"
   ]
  },
  {
   "cell_type": "code",
   "execution_count": 3,
   "metadata": {},
   "outputs": [],
   "source": [
    "def download_dataset(file_name):\n",
    "    \"\"\"\n",
    "    Constructs the URL, downloads the dataset, and saves it as a CSV file.\n",
    "    \"\"\"\n",
    "    # Construct the URL by formatting with the student ID and the dataset name\n",
    "    url = base_url.format(student_id, file_name)\n",
    "    \n",
    "    # Make a request to the URL\n",
    "    response = requests.get(url)\n",
    "    \n",
    "    # Check if the request was successful\n",
    "    if response.status_code == 200:\n",
    "        # Read the content of the request into a pandas DataFrame\n",
    "        data = pd.read_csv(url)\n",
    "        \n",
    "        # Define the directory where you want to save the file\n",
    "        directory = '../Datasets'\n",
    "        \n",
    "        # Check if the directory exists\n",
    "        if not os.path.exists(directory):\n",
    "            # If the directory does not exist, create it\n",
    "            os.makedirs(directory)\n",
    "        \n",
    "        # Save the DataFrame to a CSV file in the specified directory\n",
    "        data.to_csv(f'{directory}/{file_name}', index=False)\n",
    "        print(f\"Downloaded and saved {file_name} successfully.\")\n",
    "    else:\n",
    "        print(f\"Failed to download {file_name}. Status code: {response.status_code}\")"
   ]
  },
  {
   "cell_type": "code",
   "execution_count": null,
   "metadata": {},
   "outputs": [],
   "source": []
  }
 ],
 "metadata": {
  "kernelspec": {
   "display_name": "COMP1800-DV(IPYNB)",
   "language": "python",
   "name": "comp1800-dv"
  },
  "language_info": {
   "codemirror_mode": {
    "name": "ipython",
    "version": 3
   },
   "file_extension": ".py",
   "mimetype": "text/x-python",
   "name": "python",
   "nbconvert_exporter": "python",
   "pygments_lexer": "ipython3",
   "version": "3.10.14"
  }
 },
 "nbformat": 4,
 "nbformat_minor": 2
}
