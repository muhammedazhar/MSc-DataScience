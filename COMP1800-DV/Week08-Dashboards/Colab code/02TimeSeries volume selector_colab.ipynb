{
 "cells": [
  {
   "cell_type": "code",
   "execution_count": null,
   "metadata": {},
   "outputs": [],
   "source": [
    "!pip install --upgrade hvplot panel bokeh ipykernel holoviews ipywidgets"
   ]
  },
  {
   "cell_type": "code",
   "execution_count": null,
   "metadata": {},
   "outputs": [],
   "source": [
    "import matplotlib.pyplot as plt\n",
    "import pandas as pd\n",
    "import hvplot.pandas\n",
    "import panel as pn\n",
    "\n",
    "pn.extension(comms='colab')\n",
    "\n",
    "data = pd.read_csv('https://tinyurl.com/ChrisCoDV/Products/DailySales.csv', index_col=0)\n",
    "data.index = pd.to_datetime(data.index)\n",
    "print(data.head())\n"
   ]
  },
  {
   "cell_type": "code",
   "execution_count": null,
   "metadata": {},
   "outputs": [],
   "source": [
    "def get_line_plot(volume):\n",
    "    if volume == 'high':\n",
    "        selected = ['A', 'F', 'L']\n",
    "    elif volume == 'medium':\n",
    "        selected = ['G', 'H', 'J', 'S', 'W']\n",
    "    elif volume == 'low':\n",
    "        selected = ['D', 'E', 'M', 'O', 'P', 'T', 'X']\n",
    "    else:\n",
    "        selected = ['B', 'C', 'I', 'K', 'N', 'Q', 'R', 'U', 'V', 'Y']\n",
    "    df = data[selected] # restrict to selected products\n",
    "    return df.hvplot.line(frame_width=600, grid=True)"
   ]
  },
  {
   "cell_type": "code",
   "execution_count": null,
   "metadata": {},
   "outputs": [],
   "source": [
    "time_title = '## Time-Series'\n",
    "volumes = ['high', 'medium', 'low', 'very low']\n",
    "\n",
    "volume = pn.widgets.Select(name='Volume', options=volumes, width=200)\n",
    "\n",
    "time_row = pn.Row(\n",
    "    pn.Column(time_title, volume),\n",
    "    get_line_plot(volume.value)\n",
    ")\n",
    "\n",
    "def update_time_row(event):\n",
    "    time_row[1].object = get_line_plot(volume.value)\n",
    "\n",
    "volume.param.watch(update_time_row, 'value')\n",
    "\n",
    "time_row.servable()"
   ]
  },
  {
   "cell_type": "code",
   "execution_count": null,
   "metadata": {},
   "outputs": [],
   "source": []
  }
 ],
 "metadata": {
  "kernelspec": {
   "display_name": "Python 3 (ipykernel)",
   "language": "python",
   "name": "python3"
  },
  "language_info": {
   "codemirror_mode": {
    "name": "ipython",
    "version": 3
   },
   "file_extension": ".py",
   "mimetype": "text/x-python",
   "name": "python",
   "nbconvert_exporter": "python",
   "pygments_lexer": "ipython3",
   "version": "3.9.9"
  }
 },
 "nbformat": 4,
 "nbformat_minor": 4
}
