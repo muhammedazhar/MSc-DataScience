{
 "cells": [
  {
   "cell_type": "code",
   "execution_count": null,
   "metadata": {},
   "outputs": [],
   "source": [
    "!pip install --upgrade hvplot panel bokeh ipykernel holoviews ipywidgets"
   ]
  },
  {
   "cell_type": "code",
   "execution_count": null,
   "metadata": {},
   "outputs": [],
   "source": [
    "import matplotlib.pyplot as plt\n",
    "import pandas as pd\n",
    "import hvplot.pandas\n",
    "import panel as pn\n",
    "\n",
    "pn.extension(comms='colab')\n",
    "\n",
    "data = pd.read_csv('https://tinyurl.com/ChrisCoDV/Products/DailySales.csv', index_col=0)\n",
    "data.index = pd.to_datetime(data.index)\n",
    "print(data.head())\n"
   ]
  },
  {
   "cell_type": "code",
   "execution_count": null,
   "metadata": {},
   "outputs": [],
   "source": [
    "def get_correlation_plots(product_x, product_y):\n",
    "    df = data\n",
    "    return df.hvplot.scatter(frame_height=300, frame_width=300,\n",
    "                             x=product_x, y=product_y,\n",
    "                             title=product_x + ' vs ' + product_y,\n",
    "                             size=10, padding=0.1)"
   ]
  },
  {
   "cell_type": "code",
   "execution_count": null,
   "metadata": {},
   "outputs": [],
   "source": [
    "correlation_title = '## Correlations'\n",
    "\n",
    "product_x = pn.widgets.Select(name='x-axis', options=list(data.columns), width=200)\n",
    "product_y = pn.widgets.Select(name='y-axis', options=list(data.columns), width=200)\n",
    "\n",
    "correlation_row = pn.Row(\n",
    "    pn.Column(correlation_title, product_x, product_y),\n",
    "    get_correlation_plots(product_x.value, product_y.value)\n",
    ")\n",
    "\n",
    "def update_correlation_row(event):\n",
    "    correlation_row[1].object = get_correlation_plots(product_x.value, product_y.value)\n",
    "\n",
    "product_x.param.watch(update_correlation_row, 'value')\n",
    "product_y.param.watch(update_correlation_row, 'value')\n",
    "\n",
    "correlation_row.servable()"
   ]
  },
  {
   "cell_type": "code",
   "execution_count": null,
   "metadata": {},
   "outputs": [],
   "source": []
  }
 ],
 "metadata": {
  "kernelspec": {
   "display_name": "Python 3 (ipykernel)",
   "language": "python",
   "name": "python3"
  },
  "language_info": {
   "codemirror_mode": {
    "name": "ipython",
    "version": 3
   },
   "file_extension": ".py",
   "mimetype": "text/x-python",
   "name": "python",
   "nbconvert_exporter": "python",
   "pygments_lexer": "ipython3",
   "version": "3.9.9"
  }
 },
 "nbformat": 4,
 "nbformat_minor": 4
}
