{
 "cells": [
  {
   "cell_type": "code",
   "execution_count": null,
   "metadata": {},
   "outputs": [],
   "source": [
    "!pip install --upgrade hvplot panel bokeh ipykernel holoviews ipywidgets"
   ]
  },
  {
   "cell_type": "code",
   "execution_count": null,
   "metadata": {},
   "outputs": [],
   "source": [
    "import matplotlib.pyplot as plt\n",
    "import pandas as pd\n",
    "import hvplot.pandas\n",
    "import panel as pn\n",
    "\n",
    "pn.extension(comms='colab')\n",
    "\n",
    "data = pd.read_csv('https://tinyurl.com/ChrisCoDV/Products/DailySales.csv', index_col=0)\n",
    "data.index = pd.to_datetime(data.index)\n",
    "print(data.head())\n"
   ]
  },
  {
   "cell_type": "code",
   "execution_count": null,
   "metadata": {},
   "outputs": [],
   "source": [
    "def get_correlation_plots(product_x, product_y, date_range):\n",
    "    df = data.loc[pd.to_datetime(date_range[0]) : pd.to_datetime(date_range[1])] # restrict to date range\n",
    "    return df.hvplot.scatter(frame_height=300, frame_width=300,\n",
    "                             x=product_x, y=product_y,\n",
    "                             title=product_x + ' vs ' + product_y,\n",
    "                             size=10, padding=0.1) +\\\n",
    "           df.corr().hvplot.heatmap(frame_height=300, frame_width=300,\n",
    "                                    title='Product correlations',\n",
    "                                    rot=90, cmap='coolwarm'\n",
    "                                   ).opts(invert_yaxis=True, clim=(-1, 1))"
   ]
  },
  {
   "cell_type": "code",
   "execution_count": null,
   "metadata": {},
   "outputs": [],
   "source": [
    "correlation_title = '## Correlations'\n",
    "\n",
    "product_x = pn.widgets.Select(name='x-axis', options=list(data.columns), width=200)\n",
    "product_y = pn.widgets.Select(name='y-axis', options=list(data.columns), width=200)\n",
    "corr_date_range = pn.widgets.DateRangeSlider(name='Dates',\n",
    "                                        value=(data.index[0], data.index[-1]),\n",
    "                                        start=data.index[0], end=data.index[-1],\n",
    "                                        width=200)\n",
    "\n",
    "correlation_row = pn.Row(\n",
    "    pn.Column(correlation_title, product_x, product_y, corr_date_range),\n",
    "    get_correlation_plots(product_x.value, product_y.value, corr_date_range.value)\n",
    ")\n",
    "\n",
    "def update_correlation_row(event):\n",
    "    correlation_row[1].object = get_correlation_plots(product_x.value, product_y.value, corr_date_range.value)\n",
    "\n",
    "product_x.param.watch(update_correlation_row, 'value')\n",
    "product_y.param.watch(update_correlation_row, 'value')\n",
    "corr_date_range.param.watch(update_correlation_row, 'value')\n",
    "\n",
    "correlation_row.servable()"
   ]
  }
 ],
 "metadata": {
  "kernelspec": {
   "display_name": "Python 3 (ipykernel)",
   "language": "python",
   "name": "python3"
  },
  "language_info": {
   "codemirror_mode": {
    "name": "ipython",
    "version": 3
   },
   "file_extension": ".py",
   "mimetype": "text/x-python",
   "name": "python",
   "nbconvert_exporter": "python",
   "pygments_lexer": "ipython3",
   "version": "3.9.9"
  }
 },
 "nbformat": 4,
 "nbformat_minor": 4
}
