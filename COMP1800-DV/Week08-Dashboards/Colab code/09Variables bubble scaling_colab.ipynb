{
 "cells": [
  {
   "cell_type": "code",
   "execution_count": null,
   "metadata": {},
   "outputs": [],
   "source": [
    "!pip install --upgrade hvplot panel bokeh ipykernel holoviews ipywidgets"
   ]
  },
  {
   "cell_type": "code",
   "execution_count": null,
   "metadata": {},
   "outputs": [],
   "source": [
    "import matplotlib.pyplot as plt\n",
    "import pandas as pd\n",
    "import hvplot.pandas\n",
    "import panel as pn\n",
    "import math\n",
    "\n",
    "pn.extension(comms='colab')\n",
    "\n",
    "data = pd.read_csv('https://tinyurl.com/ChrisCoDV/Products/DailySales.csv', index_col=0)\n",
    "data.index = pd.to_datetime(data.index)\n",
    "print(data.head())\n",
    "\n",
    "marketing_data = pd.read_csv('https://tinyurl.com/ChrisCoDV/Products/MarketingPerProduct.csv', index_col=0)\n",
    "price_per_unit = pd.read_csv('https://tinyurl.com/ChrisCoDV/Products/PricePerUnit.csv', index_col=0)\n",
    "profit_per_unit = pd.read_csv('https://tinyurl.com/ChrisCoDV/Products/ProfitPerUnit.csv', index_col=0)\n",
    "\n",
    "summary_data = pd.DataFrame(index=data.columns)\n",
    "summary_data['Price'] = price_per_unit.values\n",
    "summary_data['Profit'] = profit_per_unit.values\n",
    "summary_data['Sales'] = data.sum().values\n",
    "summary_data['Marketing'] = marketing_data.values\n",
    "summary_data['Advertising'] = summary_data['Marketing'] / summary_data['Sales']\n",
    "summary_data['Cost'] = summary_data['Price'] - summary_data['Profit']\n",
    "print(summary_data.head())\n",
    "print(summary_data.describe())\n",
    "\n",
    "variables = list(summary_data.columns)"
   ]
  },
  {
   "cell_type": "code",
   "execution_count": null,
   "metadata": {},
   "outputs": [],
   "source": [
    "def get_summary_plots(variable_x, variable_y, variable_z, bubble_scaling):\n",
    "    summary_data['BubbleSize'] = summary_data[variable_z] / summary_data[variable_z].max() * math.exp(bubble_scaling)\n",
    "    return summary_data.hvplot.scatter(frame_height=300, frame_width=300,\n",
    "                                       title=variable_x + ' vs ' + variable_y + ' (vs ' + variable_z + ')',\n",
    "                                       alpha=0.5, hover_cols='all', padding=0.1,\n",
    "                                       x=variable_x, y=variable_y, size='BubbleSize')"
   ]
  },
  {
   "cell_type": "code",
   "execution_count": null,
   "metadata": {},
   "outputs": [],
   "source": [
    "variables_title = '## Variables'\n",
    "\n",
    "variable_x = pn.widgets.Select(name='X-axis', options=variables, value=variables[0], width=200)\n",
    "variable_y = pn.widgets.Select(name='Y-axis', options=variables, value=variables[1], width=200)\n",
    "variable_z = pn.widgets.Select(name='Bubble', options=variables, value=variables[2], width=200)\n",
    "bubble_scaling = pn.widgets.IntSlider(name='Bubble scaling', value=5, start=0, end=10, width=200)\n",
    "\n",
    "variables_row = pn.Row(\n",
    "    pn.Column(variables_title, variable_x, variable_y, variable_z, bubble_scaling),\n",
    "    get_summary_plots(variable_x.value, variable_y.value, variable_z.value, bubble_scaling.value)\n",
    ")\n",
    "\n",
    "def update_variables_row(event):\n",
    "    variables_row[1].object = get_summary_plots(variable_x.value, variable_y.value, variable_z.value, bubble_scaling.value)\n",
    "\n",
    "variable_x.param.watch(update_variables_row, 'value')\n",
    "variable_y.param.watch(update_variables_row, 'value')\n",
    "variable_z.param.watch(update_variables_row, 'value')\n",
    "bubble_scaling.param.watch(update_variables_row, 'value')\n",
    "\n",
    "variables_row.servable()"
   ]
  },
  {
   "cell_type": "code",
   "execution_count": null,
   "metadata": {},
   "outputs": [],
   "source": []
  }
 ],
 "metadata": {
  "kernelspec": {
   "display_name": "Python 3 (ipykernel)",
   "language": "python",
   "name": "python3"
  },
  "language_info": {
   "codemirror_mode": {
    "name": "ipython",
    "version": 3
   },
   "file_extension": ".py",
   "mimetype": "text/x-python",
   "name": "python",
   "nbconvert_exporter": "python",
   "pygments_lexer": "ipython3",
   "version": "3.9.9"
  }
 },
 "nbformat": 4,
 "nbformat_minor": 4
}
