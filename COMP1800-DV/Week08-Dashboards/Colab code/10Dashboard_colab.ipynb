{
 "cells": [
  {
   "cell_type": "code",
   "execution_count": null,
   "metadata": {
    "id": "JqBFW85EOdvN"
   },
   "outputs": [],
   "source": [
    "!pip install --upgrade hvplot panel bokeh ipykernel holoviews ipywidgets"
   ]
  },
  {
   "cell_type": "code",
   "execution_count": null,
   "metadata": {
    "id": "jV3PdTWGNQWx"
   },
   "outputs": [],
   "source": [
    "import matplotlib.pyplot as plt\n",
    "import pandas as pd\n",
    "import hvplot.pandas\n",
    "import panel as pn\n",
    "import math\n",
    "\n",
    "pn.extension(comms='colab')\n",
    "\n",
    "data = pd.read_csv('https://tinyurl.com/ChrisCoDV/Products/DailySales.csv', index_col=0)\n",
    "data.index = pd.to_datetime(data.index)\n",
    "print(data.head())\n",
    "\n",
    "marketing_data = pd.read_csv('https://tinyurl.com/ChrisCoDV/Products/MarketingPerProduct.csv', index_col=0)\n",
    "price_per_unit = pd.read_csv('https://tinyurl.com/ChrisCoDV/Products/PricePerUnit.csv', index_col=0)\n",
    "profit_per_unit = pd.read_csv('https://tinyurl.com/ChrisCoDV/Products/ProfitPerUnit.csv', index_col=0)\n",
    "\n",
    "summary_data = pd.DataFrame(index=data.columns)\n",
    "summary_data['Price'] = price_per_unit.values\n",
    "summary_data['Profit'] = profit_per_unit.values\n",
    "summary_data['Sales'] = data.sum().values\n",
    "summary_data['Marketing'] = marketing_data.values\n",
    "summary_data['Advertising'] = summary_data['Marketing'] / summary_data['Sales']\n",
    "summary_data['Cost'] = summary_data['Price'] - summary_data['Profit']\n",
    "print(summary_data.head())\n",
    "print(summary_data.describe())\n",
    "\n",
    "variables = list(summary_data.columns)"
   ]
  },
  {
   "cell_type": "code",
   "execution_count": null,
   "metadata": {
    "id": "RvbtsO92NQXN"
   },
   "outputs": [],
   "source": [
    "def get_line_plot(volume, window_size, date_range):\n",
    "    if volume == 'high':\n",
    "        selected = ['A', 'F', 'L']\n",
    "    elif volume == 'medium':\n",
    "        selected = ['G', 'H', 'J', 'S', 'W']\n",
    "    elif volume == 'low':\n",
    "        selected = ['D', 'E', 'M', 'O', 'P', 'T', 'X']\n",
    "    else:\n",
    "        selected = ['B', 'C', 'I', 'K', 'N', 'Q', 'R', 'U', 'V', 'Y']\n",
    "    df = data[selected] # restrict to selected products\n",
    "    df = df.loc[pd.to_datetime(date_range[0]) : pd.to_datetime(date_range[1])] # restrict to date range\n",
    "    df = df.rolling(window=window_size).mean() # calculate rolling average\n",
    "    return df.hvplot.line(frame_height=200, frame_width=600, grid=True)\n",
    "\n",
    "\n",
    "time_title = '### Time-Series'\n",
    "\n",
    "volumes = ['high', 'medium', 'low', 'very low']\n",
    "\n",
    "volume = pn.widgets.Select(name='Volume', options=volumes, width=200)\n",
    "day_avg = pn.widgets.IntSlider(name='Day average', value=7, start=1, end=21, width=200)\n",
    "time_date_range = pn.widgets.DateRangeSlider(name='Dates', width=200,\n",
    "                                        value=(data.index[0], data.index[-1]),\n",
    "                                        start=data.index[0], end=data.index[-1])\n",
    "\n",
    "time_row = pn.Row(\n",
    "    pn.Column(time_title, volume, day_avg, time_date_range),\n",
    "    get_line_plot(volume.options[0], day_avg.value, time_date_range.value)\n",
    ")\n",
    "\n",
    "def update_time_row(event):\n",
    "    time_row[1].object = get_line_plot(volume.value, day_avg.value, time_date_range.value)\n",
    "\n",
    "volume.param.watch(update_time_row, 'value')\n",
    "day_avg.param.watch(update_time_row, 'value')\n",
    "time_date_range.param.watch(update_time_row, 'value')\n",
    "\n",
    "#time_row.servable()"
   ]
  },
  {
   "cell_type": "code",
   "execution_count": null,
   "metadata": {
    "id": "_RDENTFRNQXQ"
   },
   "outputs": [],
   "source": [
    "def get_correlation_plots(product_x, product_y, date_range):\n",
    "    df = data.loc[pd.to_datetime(date_range[0]) : pd.to_datetime(date_range[1])] # restrict to date range\n",
    "    return df.hvplot.scatter(frame_height=250, frame_width=250,\n",
    "                             x=product_x, y=product_y,\n",
    "                             title=product_x + ' vs ' + product_y,\n",
    "                             size=10, padding=0.1) +\\\n",
    "           df.corr().hvplot.heatmap(frame_height=250, frame_width=250,\n",
    "                                    title='Product correlations',\n",
    "                                    rot=90, cmap='coolwarm'\n",
    "                                   ).opts(invert_yaxis=True, clim=(-1, 1))\n",
    "\n",
    "\n",
    "correlation_title = '### Correlations'\n",
    "\n",
    "product_x = pn.widgets.Select(name='x-axis', options=list(data.columns), width=200)\n",
    "product_y = pn.widgets.Select(name='y-axis', options=list(data.columns), width=200)\n",
    "corr_date_range = pn.widgets.DateRangeSlider(name='Dates',\n",
    "                                        value=(data.index[0], data.index[-1]),\n",
    "                                        start=data.index[0], end=data.index[-1],\n",
    "                                        width=200)\n",
    "\n",
    "correlation_row = pn.Row(\n",
    "    pn.Column(correlation_title, product_x, product_y, corr_date_range),\n",
    "    get_correlation_plots(product_x.value, product_y.value, corr_date_range.value)\n",
    ")\n",
    "\n",
    "def update_correlation_row(event):\n",
    "    correlation_row[1].object = get_correlation_plots(product_x.value, product_y.value, corr_date_range.value)\n",
    "\n",
    "product_x.param.watch(update_correlation_row, 'value')\n",
    "product_y.param.watch(update_correlation_row, 'value')\n",
    "corr_date_range.param.watch(update_correlation_row, 'value')\n",
    "\n",
    "#correlation_row.servable()"
   ]
  },
  {
   "cell_type": "code",
   "execution_count": null,
   "metadata": {
    "id": "uHIWiNwtNQXS"
   },
   "outputs": [],
   "source": [
    "def get_summary_plots(variable_x, variable_y, variable_z, bubble_scaling):\n",
    "    summary_data['BubbleSize'] = summary_data[variable_z] / summary_data[variable_z].max() * math.exp(bubble_scaling)\n",
    "    return summary_data.hvplot.scatter(frame_height=250, frame_width=250,\n",
    "                                       title=variable_x + ' vs ' + variable_y + ' (vs ' + variable_z + ')',\n",
    "                                       alpha=0.5, hover_cols='all', padding=0.1,\n",
    "                                       x=variable_x, y=variable_y, size='BubbleSize') \n",
    "\n",
    "\n",
    "variables_title = '### Variables'\n",
    "\n",
    "variable_x = pn.widgets.Select(name='X-axis', options=variables, value=variables[0], width=200)\n",
    "variable_y = pn.widgets.Select(name='Y-axis', options=variables, value=variables[1], width=200)\n",
    "variable_z = pn.widgets.Select(name='Bubble', options=variables, value=variables[2], width=200)\n",
    "bubble_scaling = pn.widgets.IntSlider(name='Bubble scaling', value=5, start=0, end=10, width=200)\n",
    "\n",
    "variables_row = pn.Row(\n",
    "    pn.Column(variables_title, variable_x, variable_y, variable_z, bubble_scaling),\n",
    "    get_summary_plots(variable_x.value, variable_y.value, variable_z.value, bubble_scaling.value)\n",
    ")\n",
    "\n",
    "def update_variables_row(event):\n",
    "    variables_row[1].object = get_summary_plots(variable_x.value, variable_y.value, variable_z.value, bubble_scaling.value)\n",
    "\n",
    "variable_x.param.watch(update_variables_row, 'value')\n",
    "variable_y.param.watch(update_variables_row, 'value')\n",
    "variable_z.param.watch(update_variables_row, 'value')\n",
    "bubble_scaling.param.watch(update_variables_row, 'value')\n",
    "\n",
    "#variables_row.servable()"
   ]
  },
  {
   "cell_type": "code",
   "execution_count": null,
   "metadata": {
    "id": "rRhDqg__O56t"
   },
   "outputs": [],
   "source": [
    "# the widgets in this cell will only work if you comment out the .servable() rows in the cells above\n",
    "dashboard = pn.Column(time_row, correlation_row, variables_row)\n",
    "dashboard"
   ]
  },
  {
   "cell_type": "code",
   "execution_count": null,
   "metadata": {},
   "outputs": [],
   "source": []
  }
 ],
 "metadata": {
  "colab": {
   "collapsed_sections": [],
   "name": "11Dashboard-colab.ipynb",
   "provenance": []
  },
  "kernelspec": {
   "display_name": "Python 3 (ipykernel)",
   "language": "python",
   "name": "python3"
  },
  "language_info": {
   "codemirror_mode": {
    "name": "ipython",
    "version": 3
   },
   "file_extension": ".py",
   "mimetype": "text/x-python",
   "name": "python",
   "nbconvert_exporter": "python",
   "pygments_lexer": "ipython3",
   "version": "3.9.9"
  }
 },
 "nbformat": 4,
 "nbformat_minor": 1
}
