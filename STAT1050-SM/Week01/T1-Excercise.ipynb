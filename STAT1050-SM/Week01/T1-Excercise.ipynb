{
 "cells": [
  {
   "cell_type": "markdown",
   "metadata": {},
   "source": [
    "# 1 Introduction to R: Lab Exercises\n",
    "\n",
    "Welcome to your first hands-on lab in **R**. Below are a series of exercises designed to introduce you\n",
    "to some of the fundamental concepts in R, such as printing to the console, working with variables,\n",
    "vectors, and performing operations in R. For the final part of the tutorial, you will write a script\n",
    "to create a simple data frame. Let’s get started!\n",
    "\n",
    "## 1.1 Printing to the Screen\n",
    "\n",
    "In **R**, you can print output to the screen using the `print()` function.\n",
    "\n",
    "### 1.1.1 Example\n",
    "\n",
    "Printing a Message to the Console\n",
    "\n",
    "```r\n",
    "print(\"Welcome to Time Series Analysis!\")\n",
    "```\n",
    "\n",
    "**Output**:\n",
    "\n",
    "```bash\n",
    "[1] \"Welcome to Time Series Analysis!\"\n",
    "```\n",
    "\n",
    "Now, you try it.\n",
    "\n",
    "### 1.1.2 Cell 1: Code\n",
    "\n",
    "Exercise 1: Print the `Welcome to Time Series Analysis!` message to the console."
   ]
  },
  {
   "cell_type": "code",
   "execution_count": 11,
   "metadata": {
    "vscode": {
     "languageId": "r"
    }
   },
   "outputs": [
    {
     "name": "stdout",
     "output_type": "stream",
     "text": [
      "[1] \"Welcome to Time Series Analysis!\"\n"
     ]
    }
   ],
   "source": [
    "print(\"Welcome to Time Series Analysis!\")"
   ]
  },
  {
   "cell_type": "markdown",
   "metadata": {},
   "source": [
    "## 1.2 Setting and Listing Variables\n",
    "\n",
    "Variables in R can store numbers, text, or more complex data types. You can also list all variables\n",
    "in the environment using the `ls()` function.\n",
    "\n",
    "### 1.2.1 Example\n",
    "\n",
    "Create two variables and list them\n",
    "\n",
    "```r\n",
    "# Assign values to variables\n",
    "x <- 10\n",
    "y <- 5\n",
    "# List all variables\n",
    "ls()\n",
    "```\n",
    "\n",
    "**Output**:\n",
    "<style>\n",
    ".list-inline {list-style: none; margin:0; padding: 0}\n",
    ".list-inline>li {display: inline-block}\n",
    ".list-inline>li:not(:last-child)::after {content: \"\\00b7\"; padding: 0 .5ex}\n",
    "</style>\n",
    "<ol class=list-inline><li>'x'</li><li>'y'</li></ol>\n",
    "\n",
    "Now, create two variables and list them.\n",
    "\n",
    "### 1.2.2 Cell 2: Code\n",
    "\n",
    "Exercise 2: Create two variables `a` and `b`, then list them using the `ls()` function."
   ]
  },
  {
   "cell_type": "code",
   "execution_count": 12,
   "metadata": {
    "vscode": {
     "languageId": "r"
    }
   },
   "outputs": [
    {
     "data": {
      "text/html": [
       "<style>\n",
       ".list-inline {list-style: none; margin:0; padding: 0}\n",
       ".list-inline>li {display: inline-block}\n",
       ".list-inline>li:not(:last-child)::after {content: \"\\00b7\"; padding: 0 .5ex}\n",
       "</style>\n",
       "<ol class=list-inline><li>'seq1'</li><li>'v1'</li><li>'v2'</li><li>'x'</li><li>'y'</li></ol>\n"
      ],
      "text/latex": [
       "\\begin{enumerate*}\n",
       "\\item 'seq1'\n",
       "\\item 'v1'\n",
       "\\item 'v2'\n",
       "\\item 'x'\n",
       "\\item 'y'\n",
       "\\end{enumerate*}\n"
      ],
      "text/markdown": [
       "1. 'seq1'\n",
       "2. 'v1'\n",
       "3. 'v2'\n",
       "4. 'x'\n",
       "5. 'y'\n",
       "\n",
       "\n"
      ],
      "text/plain": [
       "[1] \"seq1\" \"v1\"   \"v2\"   \"x\"    \"y\"   "
      ]
     },
     "metadata": {},
     "output_type": "display_data"
    }
   ],
   "source": [
    "# Assign values to variables\n",
    "x <- 10\n",
    "y <- 5\n",
    "# List all variables\n",
    "ls()"
   ]
  },
  {
   "cell_type": "markdown",
   "metadata": {},
   "source": [
    "## 1.3 Working with Vectors\n",
    "\n",
    "Vectors are the most basic data structure in R. You can create a vector using the `c()` function.\n",
    "\n",
    "### 1.3.1 Example\n",
    "\n",
    "Creating two vectors\n",
    "\n",
    "```r\n",
    "v1 <- c(1, 2, 3, 4, 5)\n",
    "v2 <- c(10, 9, 8, 7, 6)\n",
    "```\n",
    "\n",
    "There won't be any output when you run the code above.\n",
    "\n",
    "Now, create your own vectors.\n",
    "\n",
    "### 1.3.2 Cell 3: Code\n",
    "\n",
    "Exercise 3: Create two vectors `v1` and `v2` with 5 elements each."
   ]
  },
  {
   "cell_type": "code",
   "execution_count": 13,
   "metadata": {
    "vscode": {
     "languageId": "r"
    }
   },
   "outputs": [],
   "source": [
    "v1 <- c(1, 2, 3, 4, 5)\n",
    "v2 <- c(10, 9, 8, 7, 6)"
   ]
  },
  {
   "cell_type": "markdown",
   "metadata": {},
   "source": [
    "## 1.4 Creating Sequences\n",
    "\n",
    "You can generate a sequence of numbers using the `seq()` function.\n",
    "\n",
    "### 1.4.1 Example\n",
    "\n",
    "Generate a sequence from $1$ to $20$ with a step size of $2$\n",
    "\n",
    "```r\n",
    "seq1 <- seq(1, 20, by = 2)\n",
    "```\n",
    "\n",
    "There won't be any output when you run the code above.\n",
    "\n",
    "Now, generate your own sequence.\n",
    "\n",
    "### 1.4.2 Cell 4: Code\n",
    "\n",
    "Exercise 4: Create a sequence from $1$ to $20$ with step size $2$ and assign it to `seq1` array variable."
   ]
  },
  {
   "cell_type": "code",
   "execution_count": 14,
   "metadata": {
    "vscode": {
     "languageId": "r"
    }
   },
   "outputs": [],
   "source": [
    "seq1 <- seq(1, 20, by = 2)"
   ]
  },
  {
   "cell_type": "markdown",
   "metadata": {},
   "source": [
    "## 1.5 Comparing Vectors\n",
    "\n",
    "You can compare vectors element-wise in **R** using comparison operators like `>`, `<`, `==`, etc.\n",
    "\n",
    "### 1.5.1 Example\n",
    "\n",
    "Compare vectors\n",
    "\n",
    "```r\n",
    "v1 > v2\n",
    "```\n",
    "\n",
    "**Output:**\n",
    "\n",
    "<style>\n",
    ".list-inline {list-style: none; margin:0; padding: 0}\n",
    ".list-inline>li {display: inline-block}\n",
    ".list-inline>li:not(:last-child)::after {content: \"\\00b7\"; padding: 0 .5ex}\n",
    "</style>\n",
    "<ol class=list-inline><li>FALSE</li><li>FALSE</li><li>FALSE</li><li>FALSE</li><li>FALSE</li></ol>\n",
    "\n",
    "Now, compare your vectors.\n",
    "\n",
    "### 1.5.2 Cell 5: Code\n",
    "\n",
    "Exercise 5: Compare vectors `v1` and `v2` vectors."
   ]
  },
  {
   "cell_type": "code",
   "execution_count": 15,
   "metadata": {
    "vscode": {
     "languageId": "r"
    }
   },
   "outputs": [
    {
     "data": {
      "text/html": [
       "<style>\n",
       ".list-inline {list-style: none; margin:0; padding: 0}\n",
       ".list-inline>li {display: inline-block}\n",
       ".list-inline>li:not(:last-child)::after {content: \"\\00b7\"; padding: 0 .5ex}\n",
       "</style>\n",
       "<ol class=list-inline><li>FALSE</li><li>FALSE</li><li>FALSE</li><li>FALSE</li><li>FALSE</li></ol>\n"
      ],
      "text/latex": [
       "\\begin{enumerate*}\n",
       "\\item FALSE\n",
       "\\item FALSE\n",
       "\\item FALSE\n",
       "\\item FALSE\n",
       "\\item FALSE\n",
       "\\end{enumerate*}\n"
      ],
      "text/markdown": [
       "1. FALSE\n",
       "2. FALSE\n",
       "3. FALSE\n",
       "4. FALSE\n",
       "5. FALSE\n",
       "\n",
       "\n"
      ],
      "text/plain": [
       "[1] FALSE FALSE FALSE FALSE FALSE"
      ]
     },
     "metadata": {},
     "output_type": "display_data"
    }
   ],
   "source": [
    "v1 > v2"
   ]
  },
  {
   "cell_type": "markdown",
   "metadata": {},
   "source": [
    "## 1.6 Selecting Individual Vector Elements\n",
    "\n",
    "You can select individual elements or slices of a vector using square brackets `[]`.\n",
    "\n",
    "### 1.6.1 Example\n",
    "\n",
    "Selecting the $3^{\\text{rd}}$ element from `v1` vector.\n",
    "\n",
    "```r\n",
    "v1[3]\n",
    "```\n",
    "\n",
    "**Output:**\n",
    "\n",
    "```bash\n",
    "3\n",
    "```\n",
    "\n",
    "Now, select the an element from your vector.\n",
    "\n",
    "### 1.6.2 Cell 6: Code\n",
    "\n",
    "Excercise 6: select the element from $3^{\\text{rd}}$ position from `v1` vector."
   ]
  },
  {
   "cell_type": "code",
   "execution_count": 16,
   "metadata": {
    "vscode": {
     "languageId": "r"
    }
   },
   "outputs": [
    {
     "data": {
      "text/html": [
       "3"
      ],
      "text/latex": [
       "3"
      ],
      "text/markdown": [
       "3"
      ],
      "text/plain": [
       "[1] 3"
      ]
     },
     "metadata": {},
     "output_type": "display_data"
    }
   ],
   "source": [
    "v1[3]"
   ]
  },
  {
   "cell_type": "markdown",
   "metadata": {},
   "source": [
    "## 1.7 Selecting Multiple Vector Elements\n",
    "\n",
    "You can select multiple elements from a vector using the `:` operator. In **R**, the `:` operator is known as the sequence operator. It creates a sequence of numbers.\n",
    "\n",
    "### 1.7.1 Example\n",
    "\n",
    "Select elements from position $2^{\\text{nd}}$ and $4^{\\text{th}}$ from `v2` vector.\n",
    "\n",
    "```r\n",
    "v2[2:4]\n",
    "```\n",
    "\n",
    "**Output:**\n",
    "\n",
    "<style>\n",
    ".list-inline {list-style: none; margin:0; padding: 0}\n",
    ".list-inline>li {display: inline-block}\n",
    ".list-inline>li:not(:last-child)::after {content: \"\\00b7\"; padding: 0 .5ex}\n",
    "</style>\n",
    "<ol class=list-inline><li>9</li><li>8</li><li>7</li></ol>\n",
    "\n",
    "Now, select elements from your vectors.\n",
    "\n",
    "### 1.7.2 Cell 7: Code\n",
    "\n",
    "Exercise 7: Select the $2^{\\text{nd}}$ to $4^{\\text{th}}$ elements of `v2` vector."
   ]
  },
  {
   "cell_type": "code",
   "execution_count": 17,
   "metadata": {
    "vscode": {
     "languageId": "r"
    }
   },
   "outputs": [
    {
     "data": {
      "text/html": [
       "<style>\n",
       ".list-inline {list-style: none; margin:0; padding: 0}\n",
       ".list-inline>li {display: inline-block}\n",
       ".list-inline>li:not(:last-child)::after {content: \"\\00b7\"; padding: 0 .5ex}\n",
       "</style>\n",
       "<ol class=list-inline><li>9</li><li>8</li><li>7</li></ol>\n"
      ],
      "text/latex": [
       "\\begin{enumerate*}\n",
       "\\item 9\n",
       "\\item 8\n",
       "\\item 7\n",
       "\\end{enumerate*}\n"
      ],
      "text/markdown": [
       "1. 9\n",
       "2. 8\n",
       "3. 7\n",
       "\n",
       "\n"
      ],
      "text/plain": [
       "[1] 9 8 7"
      ]
     },
     "metadata": {},
     "output_type": "display_data"
    }
   ],
   "source": [
    "v2[2:4]"
   ]
  },
  {
   "cell_type": "markdown",
   "metadata": {},
   "source": [
    "## 1.8 Performing Vector Arithmetic\n",
    "\n",
    "You can perform element-wise arithmetic operations on vectors using the `+`, `-`, `*`, and `/` operators.\n",
    "\n",
    "### 1.8.1 Example\n",
    "\n",
    "Perform element-wise addition\n",
    "\n",
    "```r\n",
    "v1 + v2\n",
    "```\n",
    "\n",
    "**Output:**\n",
    "\n",
    "<style>\n",
    ".list-inline {list-style: none; margin:0; padding: 0}\n",
    ".list-inline>li {display: inline-block}\n",
    ".list-inline>li:not(:last-child)::after {content: \"\\00b7\"; padding: 0 .5ex}\n",
    "</style>\n",
    "<ol class=list-inline><li>11</li><li>11</li><li>11</li><li>11</li><li>11</li></ol>\n",
    "\n",
    "Now, perform arithmetic on your vectors.\n",
    "\n",
    "### 1.8.2 Cell 8: Code\n",
    "\n",
    "Exercise 8: Perform element-wise addition of `v1` and `v2` vectors."
   ]
  },
  {
   "cell_type": "code",
   "execution_count": 18,
   "metadata": {
    "vscode": {
     "languageId": "r"
    }
   },
   "outputs": [
    {
     "data": {
      "text/html": [
       "<style>\n",
       ".list-inline {list-style: none; margin:0; padding: 0}\n",
       ".list-inline>li {display: inline-block}\n",
       ".list-inline>li:not(:last-child)::after {content: \"\\00b7\"; padding: 0 .5ex}\n",
       "</style>\n",
       "<ol class=list-inline><li>11</li><li>11</li><li>11</li><li>11</li><li>11</li></ol>\n"
      ],
      "text/latex": [
       "\\begin{enumerate*}\n",
       "\\item 11\n",
       "\\item 11\n",
       "\\item 11\n",
       "\\item 11\n",
       "\\item 11\n",
       "\\end{enumerate*}\n"
      ],
      "text/markdown": [
       "1. 11\n",
       "2. 11\n",
       "3. 11\n",
       "4. 11\n",
       "5. 11\n",
       "\n",
       "\n"
      ],
      "text/plain": [
       "[1] 11 11 11 11 11"
      ]
     },
     "metadata": {},
     "output_type": "display_data"
    }
   ],
   "source": [
    "v1 + v2"
   ]
  },
  {
   "cell_type": "markdown",
   "metadata": {},
   "source": [
    "## 1.9 Operator Precedence\n",
    "\n",
    "R follows standard operator precedence rules when evaluating expressions.\n",
    "\n",
    "### 1.9.1 Example\n",
    "\n",
    "Evaluate this expression\n",
    "\n",
    "```r\n",
    "(5 + 3) * 2 - 4^2\n",
    "```\n",
    "\n",
    "**Output:**\n",
    "\n",
    "```bash\n",
    "0\n",
    "```\n",
    "\n",
    "Now, evaluate the expression below.\n",
    "\n",
    "### 1.9.2 Cell 9: Code\n",
    "\n",
    "Exercise 9: Evaluate the expression $(5 + 3) \\times 2 - 4^2$ in R."
   ]
  },
  {
   "cell_type": "code",
   "execution_count": 19,
   "metadata": {
    "vscode": {
     "languageId": "r"
    }
   },
   "outputs": [
    {
     "data": {
      "text/html": [
       "0"
      ],
      "text/latex": [
       "0"
      ],
      "text/markdown": [
       "0"
      ],
      "text/plain": [
       "[1] 0"
      ]
     },
     "metadata": {},
     "output_type": "display_data"
    }
   ],
   "source": [
    "(5 + 3) * 2 - 4^2"
   ]
  },
  {
   "cell_type": "markdown",
   "metadata": {},
   "source": [
    "## 1.10 Creating a DataFrame (Script Part)\n",
    "\n",
    "In R, data frames are used to store tabular data. In this exercise, you will create a data frame with\n",
    "named columns.\n",
    "\n",
    "### 1.10.1 Example\n",
    "\n",
    "Create a data frame with three columns: Name, Age, and Salary\n",
    "\n",
    "```r\n",
    "df <- data.frame(\n",
    "    Name = c(\"John\", \"Jane\", \"Alex\"),\n",
    "    Age = c(25, 30, 28),\n",
    "    Salary = c(40000, 50000, 45000)\n",
    ")\n",
    "# Print the data frame\n",
    "df\n",
    "```\n",
    "\n",
    "**Output:**\n",
    "\n",
    "<table class=\"dataframe\">\n",
    "<caption>A data.frame: 3 x 3</caption>\n",
    "<thead>\n",
    "\t<tr><th scope=col>Name</th><th scope=col>Age</th><th scope=col>Salary</th></tr>\n",
    "\t<tr><th scope=col>&lt;chr&gt;</th><th scope=col>&lt;dbl&gt;</th><th scope=col>&lt;dbl&gt;</th></tr>\n",
    "</thead>\n",
    "<tbody>\n",
    "\t<tr><td>John</td><td>25</td><td>40000</td></tr>\n",
    "\t<tr><td>Jane</td><td>30</td><td>50000</td></tr>\n",
    "\t<tr><td>Alex</td><td>28</td><td>45000</td></tr>\n",
    "</tbody>\n",
    "</table>\n",
    "\n",
    "Now, create your own data frame:\n",
    "\n",
    "### 1.10.2 Cell 10: Code\n",
    "\n",
    "Exercise 10: Create a data frame with the following structure: \n",
    "\n",
    "| Name | Age | Salary |\n",
    "| ---- | --- | ------ |\n",
    "| John | 25 | 40000 |\n",
    "| Jane | 30 | 50000 |\n",
    "| Alex | 28 | 45000 |"
   ]
  },
  {
   "cell_type": "code",
   "execution_count": 21,
   "metadata": {
    "vscode": {
     "languageId": "r"
    }
   },
   "outputs": [
    {
     "data": {
      "text/html": [
       "<table class=\"dataframe\">\n",
       "<caption>A data.frame: 3 x 3</caption>\n",
       "<thead>\n",
       "\t<tr><th scope=col>Name</th><th scope=col>Age</th><th scope=col>Salary</th></tr>\n",
       "\t<tr><th scope=col>&lt;chr&gt;</th><th scope=col>&lt;dbl&gt;</th><th scope=col>&lt;dbl&gt;</th></tr>\n",
       "</thead>\n",
       "<tbody>\n",
       "\t<tr><td>John</td><td>25</td><td>40000</td></tr>\n",
       "\t<tr><td>Jane</td><td>30</td><td>50000</td></tr>\n",
       "\t<tr><td>Alex</td><td>28</td><td>45000</td></tr>\n",
       "</tbody>\n",
       "</table>\n"
      ],
      "text/latex": [
       "A data.frame: 3 x 3\n",
       "\\begin{tabular}{lll}\n",
       " Name & Age & Salary\\\\\n",
       " <chr> & <dbl> & <dbl>\\\\\n",
       "\\hline\n",
       "\t John & 25 & 40000\\\\\n",
       "\t Jane & 30 & 50000\\\\\n",
       "\t Alex & 28 & 45000\\\\\n",
       "\\end{tabular}\n"
      ],
      "text/markdown": [
       "\n",
       "A data.frame: 3 x 3\n",
       "\n",
       "| Name &lt;chr&gt; | Age &lt;dbl&gt; | Salary &lt;dbl&gt; |\n",
       "|---|---|---|\n",
       "| John | 25 | 40000 |\n",
       "| Jane | 30 | 50000 |\n",
       "| Alex | 28 | 45000 |\n",
       "\n"
      ],
      "text/plain": [
       "  Name Age Salary\n",
       "1 John 25  40000 \n",
       "2 Jane 30  50000 \n",
       "3 Alex 28  45000 "
      ]
     },
     "metadata": {},
     "output_type": "display_data"
    }
   ],
   "source": [
    "df <- data.frame(\n",
    "    Name = c(\"John\", \"Jane\", \"Alex\"),\n",
    "    Age = c(25, 30, 28),\n",
    "    Salary = c(40000, 50000, 45000)\n",
    ")\n",
    "\n",
    "df"
   ]
  }
 ],
 "metadata": {
  "kernelspec": {
   "display_name": "R",
   "language": "R",
   "name": "ir"
  },
  "language_info": {
   "codemirror_mode": "r",
   "file_extension": ".r",
   "mimetype": "text/x-r-source",
   "name": "R",
   "pygments_lexer": "r",
   "version": "4.4.1"
  }
 },
 "nbformat": 4,
 "nbformat_minor": 2
}
