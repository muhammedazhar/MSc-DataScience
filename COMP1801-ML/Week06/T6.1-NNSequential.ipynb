{
 "cells": [
  {
   "cell_type": "markdown",
   "metadata": {
    "id": "5KpMjYmrUcvs"
   },
   "source": [
    "# **Neural Networks Keras \"Sequential Class\" Tutorial**\n",
    "\n",
    "(Dr. Ilya Alexakhin 2023-24)\n",
    "\n",
    "This tutorial execrise is designed to introduce Neural Networks using the Keras Sequential Class mode of architecture construction.\n",
    "\n",
    "PLEASE FOLLOW THE INSTRUCTIONS CAREFULLY and at first just run the code \"as is\" and try to understand what it is doing by reading all of the markdown and comments thoroughly. At the bottom you will be given instructions on how to conduct your own manual hyper-parameter tuning process in order to gain better intuition about how each hyper-parameter influences model construction and performance.\n",
    "\n",
    "DO NOT WORRY if you do not have time to finish any, or all of the prompts, or any of the other tutorials, as gaining familiarity with these expansive topics and code libraries is MUCH more important, than obtaining a \"correct\" answer or even a highly performing model instance. The MNIST dataset is considered a very easy dataset to fit, so it was chosen specifically to allow time and brainpower to be focused on exploring the various aspects of the model creation pipeline.\n",
    "\n",
    "If you have experience with Keras \"Sequential Class\" model building, and/or have time/desire to try the more advanced Keras Model API, try the other tutorial that utilizes it on the California Housing dataset."
   ]
  },
  {
   "cell_type": "code",
   "execution_count": 1,
   "metadata": {
    "id": "JdcqhrhzDyLM"
   },
   "outputs": [],
   "source": [
    "import keras #<-- A user-friendly high-level library that uses TensorFlow as a backend find guides here: https://keras.io/guides/sequential_model/\n",
    "# Some specific commands we will need from Keras:\n",
    "from keras.models import Sequential\n",
    "from keras.layers import Dense\n",
    "from keras.layers import Dropout\n",
    "from keras.datasets import mnist\n",
    "from keras import layers\n",
    "import pandas as pd #<--data manipulation library useful for array/matrix manipulation via propriatary object type called \"DataFrame\"\n",
    "import numpy as np #<-- Array manipulation library\n",
    "from numpy import random #<-- Specific command we'll need from numpy to sample the test set at random\n",
    "from matplotlib import pyplot #<-- standard Python graphing library"
   ]
  },
  {
   "cell_type": "code",
   "execution_count": 12,
   "metadata": {
    "colab": {
     "base_uri": "https://localhost:8080/"
    },
    "id": "5mxZklDLEDUl",
    "outputId": "5f0cd8ac-d968-4f76-af91-32dd3382a5c6"
   },
   "outputs": [
    {
     "name": "stdout",
     "output_type": "stream",
     "text": [
      "(60000, 28, 28)\n",
      "(10000, 28, 28)\n",
      "(60000,)\n",
      "(10000,)\n"
     ]
    }
   ],
   "source": [
    "# Load and split the data while retaining its shape\n",
    "(x_train, y_train), (x_test, y_test) = keras.datasets.mnist.load_data() #<--Load the MNIST dataset\n",
    "# MNIST dataset comes as \"tuples\" and is made into Numpy arrays (https://keras.io/api/datasets/mnist/)\n",
    "assert x_train.shape == (60000, 28, 28) #<--Assert command makes sure our inputs and outputs are in correct shape\n",
    "assert x_test.shape == (10000, 28, 28)\n",
    "assert y_train.shape == (60000,)\n",
    "assert y_test.shape == (10000,)\n",
    "# Check the shapes of our train and test(evaluation) sets if you change them in the cell above\n",
    "print(np.shape(x_train))\n",
    "print(np.shape(x_test))\n",
    "print(np.shape(y_train))\n",
    "print(np.shape(y_test))"
   ]
  },
  {
   "cell_type": "code",
   "execution_count": 13,
   "metadata": {
    "colab": {
     "base_uri": "https://localhost:8080/",
     "height": 433
    },
    "id": "BbxR0tu0E7Sc",
    "outputId": "3695aa9f-85df-4d9b-feec-f4026129f4ec"
   },
   "outputs": [
    {
     "data": {
      "image/png": "[encoded data removed]",
      "text/plain": [
       "<Figure size 640x480 with 9 Axes>"
      ]
     },
     "metadata": {},
     "output_type": "display_data"
    }
   ],
   "source": [
    "# Lets look at some of our data, by making some subplots that show the 28 by 28 pixel images of our handwritten digits\n",
    "for i in range(9):\n",
    "  pyplot.subplot(330 + 1 + i)\n",
    "  pyplot.imshow(x_train[i], cmap=pyplot.get_cmap('gray'))\n",
    "pyplot.show()"
   ]
  },
  {
   "cell_type": "code",
   "execution_count": 14,
   "metadata": {
    "colab": {
     "base_uri": "https://localhost:8080/"
    },
    "id": "-aBrmGxgaAb0",
    "outputId": "b75b0411-8726-443a-f73b-064bc9e28989"
   },
   "outputs": [
    {
     "name": "stdout",
     "output_type": "stream",
     "text": [
      "First 9 training lables:\n",
      " [[5]\n",
      " [0]\n",
      " [4]\n",
      " [1]\n",
      " [9]\n",
      " [2]\n",
      " [1]\n",
      " [3]\n",
      " [1]]\n",
      "Same first 9 training lables as one-hot encoded vectors:\n",
      " [[0. 0. 0. 0. 0. 1. 0. 0. 0. 0.]\n",
      " [1. 0. 0. 0. 0. 0. 0. 0. 0. 0.]\n",
      " [0. 0. 0. 0. 1. 0. 0. 0. 0. 0.]\n",
      " [0. 1. 0. 0. 0. 0. 0. 0. 0. 0.]\n",
      " [0. 0. 0. 0. 0. 0. 0. 0. 0. 1.]\n",
      " [0. 0. 1. 0. 0. 0. 0. 0. 0. 0.]\n",
      " [0. 1. 0. 0. 0. 0. 0. 0. 0. 0.]\n",
      " [0. 0. 0. 1. 0. 0. 0. 0. 0. 0.]\n",
      " [0. 1. 0. 0. 0. 0. 0. 0. 0. 0.]]\n"
     ]
    }
   ],
   "source": [
    "# Convert to \"one-hot\" vectors using the to_categorical function\n",
    "num_classes = 10\n",
    "y_train_oh = keras.utils.to_categorical(y_train, num_classes)\n",
    "y_test_oh = keras.utils.to_categorical(y_test, num_classes)\n",
    "print(\"First 9 training lables:\\n\", y_train[:9].reshape(9,1))\n",
    "print(\"Same first 9 training lables as one-hot encoded vectors:\\n\", y_train_oh[:9])"
   ]
  },
  {
   "cell_type": "markdown",
   "metadata": {
    "id": "dvyxrQOlLvPJ"
   },
   "source": [
    "Notice in the above print that the label \"0\" corresponds with class label [1. 0. 0. 0. 0. 0. 0. 0. 0. 0.] and \"9\" with [0. 0. 0. 0. 0. 0. 0. 0. 0. 1.].\n",
    "\n",
    "Thus, our classes are 0 to 9.\n",
    "\n",
    "Also notice that the labels and their one-hot encodings match the input images in the earlier plot perfectly. This MUST be correct since the model will be given these input-output pairs as 'ground truth.'\n",
    "\n",
    "_____________________________________________________________________________\n",
    "\n",
    "Now we need to convert the 28 by 28 input images into a one-dimensional shape of 784, in order to be accepted into our first hidden network layer."
   ]
  },
  {
   "cell_type": "code",
   "execution_count": 15,
   "metadata": {
    "colab": {
     "base_uri": "https://localhost:8080/"
    },
    "id": "pDH58k_JXX48",
    "outputId": "6ab69986-99e2-4caf-84de-8554bbce824a"
   },
   "outputs": [
    {
     "name": "stdout",
     "output_type": "stream",
     "text": [
      "The input training set shape is:  (60000, 784) or 60000 samples of 784 pixels\n",
      "The output training set shape is: (60000, 10)  or 60000 samples of 10 class vectors\n",
      "The input test set shape is:      (10000, 784) or 10000 samples of 784 pixels\n",
      "The output test set shape is:     (10000, 10)  or 10000 samples of 10 class vectors\n"
     ]
    }
   ],
   "source": [
    "# Flatten the \"28 by 28\" 2D images into a \"784 by 1\" shape to align with model input layer\n",
    "image_vector_size = x_train.shape[1] * x_train.shape[2] #<--Remember shape[0] is 60000, so here we need to flatten dim1 and dim2 together for a 60000 by 784 array\n",
    "x_train_r = x_train.reshape(x_train.shape[0], image_vector_size) #<--Here we use image_vector_size to pass the \"784\" value dynamically\n",
    "x_test_r = x_test.reshape(x_test.shape[0], image_vector_size) #<--Reshape the test set into 10000 by 784 array\n",
    "print(\"The input training set shape is: \",x_train_r.shape,\"or 60000 samples of 784 pixels\")\n",
    "print(\"The output training set shape is:\",y_train_oh.shape,\" or 60000 samples of 10 class vectors\")\n",
    "print(\"The input test set shape is:     \",x_test_r.shape,\"or 10000 samples of 784 pixels\")\n",
    "print(\"The output test set shape is:    \",y_test_oh.shape,\" or 10000 samples of 10 class vectors\")"
   ]
  },
  {
   "cell_type": "code",
   "execution_count": 16,
   "metadata": {
    "colab": {
     "base_uri": "https://localhost:8080/",
     "height": 248
    },
    "id": "rXyVyKaiQMmH",
    "outputId": "0c52fa0c-6b90-493b-fc8a-ca66c474b0fa"
   },
   "outputs": [
    {
     "name": "stderr",
     "output_type": "stream",
     "text": [
      "/usr/local/lib/python3.10/dist-packages/keras/src/layers/core/dense.py:87: UserWarning: Do not pass an `input_shape`/`input_dim` argument to a layer. When using Sequential models, prefer using an `Input(shape)` object as the first layer in the model instead.\n",
      "  super().__init__(activity_regularizer=activity_regularizer, **kwargs)\n"
     ]
    },
    {
     "data": {
      "text/html": [
       "<pre style=\"white-space:pre;overflow-x:auto;line-height:normal;font-family:Menlo,'DejaVu Sans Mono',consolas,'Courier New',monospace\"><span style=\"font-weight: bold\">Model: \"sequential\"</span>\n",
       "</pre>\n"
      ],
      "text/plain": [
       "\u001b[1mModel: \"sequential\"\u001b[0m\n"
      ]
     },
     "metadata": {},
     "output_type": "display_data"
    },
    {
     "data": {
      "text/html": [
       "<pre style=\"white-space:pre;overflow-x:auto;line-height:normal;font-family:Menlo,'DejaVu Sans Mono',consolas,'Courier New',monospace\">┏━━━━━━━━━━━━━━━━━━━━━━━━━━━━━━━━━━━━━━┳━━━━━━━━━━━━━━━━━━━━━━━━━━━━━┳━━━━━━━━━━━━━━━━━┓\n",
       "┃<span style=\"font-weight: bold\"> Layer (type)                         </span>┃<span style=\"font-weight: bold\"> Output Shape                </span>┃<span style=\"font-weight: bold\">         Param # </span>┃\n",
       "┡━━━━━━━━━━━━━━━━━━━━━━━━━━━━━━━━━━━━━━╇━━━━━━━━━━━━━━━━━━━━━━━━━━━━━╇━━━━━━━━━━━━━━━━━┩\n",
       "│ dense (<span style=\"color: #0087ff; text-decoration-color: #0087ff\">Dense</span>)                        │ (<span style=\"color: #00d7ff; text-decoration-color: #00d7ff\">None</span>, <span style=\"color: #00af00; text-decoration-color: #00af00\">64</span>)                  │          <span style=\"color: #00af00; text-decoration-color: #00af00\">50,240</span> │\n",
       "├──────────────────────────────────────┼─────────────────────────────┼─────────────────┤\n",
       "│ dense_1 (<span style=\"color: #0087ff; text-decoration-color: #0087ff\">Dense</span>)                      │ (<span style=\"color: #00d7ff; text-decoration-color: #00d7ff\">None</span>, <span style=\"color: #00af00; text-decoration-color: #00af00\">10</span>)                  │             <span style=\"color: #00af00; text-decoration-color: #00af00\">650</span> │\n",
       "└──────────────────────────────────────┴─────────────────────────────┴─────────────────┘\n",
       "</pre>\n"
      ],
      "text/plain": [
       "┏━━━━━━━━━━━━━━━━━━━━━━━━━━━━━━━━━━━━━━┳━━━━━━━━━━━━━━━━━━━━━━━━━━━━━┳━━━━━━━━━━━━━━━━━┓\n",
       "┃\u001b[1m \u001b[0m\u001b[1mLayer (type)                        \u001b[0m\u001b[1m \u001b[0m┃\u001b[1m \u001b[0m\u001b[1mOutput Shape               \u001b[0m\u001b[1m \u001b[0m┃\u001b[1m \u001b[0m\u001b[1m        Param #\u001b[0m\u001b[1m \u001b[0m┃\n",
       "┡━━━━━━━━━━━━━━━━━━━━━━━━━━━━━━━━━━━━━━╇━━━━━━━━━━━━━━━━━━━━━━━━━━━━━╇━━━━━━━━━━━━━━━━━┩\n",
       "│ dense (\u001b[38;5;33mDense\u001b[0m)                        │ (\u001b[38;5;45mNone\u001b[0m, \u001b[38;5;34m64\u001b[0m)                  │          \u001b[38;5;34m50,240\u001b[0m │\n",
       "├──────────────────────────────────────┼─────────────────────────────┼─────────────────┤\n",
       "│ dense_1 (\u001b[38;5;33mDense\u001b[0m)                      │ (\u001b[38;5;45mNone\u001b[0m, \u001b[38;5;34m10\u001b[0m)                  │             \u001b[38;5;34m650\u001b[0m │\n",
       "└──────────────────────────────────────┴─────────────────────────────┴─────────────────┘\n"
      ]
     },
     "metadata": {},
     "output_type": "display_data"
    },
    {
     "data": {
      "text/html": [
       "<pre style=\"white-space:pre;overflow-x:auto;line-height:normal;font-family:Menlo,'DejaVu Sans Mono',consolas,'Courier New',monospace\"><span style=\"font-weight: bold\"> Total params: </span><span style=\"color: #00af00; text-decoration-color: #00af00\">50,890</span> (198.79 KB)\n",
       "</pre>\n"
      ],
      "text/plain": [
       "\u001b[1m Total params: \u001b[0m\u001b[38;5;34m50,890\u001b[0m (198.79 KB)\n"
      ]
     },
     "metadata": {},
     "output_type": "display_data"
    },
    {
     "data": {
      "text/html": [
       "<pre style=\"white-space:pre;overflow-x:auto;line-height:normal;font-family:Menlo,'DejaVu Sans Mono',consolas,'Courier New',monospace\"><span style=\"font-weight: bold\"> Trainable params: </span><span style=\"color: #00af00; text-decoration-color: #00af00\">50,890</span> (198.79 KB)\n",
       "</pre>\n"
      ],
      "text/plain": [
       "\u001b[1m Trainable params: \u001b[0m\u001b[38;5;34m50,890\u001b[0m (198.79 KB)\n"
      ]
     },
     "metadata": {},
     "output_type": "display_data"
    },
    {
     "data": {
      "text/html": [
       "<pre style=\"white-space:pre;overflow-x:auto;line-height:normal;font-family:Menlo,'DejaVu Sans Mono',consolas,'Courier New',monospace\"><span style=\"font-weight: bold\"> Non-trainable params: </span><span style=\"color: #00af00; text-decoration-color: #00af00\">0</span> (0.00 B)\n",
       "</pre>\n"
      ],
      "text/plain": [
       "\u001b[1m Non-trainable params: \u001b[0m\u001b[38;5;34m0\u001b[0m (0.00 B)\n"
      ]
     },
     "metadata": {},
     "output_type": "display_data"
    }
   ],
   "source": [
    "# Build the neural network model architecture\n",
    "model = keras.Sequential() #<--Set the model class to Sequential (tell Keras that you want to build the model 1 layer at a time, more here: https://keras.io/api/)\n",
    "model.add(Dense(64, activation='relu', input_shape=(image_vector_size,))) #<--First hidden layer needs the EXACT shape of each input (image_vector_size maintains 784 shape)\n",
    "#Units per layer^^     More on ^Relu^ here: https://en.wikipedia.org/wiki/Rectifier_(neural_networks)\n",
    "#model.add(Dropout(0.25)) #<--Hint: uncomment the beginning of this line later in the exercise\n",
    "#model.add(Dense(32, activation='relu')) #<--Hint: uncomment the beginning of this line later in the exercise\n",
    "#model.add(Dropout(0.25)) #<--Hint: uncomment the beginning of this line later in the exercise\n",
    "model.add(Dense(10, activation='softmax')) #<--Final layer that will output probabilitites of each digit (from 0 to 9 ); must be paired with categorical cross-entropy\n",
    "model.summary()"
   ]
  },
  {
   "cell_type": "markdown",
   "metadata": {
    "id": "BIggqJZPNbVL"
   },
   "source": [
    "In the above print, note that \"None\" means that dimension 0 (first number in a default Python index is 0) is variable in size, but the second dimension must have a set size, or 64 for our hidden layer. In this case a 784 by 64 product will be delivered to the final layer.\n",
    "\n",
    "The final layer is a dense (fully connected) layer that outputs a \"1 by 10\" product where each class probability is considered by the softmax function, that picks a single class to be the strongest choice for our prediction by choosing the vector component with the maximum value.\n",
    "\n",
    "Our first model has only 50890 trainable parameters while ChatGPT4 is rumoured to have 1 trillion!"
   ]
  },
  {
   "cell_type": "code",
   "execution_count": 17,
   "metadata": {
    "colab": {
     "base_uri": "https://localhost:8080/",
     "height": 1000
    },
    "id": "1585D3mfWVSw",
    "outputId": "6521350b-6907-4264-dd39-f30fb271bc00"
   },
   "outputs": [
    {
     "name": "stdout",
     "output_type": "stream",
     "text": [
      "Epoch 1/30\n",
      "938/938 - 3s - 4ms/step - accuracy: 0.8285 - loss: 3.1459 - val_accuracy: 0.8880 - val_loss: 0.6602\n",
      "Epoch 2/30\n",
      "938/938 - 4s - 4ms/step - accuracy: 0.9047 - loss: 0.5565 - val_accuracy: 0.9014 - val_loss: 0.5117\n",
      "Epoch 3/30\n",
      "938/938 - 4s - 4ms/step - accuracy: 0.9284 - loss: 0.4181 - val_accuracy: 0.9282 - val_loss: 0.4552\n",
      "Epoch 4/30\n",
      "938/938 - 3s - 3ms/step - accuracy: 0.9397 - loss: 0.3473 - val_accuracy: 0.9312 - val_loss: 0.4856\n",
      "Epoch 5/30\n",
      "938/938 - 4s - 4ms/step - accuracy: 0.9477 - loss: 0.3138 - val_accuracy: 0.9396 - val_loss: 0.4208\n",
      "Epoch 6/30\n",
      "938/938 - 4s - 4ms/step - accuracy: 0.9519 - loss: 0.2720 - val_accuracy: 0.9490 - val_loss: 0.4848\n",
      "Epoch 7/30\n",
      "938/938 - 2s - 2ms/step - accuracy: 0.9560 - loss: 0.2716 - val_accuracy: 0.9513 - val_loss: 0.4581\n",
      "Epoch 8/30\n",
      "938/938 - 3s - 3ms/step - accuracy: 0.9584 - loss: 0.2382 - val_accuracy: 0.9476 - val_loss: 0.4050\n",
      "Epoch 9/30\n",
      "938/938 - 2s - 3ms/step - accuracy: 0.9606 - loss: 0.2177 - val_accuracy: 0.9499 - val_loss: 0.4261\n",
      "Epoch 10/30\n",
      "938/938 - 4s - 4ms/step - accuracy: 0.9634 - loss: 0.2052 - val_accuracy: 0.9510 - val_loss: 0.4306\n",
      "Epoch 11/30\n",
      "938/938 - 4s - 5ms/step - accuracy: 0.9656 - loss: 0.1893 - val_accuracy: 0.9486 - val_loss: 0.4849\n",
      "Epoch 12/30\n",
      "938/938 - 2s - 3ms/step - accuracy: 0.9658 - loss: 0.1930 - val_accuracy: 0.9541 - val_loss: 0.4505\n",
      "Epoch 13/30\n",
      "938/938 - 3s - 3ms/step - accuracy: 0.9676 - loss: 0.1805 - val_accuracy: 0.9493 - val_loss: 0.4847\n",
      "Epoch 14/30\n",
      "938/938 - 7s - 7ms/step - accuracy: 0.9689 - loss: 0.1721 - val_accuracy: 0.9567 - val_loss: 0.5053\n",
      "Epoch 15/30\n",
      "938/938 - 3s - 3ms/step - accuracy: 0.9708 - loss: 0.1737 - val_accuracy: 0.9506 - val_loss: 0.5595\n",
      "Epoch 16/30\n",
      "938/938 - 5s - 6ms/step - accuracy: 0.9715 - loss: 0.1653 - val_accuracy: 0.9552 - val_loss: 0.4954\n",
      "Epoch 17/30\n",
      "938/938 - 5s - 5ms/step - accuracy: 0.9717 - loss: 0.1610 - val_accuracy: 0.9563 - val_loss: 0.4909\n",
      "Epoch 18/30\n",
      "938/938 - 2s - 2ms/step - accuracy: 0.9720 - loss: 0.1574 - val_accuracy: 0.9475 - val_loss: 0.5707\n",
      "Epoch 19/30\n",
      "938/938 - 3s - 3ms/step - accuracy: 0.9734 - loss: 0.1528 - val_accuracy: 0.9554 - val_loss: 0.5058\n",
      "Epoch 20/30\n",
      "938/938 - 3s - 3ms/step - accuracy: 0.9739 - loss: 0.1510 - val_accuracy: 0.9569 - val_loss: 0.5132\n",
      "Epoch 21/30\n",
      "938/938 - 4s - 4ms/step - accuracy: 0.9744 - loss: 0.1494 - val_accuracy: 0.9578 - val_loss: 0.5589\n",
      "Epoch 22/30\n",
      "938/938 - 2s - 3ms/step - accuracy: 0.9749 - loss: 0.1345 - val_accuracy: 0.9536 - val_loss: 0.5710\n",
      "Epoch 23/30\n",
      "938/938 - 3s - 3ms/step - accuracy: 0.9751 - loss: 0.1347 - val_accuracy: 0.9568 - val_loss: 0.5274\n",
      "Epoch 24/30\n",
      "938/938 - 3s - 3ms/step - accuracy: 0.9765 - loss: 0.1392 - val_accuracy: 0.9517 - val_loss: 0.5834\n",
      "Epoch 25/30\n",
      "938/938 - 6s - 7ms/step - accuracy: 0.9771 - loss: 0.1289 - val_accuracy: 0.9575 - val_loss: 0.5808\n",
      "Epoch 26/30\n",
      "938/938 - 3s - 3ms/step - accuracy: 0.9776 - loss: 0.1263 - val_accuracy: 0.9582 - val_loss: 0.5119\n",
      "Epoch 27/30\n",
      "938/938 - 2s - 2ms/step - accuracy: 0.9774 - loss: 0.1251 - val_accuracy: 0.9578 - val_loss: 0.5861\n",
      "Epoch 28/30\n",
      "938/938 - 2s - 2ms/step - accuracy: 0.9782 - loss: 0.1200 - val_accuracy: 0.9570 - val_loss: 0.6344\n",
      "Epoch 29/30\n",
      "938/938 - 3s - 4ms/step - accuracy: 0.9786 - loss: 0.1224 - val_accuracy: 0.9568 - val_loss: 0.6643\n",
      "Epoch 30/30\n",
      "938/938 - 3s - 3ms/step - accuracy: 0.9788 - loss: 0.1162 - val_accuracy: 0.9576 - val_loss: 0.6347\n"
     ]
    },
    {
     "data": {
      "image/png": "[encoded data removed]",
      "text/plain": [
       "<Figure size 640x480 with 1 Axes>"
      ]
     },
     "metadata": {},
     "output_type": "display_data"
    }
   ],
   "source": [
    "# Compile the model\n",
    "model.compile(optimizer='rmsprop', loss='categorical_crossentropy', metrics=['accuracy'])\n",
    "#callback = keras.callbacks.EarlyStopping(monitor='loss', patience=5) #<--Hint for getting 2.ii to work (will also need to insert callbacks=[callback] into the model.fit kwargs)\n",
    "\n",
    "# Train the model and save it to a variable called \"history\"\n",
    "history = model.fit(x_train_r, y_train_oh, batch_size=64, epochs=30, verbose=2, validation_data=(x_test_r, y_test_oh))\n",
    "\n",
    "# Plot the train/test losses over the number of epocs to visualize the \"learning\" process.\n",
    "# The lower the loss the closer we are to the optimal set of weights, known as convegence!\n",
    "pyplot.plot(history.history['loss'], label='train')\n",
    "pyplot.plot(history.history['val_loss'], label='test')\n",
    "pyplot.title(\"Training and Validation Loss\")\n",
    "pyplot.xlabel(\"Epochs\")\n",
    "pyplot.ylabel(\"Loss\")\n",
    "pyplot.legend()\n",
    "pyplot.show()"
   ]
  },
  {
   "cell_type": "code",
   "execution_count": 18,
   "metadata": {
    "colab": {
     "base_uri": "https://localhost:8080/"
    },
    "id": "dr4xAmURYqW9",
    "outputId": "6a963cfd-f444-4692-da86-3a802fdf153f"
   },
   "outputs": [
    {
     "name": "stdout",
     "output_type": "stream",
     "text": [
      "Test loss: 0.6346960663795471\n",
      "Test accuracy: 0.9575999975204468 \n",
      "This means the model predicted 95.8 % of the test set examples correctly, or predicting the digit correspoding to the actual label.\n"
     ]
    }
   ],
   "source": [
    "#Lets print the last epoch's loss and accuracy on the test set (can put into hyper-parameter table as Ver.0):\n",
    "score = model.evaluate(x_test_r, y_test_oh, verbose=0)\n",
    "print('Test loss:', score[0])\n",
    "print('Test accuracy:', score[1],\"\\nThis means the model predicted\",\n",
    "      np.round(score[1],3)*100,\n",
    "      \"% of the test set examples correctly, or predicting the digit correspoding to the actual label.\")"
   ]
  },
  {
   "cell_type": "markdown",
   "metadata": {
    "id": "M8yh3WUg-WNW"
   },
   "source": [
    "Write down the test loss and accuracy for the correct model Version to note its overall performance (we will be making a table using these values as part of the exercise later).\n",
    "\n",
    "You also might want to save the plot above as image for reference later. (right-click/save to local machine will do for now, but title it with the version number starting with Ver.0 for the default one provided)."
   ]
  },
  {
   "cell_type": "code",
   "execution_count": 19,
   "metadata": {
    "colab": {
     "base_uri": "https://localhost:8080/",
     "height": 534
    },
    "id": "08Q4-zDadLpl",
    "outputId": "b1082bf8-f4f6-4cea-cf7d-10576e6d25c5"
   },
   "outputs": [
    {
     "name": "stdout",
     "output_type": "stream",
     "text": [
      "\u001b[1m1/1\u001b[0m \u001b[32m━━━━━━━━━━━━━━━━━━━━\u001b[0m\u001b[37m\u001b[0m \u001b[1m0s\u001b[0m 60ms/step\n",
      "\u001b[1m1/1\u001b[0m \u001b[32m━━━━━━━━━━━━━━━━━━━━\u001b[0m\u001b[37m\u001b[0m \u001b[1m0s\u001b[0m 23ms/step\n",
      "The model predicts the image to correspond to label:\n",
      " [[0. 0. 0. 1. 0. 0. 0. 0. 0. 0.]] or \" 3 \"\n",
      "The actual label for the image is:\n",
      " [0. 0. 0. 1. 0. 0. 0. 0. 0. 0.] or \" 3 \"\n"
     ]
    },
    {
     "data": {
      "image/png": "[encoded data removed]",
      "text/plain": [
       "<Figure size 640x480 with 1 Axes>"
      ]
     },
     "metadata": {},
     "output_type": "display_data"
    }
   ],
   "source": [
    "# Lets try and predict a random image from the test set\n",
    "r = random.randint(10000) #<--Get a random value from 1 to 10000 to sample the test set\n",
    "pyplot.imshow(x_test[r], cmap=pyplot.get_cmap('gray')) #<--Show the image for reference\n",
    "print(\"The model predicts the image to correspond to label:\\n\",\n",
    "      model.predict(x_test_r[r].reshape(1,784)).round(1),'or \"',\n",
    "      np.argmax(model.predict(x_test_r[r].reshape(1,784))),'\"') #<--Predict the image, rounding to #float (0 for int)\n",
    "print(\"The actual label for the image is:\\n\",y_test_oh[r],'or \"',\n",
    "      np.argmax(y_test_oh[r]),'\"') #<--Print the actual label for comparison"
   ]
  },
  {
   "cell_type": "markdown",
   "metadata": {
    "id": "sU4Gmq9tFcFc"
   },
   "source": [
    "Re-run the above cell a few times, its fun to see the model guess!"
   ]
  },
  {
   "cell_type": "code",
   "execution_count": 20,
   "metadata": {
    "colab": {
     "base_uri": "https://localhost:8080/"
    },
    "id": "z7YarOyWf8im",
    "outputId": "41ea47fd-8ba6-47e2-e291-d1df3614c943"
   },
   "outputs": [
    {
     "name": "stdout",
     "output_type": "stream",
     "text": [
      "\u001b[1m313/313\u001b[0m \u001b[32m━━━━━━━━━━━━━━━━━━━━\u001b[0m\u001b[37m\u001b[0m \u001b[1m1s\u001b[0m 3ms/step\n",
      "Manual calculation of accuracy, or:\n",
      " total number of test set examples minus incorrect predictions, divided by total number of test set examples, or:\n",
      " 10000 minus 424 divided by 10000 is:\n",
      " 0.9576 or 95.76 %\n"
     ]
    }
   ],
   "source": [
    "# Now lets predict the entire set for comparison with the actual test set and calculate the accuracy manually to get better practice with Pandas\n",
    "\n",
    "yhat = model.predict(x_test_r) #<--Predict the entire test set\n",
    "diff = pd.DataFrame(data=np.argmax(yhat, axis=1), columns=['pred']) #<--Make a Pandas dataframe called diff (for difference) and load it with prediction label\n",
    "diff['act'] = np.argmax(y_test_oh, axis=1) #<--And add to it the actual labels\n",
    "\n",
    "print('Manual calculation of accuracy, or:\\n',\n",
    "      'total number of test set examples minus incorrect predictions, divided by total number of test set examples, or:\\n',\n",
    "      y_test_oh.shape[0],'minus',diff.loc[(diff['pred']-diff['act'])!=0].shape[0],'divided by',y_test_oh.shape[0],'is:\\n',\n",
    "       (y_test_oh.shape[0]-diff.loc[(diff['pred']-diff['act'])!=0].shape[0])/y_test_oh.shape[0],'or',\n",
    "      (y_test_oh.shape[0]-diff.loc[(diff['pred']-diff['act'])!=0].shape[0])/y_test_oh.shape[0]*100,'%')"
   ]
  },
  {
   "cell_type": "code",
   "execution_count": 21,
   "metadata": {
    "colab": {
     "base_uri": "https://localhost:8080/",
     "height": 534
    },
    "id": "nuOUBLsmxFKU",
    "outputId": "f9a6cf44-641b-494a-b939-00c14f2691b5"
   },
   "outputs": [
    {
     "name": "stdout",
     "output_type": "stream",
     "text": [
      "\u001b[1m1/1\u001b[0m \u001b[32m━━━━━━━━━━━━━━━━━━━━\u001b[0m\u001b[37m\u001b[0m \u001b[1m0s\u001b[0m 28ms/step\n",
      "\u001b[1m1/1\u001b[0m \u001b[32m━━━━━━━━━━━━━━━━━━━━\u001b[0m\u001b[37m\u001b[0m \u001b[1m0s\u001b[0m 21ms/step\n",
      "The model predicts the image to correspond to label:\n",
      " [[0.   0.   0.39 0.   0.   0.   0.   0.61 0.   0.  ]] or \" 7 \"\n",
      "The actual label for the image is:\n",
      " [0. 0. 1. 0. 0. 0. 0. 0. 0. 0.] or \" 2 \"\n"
     ]
    },
    {
     "data": {
      "image/png": "[encoded data removed]",
      "text/plain": [
       "<Figure size 640x480 with 1 Axes>"
      ]
     },
     "metadata": {},
     "output_type": "display_data"
    }
   ],
   "source": [
    "# Lets predict an image from ONLY the incorrect portion of the test set to see why its getting it wrong\n",
    "\n",
    "r = random.choice(diff.loc[(diff['pred']-diff['act'])!=0].index) #<--Randomly sample the index of incorrect samples (using some Pandas loc code)\n",
    "pyplot.imshow(x_test[r], cmap=pyplot.get_cmap('gray')) #<--Show the image for reference\n",
    "print(\"The model predicts the image to correspond to label:\\n\",model.predict(x_test_r[r].reshape(1,784)).round(2),'or \"',\n",
    "      np.argmax(model.predict(x_test_r[r].reshape(1,784))),'\"') #<--Predict the image, and print the resulting prediction probability output vector\n",
    "print(\"The actual label for the image is:\\n\",y_test_oh[r],'or \"',\n",
    "      np.argmax(y_test_oh[r]),'\"') #<--Print the actual label for comparison"
   ]
  },
  {
   "cell_type": "markdown",
   "metadata": {
    "id": "3NTXxEAUCgiG"
   },
   "source": [
    "Re-run the above cell a few times to get an idea about what sort of inputs the model is mispredicting.\n",
    "\n",
    "Isn't it interesting that the model is mispredicting the samples that are somewhat close in shape to its predictions due to handwriting style?\n",
    "\n",
    "It seems to have missed the decision boundaries around some of these more rare cases.\n",
    "\n",
    "Also you can sometimes see the model having other options for the softmax function, showing that several probabilities were present, with the largest being picked in the end."
   ]
  },
  {
   "cell_type": "markdown",
   "metadata": {
    "id": "Z4BzNgLAkBgG"
   },
   "source": [
    "\n",
    "\n",
    "# Exercises\n",
    "\n",
    "Now try to changing 1 hyper-parameter at a time in the above code and record the new model version's configuration and performance. An Excel table is a good way to keep track of this manual hyper-parameter exploration, known as \"brute force.\" For the first row you can use v.0, or the default version of the model in the above code and its hyperparameters and performance metric(s) as columns.\n",
    "\n",
    "For example:\n",
    "\n",
    "![image.png](data:image/png;base64,iVBORw0KGgoAAAANSUhEUgAAAuwAAADDCAYAAADZRUQ2AAAAAXNSR0IArs4c6QAAAARnQU1BAACxjwv8YQUAAAAJcEhZcwAADsMAAA7DAcdvqGQAACnYSURBVHhe7d2xeqJMF8Dx43ctukWyV4BXoGlSpU2npTbpUqbbRsvYve1WaSJXEK7ApFi5F78ZZoABQTBggub/ex7e1xCieJiBw3BgeztFUMv7+7tcX1/bn3As4tcM8WuG+DVD/Johfs0Qv2aI33lyt9v/ov8CAAAA6CQSdgAAAKDDSNgBAACADiNhBwAAADqMhB1KKMthT3q9nkx9Ows1EDeckD+N2lZvuFQt7RDaYTPED0D3kbB/A39qDg57U+WBGa7COA6H6qD7k6OYJh97cVn6tK8WJO0u31/DpQxtvIfLbKTD5dD8jc4Ik+WGklvsh6CNZoXiL6cyzMRkKMPpUlrdlbXZ7jrVhkvakzt98bE12Ud09gywezFLOPvRXm8qnEOnSNhxpkL5t7EvXUEgq/Hg6JGy7u9gG9JxmY9lcCFJ4ndur9HtxLwIPmRrXhnbDwnsy+Dvq3OwC+X1r/nN5HYU/f+zLrqdfkEb7V78fJkOBzKer/TXdwQSrOYyHnwuFhe/P/smxPV4x8YsfP2b7EdFVvJ0CQeslpCwf6fJWvRj8JPpbSZ9+yvU5y22NoZbWXhm3uqFHWoal51s1xMxoQlkfs+VnEYGVzaWK3Gbmf+ysq+UTDK/lY/oCOTJ1UD9rz+Tt2i7vMnsh3f4n95G/elYVrZtTNZuLBbtx6LNdtepNtyX2ZuJm55UMzLc4yvH1pyuxiwe3JjIYmFWKjv48bORsHdSfLlqKn7oy3JqL6erSV8mzTfe0N+/nFp0aTnUl13dZYqut/6r/rxz4EWZkbEfH/d7mViP41xrNTbLOKMBlxC3/uhZ3uK9cvBXXqOV82Wq13e4FF/HKFr39BJkdbtqu52ml2kzgzHq76Llo0u01dvr5Po3cmdPDDf/4rXPX/Fxkvnwn0S/8u7kRh8BC8sJQvU10/j1hiqm/+yvIjW/9xn33+I2amT7oP5ex7bDLsbPl/gcz1v8J8+jND3qj2byXzz6kMSi4ffca3fZ95tGr+P30/HNtslMLPLvFffR3OSG9/A2PLwvatPh9VC/99V3S2IR7+9rtp8j1DluF6+Lceh3bfuymIWvEuXr3pXczG5V2q7k9gWxquNy+e/jdn/oOBPNKG2Th3OKVNk6lF11yJROFlFnUqhps9nYV82oY5L+12X3psnaLrDb7tS+unCZaPIWagm75MIrXkZP6RuWLOftFtEbVXye8z5NtBU/o3ydPbW+cXxUtHeq0xcuZ75XyfvY79yFuMXqxS9dJ8+spCONhVm1othM1Nyy722n5HtVfP+j22n6fpnQrSdmuej9Dm+vQ9psf8n3Sb6jjaX6eWH7dxz/ZNl4HbeLnUrF1Ly4HemvaP6mcKr83hXboUZs6mgvfun6VrfRA7FJYl/x/bsav7hdO+0gI2kncSwafs+9dlfxfkVTHIv8eyXfJTvFi1dvw/J9Uaxu+0s+q2C7Va6HE/N00utxqP3sO7QOWq39Yem6VPyuxKH4dSFmWhyXeL8Qf3Z+P1Ecv7QfHf59ul6ZVckcZ6IZJW2yaL6dnDc8uA5Jf3G3WfF6uduNEfau8xay3ppLVKoBmHnOCOmfuan2Ug06uZSVLLd6siMpBctt10n5SIY3sZ+3TS+Tbf7tnTl2WaDO5O+TM9SRPKzXsrUxNPGxXyz6XubSYPJd40uCz7rW+NLiNpCronXX1PdW+xG1/s8qYnXblaOVdlrHoe31dfq/fpsXcemL/yLRQNLvXzKzNe7xpdytqYc5UL/ujrSWtbOa3/vs+2+ujYZLeYpi44k60CWxib5a0chbaTu8sPg1/Z55zvdO211appN8RlksRs/mc9xl1VaKmvyx2zCzL2pRnfWI70PR8bC/N1+nzf1Ozf1h6booh37Xpi+NWRwXT+6iS5Hp/ULZspiq43LV7z8h0yarcgqtYh1G9uqBeyXW/yPmT2y/KUDC/p3iBmynonY8eZxJfKW0P3u0GzmQD50lxEmCmvvoFBLuLRdfkneX649UZ9qvP5w8qgYZzeunN9d1XNFOL3CSwP5A5M99eml3MDdRq3RxcYtrqfPUzvhhpNbcqtuuHK2003OS2+GGth4mSsrjGvcomY9LZWz9epGydvZ4fDs6x/6blWujyY28gcwH9jLyYGzb05HtsIZuxm+/7TT9nnnu976J670mj0mZzt4Jahl/qvaveovpBE+9p5531DbM7YvaVGc94n4drGSsfj+8f5Ff/9nv0Za6+8ND6/IV66l9ZcziuMSlg1qyL53LnzixrTouH3Hcrme/TVbmFJXroJJ+m6vE99vF90B5i4fS2JGw/wRJp7t8ezs9XWupdzDZRzDUc2lxSw4UB5JH1DSSOJ/b/PPtjVLxTaVxjbtO5uOaTOcghHI/qY0mNy/nk1YjfVrGb/l1Dm1H72ttwfJk/dnk6LuN5FlfXVmYG6ADnYR+8kk9zR1al3NZz/qSm/ZVcj6wiXBvME+OwcmDJKqOy6c+btfJKWqsQ//mzvT/aHAxvZIRX10oQsLecaun+Fm8+lm9T/ZgZi+ZOE+rcB99FNZZTt+0NJx+Uwc/nXCZO+DHHSe+XBeNwttMq8oFxS26SSa++6cqeazbrhyttFOH3jmbt1PxNnuyzhnY2o3g71MuKe9LPCC5eTJJl3d3U2PUMNfOOvq9T6WwjSZtx7kk70z5q5IH22HXODcvr8YqwUluijOxuLeX1GVyq1KirO59T1+mNrnSVzwz2+XIbXgyddZDt8HpVgazZ3lLyoMC+btXt9NA3f3hoXX5ivXUvixmaVlgqdWLWkopip97XK76veNTx5k6OUWddUj6v756YU9Mqo7N6sNQU1s3Xa3LbuJIbkCouBnIuSOh/L2yN2oUL3fsTRjNtBU/o2aMCm+IsZPzvbb5G0Ts33chbrF68auIS+Yml/jmmfRmnVi9dtV+O93bDu5UY3sd0m77U/Jty12H3E14mdVL/i6N+6H4VH/vc+u/x7TRQ7E5fn/Zufgd2j/pySu+Ka1wqvqee+2u+Hsnf+vOTNqzXZ/8e+XaezzFfbt6G5bvi2J121/yWZmNaVSuR8n3iN+q7n6n9HPs8uXr4ewPD61LxXoWORS/b49Z/B5Ffc3pI/GfFq9T1f40/f3eOrlTsg4lbfJQn3XWv2odIrnYFYXG3W6MsHfcZLGWiWodMU/f/OAMSYye00tRCc/cLPTmXJOMllNvlC6nlln8d6aXLbV0FDNDf3cVsyRG/Zn8p3pO9nsvJD/G3p/9Jwsn0PFjIS8mbnFcat7IVbddxdpqp3o76Hgn9ChGfJOTo2x7fSlnhFTL3FSa1Lhr1SOfOj7u9+n09z6Vkja63wfLVbXDzsVPP89c34yW/35xLN6ysYid2/c8ZhueUuV6jB5y+x+zj0oPJ+3Etdb+8NC6VKxnm74iZkn9dtGVSPdKlC2L2V8n9ZnOcbnq93qdsutcvL8tVDOnqFqHyJHHCUbYj9DeCFOVkhGfM/d18btM3YvfebVT2l8z3Y3febTD5vG7zONCXfTfZohfF6V9Wp3l2HlZ7nZjhB0AAAD4SvE/FKWUP/Y3RcIOAAAAfKHkSVDeotYN4yTsnWT+wYFdfBc20Em0U3TBT2mH9DfgkvRnb1F/3r3Nat1bRsIOAAAAdFhPF7Tb1wAAAAA6prfT4/Go5f39Xa6vr+1POBbxa4b4NUP8miF+zRC/ZohfM8TvPLnbjZIYAAAAoMNI2AEAAIAOI2EHAAAAOoyEHQAAAOgwEnYAAACgw0jYAQAAgA5rnLD70570emqa+nZOVrgcmt8PlxLaeW0Ll1MZ6s+w03B6us/6fr5Mne+qp6LQJ3GPp5Lt8yP40wMxqBfPpJ3H0wnbMy7fXnv6xv3nRTjYx4HUZ46Ne/3VTsmfhstMDpKfij6isG9/4n3OyWfzknz8h8vs3rBy+yh1lkl0dH/SOGEf3U7Mi9WLSn3yQnn9G0SvvLsb6Uev2qU3wmC+EvMpRrCay+BCD3D+dCyyNv88tZ7WKvyr8VDc9qs7xWAustjGy61lshr/wINZKMuh6nTjlf05T/++KJ77HX28mqjFnHgGl9vGcEqmTY43C9km7UlNRf/WvDp436t+PJl4dgb2VfVxINXo2Ojl+qyakm7bn8lb7nd62i50353Ibb57l/XtY9/njHw29nvHX3WQDuaDvaT94PaJVS7T7f1J85KY0a1qRtpKXvJxD1/F5OsTeZydIF1Xjf7JxnWy3kbB3+qMSwv+yusFZlOj52wDGz0sxFOnK3+TL+vLn3mg2uV/koZ8JA+6wxeeVF2ucHkv88BTO4itRPu7PX2ZvRXFU2TzL45nKP826n+TWxXFmI1n8CFbOweow7RJdfB5m1UMYKgDhz6iq378cGVnYU91HwdiX31sNJ+XPXZox/btsvc5J5+Mvc3xvMVD+t1Hz9HAWvD3VUWyXV3fn7RQwz6SdJA9G3b/z9yMfOca2n4Ji+8E3pYoDJfi+/Fy0+INuv2wI+v6zNO0gn5yAhHIxw/Kpn7/sr0g/Cc6v0x+tvq/fqv/FpxUXbD+7E2dxL05O4jP6EsUus0/p43aK0dnvQPNii4X6n7oXrIsuoJQcMk2P0BS+73iy46Hlrkopt1kDj4l4sT+JAMdF6SdPt49cR+K/u/0jYN9y+1P+b6U67dun9XvqUcrM++ZO+aWrU+k5j6h6jNO7ouPjeHySb2rSv4esr392L5d9j5n5bOxtzle/u8GV6cZMOv6/qSVm06Ly2J8eYlHv53rOLrj7pewjPfLC4K5jMfZ5fLCaOhT8a5kYF4pA9HbUktHSS+VOVMPvIUkfTlq4J5cpQExBlfRyDEqFOwgRs+2BKanS4/0CeXAjJLuXW87c7offjxGV6qiy5XqO9+7lx11QjCYy2+nhEhfntQlRHuXJyveKzpwR9VI8XttZSGXXma0lQ/duD7+5BKcbEmbCo7czwOZrJ8v5oQQn6D60FjWpn+4V2QK+tZAt6OX28y8tL+pfZapRbC/38rVUzZZ1iUG6Xvq0cWVjPN9sWh9jtgn1PqMU2p6bIzjbKe9fV5GPKjzmE3+ju7bJe9zbj4b+5Lfm0R/I5kUr872OWobdk8rCXthWYz/on7SnLor1VhNCYu+5GA791btXPSsohKWydrWG3HgStkaq6jB2cSx8vI66lEHNl275p4ARUbyrA+CapczH4yjdn2RyZTqb2kttblyll52VO1Od161TOY8Jb48Of+TSQAOv5e5PJqNYV9mj9FCF1nK5go2V/JfnNxEiYtuV2kCFV2ZzMcZP1DJoICuw831raJ55SUDuhQwt//K/H1ZX8yvz5H7hFqf0U26FDU5IVGTrikvrKOO+X/UsVmFJld0fnTfLnmfH6N/I3cqY189uSd2tt056myfo7dhB7WTsMc7DSUui/Ht8Hrm8q8dvVS9VB2gbNJpEyA9L1vCYi4BkYjmmbrrtNFtZHyGZ4pdpG/ojS49/pc9ATKXcdObU3VH1yNI+hLxz2FGh4sOHOYKW2604xB7eTSKoR3piKYfcuNg9gZ8m7jEgx3+1NxgVfuIjovVWsmdqRXWycne1ZzY71/ZY200spk7Ju+tz5H7hDqfcSZ06UR5HbVNKPMDP0f37ZL3+VF0vuNcRYqmgXz81u3rt+QqZRKHt49RZ5muaSlhjzuoostiwrgcxpO7m5KItsBcFlEytUz2srOSr3u6RP3Zf9HNEcloRtlOsOySFCK6VGu80ld+cvVr9hKmt9gmoyJRnZvu6atx8SOhLpFNssuV7zzLTNzL6Ml0efXIlZzLvmagYxWdhMcnMgM9xGYPWJyY4zNMba5+ClY8WNZC/fgJ9gkndYpjY1EddTwq/pgd+Dm6b5e8z1lqFHt9hTt7nHi4Ui0vUwpdok6d+xk9PKK1hN0ti3m61zdJKN6dZPL15MDklMQ4U9WJZ3zDS9Kwk/fTo1NmXpiU4vyw5DRuvP1faje5X79v6v07tgPtCJOs6wSyIFm0V4X2Tv6cJOtHsO0qf2O5Fh2I6uw8YyVt9PKZ+2v2RnScg1b+sq2eoke66XIC9frtx53NoE1R+9rqJ2HlbvTL3FSv1Emkjt0nfOYz2tTqsdE+Paxgv2cS8/1HMB7bt8ve5yy1HPvo5v2Djwov3z6pOst0jGo0rVlPZKffMp48lZXn5ZdJp8lubZbYqcRf/eztsn++3am2bZadmCW10vdzlmnLZrOxr76Ljk0cJ2s9ib6vG2sTEyd+28VO7RYKt8dX+r742bZT0CbUDjOKX3lzse3RW6h3SZkY57bFiZ0yftH3yQUhmud878JY2fbnzqv/Xrk+rt8rF+c2fX//VfbiZdtXLl6uKFYnjEtdnYhfqfI+3hXHxK+oD2n5fqRVztNtzn2vqA2mfS9aNtMG99tk2foctU+o+IwqbbQ/sx6Hj42Fy+TiW3rcOPJYW9q3T3DM/u7++6nY77H93I1Zne1zzDaMdGd/4m63VhP2eANEHbM0mdmqjeI5y+WXtx15b6PpvzPLZhuxCqx6v/R9vN2kfGs30oUDVtzI3KmoTcWxiqc2O/5nfXX8imJlpnxbK5rc9le03Ncm69op4xe1l1xDiublDyb2YJxO+zvXuu+1t33yn9WyLvRfbe97VxwUouVPHJs6uhI/V3Uf745j4lfUh7SiflRnXvSzEx/3rePPysSy6P3K2ukR+4RDn1GlrfaXj0X+2Gh+734Hm7w5f1PWvszf1m97ZX372Pepowv9t5XY77XDOtun3jbs4v7E3W49/R+1Qqjh/f1drq+v7U84FvFrhvg1Q/yaIX7NdDV+UUmgflzjCW90buMzaH/NEL/z5G639mrYAQAAALSOhB0AAADoMBJ2AAB+qOjpJScsh9G+4jOAS0fCDgAAAHRYT9+Bal8DAAAA6BieEnME7rJuhvg1Q/yaIX7NEL9miF8zxK8Z4nee3O1GSQwAAADQYSTsAAAAQIeRsAMAAAAdRsIOAAAAdBgJOwAAANBhJOwAAACf4U+l1+ul09S3v8DJ/bDYN07Y/enhQIXLofn9cCmhnde+UK2H/ZzeVC55kyXxzk358Cdxj6efvBOJO3VhDHyZunFSU9Fie3E/aXvGpdtrT9+6/7wAB/s4cCrq+DEWWe92op+QvdutZbIa0w6/xM+LfeOEfXQ7MS9WLwWJciivf4PolXd3I/3oVbtCtaMe9gYyXpnP+RG8hWyTRmom91991gf5wVxksf05DblYKMuhOoiPV/bnPP37qMcncVyr5rwaZ5N2nVyNV5PsjiGYy4AkCkczbXK8yfXhon+2PVzKverHk4lnZ2BfVR8HTmkkz7tn9d/YSB4Wqr+unmTJweHEfl7sm5fEjG7FpOwrecnng+GrmHx9Io+zU6TrItsXtaOeLGS9sCcOP54vf+aByun/kzTkcUMuOqm6XOHyXuaBp05ctqK//r6+zN6yJzujh4XoRTf/4h4fyr+N+t/kdn/HEHzI1s4B6jBtUp38vc0qBjBUIqqzddWPH67sLOyp7uPA1+r/+m1f4atdeuxbqGEfSTrInk0H/T9zMfm6m+zonaweFe8ll4OHU98ZqbQlCsOl+NHouV6mvMxl9LyTt+eZjH7ZGT9d+E90fvn7VzYdMA254KTqgvVnb7LbvTknLp/Rlyh0m39OG7VXjnLt+pxFJRq6H7qlVEVXEMJlpu/qKX/hpvZ75esPL/6KhWk33uKhst3Eif2pBjouRTt9vHviPpSUTtm+cbBvuf0p35dy/dbts/o9h8sw+565Y27Z+kRq7hOqPgPAYa3cdFpcFuOLHvzWJrfp4Ul33MF8ZRJ5K1iN98sLgrmMx9nlYOlyDGfnqHeEie2HipknVwP7c2xwFY0co0IUv+wJz+jZlsD0hrIM9QnlwIySFpUxnDPdDz8ebZmG+c73btvSCcFgLr+dEqLdehKVEGXaoFbxXtGBO1N/uJWFXHqZ0VY+dOP6+JNLcHS7MktEolKYQCZr93IvfhzVh8ayNv3DvSJT0Lei48HLbWZe2t/UPsvUSNrfb+XqKZssB/OB8576asVKxvm+WLQ+R+wTan3G2dN11Srx8e7khnPtL/YDYq86TwvWO5Wy7/TbTdQR2MyaRD+rdF391toudippVPO83WIbz4v/Np6Xvpc6Yu3ixSoVfV7LNpuNfdUd24UXfW8vDmgUBye+MRv7ZPt8g++L33a38Ex7Osy2PW9R0O6cdvlNcTxl/NQxdi8+0bwkFuUxjJZz+l31e5lY7r1VWdttyff336L2ZeN6IH5RHy9sk1+ri/u/VN0+/n2OiV++T8Wy/cionmfaXXKMyCn6ezUz0xeL1+fIfULFZ1TpdPtLcpuC79kR3e6/DZxB7Jtwt1srI+xFZTG+HV7PXP61o5fqXFvmAzu6NBiLWTKQj0xBsCeLh1FFnSf0JWG1M5Tg7+sFj0x+DX+q26Jqd/9l64vNZdz05lSVQEUjSPoS8c9hRofdq2Uxc4VtI0nZfxVbthXF0B1p/iE3DmZvwO/L7FHHz5ar+VNzg/OlXb3B8VoruTP33OgR7r2rObHfv7LH2uiKbO6YvLc+R+4T6nzGuer/El05qc5dsldDcHo/KPYtJexxB1V0WUwYl8N4csd1oa8R3wBZthMsK5VBRJdqjVf65rVcPawtT/AW2+Tm1KhuVp8lrcaFj4C8SDbJLvdbcrdNVIp2sPFl9GS6vHrkSk65mhnoWMnYOZEZqPYXl8HtlR4BNZhaf/0UrHiwrIX68RPsE84bx9fv8zNi31rC7j4t5un+yYya52uJkgOTToz2D9ZVg0rxDS8ctFz2KSbelUTt1Z5tpk85McJooZ+2A63HJOs6gSxIFgtq2iNOkvUj2HaVv7Fci5LMuP3VUdJGL99ArlSj2bsa5pxM65vo8/tFfUVHnTFGj4F84yZUNBC1r61+ElbuAQSZm+qVOgM8x+4TPvMZZ0M/YvAHDjZ0ws+JfXsJuwpaPMgeBKbwZe/Z6/2ZRFd/VTdNSmKSqeqM3yamSuAMH8dJfHo5PR6dKrn0d8703fi5m3TM0yRUsvkYXwoy2yGY36ffPxklrn46xU+jy11Msl5ywmhPRFdP2bibJyBNpOBq8IWKHw2au6oQlXC47a+O+BK900Y1fQPbRd90astfgrn8SWJob5SaPHKwx2nofuV22qJEWV/BSZap2yaP3Cd86jPOhH1SDoOJ3+AHxb7FhF11X/sMa6P4kWSj562sJ56zXH3xIza9n3Dto0j/Ru70kzSiExIzDea/oydtuMmmHkVJL32qyT4h4KeNzqWPENNPdVEz1IHF/ByfHJpn1mt79dTJCZ8+e3eexGAn8w8p/ayneMSlQJlYjTfR1bJjS671e20Xkj1xf7qS7aXXf46e03sgou89ltVkXfwPJ6FSdR+HbnNrieOiJpUo711NVG1we/Vkl1FtUl/RqdEmj9onfPIzABi9nb7milre39/l+vra/oRjEb9miF8zxK8Z4tdMV+MXlQTqxzWeMHlu4zNof80Qv/PkbrdWR9gBAAAAtIuEHQAAAOgwEnYAAH6o6MkxJ64l/4rPAC4dCTsAAADQYT39z57a1wAAAAA6hqfEHIG7rJshfs0Qv2aIXzPErxni1wzxa4b4nSd3u1ESAwAAAHQYCTsAAADQYSTsAAAAQIeRsAMAAAAdRsIOAAAAdBgJOwAAANBhjRN2f9qTXk9NU9/OyQqXQ/P74VJCO69VoS/L6VCG+jOiSb1W63KSzwIAAAC+WOOEfXQ7MS9WL7Kfsofy+jeIXnl3N9KPXrXJl+lgLPNVIOZTNPV6NZZByQkEAAAAcE6al8SMbsWk7Ct5yefI4auYfH0ij7P20/WIN5HFeiv633/abRd2XZTCEwgAAADgvLRQwz6SdJA9myL7f+Zm5Htyq5ZKhcupU8LSy5Ww+DLV84dL8f14uWlJ8j2S57dnmY3syUD/Rq488xIAAAC4BK3cdFpcFuPLy8q8mtym6bqueR/MV04Ji5gSlnyNezCX8Ti7XLWtfMR/kDtJAAAAAM5RKwl7YVmM/6J+0iaS5OvhUp6imZ4stjtbxrI2fxv8ldf8naKTtWz1MrvnWsm3Px0nn7l+Jl0HAADA+WsnYS8oi/Ht8Lq3eEiT7e2HHTEPZD6wJTGDOMkO5GMbvbBUUv8wqn2jqn4azTg5GaiX4AMAAABd11LCniuLCeNyGE/ubk50s2kiFH86lMFcnwroZP1NTnV/KwAAAPDVWkvY3bKYp/snM2ru3UkmXx9cqZRac0pinKmqiiV+5vtw6dyiOh3IeKWT9YmsSdYBAABwYdpL2J2ymCAwhS97z17vz+TRFKynJTHJVPYkmFgo/zbmVRDXziQ18dpKxrn35FHsAAAAOHctJuwqZX9Y2BF0rfjZ66PnrawnnrNcfb9+m/97VwPzAgAAALhwrSbsegT9LSlxKbvxs6+S9jdnufzyI3mOfs6Xt+i/M8u+xb/IfN7+xINiAAAAcO7aTdgBAAAAtIqEHQAAAOgwEnYAAACgw0jYAQAAgA7rbTabnX0NAAAAoGN6O/04FdTy/v4u19fX9icci/g1Q/yaIX7NEL9miF8zxK8Z4nee3O1GSQwAAADQYSTsAAAAQIeRsAMAAAAdRsIOAAAAdBgJOwAAANBhJOwAAABAhzVO2P1pT3o9NU19OycrXA7N74dLCe28VoW+LKf2M6JpKEO1Lif5LAAAAOCLNU7YR7cT82L1Ivspeyivf4PolXd3I/3oVZt8mQ7GMl+ZzzACCVZjGZScQAAAAADnpHlJzOhWTMq+kpd8jhy+isnXJ/I4az9dj3gTWay3ov/9p91uKwvPzt/8Y5QdAAAAZ6+FGvaRpIPs2Yzd/zMXk6/fqqVS4XIqw6SEpZcrYfFlqucPl+L78XLTgtF7bSTPb88yG9mTgXBr/q+cZkQfAAAA+Fqt3HRaXBbjy8vKvJrcpum6rnkfzFcmkbeiEpZ8jXswl/E4u1yhcJkm/7o8Rv2Bt1jLf6ca0QcAAAC+UCsJe2FZjP+iftImkuTrKrl+imZ6stjqEhY1bdfmb4O/8pqvYZmsZRuVujxnRuirBPMn+bOkIAYAAADnr52EvaAsxrfD697iIU22tx92xDyQ+SAdFTdLBvKRVrQoKql/GFWXtfRn8hYl9Sb5NzXsgazm90LODgAAgHPXUsKeK4sJ43IYT+5uvrA0pT+S2aNdj70TAAAAAOD8tJawu2UxT/dPZtTcu5NMvj64Uim85pTEONNzRd1L/Mz3YTx0Hi5lOl2qEwTzo5ohS1Nzo3hyNbAvAQAAgDPVXsLulMUEgSl82XtSS38mZgDcKYlJprInwcRC+bcxrwJn6Hyzmss4ea9BdNNpZPIo3HcKAACAc9diwq5S9oeFHUHXip+9PnreynriOcvV9+u3+b8XD52rE4D/1gtRb5fyPJno57JXDdcDAAAAZ6C307UoqOX9/V2ur6/tTzgW8WuG+DVD/Johfs0Qv2aIXzPE7zy5263VEXYAAAAA7SJhBwAAADqMhB0AAADoMBJ2AAAAoMN6m82Gm04BAACAjuIpMUfgLutmiF8zxK8Z4tcM8WuG+DVD/JohfufJ3W6UxAAAAAAdRsIOAAAAdBgJOwAAANBhJOwAAABAh5GwAwAAAB1Gwg4AAAB0WOOE3Z/2pNdT09S3c7LC5dD8friU0M47DV+mQ7suaipZHQAAAOCsNE7YR7cT82L1olLmvFBe/wbRK+/uRvrRq9MIl0+yMh8FAAAAXIzmJTGjWzEp+0pe8hl7+ComX5/I4+yE6Xq4lPu5+iBvIhPPzgMAAAAuQAs17CNJB9mzGbv/Zy4mX79VS6XC5VSGtnRFT8Op75TL+DLV84dL8f14uWnB6H0q/pzJ44NcmVkAAADARWjlptPishhfXlbm1eQ2Tdd1zftgvjKJvBWsxjLI17gHcxmPs8sVUkm9Wkx9yFqe3bMCAAAA4AK0krAXlsX4L+onbSJJvh4u5Sma6cliu5PdTk3btfnb4K+85u9KVUn4Vi+ze86M0Kd8mUbZunq/B7J1AAAAXJ52EvaCshjfDq97i4c02d5+2BHzQOYDWxIzGNvEPpCPbfTCMkn4ocr36EZT9X9v8Z+cskQeAAAA+C4tJey5spgwLofx5O7mdJn09sOm//OBrYcfiL73VFuN1c882xEAAABnrrWE3S2Lebo3I9/i3UkmXx9cqRRec0pinKmqBj1+5vtwedonugMAAABd0V7C7pTFBIEZ5t579np/Jo+mYD0tiUmmw0+CEQnl38a8CmztzOg5n/RvZWEf6zhZq5+5CxUAAABnrsWEXSXQDws7gq4VP3t99LyV9cRzlqvv12/zf+9qYF4AAAAAF67VhF2PoL8lo91lT3bpq6T9zVkuv/xInqOf33I3kuq/M8u+ld5h2pfZm1mGwXUAAABcgnYTdgAAAACtImEHAAAAOoyEHQAAAOgwEnYAAACgw3qbzWZnXwMAAADomN5OP1IFtby/v8v19bX9Cccifs0Qv2aIXzPErxni1wzxa4b4nSd3u1ESAwAAAHQYCTsAAADQYSTsAAAAQIeRsAMAAAAdRsIOAAAAdBgJOwAAANBhjRN2f9qTXk9NU9/OyQqXQ/P74VJCO69NyefnpuHyFJ8GAAAAfK3GCfvodmJerF5kP2UP5fVvEL3y7m6kH70CAAAAUFfzkpjRrZiUfSUv+Yw9fBWTr0/kcXbadH2y3on+N6Di6e3EnwcAAAB8hRZq2EeSDrJnM3b/z1xMvn6rlkqFy6kM3fKVqe+Uy/gy1fOHS/H9eLlpweg9AAAAcPlauem0uCzGl5eVeTW5TdN1XXM+mK9MIm8Fq7EM8jXuwVzG4+xyh6zG7gnAaerlAQAAgK/WSsJeWBbjv6iftIkk+Xq4lKdopieLrS1f2a7N3wZ/5TWfZU/Wso1KXJ4zI/RVgtV8/wQAAAAAOEPtJOwFZTG+HV73Fg9psr39sCPmgcwHdkR8MLaJfSAf2+iFpZL6h1Hljaqj57RufbfbytquR+EJAAAAAHBmWkrYc2UxYVwO48ndzVfe/NmX0cNCfSoAAABwGVpL2N2ymKf7JzNq7t1JJl8fXNlk2imJcabnirqX+JnryTPWw6VM9c2pyUh6mN7oKr/lFw+KAQAAwJlrL2F3ymKCwKTMe89e78/kMVrGKYlJpqonwYTyb2NeBU7tzEbfnJq810DGpr4mW4oDAAAAnKkWE3aVsmfKUYqfvT561nXm3qfKVn79Nv/3rgbmhToBeNsuRL1dypvIYr3lOewAAAC4CL2drkVBLe/v73J9fW1/wrGIXzPErxni1wzxa4b4NUP8miF+58ndbq2OsAMAAABoFwk7AAAA0GEk7AAAAECHkbADAAAAHdbbbDbcdAoAAAB0FE+JOQJ3WTdD/Johfs0Qv2aIXzPErxni1wzxO0/udqMkBgAAAOgwEnYAAACgw0jYAQAAgA4jYQcAAAA6jIQdAAAA6DASdgAAAKDDPp2w+9Oe9Hpqmvp2Tla4HJrfD5cS2nltSj5fTcNl7hP86cF1AwAAAM7FpxP20e3EvFi9yH5aHMrr3yB65d3dSD96dTrB/E/BOgAAAADn7/MlMaNbMSn7Sl7y2XL4KiZfn8jj7LTpuud56r8recqPsgMAAAAXoEEN+0jSQfZsxu7/mYvJ12/VUqlwOZWhLWOJSlmmvlMu48tUzx8uxffj5aaVI+e/Hx+jEwdG2QEAAHCJGt10WlwW48vLyrya3Kbpuq45H8xXJpG3gtVYBvka92Au43F2ucNG8rBglB0AAACXqVHCXlgW47+on7SJJPl6uJSnaKYni+1Odjs1bdfmb4O/8prPsydr2eplds+ZEfoy/Rmj7AAAALhMzRL2grIY3w6ve4uHNNneftgR80DmA1sSMxjbxD6Qj230wlJJ/cPoyBtVGWUHAADAZWqYsOfKYsK4HMaTu5tTPxsmqz/7T3TOzig7AAAALknjhN0ti3m6fzKj5t6dZPL1wZVK4TWnJMaZnivqXuJnru89bz2jL7NHvSZqPZ42ZhYAAABw5pon7E5ZTBCYwpe9Z6/3ZxLl0m5JTDJVPQkmlH82/w6ytTP7Rg9mlN2uBwAAAHDuWkjYdZ68sCPoWvGz10fPW1lPPGe5+n79Nv/3rgbmRam+zP5z1wUAAAA4b72drklBLe/v73J9fW1/wrGIXzPErxni1wzxa4b4NUP8miF+58ndbq2MsAMAAAA4DRJ2AAAAoMNI2AEAAIAOI2EHAAAAOqy32Wy46RQAAADoKJ4ScwTusm6G+DVD/Johfs0Qv2aIXzPErxnid57c7UZJDAAAANBhJOwAAABAh5GwAwAAAJ0l8n+TGWZ4IzBzIwAAAABJRU5ErkJggg==)\n",
    "\n",
    "Don't worry if you don't get the exact values when you run the code as the ones I got, as no two model fittings will be the same! (keen minds will rememeber that this is due to the initialization routine setting initial node weights and biases with randomly sampled values). Also, feel free to copy paste bits of code into different notebooks or make your own, the point of the exercise is to tweak as many hyper-parameter \"knobs\" as you can to get comfortable with the process of generating the best possible model version.\n",
    "\n",
    "Remember to keep the train/test split the same for all of the versions trialed, otherwise it will not be a fair comparison.\n",
    "\n",
    "Ideally each model would be saved into a special \"h3\" file so they can be loaded later without needing to retrain each configuration, but as this can be difficult to accomplish in Colab (unless you are comfortable saving to your G-Drive via code, or otherwise exporting non-notebook files out of Colab), saving the test loss and accuracy will be enough (you are welcome to research and implement model save/load functionality in your local machine environment if able). Additionally, you can right-click/save the history plot for reference as it can give you an idea of how turbulent, or \"choppy\" your convergence was onto the (hopefully) global minimum.   \n",
    "\n",
    "Some hyper-parameter changes to try for tuning are outlined below. Parts labelled \"ii.\" are more difficult and involve some independent research. Thus, first do all the part i's, then either do ii's or move onto the other tutorial.\n",
    "\n",
    "Remember to only change 1 hyper-parameter with each subsequent version, otherwise it will not be clear which one is affecting the performance. This is a major drawback of using the manual/brute-force method as the number of combinations is near-infinite even for smaller networks, but by tinkering with each of them by hand, you can gain better intuition about the methodology as a whole. The other tutorial will offer the option of a more sophisticated hyper-parameter tuning process.\n",
    "\n",
    "\n",
    "1. Training epochs\n",
    "\n",
    "  i. Change the epoc number to see after how many epochs the train/test loss improvement becomes insignificant. Record the test loss/acc in your table.\n",
    "  \n",
    "  ii. Research and implement additional \"early stopping\" code to stop training after a set number of epochs without any performance improvements. (hint: you will need to first set a \"callback\" variable and then call for it in the \"model.fit\" function, shown in https://keras.io/api/callbacks/early_stopping/)  \n",
    "\n",
    "\n",
    "2. Batch size\n",
    "  \n",
    "  i. The smaller the size the more frequently the gradient descent updates will be made. Remember to hold the other hyper-parameters constant, only changing one at a time. If you want to go back and change the number of epochs, then do so while holding batch size constant.   \n",
    "\n",
    "  ii. Research and implement additional \"learning rate\" code to change the default setting of the hyper-parameter \"alpha\" (default is 0.01). Examine the interaction between batch size and learning rate (if any) by looking at how turbulent or \"choppy\" the history plot looks to gain an idea of how learning rate in combination with batch size can affect the convergence on the (hopefully) global minimum.\n",
    "\n",
    "\n",
    "3. Dropout Regularization\n",
    "\n",
    "  i. Uncomment the dropout layer code in the model-building section for each layer and check that the dropout layer has been added in the model summary. Note how it does not affect the total number of trainable parameters. The decimal given is a ratio/percentage of units to be randomly turned off. Experiment with values from .2 to .5 and note the impact on performance in your table. REMEMBER TO NEVER ADD DROPOUT TO THE FINAL OUTPUT LAYER.\n",
    "\n",
    "  ii. Once you have implemented parts 4.i and 5.i try adding dropout to only some of the non-final layers, and/or adding it in varied amounts to different layers. Note the points at which you start losing performance and try to understand why it is so. Is your model turning off nodes crucial to learning?\n",
    "\n",
    "\n",
    "4. Model \"Width\"\n",
    "\n",
    "  i. Vary the number of hidden units in each layer (ECXEPT FINAL).\n",
    "\n",
    "  ii. Try setting each layer's number of units to powers of 2 (i.e. 32, 64, 128 and so on), that descend in size over the depth of layers (need to do 5.i for this). Some research indicates that this can sometimes help in memory allocation during matrix calculations for the hardware used to fit the model, resulting in faster or even better performance. Could this be the case for Colab or your local environment?\n",
    "\n",
    "5. Model \"Depth\"\n",
    "\n",
    "  i. Add more hidden layers to the network (1 layer = depth of 1, 2 = depth of 2 etc.) and compare performance results with other model versions.\n",
    "\n",
    "  ii. Typically the deeper layers will have fewer hidden units, creating a funnel shape towards the final layer. Try the opposite: from small amounts of hidden units in early layers (narrow) to large amounts in later layers (wide), or keep all of the layers the same width throughout the depth of the network. Think about the difference between increasing model width vs its depth.\n",
    "\n",
    "6. Optimizers and Loss/Activation functions\n",
    "\n",
    "  i. Try these optimizers instead of \"rmsprop\": \"SGD\", \"adam\", \"nadam\" and others found on https://keras.io/api/optimizers/\n",
    "\n",
    "  ii. Try changing the final layer's activation function to \"sigmoid\" with and without changing the loss function to \"binary_crossentropy\". Try to understand what happens when we change the final layer's activation function and why it heavily affects the loss function the way it does.\n"
   ]
  },
  {
   "cell_type": "code",
   "execution_count": null,
   "metadata": {
    "id": "KYxC4jmNGhv9"
   },
   "outputs": [],
   "source": []
  }
 ],
 "metadata": {
  "colab": {
   "provenance": []
  },
  "kernelspec": {
   "display_name": "COMP1801-ML(GPU)",
   "language": "python",
   "name": "comp1801-ml"
  },
  "language_info": {
   "codemirror_mode": {
    "name": "ipython",
    "version": 3
   },
   "file_extension": ".py",
   "mimetype": "text/x-python",
   "name": "python",
   "nbconvert_exporter": "python",
   "pygments_lexer": "ipython3",
   "version": "3.10.15"
  }
 },
 "nbformat": 4,
 "nbformat_minor": 0
}
