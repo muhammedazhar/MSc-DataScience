{
 "cells": [
  {
   "cell_type": "markdown",
   "metadata": {
    "id": "9Axrf87838Gv"
   },
   "source": [
    "# COMP1801 Tutorial Week 2 - Supervised learning Introduction (Regression)\n",
    "\n",
    "*Dr Peter Soar - 2024/25*\n",
    "\n",
    "This is the second tutorial and will be demonstrating how to use traditional ML methods. For this week we will be primarily focussing on Linear Regression.\n",
    "\n",
    "For this tutorial, read through and try to understand the text and code examples I have provided (ask your tutor if you have any questions) and this week there will be a selection of exercises. Attempt these exercises on your own, but do ask your tutor for help if you get stuck.\n",
    "\n",
    "**Do not forget to import all the Python Libraries being used!**"
   ]
  },
  {
   "cell_type": "code",
   "execution_count": 1,
   "metadata": {
    "id": "YLPQIDZKyhEH"
   },
   "outputs": [],
   "source": [
    "# Run this cell or a lot of the code in the workbook will not work!\n",
    "import numpy as np # A useful package for dealing with mathematical processes, it can deal with multi-dimensional arrays such as matrices intuitively.\n",
    "import pandas as pd #a common package for viewing tabular data\n",
    "import matplotlib.pyplot as plt #We will be using Matplotlib for our graphs\n",
    "import sklearn.linear_model, sklearn.datasets # sklearn is an important package for much of the ML we will be doing, this time we are using the Linear Regression Model and the datasets"
   ]
  },
  {
   "cell_type": "markdown",
   "metadata": {
    "id": "ykSI-_2qoqB0"
   },
   "source": [
    "# 1. Supervised Learning (prediction, e.g. regression and classification)\n",
    "\n",
    "## 1.1 Overview\n",
    "\n",
    "The aim of supervised learning to to make predictions of target values when represented with new feature values.\n",
    "- When presented with a Matrix  ${\\boldsymbol{X}_\\mathrm{new}}$ of new feature values, we want to output the vector ${\\hat{\\boldsymbol{y}}_\\mathrm{new}}$ of predicted target values.\n",
    "  - If the targets are *real* values (so continuos numbers or `floats`) then you are solving a **regression** problem.\n",
    "  - If our targets are categorical class labels (represented with a string or integer number) then you are solving a **classification** problem.\n",
    "\n",
    "- To do this we need to train a model using training data containing existing feature and target values ${\\boldsymbol{X}_\\mathrm{train}}$ and ${\\boldsymbol{y}_\\mathrm{train}}$\n",
    "  - Example 1: house price prediction (regression), where each value in $\\boldsymbol{X}$ is the income of an customer and the value in the same row in $\\boldsymbol{y}$ indicates the customor's house price.\n",
    "  - Example 2: breast cancer prediction (classification), where each values in $\\boldsymbol{X}$ is the area of a tumour and the value in the same row in $\\boldsymbol{y}$ indicates its label (benign/malignant)."
   ]
  },
  {
   "cell_type": "markdown",
   "metadata": {
    "id": "vBXs4VlzNqlT"
   },
   "source": [
    "## 1.2 Predictions with Linear Models in Python\n",
    "\n",
    "\n",
    "\n",
    "1. Define the model you want to use (example linear regression: `obj = sklearn.linear_model.LinearRegression()`)\n",
    "2. Fit your model using the training data using `obj.fit(X, y)` (we will explain the importance of data splitting in a later lecture, for now just understand that we need to split our data into two parts - testing data and training data).\n",
    "\n",
    "**Inputs**:\n",
    "\n",
    "  * ${\\boldsymbol{X}}$ (`X`): the feature matrix (a 2D `np.array` where `X.shape == (m, n)`) that contains the features of the training data.\n",
    "  * ${\\boldsymbol{y}}$ (`y`): the target vector (a 1D or 2D `np.array` where `y.shape == (m, p)`) that contains the target values of the training data.\n",
    "  * `m`: Number of rows of training data\n",
    "  * `n`: Number of features\n",
    "  * `p`: dimension of the target. $p=1$ for all examples in this workbook.\n",
    "\n",
    "**Outputs**:\n",
    "${\\boldsymbol{\\theta}}$ - the hypothesis function parameter(s) which describes our linear model.\n",
    "\n",
    "3. Predict the target values `y_pred = obj.predict(X)`\n",
    "  * Mathematically: $\\hat{\\boldsymbol{y}} = \\boldsymbol{h_{\\theta}}(\\boldsymbol{X})$\n",
    "\n",
    "**Inputs**:\n",
    "  * ${\\boldsymbol{X}}$ (`X`): the feature matrix (a 2D `np.array` where `X.shape == (m, n)`) that contains the features of the new data.\n",
    "  * `m`: Number of rows of data\n",
    "  * `n`: Number of features\n",
    "  * Implicit inputs (stored in the model): ${\\boldsymbol{\\theta}}$ - the hypothesis function parameter(s) which describes our linear model.\n",
    "\n",
    "**Outputs**:\n",
    "  * ${\\hat{\\boldsymbol{y}}}$ (`y_pred` for one-dimensional target cases or `Y_pred` for multi-dimensional target cases): the target vector (a 1D or 2D `np.array` where `y_train.shape == (m_new, p)`) that contains the target values of the training data.\n",
    "  * `p`: dimension of the target. $p=1$ for all examples in this workbook."
   ]
  },
  {
   "cell_type": "markdown",
   "metadata": {
    "id": "1qNzsjXVZaHR"
   },
   "source": [
    "## 1.3 Linear Regression\n",
    "In this tutorial we are primarily going to be looking at fitting linear regression models to our data, where for our training data we fit a model that is based on linear relationships between our feature(s) and our target.\n",
    "\n",
    "We can define this Mathematically as:\n",
    "*   For our data we have the relationship: $ \\boldsymbol{y} = \\boldsymbol{X}\\boldsymbol{\\theta} + e$ where $e$ is some error (assumed to be normally distributed)\n",
    "*   We will fit a model: $\\boldsymbol{h_{\\theta}}(\\boldsymbol{X}_\\mathrm{new}) = \\hat{\\boldsymbol{y}}_\\mathrm{new}$ which minimises the error between our observed and predicted values of $\\boldsymbol{y}$\n",
    "*   Or in Matrix form:\n",
    "\n",
    "$$\n",
    "\\begin{bmatrix}\n",
    "\\boldsymbol{x}^{(0,0)}  & \\boldsymbol{x}^{(0,1)}  & \\dots  & \\boldsymbol{x}^{(0,n)}\\\\\n",
    "\\boldsymbol{x}^{(1,0)}  & \\boldsymbol{x}^{(1,1)}  & \\dots  & \\boldsymbol{x}^{(1,n)}\\\\\n",
    "\\vdots & \\vdots & \\ddots & \\vdots \\\\\n",
    "\\boldsymbol{x}^{(m - 1, 0)} & \\boldsymbol{x}^{(m - 1, 1)} & \\dots  & \\boldsymbol{x}^{(m - 1, n)}\\\\\n",
    "\\end{bmatrix}\n",
    "\\begin{bmatrix}\n",
    "\\theta_{1} \\\\\n",
    "\\theta_{2} \\\\\n",
    "\\vdots \\\\\n",
    "\\theta_{n}\\\\\n",
    "\\end{bmatrix} = \\begin{bmatrix}\n",
    "      \\hat{\\boldsymbol{y}}^{(0)} \\\\\n",
    "      \\hat{\\boldsymbol{y}}^{(1)} \\\\\n",
    "      \\vdots \\\\\n",
    "      \\hat{\\boldsymbol{y}}^{(m - 1)} \\\\\n",
    "      \\end{bmatrix}.\n",
    "$$   \n",
    "\n",
    "*   We can also write the model in terms of our feature(s) and parameters more explicitly for each predicted target value:\n",
    "\n",
    "  *   Generic multivariable equation: $\\hat{\\boldsymbol{y}}^{(i)} =\\theta_{0}+\\theta_{1}x_1^{(i)} + \\dots + \\theta_{n}x_n^{(i)} $\n",
    "  *   Univariate equation with intercept (constant): $\\hat{\\boldsymbol{y}}^{(i)} =\\theta_{0}+\\theta_{1}x_1^{(i)}$\n",
    "  *   Univariate equation with no intercept (for centred data): $\\hat{\\boldsymbol{y}}^{(i)} =\\theta_{1}x_1^{(i)}$\n",
    "  *   Note: You can define if you want to include your intercept by using the  `fit_intercept` parameter when defining your model - `sklearn.linear_model.LinearRegression(fit_intercept=True)`. `True` is the default value, if set to `False` then $\\theta_{0}$ is fixed as zero.\n",
    "\n",
    "* The Linear Regression model we are fitting in sklearn uses the 'least squares error' to obtain optimal values for $\\boldsymbol{\\theta}$\n",
    "  * Calculating this least squares error allows the model parameters to be obtained directly by the following equation:\n",
    "  $$\\boldsymbol{\\theta} = (\\boldsymbol{X}^T\\boldsymbol{X})^{-1} \\boldsymbol{X}^T\\boldsymbol{y}\n",
    "  $$\n",
    "  * I won't do it here, but there are many proofs of how to obtain this equation online.\n",
    "\n",
    "* To judge how well our models are performing, we will be using two metrics this week\n",
    "\n",
    "  * Mean Squared Error\n",
    "    * $\\frac{1}{n}\\sum^{n}_{i=1}(y_i -\\hat{y_i})^2$\n",
    "    * Aim is to minimise this value\n",
    "    * This value must $0$ (for a perfect model) or positive, due to any errors being squared.\n",
    "    * We will be using the MSE as our primary loss function in later lectures.\n",
    "\n",
    "  * $R^2$ Score\n",
    "    * Explains how closely our predictions match the real data\n",
    "    * Generally in the range $0 \\leq R^2 \\leq 1$, where $1$ is a perfect fit. However, it can go below 0 if your model fits worse than a horizontal line.\n",
    "\n",
    "  **Note**: the mean square error is affected by the scale of the target values, while R2 score is normalized by the variance of the target values.\n"
   ]
  },
  {
   "cell_type": "markdown",
   "metadata": {
    "id": "vjrLe_BoWJRE"
   },
   "source": [
    "# 2. Fitting a univariate Linear Regression Model on synthetic data.\n",
    "\n",
    "For our first example, I want to show you a very simple case where we are fitting a univariate linear regression line to just a few lines of data.\n",
    "The data have a relationship of $y=x$ with some added noise.\n",
    "Because we are fitting the intercept on this model, the Model we are technically fitting is:\n",
    "\n",
    "$$\n",
    "\\begin{bmatrix}\n",
    "1 & 1 \\\\\n",
    "1 & 2 \\\\\n",
    "1 & 3 \\\\\n",
    "1 & 4 \\\\\n",
    "1 & 5 \\\\\n",
    "1 & 6 \\\\\n",
    "1 & 7 \\\\\n",
    "1 & 8 \\\\\n",
    "1 & 9 \\\\\n",
    "1 & 10 \\\\\n",
    "\\end{bmatrix}\n",
    "\\begin{bmatrix}\n",
    "\\theta_{0} \\\\\n",
    "\\theta_{1} \\\\\n",
    "\\end{bmatrix} = \\begin{bmatrix}\n",
    "2.259000208 \\\\\n",
    "2.089513864 \\\\\n",
    "2.691697786 \\\\\n",
    "4.335616639 \\\\\n",
    "5.990895127 \\\\\n",
    "5.715164414 \\\\\n",
    "6.785837863 \\\\\n",
    "7.833729282 \\\\\n",
    "9.136204457 \\\\\n",
    "8.322833045 \\\\\n",
    "      \\end{bmatrix} + \\boldsymbol{e}.\n",
    "$$   \n"
   ]
  },
  {
   "cell_type": "code",
   "execution_count": 2,
   "metadata": {
    "id": "FDQAMA-vBpWL"
   },
   "outputs": [
    {
     "name": "stdout",
     "output_type": "stream",
     "text": [
      "theta_0: [0.95983526]\n",
      "theta_1: [[0.82840255]]\n"
     ]
    },
    {
     "data": {
      "image/png": "[encoded data removed]",
      "text/plain": [
       "<Figure size 640x480 with 1 Axes>"
      ]
     },
     "metadata": {},
     "output_type": "display_data"
    },
    {
     "name": "stdout",
     "output_type": "stream",
     "text": [
      "Mean squared error loss: 0.3337\n",
      "R2 score: 0.9443\n"
     ]
    }
   ],
   "source": [
    "# Create our arrays of training data\n",
    "# Note, because we are using `intercept_fit=True` (the default) in our linear model, we do not have to include the column of 1's\n",
    "# The model implicitly know we want to calculate theta_0\n",
    "X = np.array([[1],[2],[3],[4],[5],[6],[7],[8],[9],[10]])\n",
    "y = np.array([[2.259000208],[2.089513864],[2.691697786],[4.335616639],[5.990895127],[5.715164414],[6.785837863],[7.833729282],[9.136204457],[8.322833045]])\n",
    "\n",
    "# Create linear regression object\n",
    "obj = sklearn.linear_model.LinearRegression(fit_intercept=True)\n",
    "\n",
    "# Train the model using the training sets\n",
    "obj.fit(X, y)\n",
    "\n",
    "# Can obtain out model coefficients from the model obj we have trained\n",
    "print('theta_0:',obj.intercept_)\n",
    "print('theta_1:',obj.coef_)\n",
    "\n",
    "# Plot our results\n",
    "plt.scatter(X, y,  color='black', label='y')\n",
    "plt.plot(X, obj.predict(X), color='blue', label='Linear Model')\n",
    "plt.xlabel('X')\n",
    "plt.ylabel('Y')\n",
    "plt.legend()\n",
    "plt.show()\n",
    "\n",
    "# Look at our evaluation metrics - how well have we fit the data?\n",
    "# Note: Usually we will be computing these on predictions based on our test data, but for this case we are testing how well our model fits the data we have.\n",
    "# The mean squared error loss\n",
    "print('Mean squared error loss: {:.4f}'.format(sklearn.metrics.mean_squared_error(y, obj.predict(X))))\n",
    "# The R2 score: 1 is perfect prediction\n",
    "print('R2 score: {:.4f}'.format(sklearn.metrics.r2_score(y, obj.predict(X))))"
   ]
  },
  {
   "cell_type": "markdown",
   "metadata": {
    "id": "XkfRKwkaExT9"
   },
   "source": [
    "## 2.1 Exercise 1\n",
    "\n",
    "Try fitting another univariate Linear Regression Model to the following data:\n",
    "$$\n",
    "\\begin{bmatrix}\n",
    "1 & 1 \\\\\n",
    "1 & 2 \\\\\n",
    "1 & 3 \\\\\n",
    "1 & 4 \\\\\n",
    "1 & 5 \\\\\n",
    "1 & 6 \\\\\n",
    "1 & 7 \\\\\n",
    "1 & 8 \\\\\n",
    "1 & 9 \\\\\n",
    "1 & 10 \\\\\n",
    "\\end{bmatrix}\n",
    "\\begin{bmatrix}\n",
    "\\theta_{0} \\\\\n",
    "\\theta_{1} \\\\\n",
    "\\end{bmatrix} = \\begin{bmatrix}\n",
    "4.389592281 \\\\\n",
    "5.38190902 \\\\\n",
    "6.043030047 \\\\\n",
    "5.344140261 \\\\\n",
    "10.74627973 \\\\\n",
    "12.65013556 \\\\\n",
    "15.69762882 \\\\\n",
    "16.04443143 \\\\\n",
    "16.55969237 \\\\\n",
    "20.49457587 \\\\\n",
    "      \\end{bmatrix} + \\textbf{e}.\n",
    "$$   \n",
    "\n",
    "How do these parameters compare to our first model and what does that say about the relationship between $X$ and $y$ in this case?"
   ]
  },
  {
   "cell_type": "code",
   "execution_count": 3,
   "metadata": {
    "id": "xbrQGcacDnN2"
   },
   "outputs": [],
   "source": [
    "y_data = np.array([[4.389592281],[5.38190902],[6.043030047],[5.344140261],[10.74627973],[12.65013556],[15.69762882],[16.04443143],[16.55969237],[20.49457587]])\n",
    "##############################################################\n",
    "# Your code here\n",
    "##############################################################"
   ]
  },
  {
   "cell_type": "markdown",
   "metadata": {
    "id": "FHYTwfz9l-FK"
   },
   "source": [
    "# 3. Cost Functions\n",
    "\n",
    "For least squares linear regression we are able to obtain estimates for $\\theta$ directly when fitting our model. However, as we will be exploring in more detail in later weeks, that is not always a viable option for some models. In these cases we we will update $\\theta$ starting with an initial guess and updating it until we find the values which minimise the loss function being used.\n",
    "\n",
    "While in practice numerical optimization algorithms are used for this, below shows what happens if we take a random guess for $\\theta$ every time\n",
    "\n",
    "Try running the below cell 5-10 times to see how our prediction changes.\n",
    "what is the correct value for $\\theta$?"
   ]
  },
  {
   "cell_type": "code",
   "execution_count": 4,
   "metadata": {
    "id": "YfXX4Ctnz13I"
   },
   "outputs": [
    {
     "data": {
      "image/png": "[encoded data removed]",
      "text/plain": [
       "<Figure size 640x480 with 1 Axes>"
      ]
     },
     "metadata": {},
     "output_type": "display_data"
    },
    {
     "name": "stdout",
     "output_type": "stream",
     "text": [
      "Hypothesis:  [[1.44149883]]\n",
      "Loss:  7.5044668689394225\n"
     ]
    }
   ],
   "source": [
    "# Define a perfect y=x equation\n",
    "X = np.array([[1],[2],[3],[4],[5],[6],[7],[8],[9],[10]])\n",
    "y = np.array([[1],[2],[3],[4],[5],[6],[7],[8],[9],[10]])\n",
    "\n",
    "# Generate a random value between +-5\n",
    "thetas = (np.random.rand(1,1)-0.5)*10\n",
    "\n",
    "# Predict our y values with this hypothesis: y_pred= X*theta\n",
    "y_pred = X.dot(thetas)\n",
    "\n",
    "# Plot outputs to see how well we fit the real data\n",
    "plt.scatter(X, y,  color='black', label='y_true')\n",
    "plt.plot(X, y_pred, color='blue', label='y_pred')\n",
    "plt.xlabel('X')\n",
    "plt.ylabel('Y')\n",
    "plt.legend()\n",
    "plt.show()\n",
    "\n",
    "print('Hypothesis: ', thetas) # show our guessed hypothesis\n",
    "print('Loss: ', sklearn.metrics.mean_squared_error(y, y_pred)) # Mean Squared error we want minimised.\n",
    "\n",
    "# Try running this cell multiple time to see how the predicted model and loss function change as we make differnt guesses for theta."
   ]
  },
  {
   "cell_type": "markdown",
   "metadata": {
    "id": "Kbkrl5vnoqas"
   },
   "source": [
    "After running this for a few times it should be quite obvious that the hypothesis that minimises MSE is $\\theta=1$, but it certainly isn't practical to sit here making random guesses one at a time for more complicated models.\n",
    "Below I've shown how the loss function minimising hypothesis is clearly 1 by taking many random samples at once. Try experimenting with the number of samples and see how much clearer it becomes as the samples increase and how unclear it is with only a handful of samples."
   ]
  },
  {
   "cell_type": "code",
   "execution_count": 5,
   "metadata": {
    "id": "MDJWZ17sv-4m"
   },
   "outputs": [
    {
     "data": {
      "text/plain": [
       "Text(0.5, 1.0, 'Theta vs Loss')"
      ]
     },
     "execution_count": 5,
     "metadata": {},
     "output_type": "execute_result"
    },
    {
     "data": {
      "image/png": "[encoded data removed]",
      "text/plain": [
       "<Figure size 640x480 with 1 Axes>"
      ]
     },
     "metadata": {},
     "output_type": "display_data"
    }
   ],
   "source": [
    "# Define your model vectors again\n",
    "X = np.array([[1],[2],[3],[4],[5],[6],[7],[8],[9],[10]])\n",
    "y_true = np.array([[1],[2],[3],[4],[5],[6],[7],[8],[9],[10]])\n",
    "\n",
    "# Decide how many random guesses you want to take\n",
    "# Try a small number such as 5 and compare with a larger number like 100\n",
    "samples = 20\n",
    "\n",
    "ind = np.arange(0,samples) # create an index vector for our loop\n",
    "thetas = (np.random.rand(1,samples)-0.5)*10 # generate a vector of random guesses for theta\n",
    "cost = np.zeros(samples) # create an empty vector to store out loss function results in\n",
    "y_pred = X.dot(thetas) # Predict our y values for all our guesses of theta at once\n",
    "\n",
    "# Loop through our random guesses and work out the corresponding cost function.\n",
    "for i in ind:\n",
    "  cost[i]=sklearn.metrics.mean_squared_error(y_true, y_pred[:,i])\n",
    "\n",
    "\n",
    "# Plot the output\n",
    "# See how the theta that minimises the MSE is clearly 1\n",
    "plt.scatter(thetas, cost,  color='black')\n",
    "plt.xlabel('Theta')\n",
    "plt.ylabel('MSE Loss')\n",
    "plt.title('Theta vs Loss')"
   ]
  },
  {
   "cell_type": "markdown",
   "metadata": {
    "id": "-UTCfKpZru6o"
   },
   "source": [
    "# 4. Fit Linear Regression on Real Data\n",
    "\n",
    "Now we have been through quite  bit of theory, I want to give you some examples and exercises where you are fitting linear models to some real data."
   ]
  },
  {
   "cell_type": "markdown",
   "metadata": {
    "id": "myOcNy1Er6qw"
   },
   "source": [
    "## 4.1 Linear Regression with one Variable\n",
    "\n",
    "For this first examples we are going to use the California housing data I got you to load last week, we will be using the version hosted on sklearn again.\n",
    "\n",
    "### Load the data\n",
    "\n",
    "The first step is loading our data into Colab, hopefully this will all be familiar from last week:"
   ]
  },
  {
   "cell_type": "code",
   "execution_count": 6,
   "metadata": {
    "id": "fcz2ttR8GAHi"
   },
   "outputs": [
    {
     "data": {
      "text/html": [
       "<div>\n",
       "<style scoped>\n",
       "    .dataframe tbody tr th:only-of-type {\n",
       "        vertical-align: middle;\n",
       "    }\n",
       "\n",
       "    .dataframe tbody tr th {\n",
       "        vertical-align: top;\n",
       "    }\n",
       "\n",
       "    .dataframe thead th {\n",
       "        text-align: right;\n",
       "    }\n",
       "</style>\n",
       "<table border=\"1\" class=\"dataframe\">\n",
       "  <thead>\n",
       "    <tr style=\"text-align: right;\">\n",
       "      <th></th>\n",
       "      <th>MedInc</th>\n",
       "      <th>HouseAge</th>\n",
       "      <th>AveRooms</th>\n",
       "      <th>AveBedrms</th>\n",
       "      <th>Population</th>\n",
       "      <th>AveOccup</th>\n",
       "      <th>Latitude</th>\n",
       "      <th>Longitude</th>\n",
       "      <th>MedHouseVal</th>\n",
       "    </tr>\n",
       "  </thead>\n",
       "  <tbody>\n",
       "    <tr>\n",
       "      <th>0</th>\n",
       "      <td>3.3687</td>\n",
       "      <td>45.0</td>\n",
       "      <td>5.594175</td>\n",
       "      <td>0.998058</td>\n",
       "      <td>1470.0</td>\n",
       "      <td>2.854369</td>\n",
       "      <td>34.00</td>\n",
       "      <td>-117.38</td>\n",
       "      <td>1.23800</td>\n",
       "    </tr>\n",
       "    <tr>\n",
       "      <th>1</th>\n",
       "      <td>2.1660</td>\n",
       "      <td>18.0</td>\n",
       "      <td>4.802059</td>\n",
       "      <td>1.151030</td>\n",
       "      <td>2203.0</td>\n",
       "      <td>2.520595</td>\n",
       "      <td>37.68</td>\n",
       "      <td>-120.98</td>\n",
       "      <td>1.18600</td>\n",
       "    </tr>\n",
       "    <tr>\n",
       "      <th>2</th>\n",
       "      <td>1.5642</td>\n",
       "      <td>15.0</td>\n",
       "      <td>4.403292</td>\n",
       "      <td>1.053498</td>\n",
       "      <td>1070.0</td>\n",
       "      <td>4.403292</td>\n",
       "      <td>36.62</td>\n",
       "      <td>-119.32</td>\n",
       "      <td>0.51500</td>\n",
       "    </tr>\n",
       "    <tr>\n",
       "      <th>3</th>\n",
       "      <td>3.6885</td>\n",
       "      <td>49.0</td>\n",
       "      <td>5.184569</td>\n",
       "      <td>1.052950</td>\n",
       "      <td>2363.0</td>\n",
       "      <td>3.574887</td>\n",
       "      <td>37.72</td>\n",
       "      <td>-122.43</td>\n",
       "      <td>2.54000</td>\n",
       "    </tr>\n",
       "    <tr>\n",
       "      <th>4</th>\n",
       "      <td>9.7449</td>\n",
       "      <td>20.0</td>\n",
       "      <td>7.095963</td>\n",
       "      <td>1.070152</td>\n",
       "      <td>3731.0</td>\n",
       "      <td>2.469226</td>\n",
       "      <td>34.12</td>\n",
       "      <td>-118.45</td>\n",
       "      <td>5.00001</td>\n",
       "    </tr>\n",
       "    <tr>\n",
       "      <th>...</th>\n",
       "      <td>...</td>\n",
       "      <td>...</td>\n",
       "      <td>...</td>\n",
       "      <td>...</td>\n",
       "      <td>...</td>\n",
       "      <td>...</td>\n",
       "      <td>...</td>\n",
       "      <td>...</td>\n",
       "      <td>...</td>\n",
       "    </tr>\n",
       "    <tr>\n",
       "      <th>20635</th>\n",
       "      <td>3.0208</td>\n",
       "      <td>38.0</td>\n",
       "      <td>5.605664</td>\n",
       "      <td>1.054466</td>\n",
       "      <td>1568.0</td>\n",
       "      <td>3.416122</td>\n",
       "      <td>34.00</td>\n",
       "      <td>-118.11</td>\n",
       "      <td>1.93700</td>\n",
       "    </tr>\n",
       "    <tr>\n",
       "      <th>20636</th>\n",
       "      <td>9.9071</td>\n",
       "      <td>30.0</td>\n",
       "      <td>8.241379</td>\n",
       "      <td>1.037618</td>\n",
       "      <td>956.0</td>\n",
       "      <td>2.996865</td>\n",
       "      <td>33.90</td>\n",
       "      <td>-117.93</td>\n",
       "      <td>5.00001</td>\n",
       "    </tr>\n",
       "    <tr>\n",
       "      <th>20637</th>\n",
       "      <td>4.7105</td>\n",
       "      <td>3.0</td>\n",
       "      <td>3.769314</td>\n",
       "      <td>1.282916</td>\n",
       "      <td>1441.0</td>\n",
       "      <td>1.568009</td>\n",
       "      <td>37.78</td>\n",
       "      <td>-122.39</td>\n",
       "      <td>2.75000</td>\n",
       "    </tr>\n",
       "    <tr>\n",
       "      <th>20638</th>\n",
       "      <td>4.4375</td>\n",
       "      <td>52.0</td>\n",
       "      <td>5.436364</td>\n",
       "      <td>1.130909</td>\n",
       "      <td>506.0</td>\n",
       "      <td>1.840000</td>\n",
       "      <td>37.76</td>\n",
       "      <td>-122.40</td>\n",
       "      <td>3.20000</td>\n",
       "    </tr>\n",
       "    <tr>\n",
       "      <th>20639</th>\n",
       "      <td>3.3478</td>\n",
       "      <td>42.0</td>\n",
       "      <td>5.795082</td>\n",
       "      <td>1.122951</td>\n",
       "      <td>629.0</td>\n",
       "      <td>2.577869</td>\n",
       "      <td>37.69</td>\n",
       "      <td>-122.08</td>\n",
       "      <td>1.84900</td>\n",
       "    </tr>\n",
       "  </tbody>\n",
       "</table>\n",
       "<p>20640 rows × 9 columns</p>\n",
       "</div>"
      ],
      "text/plain": [
       "       MedInc  HouseAge  AveRooms  AveBedrms  Population  AveOccup  Latitude  \\\n",
       "0      3.3687      45.0  5.594175   0.998058      1470.0  2.854369     34.00   \n",
       "1      2.1660      18.0  4.802059   1.151030      2203.0  2.520595     37.68   \n",
       "2      1.5642      15.0  4.403292   1.053498      1070.0  4.403292     36.62   \n",
       "3      3.6885      49.0  5.184569   1.052950      2363.0  3.574887     37.72   \n",
       "4      9.7449      20.0  7.095963   1.070152      3731.0  2.469226     34.12   \n",
       "...       ...       ...       ...        ...         ...       ...       ...   \n",
       "20635  3.0208      38.0  5.605664   1.054466      1568.0  3.416122     34.00   \n",
       "20636  9.9071      30.0  8.241379   1.037618       956.0  2.996865     33.90   \n",
       "20637  4.7105       3.0  3.769314   1.282916      1441.0  1.568009     37.78   \n",
       "20638  4.4375      52.0  5.436364   1.130909       506.0  1.840000     37.76   \n",
       "20639  3.3478      42.0  5.795082   1.122951       629.0  2.577869     37.69   \n",
       "\n",
       "       Longitude  MedHouseVal  \n",
       "0        -117.38      1.23800  \n",
       "1        -120.98      1.18600  \n",
       "2        -119.32      0.51500  \n",
       "3        -122.43      2.54000  \n",
       "4        -118.45      5.00001  \n",
       "...          ...          ...  \n",
       "20635    -118.11      1.93700  \n",
       "20636    -117.93      5.00001  \n",
       "20637    -122.39      2.75000  \n",
       "20638    -122.40      3.20000  \n",
       "20639    -122.08      1.84900  \n",
       "\n",
       "[20640 rows x 9 columns]"
      ]
     },
     "metadata": {},
     "output_type": "display_data"
    }
   ],
   "source": [
    "# Load the house price dataset\n",
    "X_pd, y_pd = sklearn.datasets.fetch_california_housing(return_X_y=True, as_frame=True)\n",
    "\n",
    "# Combine the X and y for visualisation\n",
    "XY_pd = pd.concat([X_pd, y_pd], axis=1)\n",
    "\n",
    "# Shuffle dataset for a random sample, as we will not be using the entire dataset\n",
    "rng = np.random.default_rng(0) # This sets the random seed, meaning that we will get the SAME random sample if we rerun this cell.\n",
    "df = XY_pd.iloc[rng.permutation(len(XY_pd))].reset_index(drop=True) # Shuffle data\n",
    "\n",
    "# show the Full data\n",
    "display(df)"
   ]
  },
  {
   "cell_type": "markdown",
   "metadata": {
    "id": "pzMV-Ski7nLH"
   },
   "source": [
    "But for univariate regression we only want to use one feature - let's pick the median income (`MedInc`).\n",
    "\n",
    "So for this regression task we will be attempting to predict the Median House value using the median household income."
   ]
  },
  {
   "cell_type": "code",
   "execution_count": 7,
   "metadata": {
    "id": "jg9SE_pK7mdI"
   },
   "outputs": [
    {
     "data": {
      "text/html": [
       "<div>\n",
       "<style scoped>\n",
       "    .dataframe tbody tr th:only-of-type {\n",
       "        vertical-align: middle;\n",
       "    }\n",
       "\n",
       "    .dataframe tbody tr th {\n",
       "        vertical-align: top;\n",
       "    }\n",
       "\n",
       "    .dataframe thead th {\n",
       "        text-align: right;\n",
       "    }\n",
       "</style>\n",
       "<table border=\"1\" class=\"dataframe\">\n",
       "  <thead>\n",
       "    <tr style=\"text-align: right;\">\n",
       "      <th></th>\n",
       "      <th>MedInc</th>\n",
       "      <th>MedHouseVal</th>\n",
       "    </tr>\n",
       "  </thead>\n",
       "  <tbody>\n",
       "    <tr>\n",
       "      <th>0</th>\n",
       "      <td>3.3687</td>\n",
       "      <td>1.23800</td>\n",
       "    </tr>\n",
       "    <tr>\n",
       "      <th>1</th>\n",
       "      <td>2.1660</td>\n",
       "      <td>1.18600</td>\n",
       "    </tr>\n",
       "    <tr>\n",
       "      <th>2</th>\n",
       "      <td>1.5642</td>\n",
       "      <td>0.51500</td>\n",
       "    </tr>\n",
       "    <tr>\n",
       "      <th>3</th>\n",
       "      <td>3.6885</td>\n",
       "      <td>2.54000</td>\n",
       "    </tr>\n",
       "    <tr>\n",
       "      <th>4</th>\n",
       "      <td>9.7449</td>\n",
       "      <td>5.00001</td>\n",
       "    </tr>\n",
       "    <tr>\n",
       "      <th>...</th>\n",
       "      <td>...</td>\n",
       "      <td>...</td>\n",
       "    </tr>\n",
       "    <tr>\n",
       "      <th>20635</th>\n",
       "      <td>3.0208</td>\n",
       "      <td>1.93700</td>\n",
       "    </tr>\n",
       "    <tr>\n",
       "      <th>20636</th>\n",
       "      <td>9.9071</td>\n",
       "      <td>5.00001</td>\n",
       "    </tr>\n",
       "    <tr>\n",
       "      <th>20637</th>\n",
       "      <td>4.7105</td>\n",
       "      <td>2.75000</td>\n",
       "    </tr>\n",
       "    <tr>\n",
       "      <th>20638</th>\n",
       "      <td>4.4375</td>\n",
       "      <td>3.20000</td>\n",
       "    </tr>\n",
       "    <tr>\n",
       "      <th>20639</th>\n",
       "      <td>3.3478</td>\n",
       "      <td>1.84900</td>\n",
       "    </tr>\n",
       "  </tbody>\n",
       "</table>\n",
       "<p>20640 rows × 2 columns</p>\n",
       "</div>"
      ],
      "text/plain": [
       "       MedInc  MedHouseVal\n",
       "0      3.3687      1.23800\n",
       "1      2.1660      1.18600\n",
       "2      1.5642      0.51500\n",
       "3      3.6885      2.54000\n",
       "4      9.7449      5.00001\n",
       "...       ...          ...\n",
       "20635  3.0208      1.93700\n",
       "20636  9.9071      5.00001\n",
       "20637  4.7105      2.75000\n",
       "20638  4.4375      3.20000\n",
       "20639  3.3478      1.84900\n",
       "\n",
       "[20640 rows x 2 columns]"
      ]
     },
     "metadata": {},
     "output_type": "display_data"
    }
   ],
   "source": [
    "# Use only one feature to start with for univariate linear regression - The Median Income\n",
    "Xy_df = df[['MedInc', 'MedHouseVal']]\n",
    "# show the data\n",
    "display(Xy_df)"
   ]
  },
  {
   "cell_type": "markdown",
   "metadata": {
    "id": "iPgkebqkKG8f"
   },
   "source": [
    "### Convert the data to NumPy ndarrays\n",
    "\n",
    "Next we need to convert the data into `np.array`'s so we can use them with our model."
   ]
  },
  {
   "cell_type": "code",
   "execution_count": 8,
   "metadata": {
    "id": "Tq-7EbEEJgO7"
   },
   "outputs": [],
   "source": [
    "# prepare NumPy ndarrays\n",
    "X_raw = np.array(Xy_df[['MedInc']])\n",
    "y_raw = np.array(Xy_df['MedHouseVal'])\n",
    "\n",
    "# Define how many data points we want. You can try changing these later to see how it changes the model and predictions\n",
    "n = 200 # This is the number of data points that will be used to train our model.\n",
    "\n",
    "X = X_raw[:n] # This will select the data points from 0 to the number defined in n (200 in this case)\n",
    "\n",
    "# Obtain subset of target data\n",
    "y = y_raw[:n]"
   ]
  },
  {
   "cell_type": "markdown",
   "metadata": {
    "id": "HeKt9pCEwCMU"
   },
   "source": [
    "### Fit and Predict\n",
    "\n",
    "Now we can actually fit our model to our training data, the same way as with out synthetic data used in the examples above."
   ]
  },
  {
   "cell_type": "code",
   "execution_count": 9,
   "metadata": {
    "id": "cWAQGwPJJyY-"
   },
   "outputs": [
    {
     "name": "stdout",
     "output_type": "stream",
     "text": [
      "theta_0: 0.19726970655236986\n",
      "theta_1: [0.47134567]\n"
     ]
    }
   ],
   "source": [
    "# Create linear regression object\n",
    "obj = sklearn.linear_model.LinearRegression(fit_intercept=True)\n",
    "\n",
    "# Train the model using the training sets\n",
    "obj.fit(X, y)\n",
    "\n",
    "# Make predictions using the testing set\n",
    "y_pred = obj.predict(X)\n",
    "\n",
    "# Can obtain out model coefficients from the model obj we have trained\n",
    "print('theta_0:',obj.intercept_)\n",
    "print('theta_1:',obj.coef_)"
   ]
  },
  {
   "cell_type": "markdown",
   "metadata": {
    "id": "XEDgyFJzwiv2"
   },
   "source": [
    "### Plot the outputs\n",
    "\n",
    "Then, if possible it's always nice to have a visual representation of how well our predictions are fitting the data.\n",
    "This allows us to gain a qualitative feel for how well our model is fitting the data - we can see that there is a positive correlation between the median income and house price which our model is accounting for, but there does seem to be a lot of variation our model is failing to pick up."
   ]
  },
  {
   "cell_type": "code",
   "execution_count": 10,
   "metadata": {
    "id": "MdygxO0-KPiD"
   },
   "outputs": [
    {
     "data": {
      "image/png": "[encoded data removed]",
      "text/plain": [
       "<Figure size 640x480 with 1 Axes>"
      ]
     },
     "metadata": {},
     "output_type": "display_data"
    }
   ],
   "source": [
    "# Plot outputs\n",
    "plt.scatter(X, y,  color='black', label='y') # Observed y values\n",
    "plt.scatter(X, y_pred, color='blue', label='y_pred') # predicted y values\n",
    "plt.plot(np.r_[0:12:0.1], obj.predict(np.r_[0:12:0.1][:, np.newaxis]), color='blue', label='hypothesis') # Regression line\n",
    "plt.xlabel('MedInc')\n",
    "plt.ylabel('house price')\n",
    "plt.legend()\n",
    "plt.show()"
   ]
  },
  {
   "cell_type": "markdown",
   "metadata": {
    "id": "N2JacGP5LpDS"
   },
   "source": [
    "### Loss and score functions\n",
    "\n",
    "It's then always worth checking the loss and score functions to give us a quantitive measure of how well our model is fitting the data.\n",
    "- Loss: the lower, the better.\n",
    "- Score: the higher, the better.\n",
    "\n",
    "In this case, though the MSE seems small this is just due to the MSE values being relative to the size of the target values (so if our target was in the rang of $0-0.1$ it would be even smaller and if it was in the range of $0-100$ it would be much larger). The MSE is most useful when comparing different models, as you will be looking for the model with the smallest MSE, whatever that value may be.\n",
    "\n",
    "However, looking at the score function we can see that our model is only accounting for around $47\\%$ of the variation in the data."
   ]
  },
  {
   "cell_type": "code",
   "execution_count": 11,
   "metadata": {
    "id": "XE_Nm4mSLtcn"
   },
   "outputs": [
    {
     "name": "stdout",
     "output_type": "stream",
     "text": [
      "Mean squared error loss: 0.7154\n",
      "R2 score: 0.4756\n"
     ]
    }
   ],
   "source": [
    "# The mean squared error loss\n",
    "print('Mean squared error loss: {:.4f}'.format(sklearn.metrics.mean_squared_error(y, y_pred)))\n",
    "# The R2 score: 1 is perfect prediction\n",
    "print('R2 score: {:.4f}'.format(sklearn.metrics.r2_score(y, y_pred)))"
   ]
  },
  {
   "cell_type": "markdown",
   "metadata": {
    "id": "9EbKidyMtGOd"
   },
   "source": [
    "## 4.2 Exercise 2: Fitting Linear Regression on Real Data\n",
    "\n",
    "Try fitting a univariate linear regression model to the Diabetes dataset included in *sklearn*. This is a toy dataset, so you can access it using `sklearn.datasets.load_diabetes()`. Use the `bmi` column as your feature for predicting the `target` (the patients diabetes level). How well does your model fit the data? Do any of the other features provide a better fit?"
   ]
  },
  {
   "cell_type": "code",
   "execution_count": 12,
   "metadata": {
    "id": "tqKLAwMVPAFs"
   },
   "outputs": [],
   "source": [
    "##############################################################\n",
    "# Your code here\n",
    "##############################################################"
   ]
  },
  {
   "cell_type": "markdown",
   "metadata": {
    "id": "Yp5IA_4G3xUl"
   },
   "source": [
    "## 4.3 Exercise 3: Fit a Linear Regression model without using the sklearn function\n",
    "\n",
    "As I mentioned in the theory section above, we can obtain the model hypothesis coefficients directly using the following equation:\n",
    "\n",
    "$$\\boldsymbol{\\theta} = (\\boldsymbol{X}^T\\boldsymbol{X})^{-1} \\boldsymbol{X}^T\\boldsymbol{y}$$\n",
    "\n",
    "Are you able to use this information to fit a model to the California housing dataset without using the sklearn Linear model, `obj.fit(X, y)`  and prediction functions? If done correctly you should obtain the same results as in **section 4.1**.\n",
    "\n",
    "Hints\n",
    "- The matrix inverse function such that $XX^{-1}=I$ can be performed directly in python. $X^{-1}$ would be found using `np.linalg.inv(X)`\n",
    "- Don't forget that we are fitting the intercept in 4.1, which means we will have to work out $\\theta_0$. Consider the example in **section 2** for more hints.\n",
    "- You can perform matrix multiplication using the `.dot()` function where `A.dot(b)` performs matrix multiplication between $AB$. Another option is using the `@` symbol, where `A@B` also performs the matrix multiplication $AB$."
   ]
  },
  {
   "cell_type": "code",
   "execution_count": 13,
   "metadata": {
    "id": "aTPahASD7St1"
   },
   "outputs": [],
   "source": [
    "##############################################################\n",
    "# Your code here\n",
    "##############################################################"
   ]
  },
  {
   "cell_type": "markdown",
   "metadata": {
    "id": "rKZAlMLFX0_a"
   },
   "source": [
    "## 4.4 Non-Parametric Models\n",
    "\n",
    "For most of this module we are looking at types of parametric models, as they are powerful methods for both regression and classification, and understanding the theory behind multi-variable regression/classification feeds directly into our later topic of Neural Networks (deep learning).\n",
    "\n",
    "However, I do not want you to think that there are not other methods which are just as valid - and in fact may be a better solution for some problems. I will return to some of these later, and they may be worth experimenting with in the coursework.\n",
    "\n",
    "On this page of the [sklearn documentation](https://scikit-learn.org/stable/supervised_learning.html) you can explore many different models (both parametric and non-parametric). But today I would like to focus on two easy to implement approaches:\n",
    "\n",
    "- [K-nearest Neighbour Regressor](https://scikit-learn.org/stable/modules/generated/sklearn.neighbors.KNeighborsRegressor.html#sklearn.neighbors.KNeighborsRegressor)\n",
    "- [Decision Tree Regressor](https://scikit-learn.org/stable/modules/generated/sklearn.tree.DecisionTreeRegressor.html#sklearn.tree.DecisionTreeRegressor)\n",
    "\n",
    "\n",
    "One word of warning that these non-parametric models can be dangerous, as they are very easy to fit compared to a complex parametric model or even a neural network, and often out of the box they will get you a prediction that can look very good. However, you have to be careful as often they will not generalise well to new data and particularly struggle with extrapolation (dealing with data outside of the ranges seen in the data used to train the model). However, that does not mean that when used correctly they are not powerful tools in the arsenal of a data scientist.\n",
    "\n",
    "I will explore this theme in more detail in future weeks when you learn about 'overfitting' the data."
   ]
  },
  {
   "cell_type": "markdown",
   "metadata": {
    "id": "7WB1tUqjK3Pz"
   },
   "source": [
    "### 4.4.1 K-Nearest Neighbours\n",
    "\n",
    "The K-Nearest Neighbours method is a quite naive but often relatively effective baseline model for making predictions for both classification and regression problems. This model is easy to implement, you just need to import it from `sklearn` and you can fit it in exactly the same manner as the linear models.\n",
    "\n",
    "You define the parameter `k`, which tells the models how many neighbouring points the model should consider, and when making a prediction it simply averages these neighbours as its prediction.\n",
    "\n",
    "In the case below, try experimenting with `n` and `k` and see what kinda of accuracy you get.\n",
    "\n",
    "As you reduce `k` you will likely see your model getting more and more accurate according to the accuracy metrics. Do you understand why? And can you see why this may be a problem if you used this model to make a prediction on new data?\n",
    "\n",
    "Look at the sklearn page ([K-nearest Neighbour Regressor](https://scikit-learn.org/stable/modules/generated/sklearn.neighbors.KNeighborsRegressor.html#sklearn.neighbors.KNeighborsRegressor)) for more details and other parameters you can play with."
   ]
  },
  {
   "cell_type": "code",
   "execution_count": 14,
   "metadata": {
    "id": "_dlIhy7ziVXE"
   },
   "outputs": [
    {
     "data": {
      "image/png": "[encoded data removed]",
      "text/plain": [
       "<Figure size 640x480 with 1 Axes>"
      ]
     },
     "metadata": {},
     "output_type": "display_data"
    },
    {
     "name": "stdout",
     "output_type": "stream",
     "text": [
      "Mean squared error loss: 0.5575\n",
      "R2 score: 0.5914\n"
     ]
    }
   ],
   "source": [
    "from sklearn.neighbors import KNeighborsRegressor #Import the Knn library for the regression model\n",
    "\n",
    "# Load the house price dataset\n",
    "# Load the house price dataset\n",
    "X_pd, y_pd = sklearn.datasets.fetch_california_housing(return_X_y=True, as_frame=True)\n",
    "\n",
    "# Combine the X and y for visualisation\n",
    "XY_pd = pd.concat([X_pd, y_pd], axis=1)\n",
    "\n",
    "# Shuffle dataset for a random sample, as we will not be using the entire dataset\n",
    "rng = np.random.default_rng(0) # This sets the random seed, meaning that we will get the SAME random sample if we rerun this cell.\n",
    "df = XY_pd.iloc[rng.permutation(len(XY_pd))].reset_index(drop=True) # Shuffle data\n",
    "\n",
    "Xy_df = df[['MedInc', 'MedHouseVal']]\n",
    "\n",
    "# prepare NumPy ndarrays\n",
    "X_raw = np.array(Xy_df[['MedInc']])\n",
    "y_raw = np.array(Xy_df['MedHouseVal'])\n",
    "\n",
    "# Define how many data points we want. You can try changing these later to see how it changes the model and predictions\n",
    "n = 200 # This is the number of data points that will be used to train our model.\n",
    "\n",
    "X = X_raw[:n] # This will select the data points from 0 to the number defined in n (200 in this case)\n",
    "\n",
    "# Obtain subset of target data\n",
    "y = y_raw[:n]\n",
    "\n",
    "# Create Knn regression object\n",
    "obj = KNeighborsRegressor(n_neighbors=5)\n",
    "\n",
    "# Train the model using the training sets\n",
    "obj.fit(X, y)\n",
    "\n",
    "# Make predictions using the testing set\n",
    "y_pred = obj.predict(X)\n",
    "\n",
    "# Plot outputs\n",
    "plt.scatter(X, y,  color='black', label='y') # Observed y values\n",
    "plt.scatter(X, y_pred, color='blue', label='y_pred') # predicted y values\n",
    "plt.plot(np.r_[0:12:0.1], obj.predict(np.r_[0:12:0.1][:, np.newaxis]), color='blue', label='hypothesis') # Regression line\n",
    "plt.xlabel('MedInc')\n",
    "plt.ylabel('house price')\n",
    "plt.legend()\n",
    "plt.show()\n",
    "\n",
    "# The mean squared error loss\n",
    "print('Mean squared error loss: {:.4f}'.format(sklearn.metrics.mean_squared_error(y, y_pred)))\n",
    "# The R2 score: 1 is perfect prediction\n",
    "print('R2 score: {:.4f}'.format(sklearn.metrics.r2_score(y, y_pred)))"
   ]
  },
  {
   "cell_type": "markdown",
   "metadata": {
    "id": "Mjj4cOrxcrLa"
   },
   "source": [
    "### 4.4.2 Decision Trees\n",
    "\n",
    "Decision Trees are a powerful non-parametric method. This looks at your variables and asks a series of yes/no questions which it uses to split into a 'tree' of conditions and target predictions.\n",
    "\n",
    "These are also very easy to fit, simply import from `sklearn` and fit in the same way as the linear models.\n",
    "\n",
    "Decision trees do have a lot of variables that can (and should) be experimented with to get a model that is picking up realistic behaviour in the data.\n",
    "\n",
    "Some key ones are:\n",
    "\n",
    "\n",
    "- `max_depth` which dictates how many levels the tree can have (where a 'deeper' tree can include more complexity as more yes/no questions are asked at each level).\n",
    "- `min_samples_split` How many samples need to exist at a node to split the data with a further yes/no question\n",
    "- `min_samples_leaf` How many samples need to exist on each branch after a split for a split to be considered.\n",
    "\n",
    "You can find more information about these variables (and more) on the sklearn page: [Decision Tree Regressor](https://scikit-learn.org/stable/modules/generated/sklearn.tree.DecisionTreeRegressor.html#sklearn.tree.DecisionTreeRegressor)"
   ]
  },
  {
   "cell_type": "code",
   "execution_count": 15,
   "metadata": {
    "id": "9H8AldFwczU8"
   },
   "outputs": [
    {
     "data": {
      "image/png": "[encoded data removed]",
      "text/plain": [
       "<Figure size 640x480 with 1 Axes>"
      ]
     },
     "metadata": {},
     "output_type": "display_data"
    },
    {
     "name": "stdout",
     "output_type": "stream",
     "text": [
      "Mean squared error loss: 0.6385\n",
      "R2 score: 0.5320\n"
     ]
    }
   ],
   "source": [
    "from sklearn import tree #Import the Decision Tree library for the regression model\n",
    "\n",
    "# Load the house price dataset\n",
    "# Load the house price dataset\n",
    "X_pd, y_pd = sklearn.datasets.fetch_california_housing(return_X_y=True, as_frame=True)\n",
    "\n",
    "# Combine the X and y for visualisation\n",
    "XY_pd = pd.concat([X_pd, y_pd], axis=1)\n",
    "\n",
    "# Shuffle dataset for a random sample, as we will not be using the entire dataset\n",
    "rng = np.random.default_rng(0) # This sets the random seed, meaning that we will get the SAME random sample if we rerun this cell.\n",
    "df = XY_pd.iloc[rng.permutation(len(XY_pd))].reset_index(drop=True) # Shuffle data\n",
    "\n",
    "Xy_df = df[['MedInc', 'MedHouseVal']]\n",
    "\n",
    "# prepare NumPy ndarrays\n",
    "X_raw = np.array(Xy_df[['MedInc']])\n",
    "y_raw = np.array(Xy_df['MedHouseVal'])\n",
    "\n",
    "# Define how many data points we want. You can try changing these later to see how it changes the model and predictions\n",
    "n = 200 # This is the number of data points that will be used to train our model.\n",
    "\n",
    "X = X_raw[:n] # This will select the data points from 0 to the number defined in n (200 in this case)\n",
    "\n",
    "# Obtain subset of target data\n",
    "y = y_raw[:n]\n",
    "\n",
    "# Create Knn regression object\n",
    "obj = tree.DecisionTreeRegressor(max_depth=3, min_samples_split =5, min_samples_leaf=5)\n",
    "\n",
    "# Train the model using the training sets\n",
    "obj.fit(X, y)\n",
    "\n",
    "# Make predictions using the testing set\n",
    "y_pred = obj.predict(X)\n",
    "\n",
    "# Plot outputs\n",
    "plt.scatter(X, y,  color='black', label='y') # Observed y values\n",
    "plt.scatter(X, y_pred, color='blue', label='y_pred') # predicted y values\n",
    "plt.plot(np.r_[0:12:0.1], obj.predict(np.r_[0:12:0.1][:, np.newaxis]), color='blue', label='hypothesis') # Regression line\n",
    "plt.xlabel('MedInc')\n",
    "plt.ylabel('house price')\n",
    "plt.legend()\n",
    "plt.show()\n",
    "\n",
    "# The mean squared error loss\n",
    "print('Mean squared error loss: {:.4f}'.format(sklearn.metrics.mean_squared_error(y, y_pred)))\n",
    "# The R2 score: 1 is perfect prediction\n",
    "print('R2 score: {:.4f}'.format(sklearn.metrics.r2_score(y, y_pred)))"
   ]
  },
  {
   "cell_type": "markdown",
   "metadata": {
    "id": "kWZlojubjfZ8"
   },
   "source": [
    "Another good thing about decision trees is that they are quite easy to interpret, and you cn even view the 'tree' of yes/no questions, which can be helpful for understanding relationships in your data."
   ]
  },
  {
   "cell_type": "code",
   "execution_count": 16,
   "metadata": {
    "id": "0wgJm7yid1jK"
   },
   "outputs": [
    {
     "data": {
      "image/svg+xml": [
       "<?xml version=\"1.0\" encoding=\"UTF-8\" standalone=\"no\"?>\n",
       "<!DOCTYPE svg PUBLIC \"-//W3C//DTD SVG 1.1//EN\"\n",
       " \"http://www.w3.org/Graphics/SVG/1.1/DTD/svg11.dtd\">\n",
       "<!-- Generated by graphviz version 12.1.2 (20240928.0832)\n",
       " -->\n",
       "<!-- Title: Tree Pages: 1 -->\n",
       "<svg width=\"1334pt\" height=\"373pt\"\n",
       " viewBox=\"0.00 0.00 1334.25 373.00\" xmlns=\"http://www.w3.org/2000/svg\" xmlns:xlink=\"http://www.w3.org/1999/xlink\">\n",
       "<g id=\"graph0\" class=\"graph\" transform=\"scale(1 1) rotate(0) translate(4 369)\">\n",
       "<title>Tree</title>\n",
       "<polygon fill=\"white\" stroke=\"none\" points=\"-4,4 -4,-369 1330.25,-369 1330.25,4 -4,4\"/>\n",
       "<!-- 0 -->\n",
       "<g id=\"node1\" class=\"node\">\n",
       "<title>0</title>\n",
       "<polygon fill=\"none\" stroke=\"black\" points=\"738.25,-365 588,-365 588,-297 738.25,-297 738.25,-365\"/>\n",
       "<text text-anchor=\"middle\" x=\"663.12\" y=\"-347.7\" font-family=\"Helvetica,sans-Serif\" font-size=\"14.00\">x[0] &lt;= 3.63</text>\n",
       "<text text-anchor=\"middle\" x=\"663.12\" y=\"-332.7\" font-family=\"Helvetica,sans-Serif\" font-size=\"14.00\">squared_error = 1.364</text>\n",
       "<text text-anchor=\"middle\" x=\"663.12\" y=\"-317.7\" font-family=\"Helvetica,sans-Serif\" font-size=\"14.00\">samples = 200</text>\n",
       "<text text-anchor=\"middle\" x=\"663.12\" y=\"-302.7\" font-family=\"Helvetica,sans-Serif\" font-size=\"14.00\">value = 1.969</text>\n",
       "</g>\n",
       "<!-- 1 -->\n",
       "<g id=\"node2\" class=\"node\">\n",
       "<title>1</title>\n",
       "<polygon fill=\"none\" stroke=\"black\" points=\"570.25,-261 420,-261 420,-193 570.25,-193 570.25,-261\"/>\n",
       "<text text-anchor=\"middle\" x=\"495.12\" y=\"-243.7\" font-family=\"Helvetica,sans-Serif\" font-size=\"14.00\">x[0] &lt;= 2.696</text>\n",
       "<text text-anchor=\"middle\" x=\"495.12\" y=\"-228.7\" font-family=\"Helvetica,sans-Serif\" font-size=\"14.00\">squared_error = 0.512</text>\n",
       "<text text-anchor=\"middle\" x=\"495.12\" y=\"-213.7\" font-family=\"Helvetica,sans-Serif\" font-size=\"14.00\">samples = 102</text>\n",
       "<text text-anchor=\"middle\" x=\"495.12\" y=\"-198.7\" font-family=\"Helvetica,sans-Serif\" font-size=\"14.00\">value = 1.305</text>\n",
       "</g>\n",
       "<!-- 0&#45;&gt;1 -->\n",
       "<g id=\"edge1\" class=\"edge\">\n",
       "<title>0&#45;&gt;1</title>\n",
       "<path fill=\"none\" stroke=\"black\" d=\"M608.12,-296.6C592.74,-287.27 575.89,-277.04 560,-267.39\"/>\n",
       "<polygon fill=\"black\" stroke=\"black\" points=\"561.92,-264.46 551.55,-262.26 558.28,-270.44 561.92,-264.46\"/>\n",
       "<text text-anchor=\"middle\" x=\"556.19\" y=\"-279.96\" font-family=\"Helvetica,sans-Serif\" font-size=\"14.00\">True</text>\n",
       "</g>\n",
       "<!-- 8 -->\n",
       "<g id=\"node9\" class=\"node\">\n",
       "<title>8</title>\n",
       "<polygon fill=\"none\" stroke=\"black\" points=\"906.25,-261 756,-261 756,-193 906.25,-193 906.25,-261\"/>\n",
       "<text text-anchor=\"middle\" x=\"831.12\" y=\"-243.7\" font-family=\"Helvetica,sans-Serif\" font-size=\"14.00\">x[0] &lt;= 6.29</text>\n",
       "<text text-anchor=\"middle\" x=\"831.12\" y=\"-228.7\" font-family=\"Helvetica,sans-Serif\" font-size=\"14.00\">squared_error = 1.315</text>\n",
       "<text text-anchor=\"middle\" x=\"831.12\" y=\"-213.7\" font-family=\"Helvetica,sans-Serif\" font-size=\"14.00\">samples = 98</text>\n",
       "<text text-anchor=\"middle\" x=\"831.12\" y=\"-198.7\" font-family=\"Helvetica,sans-Serif\" font-size=\"14.00\">value = 2.66</text>\n",
       "</g>\n",
       "<!-- 0&#45;&gt;8 -->\n",
       "<g id=\"edge8\" class=\"edge\">\n",
       "<title>0&#45;&gt;8</title>\n",
       "<path fill=\"none\" stroke=\"black\" d=\"M718.13,-296.6C733.51,-287.27 750.36,-277.04 766.25,-267.39\"/>\n",
       "<polygon fill=\"black\" stroke=\"black\" points=\"767.97,-270.44 774.7,-262.26 764.33,-264.46 767.97,-270.44\"/>\n",
       "<text text-anchor=\"middle\" x=\"770.06\" y=\"-279.96\" font-family=\"Helvetica,sans-Serif\" font-size=\"14.00\">False</text>\n",
       "</g>\n",
       "<!-- 2 -->\n",
       "<g id=\"node3\" class=\"node\">\n",
       "<title>2</title>\n",
       "<polygon fill=\"none\" stroke=\"black\" points=\"318.25,-157 168,-157 168,-89 318.25,-89 318.25,-157\"/>\n",
       "<text text-anchor=\"middle\" x=\"243.12\" y=\"-139.7\" font-family=\"Helvetica,sans-Serif\" font-size=\"14.00\">x[0] &lt;= 1.19</text>\n",
       "<text text-anchor=\"middle\" x=\"243.12\" y=\"-124.7\" font-family=\"Helvetica,sans-Serif\" font-size=\"14.00\">squared_error = 0.399</text>\n",
       "<text text-anchor=\"middle\" x=\"243.12\" y=\"-109.7\" font-family=\"Helvetica,sans-Serif\" font-size=\"14.00\">samples = 65</text>\n",
       "<text text-anchor=\"middle\" x=\"243.12\" y=\"-94.7\" font-family=\"Helvetica,sans-Serif\" font-size=\"14.00\">value = 1.122</text>\n",
       "</g>\n",
       "<!-- 1&#45;&gt;2 -->\n",
       "<g id=\"edge2\" class=\"edge\">\n",
       "<title>1&#45;&gt;2</title>\n",
       "<path fill=\"none\" stroke=\"black\" d=\"M419.52,-195.4C391.11,-183.9 358.61,-170.75 329.32,-158.89\"/>\n",
       "<polygon fill=\"black\" stroke=\"black\" points=\"330.67,-155.66 320.08,-155.15 328.04,-162.15 330.67,-155.66\"/>\n",
       "</g>\n",
       "<!-- 5 -->\n",
       "<g id=\"node6\" class=\"node\">\n",
       "<title>5</title>\n",
       "<polygon fill=\"none\" stroke=\"black\" points=\"570.25,-157 420,-157 420,-89 570.25,-89 570.25,-157\"/>\n",
       "<text text-anchor=\"middle\" x=\"495.12\" y=\"-139.7\" font-family=\"Helvetica,sans-Serif\" font-size=\"14.00\">x[0] &lt;= 3.523</text>\n",
       "<text text-anchor=\"middle\" x=\"495.12\" y=\"-124.7\" font-family=\"Helvetica,sans-Serif\" font-size=\"14.00\">squared_error = 0.546</text>\n",
       "<text text-anchor=\"middle\" x=\"495.12\" y=\"-109.7\" font-family=\"Helvetica,sans-Serif\" font-size=\"14.00\">samples = 37</text>\n",
       "<text text-anchor=\"middle\" x=\"495.12\" y=\"-94.7\" font-family=\"Helvetica,sans-Serif\" font-size=\"14.00\">value = 1.627</text>\n",
       "</g>\n",
       "<!-- 1&#45;&gt;5 -->\n",
       "<g id=\"edge5\" class=\"edge\">\n",
       "<title>1&#45;&gt;5</title>\n",
       "<path fill=\"none\" stroke=\"black\" d=\"M495.12,-192.6C495.12,-185.03 495.12,-176.87 495.12,-168.9\"/>\n",
       "<polygon fill=\"black\" stroke=\"black\" points=\"498.63,-168.99 495.13,-158.99 491.63,-168.99 498.63,-168.99\"/>\n",
       "</g>\n",
       "<!-- 3 -->\n",
       "<g id=\"node4\" class=\"node\">\n",
       "<title>3</title>\n",
       "<polygon fill=\"none\" stroke=\"black\" points=\"150.25,-53 0,-53 0,0 150.25,0 150.25,-53\"/>\n",
       "<text text-anchor=\"middle\" x=\"75.12\" y=\"-35.7\" font-family=\"Helvetica,sans-Serif\" font-size=\"14.00\">squared_error = 0.999</text>\n",
       "<text text-anchor=\"middle\" x=\"75.12\" y=\"-20.7\" font-family=\"Helvetica,sans-Serif\" font-size=\"14.00\">samples = 5</text>\n",
       "<text text-anchor=\"middle\" x=\"75.12\" y=\"-5.7\" font-family=\"Helvetica,sans-Serif\" font-size=\"14.00\">value = 1.593</text>\n",
       "</g>\n",
       "<!-- 2&#45;&gt;3 -->\n",
       "<g id=\"edge3\" class=\"edge\">\n",
       "<title>2&#45;&gt;3</title>\n",
       "<path fill=\"none\" stroke=\"black\" d=\"M183.89,-88.68C166.68,-79 147.94,-68.46 130.94,-58.9\"/>\n",
       "<polygon fill=\"black\" stroke=\"black\" points=\"132.91,-55.99 122.48,-54.14 129.48,-62.09 132.91,-55.99\"/>\n",
       "</g>\n",
       "<!-- 4 -->\n",
       "<g id=\"node5\" class=\"node\">\n",
       "<title>4</title>\n",
       "<polygon fill=\"none\" stroke=\"black\" points=\"318.25,-53 168,-53 168,0 318.25,0 318.25,-53\"/>\n",
       "<text text-anchor=\"middle\" x=\"243.12\" y=\"-35.7\" font-family=\"Helvetica,sans-Serif\" font-size=\"14.00\">squared_error = 0.329</text>\n",
       "<text text-anchor=\"middle\" x=\"243.12\" y=\"-20.7\" font-family=\"Helvetica,sans-Serif\" font-size=\"14.00\">samples = 60</text>\n",
       "<text text-anchor=\"middle\" x=\"243.12\" y=\"-5.7\" font-family=\"Helvetica,sans-Serif\" font-size=\"14.00\">value = 1.082</text>\n",
       "</g>\n",
       "<!-- 2&#45;&gt;4 -->\n",
       "<g id=\"edge4\" class=\"edge\">\n",
       "<title>2&#45;&gt;4</title>\n",
       "<path fill=\"none\" stroke=\"black\" d=\"M243.12,-88.68C243.12,-80.99 243.12,-72.76 243.12,-64.9\"/>\n",
       "<polygon fill=\"black\" stroke=\"black\" points=\"246.63,-64.91 243.13,-54.91 239.63,-64.91 246.63,-64.91\"/>\n",
       "</g>\n",
       "<!-- 6 -->\n",
       "<g id=\"node7\" class=\"node\">\n",
       "<title>6</title>\n",
       "<polygon fill=\"none\" stroke=\"black\" points=\"486.25,-53 336,-53 336,0 486.25,0 486.25,-53\"/>\n",
       "<text text-anchor=\"middle\" x=\"411.12\" y=\"-35.7\" font-family=\"Helvetica,sans-Serif\" font-size=\"14.00\">squared_error = 0.431</text>\n",
       "<text text-anchor=\"middle\" x=\"411.12\" y=\"-20.7\" font-family=\"Helvetica,sans-Serif\" font-size=\"14.00\">samples = 31</text>\n",
       "<text text-anchor=\"middle\" x=\"411.12\" y=\"-5.7\" font-family=\"Helvetica,sans-Serif\" font-size=\"14.00\">value = 1.564</text>\n",
       "</g>\n",
       "<!-- 5&#45;&gt;6 -->\n",
       "<g id=\"edge6\" class=\"edge\">\n",
       "<title>5&#45;&gt;6</title>\n",
       "<path fill=\"none\" stroke=\"black\" d=\"M465.51,-88.68C457.79,-79.99 449.45,-70.62 441.68,-61.87\"/>\n",
       "<polygon fill=\"black\" stroke=\"black\" points=\"444.41,-59.67 435.15,-54.53 439.17,-64.32 444.41,-59.67\"/>\n",
       "</g>\n",
       "<!-- 7 -->\n",
       "<g id=\"node8\" class=\"node\">\n",
       "<title>7</title>\n",
       "<polygon fill=\"none\" stroke=\"black\" points=\"654.25,-53 504,-53 504,0 654.25,0 654.25,-53\"/>\n",
       "<text text-anchor=\"middle\" x=\"579.12\" y=\"-35.7\" font-family=\"Helvetica,sans-Serif\" font-size=\"14.00\">squared_error = 1.015</text>\n",
       "<text text-anchor=\"middle\" x=\"579.12\" y=\"-20.7\" font-family=\"Helvetica,sans-Serif\" font-size=\"14.00\">samples = 6</text>\n",
       "<text text-anchor=\"middle\" x=\"579.12\" y=\"-5.7\" font-family=\"Helvetica,sans-Serif\" font-size=\"14.00\">value = 1.952</text>\n",
       "</g>\n",
       "<!-- 5&#45;&gt;7 -->\n",
       "<g id=\"edge7\" class=\"edge\">\n",
       "<title>5&#45;&gt;7</title>\n",
       "<path fill=\"none\" stroke=\"black\" d=\"M524.74,-88.68C532.46,-79.99 540.8,-70.62 548.57,-61.87\"/>\n",
       "<polygon fill=\"black\" stroke=\"black\" points=\"551.08,-64.32 555.1,-54.53 545.84,-59.67 551.08,-64.32\"/>\n",
       "</g>\n",
       "<!-- 9 -->\n",
       "<g id=\"node10\" class=\"node\">\n",
       "<title>9</title>\n",
       "<polygon fill=\"none\" stroke=\"black\" points=\"902.5,-157 759.75,-157 759.75,-89 902.5,-89 902.5,-157\"/>\n",
       "<text text-anchor=\"middle\" x=\"831.12\" y=\"-139.7\" font-family=\"Helvetica,sans-Serif\" font-size=\"14.00\">x[0] &lt;= 4.639</text>\n",
       "<text text-anchor=\"middle\" x=\"831.12\" y=\"-124.7\" font-family=\"Helvetica,sans-Serif\" font-size=\"14.00\">squared_error = 0.95</text>\n",
       "<text text-anchor=\"middle\" x=\"831.12\" y=\"-109.7\" font-family=\"Helvetica,sans-Serif\" font-size=\"14.00\">samples = 84</text>\n",
       "<text text-anchor=\"middle\" x=\"831.12\" y=\"-94.7\" font-family=\"Helvetica,sans-Serif\" font-size=\"14.00\">value = 2.406</text>\n",
       "</g>\n",
       "<!-- 8&#45;&gt;9 -->\n",
       "<g id=\"edge9\" class=\"edge\">\n",
       "<title>8&#45;&gt;9</title>\n",
       "<path fill=\"none\" stroke=\"black\" d=\"M831.12,-192.6C831.12,-185.03 831.12,-176.87 831.12,-168.9\"/>\n",
       "<polygon fill=\"black\" stroke=\"black\" points=\"834.63,-168.99 831.13,-158.99 827.63,-168.99 834.63,-168.99\"/>\n",
       "</g>\n",
       "<!-- 12 -->\n",
       "<g id=\"node13\" class=\"node\">\n",
       "<title>12</title>\n",
       "<polygon fill=\"none\" stroke=\"black\" points=\"1158.25,-157 1008,-157 1008,-89 1158.25,-89 1158.25,-157\"/>\n",
       "<text text-anchor=\"middle\" x=\"1083.12\" y=\"-139.7\" font-family=\"Helvetica,sans-Serif\" font-size=\"14.00\">x[0] &lt;= 7.369</text>\n",
       "<text text-anchor=\"middle\" x=\"1083.12\" y=\"-124.7\" font-family=\"Helvetica,sans-Serif\" font-size=\"14.00\">squared_error = 0.787</text>\n",
       "<text text-anchor=\"middle\" x=\"1083.12\" y=\"-109.7\" font-family=\"Helvetica,sans-Serif\" font-size=\"14.00\">samples = 14</text>\n",
       "<text text-anchor=\"middle\" x=\"1083.12\" y=\"-94.7\" font-family=\"Helvetica,sans-Serif\" font-size=\"14.00\">value = 4.186</text>\n",
       "</g>\n",
       "<!-- 8&#45;&gt;12 -->\n",
       "<g id=\"edge12\" class=\"edge\">\n",
       "<title>8&#45;&gt;12</title>\n",
       "<path fill=\"none\" stroke=\"black\" d=\"M906.73,-195.4C935.14,-183.9 967.64,-170.75 996.93,-158.89\"/>\n",
       "<polygon fill=\"black\" stroke=\"black\" points=\"998.21,-162.15 1006.17,-155.15 995.58,-155.66 998.21,-162.15\"/>\n",
       "</g>\n",
       "<!-- 10 -->\n",
       "<g id=\"node11\" class=\"node\">\n",
       "<title>10</title>\n",
       "<polygon fill=\"none\" stroke=\"black\" points=\"822.25,-53 672,-53 672,0 822.25,0 822.25,-53\"/>\n",
       "<text text-anchor=\"middle\" x=\"747.12\" y=\"-35.7\" font-family=\"Helvetica,sans-Serif\" font-size=\"14.00\">squared_error = 1.066</text>\n",
       "<text text-anchor=\"middle\" x=\"747.12\" y=\"-20.7\" font-family=\"Helvetica,sans-Serif\" font-size=\"14.00\">samples = 48</text>\n",
       "<text text-anchor=\"middle\" x=\"747.12\" y=\"-5.7\" font-family=\"Helvetica,sans-Serif\" font-size=\"14.00\">value = 2.234</text>\n",
       "</g>\n",
       "<!-- 9&#45;&gt;10 -->\n",
       "<g id=\"edge10\" class=\"edge\">\n",
       "<title>9&#45;&gt;10</title>\n",
       "<path fill=\"none\" stroke=\"black\" d=\"M801.51,-88.68C793.79,-79.99 785.45,-70.62 777.68,-61.87\"/>\n",
       "<polygon fill=\"black\" stroke=\"black\" points=\"780.41,-59.67 771.15,-54.53 775.17,-64.32 780.41,-59.67\"/>\n",
       "</g>\n",
       "<!-- 11 -->\n",
       "<g id=\"node12\" class=\"node\">\n",
       "<title>11</title>\n",
       "<polygon fill=\"none\" stroke=\"black\" points=\"990.25,-53 840,-53 840,0 990.25,0 990.25,-53\"/>\n",
       "<text text-anchor=\"middle\" x=\"915.12\" y=\"-35.7\" font-family=\"Helvetica,sans-Serif\" font-size=\"14.00\">squared_error = 0.705</text>\n",
       "<text text-anchor=\"middle\" x=\"915.12\" y=\"-20.7\" font-family=\"Helvetica,sans-Serif\" font-size=\"14.00\">samples = 36</text>\n",
       "<text text-anchor=\"middle\" x=\"915.12\" y=\"-5.7\" font-family=\"Helvetica,sans-Serif\" font-size=\"14.00\">value = 2.634</text>\n",
       "</g>\n",
       "<!-- 9&#45;&gt;11 -->\n",
       "<g id=\"edge11\" class=\"edge\">\n",
       "<title>9&#45;&gt;11</title>\n",
       "<path fill=\"none\" stroke=\"black\" d=\"M860.74,-88.68C868.46,-79.99 876.8,-70.62 884.57,-61.87\"/>\n",
       "<polygon fill=\"black\" stroke=\"black\" points=\"887.08,-64.32 891.1,-54.53 881.84,-59.67 887.08,-64.32\"/>\n",
       "</g>\n",
       "<!-- 13 -->\n",
       "<g id=\"node14\" class=\"node\">\n",
       "<title>13</title>\n",
       "<polygon fill=\"none\" stroke=\"black\" points=\"1158.25,-53 1008,-53 1008,0 1158.25,0 1158.25,-53\"/>\n",
       "<text text-anchor=\"middle\" x=\"1083.12\" y=\"-35.7\" font-family=\"Helvetica,sans-Serif\" font-size=\"14.00\">squared_error = 0.944</text>\n",
       "<text text-anchor=\"middle\" x=\"1083.12\" y=\"-20.7\" font-family=\"Helvetica,sans-Serif\" font-size=\"14.00\">samples = 6</text>\n",
       "<text text-anchor=\"middle\" x=\"1083.12\" y=\"-5.7\" font-family=\"Helvetica,sans-Serif\" font-size=\"14.00\">value = 3.564</text>\n",
       "</g>\n",
       "<!-- 12&#45;&gt;13 -->\n",
       "<g id=\"edge13\" class=\"edge\">\n",
       "<title>12&#45;&gt;13</title>\n",
       "<path fill=\"none\" stroke=\"black\" d=\"M1083.12,-88.68C1083.12,-80.99 1083.12,-72.76 1083.12,-64.9\"/>\n",
       "<polygon fill=\"black\" stroke=\"black\" points=\"1086.63,-64.91 1083.13,-54.91 1079.63,-64.91 1086.63,-64.91\"/>\n",
       "</g>\n",
       "<!-- 14 -->\n",
       "<g id=\"node15\" class=\"node\">\n",
       "<title>14</title>\n",
       "<polygon fill=\"none\" stroke=\"black\" points=\"1326.25,-53 1176,-53 1176,0 1326.25,0 1326.25,-53\"/>\n",
       "<text text-anchor=\"middle\" x=\"1251.12\" y=\"-35.7\" font-family=\"Helvetica,sans-Serif\" font-size=\"14.00\">squared_error = 0.161</text>\n",
       "<text text-anchor=\"middle\" x=\"1251.12\" y=\"-20.7\" font-family=\"Helvetica,sans-Serif\" font-size=\"14.00\">samples = 8</text>\n",
       "<text text-anchor=\"middle\" x=\"1251.12\" y=\"-5.7\" font-family=\"Helvetica,sans-Serif\" font-size=\"14.00\">value = 4.653</text>\n",
       "</g>\n",
       "<!-- 12&#45;&gt;14 -->\n",
       "<g id=\"edge14\" class=\"edge\">\n",
       "<title>12&#45;&gt;14</title>\n",
       "<path fill=\"none\" stroke=\"black\" d=\"M1142.36,-88.68C1159.57,-79 1178.31,-68.46 1195.31,-58.9\"/>\n",
       "<polygon fill=\"black\" stroke=\"black\" points=\"1196.77,-62.09 1203.77,-54.14 1193.34,-55.99 1196.77,-62.09\"/>\n",
       "</g>\n",
       "</g>\n",
       "</svg>\n"
      ],
      "text/plain": [
       "<graphviz.sources.Source at 0x11d8f4ca0>"
      ]
     },
     "execution_count": 16,
     "metadata": {},
     "output_type": "execute_result"
    }
   ],
   "source": [
    "import graphviz\n",
    "dot_data = tree.export_graphviz(obj, out_file=None)\n",
    "graph = graphviz.Source(dot_data)\n",
    "graph"
   ]
  },
  {
   "cell_type": "markdown",
   "metadata": {
    "id": "zFNd057tj9i0"
   },
   "source": [
    "### 4.4.3 Exercise 4: Implement Non-Linear Models on Diabetes Data\n",
    "\n",
    "Implement a KNN regressor and a decision tree on the Diabetes dataset `sklearn.datasets.load_diabetes()`. Again use the `bmi` column as your feature for predicting the `target` (the patients diabetes level). Which non-parametric method gets you the best result? And how does this compare to the linear regression result (Section 4.2)? Do you trust the levels of accuracy you are currently seeing?"
   ]
  },
  {
   "cell_type": "code",
   "execution_count": 17,
   "metadata": {
    "id": "X4vvU1X-k284"
   },
   "outputs": [],
   "source": [
    "##############################################################\n",
    "# Your code here\n",
    "##############################################################"
   ]
  },
  {
   "cell_type": "markdown",
   "metadata": {
    "id": "9bfb5GNtPKlc"
   },
   "source": [
    "## 4.5 Exercise 5: Regression model with multiple features\n",
    "\n",
    "So far we have only been dealing with univariate linear regression because it makes everything more conceptually easy to show and explain. However, in reality we are usually going to have much more data than one feature, and it would be a waste not to use that data in our predictions.\n",
    "\n",
    "Work out how to expand the univariate model you fitted on the diabetes data in **Exercise 2** so that you fit a multivariate model which uses ALL the features in $X$ to predict $\\hat{y}$. How does this compare in accuracy to your univariate model? Experiment with the features being used - do all of them contribute towards the models accuracy, and are some more impactful than others?"
   ]
  },
  {
   "cell_type": "code",
   "execution_count": 18,
   "metadata": {
    "id": "nssmRpfiDWrI"
   },
   "outputs": [],
   "source": [
    "##############################################################\n",
    "# Your code here\n",
    "##############################################################"
   ]
  },
  {
   "cell_type": "markdown",
   "metadata": {
    "id": "q60RCpWfvuO3"
   },
   "source": [
    "## 4.6 Exercise 6: Multivariable regression without Sklearn\n",
    "\n",
    "Try and expand the model you created in **Exercise 3** to work with multiple features. Fit this on the California housing dataset using all available features and compare with your results for univariate regression.\n",
    "\n",
    "Extra: Try fitting a multivariable model using sklearn to check you are both obtaining the same answer.\n",
    "\n",
    "Extra: Experiment with which features to include to see if all contribute towards the accuracy of the prediction.\n",
    "\n",
    "Extra: Experiment with changing the number of samples (`n`) used to see how this changes the accuracy."
   ]
  },
  {
   "cell_type": "code",
   "execution_count": 19,
   "metadata": {
    "id": "PRi8BHeICyUo"
   },
   "outputs": [],
   "source": [
    "##############################################################\n",
    "# Your code here\n",
    "##############################################################"
   ]
  },
  {
   "cell_type": "markdown",
   "metadata": {
    "id": "XpNsMynRT3il"
   },
   "source": [
    "# 5. Non-Linear Data\n",
    "\n",
    "Finally, I just want to make you consider what we can do if there are **non-linear** relationships in our data. So far a linear relationship between the feature and the target has seemed like a fair assumption, but this is certainly not always the case. Take the synthetic case below of data with a $y = X^2$ relationship."
   ]
  },
  {
   "cell_type": "code",
   "execution_count": 20,
   "metadata": {
    "id": "yWFXdzMGwDKT"
   },
   "outputs": [
    {
     "data": {
      "text/plain": [
       "Text(0, 0.5, 'y')"
      ]
     },
     "execution_count": 20,
     "metadata": {},
     "output_type": "execute_result"
    },
    {
     "data": {
      "image/png": "[encoded data removed]",
      "text/plain": [
       "<Figure size 640x480 with 1 Axes>"
      ]
     },
     "metadata": {},
     "output_type": "display_data"
    }
   ],
   "source": [
    "# Creating our normally distributed random X values\n",
    "X = np.array(np.random.randn(1000))\n",
    "\n",
    "# Create another array y = X^2 for our target variable\n",
    "y = np.array(X**2)\n",
    "\n",
    "# Visualise this relationship\n",
    "plt.scatter(X, y,  color='black')\n",
    "plt.title('X vs y=X^2')\n",
    "plt.xlabel('X')\n",
    "plt.ylabel('y')"
   ]
  },
  {
   "cell_type": "markdown",
   "metadata": {
    "id": "qS7YpDp9U5YG"
   },
   "source": [
    "If we fit a linear model on this, we will not get a good prediction at all as there is no way to fit a straight line to this data that will predict the target in a meaningful way. See the code output below."
   ]
  },
  {
   "cell_type": "code",
   "execution_count": 21,
   "metadata": {
    "id": "CRcJwQAXJmhi"
   },
   "outputs": [
    {
     "data": {
      "image/png": "[encoded data removed]",
      "text/plain": [
       "<Figure size 640x480 with 1 Axes>"
      ]
     },
     "metadata": {},
     "output_type": "display_data"
    },
    {
     "name": "stdout",
     "output_type": "stream",
     "text": [
      "Mean squared error loss: 1.7422\n",
      "R2 score: 0.0135\n"
     ]
    }
   ],
   "source": [
    "# Create linear regression object\n",
    "obj = sklearn.linear_model.LinearRegression()\n",
    "\n",
    "# Train the model using the training sets\n",
    "obj.fit(X.reshape(-1, 1), y)\n",
    "\n",
    "# Make predictions using the testing set\n",
    "y_pred = obj.predict(X.reshape(-1, 1))\n",
    "\n",
    "# Plot outputs\n",
    "plt.scatter(X, y,  color='black', label='y')\n",
    "plt.scatter(X, y_pred, color='blue', label='y_pred')\n",
    "plt.plot(np.r_[0:4:0.1], obj.predict(np.r_[0:4:0.1][:, np.newaxis]), color='blue', label='hypothesis')\n",
    "\n",
    "plt.xlabel('X')\n",
    "plt.ylabel('y')\n",
    "plt.title('X vs y=X^2')\n",
    "plt.legend()\n",
    "plt.show()\n",
    "\n",
    "\n",
    "# The mean squared error loss\n",
    "print('Mean squared error loss: {:.4f}'.format(sklearn.metrics.mean_squared_error(y, y_pred)))\n",
    "# The R2 score: 1 is perfect prediction\n",
    "print('R2 score: {:.4f}'.format(sklearn.metrics.r2_score(y, y_pred)))"
   ]
  },
  {
   "cell_type": "markdown",
   "metadata": {
    "id": "K_WnmNrnVnez"
   },
   "source": [
    "In later weeks we will address what can be done to account for non-linear variable in our model, but for now I just want you all to be aware of the problem."
   ]
  },
  {
   "cell_type": "markdown",
   "metadata": {
    "id": "zc87f8aJV_9f"
   },
   "source": [
    "## 5.1 Exercise 7: Fitting Non-Linear Data\n",
    "\n",
    "While I will explain to you how we can deal with non-linear data in a later week, if you have completed all the other tasks you can experiment with the `T2-Dataset.csv` file I've uploaded to moodle and see if you can work out yourself how we can account for these features.\n",
    "\n",
    "Remember, one way to load a csv is to upload it to the colab environment, then you can use the command `pd.read_csv('T2-Dataset.csv')` to store it as a variable."
   ]
  },
  {
   "cell_type": "code",
   "execution_count": 22,
   "metadata": {
    "id": "PW36BCdxLDJK"
   },
   "outputs": [],
   "source": [
    "##############################################################\n",
    "# Your code here\n",
    "##############################################################"
   ]
  }
 ],
 "metadata": {
  "colab": {
   "provenance": [],
   "toc_visible": true
  },
  "kernelspec": {
   "display_name": "COMP1801-ML(GPU)",
   "language": "python",
   "name": "comp1801-ml"
  },
  "language_info": {
   "codemirror_mode": {
    "name": "ipython",
    "version": 3
   },
   "file_extension": ".py",
   "mimetype": "text/x-python",
   "name": "python",
   "nbconvert_exporter": "python",
   "pygments_lexer": "ipython3",
   "version": "3.10.15"
  }
 },
 "nbformat": 4,
 "nbformat_minor": 0
}
