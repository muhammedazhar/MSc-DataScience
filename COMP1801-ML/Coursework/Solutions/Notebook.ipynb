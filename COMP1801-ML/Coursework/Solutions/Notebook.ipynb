{
 "cells": [
  {
   "cell_type": "markdown",
   "metadata": {},
   "source": [
    "# COMP1801 - Machine Learning Coursework Solution\n",
    "\n",
    "Let’s start by importing the essential Python libraries for data analysis and machine learning."
   ]
  },
  {
   "cell_type": "code",
   "execution_count": 7,
   "metadata": {},
   "outputs": [],
   "source": [
    "# Import libraries\n",
    "import glob\n",
    "import pandas as pd\n",
    "import numpy as np\n",
    "import matplotlib.pyplot as plt\n",
    "import seaborn as sns"
   ]
  },
  {
   "cell_type": "code",
   "execution_count": 12,
   "metadata": {},
   "outputs": [
    {
     "name": "stdout",
     "output_type": "stream",
     "text": [
      "Found file: ../Datasets/COMP1801_Coursework_Dataset.csv\n",
      "Loaded dataset: ../Datasets/COMP1801_Coursework_Dataset.csv\n"
     ]
    }
   ],
   "source": [
    "# Find the CSV file in the Datasets directory\n",
    "data_path = '../Datasets/*.csv'\n",
    "file_list = glob.glob(data_path)\n",
    "\n",
    "for file in file_list:\n",
    "    print(f\"Found file: {file}\")\n",
    "\n",
    "# Ensure there is exactly one file\n",
    "if len(file_list) == 1:\n",
    "    # Load the dataset\n",
    "    df = pd.read_csv(file_list[0])\n",
    "    print(f\"Loaded dataset: {file_list[0]}\")\n",
    "else:\n",
    "    raise FileNotFoundError(\"No CSV file found or multiple CSV files found in the Datasets directory.\")\n",
    "\n",
    "# Now df contains the data from the single CSV file"
   ]
  },
  {
   "cell_type": "markdown",
   "metadata": {},
   "source": [
    "### Explanation:\n",
    "\n",
    "`glob.glob(data_path)` returns a list of file paths matching the pattern `'Datasets/*.csv'`. The code checks if there is exactly one file in the list. If there is exactly one file, it reads the CSV file into a DataFrame. If there are no files or more than one file, it raises an error. This approach ensures that you can dynamically find and read the single CSV file in the `Datasets` directory without needing to specify the filename manually.\n",
    "\n"
   ]
  }
 ],
 "metadata": {
  "kernelspec": {
   "display_name": "COMP1801-ML(GPU)",
   "language": "python",
   "name": "comp1801-ml"
  },
  "language_info": {
   "codemirror_mode": {
    "name": "ipython",
    "version": 3
   },
   "file_extension": ".py",
   "mimetype": "text/x-python",
   "name": "python",
   "nbconvert_exporter": "python",
   "pygments_lexer": "ipython3",
   "version": "3.10.10"
  }
 },
 "nbformat": 4,
 "nbformat_minor": 2
}
