{
 "cells": [
  {
   "cell_type": "code",
   "execution_count": 10,
   "metadata": {},
   "outputs": [],
   "source": [
    "try:\n",
    "    import os\n",
    "    import requests\n",
    "    import networkx as nx\n",
    "    import matplotlib.pyplot as plt\n",
    "    from dotenv import load_dotenv\n",
    "\n",
    "    load_dotenv('../Docs/.env')\n",
    "\n",
    "except Exception as e:\n",
    "    print(f\"Error : {e}\")"
   ]
  },
  {
   "cell_type": "code",
   "execution_count": 11,
   "metadata": {},
   "outputs": [],
   "source": [
    "base_url = 'https://api.tfl.gov.uk'\n",
    "app_key = os.getenv('app_key')\n",
    "\n",
    "# Get all stations and their information\n",
    "response = requests.get(f'{base_url}/StopPoint/Mode/tube?app_key={app_key}')\n",
    "tube_stations = response.json()"
   ]
  }
 ],
 "metadata": {
  "kernelspec": {
   "display_name": "COMP1832-PF",
   "language": "python",
   "name": "python3"
  },
  "language_info": {
   "codemirror_mode": {
    "name": "ipython",
    "version": 3
   },
   "file_extension": ".py",
   "mimetype": "text/x-python",
   "name": "python",
   "nbconvert_exporter": "python",
   "pygments_lexer": "ipython3",
   "version": "3.10.10"
  }
 },
 "nbformat": 4,
 "nbformat_minor": 2
}
