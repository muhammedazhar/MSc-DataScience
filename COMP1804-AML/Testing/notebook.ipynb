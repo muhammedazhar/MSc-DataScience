{
 "cells": [
  {
   "cell_type": "code",
   "execution_count": 1,
   "metadata": {},
   "outputs": [
    {
     "name": "stderr",
     "output_type": "stream",
     "text": [
      "2024-03-11 14:44:23.306164: I tensorflow/core/platform/cpu_feature_guard.cc:182] This TensorFlow binary is optimized to use available CPU instructions in performance-critical operations.\n",
      "To enable the following instructions: SSE4.1 SSE4.2 AVX AVX2 FMA, in other operations, rebuild TensorFlow with the appropriate compiler flags.\n"
     ]
    }
   ],
   "source": [
    "import numpy as np\n",
    "import pandas as pd\n",
    "import matplotlib.pyplot as plt\n",
    "\n",
    "import tensorflow as tf\n",
    "import tensorflow_hub as hub\n"
   ]
  },
  {
   "cell_type": "code",
   "execution_count": 2,
   "metadata": {},
   "outputs": [],
   "source": [
    "df = pd.read_csv('dataset.csv', usecols = ['par_id', 'paragraph', 'has_entity', 'lexicon_count', 'difficult_words', 'last_editor_gender', 'category', 'text_clarity'])"
   ]
  },
  {
   "cell_type": "code",
   "execution_count": 3,
   "metadata": {},
   "outputs": [
    {
     "data": {
      "text/html": [
       "<div>\n",
       "<style scoped>\n",
       "    .dataframe tbody tr th:only-of-type {\n",
       "        vertical-align: middle;\n",
       "    }\n",
       "\n",
       "    .dataframe tbody tr th {\n",
       "        vertical-align: top;\n",
       "    }\n",
       "\n",
       "    .dataframe thead th {\n",
       "        text-align: right;\n",
       "    }\n",
       "</style>\n",
       "<table border=\"1\" class=\"dataframe\">\n",
       "  <thead>\n",
       "    <tr style=\"text-align: right;\">\n",
       "      <th></th>\n",
       "      <th>par_id</th>\n",
       "      <th>paragraph</th>\n",
       "      <th>has_entity</th>\n",
       "      <th>lexicon_count</th>\n",
       "      <th>difficult_words</th>\n",
       "      <th>last_editor_gender</th>\n",
       "      <th>category</th>\n",
       "      <th>text_clarity</th>\n",
       "    </tr>\n",
       "  </thead>\n",
       "  <tbody>\n",
       "    <tr>\n",
       "      <th>0</th>\n",
       "      <td>428209002237</td>\n",
       "      <td>Ramsay was born in Glasgow on 2 October 1852. ...</td>\n",
       "      <td>ORG_YES_PRODUCT_NO_PERSON_YES_</td>\n",
       "      <td>49</td>\n",
       "      <td>12.0</td>\n",
       "      <td>man</td>\n",
       "      <td>biographies</td>\n",
       "      <td>clear_enough</td>\n",
       "    </tr>\n",
       "    <tr>\n",
       "      <th>1</th>\n",
       "      <td>564218010072</td>\n",
       "      <td>It has been widely estimated for at least the ...</td>\n",
       "      <td>ORG_YES_PRODUCT_NO_PERSON_NO_</td>\n",
       "      <td>166</td>\n",
       "      <td>47.0</td>\n",
       "      <td>man</td>\n",
       "      <td>artificial intelligence</td>\n",
       "      <td>not_clear_enough</td>\n",
       "    </tr>\n",
       "    <tr>\n",
       "      <th>2</th>\n",
       "      <td>291401001672</td>\n",
       "      <td>He went on to win the Royal Medal of the Royal...</td>\n",
       "      <td>ORG_YES_PRODUCT_NO_PERSON_NO_</td>\n",
       "      <td>69</td>\n",
       "      <td>18.0</td>\n",
       "      <td>non-binary</td>\n",
       "      <td>biographies</td>\n",
       "      <td>clear_enough</td>\n",
       "    </tr>\n",
       "    <tr>\n",
       "      <th>3</th>\n",
       "      <td>31548004883</td>\n",
       "      <td>The changes have altered many underlying assum...</td>\n",
       "      <td>ORG_NO_PRODUCT_YES_PERSON_NO_</td>\n",
       "      <td>76</td>\n",
       "      <td>27.0</td>\n",
       "      <td>non-binary</td>\n",
       "      <td>programming</td>\n",
       "      <td>clear_enough</td>\n",
       "    </tr>\n",
       "    <tr>\n",
       "      <th>4</th>\n",
       "      <td>50634005146</td>\n",
       "      <td>After these novels were published, Disraeli de...</td>\n",
       "      <td>ORG_YES_PRODUCT_YES_PERSON_YES_</td>\n",
       "      <td>200</td>\n",
       "      <td>47.0</td>\n",
       "      <td>man</td>\n",
       "      <td>biographies</td>\n",
       "      <td>not_clear_enough</td>\n",
       "    </tr>\n",
       "  </tbody>\n",
       "</table>\n",
       "</div>"
      ],
      "text/plain": [
       "         par_id                                          paragraph  \\\n",
       "0  428209002237  Ramsay was born in Glasgow on 2 October 1852. ...   \n",
       "1  564218010072  It has been widely estimated for at least the ...   \n",
       "2  291401001672  He went on to win the Royal Medal of the Royal...   \n",
       "3   31548004883  The changes have altered many underlying assum...   \n",
       "4   50634005146  After these novels were published, Disraeli de...   \n",
       "\n",
       "                        has_entity  lexicon_count  difficult_words  \\\n",
       "0   ORG_YES_PRODUCT_NO_PERSON_YES_             49             12.0   \n",
       "1    ORG_YES_PRODUCT_NO_PERSON_NO_            166             47.0   \n",
       "2    ORG_YES_PRODUCT_NO_PERSON_NO_             69             18.0   \n",
       "3    ORG_NO_PRODUCT_YES_PERSON_NO_             76             27.0   \n",
       "4  ORG_YES_PRODUCT_YES_PERSON_YES_            200             47.0   \n",
       "\n",
       "  last_editor_gender                 category      text_clarity  \n",
       "0                man              biographies      clear_enough  \n",
       "1                man  artificial intelligence  not_clear_enough  \n",
       "2         non-binary              biographies      clear_enough  \n",
       "3         non-binary              programming      clear_enough  \n",
       "4                man              biographies  not_clear_enough  "
      ]
     },
     "execution_count": 3,
     "metadata": {},
     "output_type": "execute_result"
    }
   ],
   "source": [
    "df.head()"
   ]
  },
  {
   "cell_type": "code",
   "execution_count": null,
   "metadata": {},
   "outputs": [],
   "source": []
  }
 ],
 "metadata": {
  "kernelspec": {
   "display_name": "COMP1804-AML",
   "language": "python",
   "name": "comp1804-aml"
  },
  "language_info": {
   "codemirror_mode": {
    "name": "ipython",
    "version": 3
   },
   "file_extension": ".py",
   "mimetype": "text/x-python",
   "name": "python",
   "nbconvert_exporter": "python",
   "pygments_lexer": "ipython3",
   "version": "3.9.18"
  }
 },
 "nbformat": 4,
 "nbformat_minor": 2
}
