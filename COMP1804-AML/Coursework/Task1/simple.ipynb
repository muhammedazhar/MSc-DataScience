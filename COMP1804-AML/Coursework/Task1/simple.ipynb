{
 "cells": [
  {
   "cell_type": "markdown",
   "metadata": {},
   "source": [
    "%pip install spacy textblob swifter"
   ]
  },
  {
   "cell_type": "code",
   "execution_count": 26,
   "metadata": {},
   "outputs": [],
   "source": [
    "# Import necessary libraries\n",
    "try:\n",
    "    import json\n",
    "    import os\n",
    "    import pandas as pd\n",
    "    import numpy as np\n",
    "    import spacy\n",
    "    import swifter  # For applying functions in a fast and efficient way\n",
    "    \n",
    "    # Visualization libraries\n",
    "    import seaborn as sns\n",
    "    import matplotlib.pyplot as plt\n",
    "    \n",
    "    # Text processing libraries\n",
    "    import string\n",
    "    from tqdm import tqdm  # For progress bars\n",
    "    from textblob import TextBlob\n",
    "    import nltk\n",
    "    from nltk.corpus import stopwords\n",
    "    from nltk.stem import WordNetLemmatizer\n",
    "    from nltk.tokenize import word_tokenize\n",
    "    import re\n",
    "    \n",
    "    # Machine learning libraries\n",
    "    from sklearn.model_selection import train_test_split\n",
    "    from sklearn.preprocessing import LabelEncoder\n",
    "    from sklearn.feature_extraction.text import CountVectorizer, TfidfVectorizer, TfidfTransformer\n",
    "    from sklearn.naive_bayes import MultinomialNB\n",
    "    from sklearn.pipeline import Pipeline\n",
    "    from imblearn.over_sampling import SMOTE\n",
    "    from imblearn.pipeline import Pipeline as IMBPipeline\n",
    "    from imblearn.under_sampling import RandomUnderSampler\n",
    "    \n",
    "    # Custom transformers for pipeline\n",
    "    from sklearn.preprocessing import FunctionTransformer\n",
    "    from sklearn.base import BaseEstimator, TransformerMixin\n",
    "    from sklearn.pipeline import FeatureUnion\n",
    "    from sklearn.feature_extraction import DictVectorizer\n",
    "\n",
    "    # Setting seaborn theme for better visuals\n",
    "    sns.set_theme(style=\"whitegrid\")\n",
    "\n",
    "    # Enabling progress_apply for pandas series via tqdm\n",
    "    tqdm.pandas()\n",
    "\n",
    "# Catching and printing any exception that occurs during the import process\n",
    "except Exception as e:\n",
    "    print(f\"Error : {e}\")"
   ]
  },
  {
   "cell_type": "code",
   "execution_count": 27,
   "metadata": {},
   "outputs": [
    {
     "name": "stdout",
     "output_type": "stream",
     "text": [
      "NLTK resource \"punkt\" downloaded.\n",
      "NLTK resource \"stopwords\" downloaded.\n",
      "NLTK resource \"averaged_perceptron_tagger\" downloaded.\n",
      "NLTK resource \"wordnet\" downloaded.\n",
      "All required NLTK resources are ready.\n"
     ]
    }
   ],
   "source": [
    "# Improved function to download and verify necessary NLTK resources\n",
    "def download_nltk_resources():\n",
    "    # Specifying the NLTK resources required for various NLP tasks\n",
    "    resources = ['punkt', 'stopwords', 'averaged_perceptron_tagger', 'wordnet']  # Needed for tokenization, stopwords removal, POS tagging, and lemmatization respectively\n",
    "\n",
    "    # Iterating over each resource to check its presence, and download if missing\n",
    "    for resource in resources:\n",
    "        try:\n",
    "            # Check if the resource is already downloaded to avoid re-downloading\n",
    "            nltk.data.find(f'tokenizers/punkt/{resource}.pickle')\n",
    "        except LookupError:\n",
    "            # Resource not found; proceed to download\n",
    "            nltk.download(resource, quiet=True)  # quiet=True suppresses the output to keep the log cleaner\n",
    "            print(f'NLTK resource \"{resource}\" downloaded.')\n",
    "\n",
    "    # Notification upon successful verification or download of all resources\n",
    "    print('All required NLTK resources are ready.')\n",
    "'''\n",
    "\t- This code is copied from my previous college project. It is called Lazy Loading NLTK Resources. \n",
    "\t- The idea behind it was that we don't need to download all the resources at once.\n",
    "\t- We can download them as and when needed.\n",
    "\t- This way, we can save time and space by downloading only the necessary resources.\n",
    "'''\n",
    "\n",
    "# Initiating the download and verification of NLTK resources\n",
    "download_nltk_resources()"
   ]
  },
  {
   "cell_type": "code",
   "execution_count": 28,
   "metadata": {},
   "outputs": [
    {
     "name": "stdout",
     "output_type": "stream",
     "text": [
      "9347 rows and 8 columns (without 'text_clarity') loaded successfully for Task 1, including newly added 'index' column.\n"
     ]
    }
   ],
   "source": [
    "# Function to load and preprocess the dataset for Task 1\n",
    "def load_t1_df(filename):\n",
    "    # Define the columns to be loaded from the file\n",
    "    columns = ['par_id', 'paragraph', 'has_entity', 'lexicon_count', 'difficult_words', 'last_editor_gender', 'category']\n",
    "    # Load the dataset with specified columns\n",
    "    df = pd.read_csv(filename, usecols=columns)\n",
    "    # Add an 'index' column that starts from 1\n",
    "    df['index'] = df.index + 1\n",
    "    # Check if the DataFrame is empty and print a message accordingly\n",
    "    if not df.empty:\n",
    "        print(f\"{df.shape[0]} rows and {df.shape[1]} columns (without 'text_clarity') loaded successfully for Task 1, including newly added 'index' column.\")\n",
    "    else:\n",
    "        print(\"The dataset is empty.\")\n",
    "    return df\n",
    "\n",
    "# Function to load and preprocess the dataset for Task 2\n",
    "def load_t2_df(filename):\n",
    "    columns = ['par_id', 'paragraph', 'has_entity', 'lexicon_count', 'difficult_words', 'last_editor_gender', 'category', 'text_clarity']\n",
    "    # Load the dataset with specified columns\n",
    "    df = pd.read_csv(filename, usecols=columns)\n",
    "    # Add an 'index' column that starts from 1\n",
    "    df['index'] = df.index + 1\n",
    "    # Check if the DataFrame is empty and print a message accordingly\n",
    "    if not df.empty:\n",
    "        print(f\"{df.shape[0]} rows and {df.shape[1]} columns loaded successfully for Task 2, including newly added 'index' column.\")\n",
    "    else:\n",
    "        print(\"The dataset is empty.\")\n",
    "    return df\n",
    "\n",
    "'''\n",
    "\t- Function usage: df = load_t1_df('filename_with_path')\n",
    "\t- Replace `filename_with_path` with your original value.\n",
    "'''\n",
    "\n",
    "df = load_t1_df('../Datasets/dataset.csv')"
   ]
  },
  {
   "cell_type": "code",
   "execution_count": 29,
   "metadata": {},
   "outputs": [
    {
     "name": "stdout",
     "output_type": "stream",
     "text": [
      "-------------------------------------------------------\n",
      "Initial shape: (9347, 8). Checking for missing values...\n",
      "par_id                 0\n",
      "paragraph              0\n",
      "has_entity             0\n",
      "lexicon_count          0\n",
      "difficult_words       18\n",
      "last_editor_gender     0\n",
      "category              61\n",
      "index                  0\n",
      "dtype: int64\n",
      "-------------------------------------------------------\n",
      "Removing rows with missing values...\n",
      "difficult_words    18\n",
      "category           61\n",
      "dtype: int64\n",
      "-------------------------------------------------------\n",
      "Updated shape: (9268, 8). Verifying no missing values remain...\n",
      "par_id                0\n",
      "paragraph             0\n",
      "has_entity            0\n",
      "lexicon_count         0\n",
      "difficult_words       0\n",
      "last_editor_gender    0\n",
      "category              0\n",
      "index                 0\n",
      "dtype: int64\n",
      "-------------------------------------------------------\n"
     ]
    }
   ],
   "source": [
    "def clean_df(df):\n",
    "    # Print initial shape and missing values count\n",
    "    print(\"-\" * 55)\n",
    "    print(f'Initial shape: {df.shape}. Checking for missing values...')\n",
    "    missing_values_initial = df.isnull().sum()\n",
    "    print(missing_values_initial)\n",
    "    print(\"-\" * 55)\n",
    "\n",
    "    # Remove rows with missing values\n",
    "    df_cleaned = df.dropna(subset=df.columns.difference(['text_clarity']))\n",
    "    print('Removing rows with missing values...')\n",
    "    print(missing_values_initial[missing_values_initial > 0])  # Print only columns with missing values\n",
    "\n",
    "    # Print shape after removal and verify no missing values\n",
    "    print(\"-\" * 55)\n",
    "    print(f'Updated shape: {df_cleaned.shape}. Verifying no missing values remain...')\n",
    "    missing_values_final = df_cleaned.isnull().sum()\n",
    "    print(missing_values_final)\n",
    "    print(\"-\" * 55)\n",
    "\n",
    "    return df_cleaned\n",
    "\n",
    "'''\n",
    "\t- Function usage: df = clean_df(df)\n",
    "\t- Replace `df` with your original DataFrame.\n",
    "'''\n",
    "\n",
    "df = clean_df(df)"
   ]
  },
  {
   "cell_type": "code",
   "execution_count": 30,
   "metadata": {},
   "outputs": [
    {
     "name": "stdout",
     "output_type": "stream",
     "text": [
      "-------------------------------------------------------\n",
      "Checking for unique values in the \"category\" column:\n",
      "['biographies' 'artificial intelligence' 'programming' 'philosophy'\n",
      " 'movies about artificial intelligence' 'Philosophy' 'Programming'\n",
      " 'Artificial intelligence' 'Biographies'\n",
      " 'Movies about artificial intelligence']\n",
      "\n",
      "Fixed the case of the \"category\" column, unique values now:\n",
      "['biographies' 'artificial intelligence' 'programming' 'philosophy'\n",
      " 'movies about artificial intelligence']\n",
      "-------------------------------------------------------\n",
      "-------------------------------------------------------\n",
      "Checking for unique values in the \"has_entity\" column:\n",
      "['ORG_YES_PRODUCT_NO_PERSON_YES_' 'ORG_YES_PRODUCT_NO_PERSON_NO_'\n",
      " 'ORG_NO_PRODUCT_YES_PERSON_NO_' 'ORG_YES_PRODUCT_YES_PERSON_YES_'\n",
      " 'ORG_NO_PRODUCT_NO_PERSON_NO_' 'ORG_NO_PRODUCT_YES_PERSON_YES_'\n",
      " 'ORG_NO_PRODUCT_NO_PERSON_YES_' 'ORG_YES_PRODUCT_YES_PERSON_NO_'\n",
      " 'data missing']\n",
      "\n",
      "Removed rows with \"data missing\" in the \"has_entity\" column, unique values now:\n",
      "['ORG_YES_PRODUCT_NO_PERSON_YES_' 'ORG_YES_PRODUCT_NO_PERSON_NO_'\n",
      " 'ORG_NO_PRODUCT_YES_PERSON_NO_' 'ORG_YES_PRODUCT_YES_PERSON_YES_'\n",
      " 'ORG_NO_PRODUCT_NO_PERSON_NO_' 'ORG_NO_PRODUCT_YES_PERSON_YES_'\n",
      " 'ORG_NO_PRODUCT_NO_PERSON_YES_' 'ORG_YES_PRODUCT_YES_PERSON_NO_']\n",
      "-------------------------------------------------------\n"
     ]
    }
   ],
   "source": [
    "def process_df(df):\n",
    "    # Standardize 'category' column to lowercase\n",
    "    print(\"-\" * 55)\n",
    "    print('Checking for unique values in the \"category\" column:')\n",
    "    print(df['category'].unique())\n",
    "    df['category'] = df['category'].str.lower()\n",
    "    print('\\nFixed the case of the \"category\" column, unique values now:')\n",
    "    print(df['category'].unique())\n",
    "    print(\"-\" * 55)\n",
    "\n",
    "    # Remove rows where 'has_entity' column has 'data missing'\n",
    "    print(\"-\" * 55)\n",
    "    print('Checking for unique values in the \"has_entity\" column:')\n",
    "    print(df['has_entity'].unique())\n",
    "    df = df[df['has_entity'] != 'data missing']\n",
    "    print('\\nRemoved rows with \"data missing\" in the \"has_entity\" column, unique values now:')\n",
    "    print(df['has_entity'].unique())\n",
    "    print(\"-\" * 55)\n",
    "\n",
    "    return df\n",
    "\n",
    "'''\n",
    "\t- Function usage: df = process_df(df)\n",
    "\t- Replace `df` with your original DataFrame.\n",
    "'''\n",
    "\n",
    "df = process_df(df)"
   ]
  },
  {
   "cell_type": "code",
   "execution_count": 31,
   "metadata": {},
   "outputs": [
    {
     "name": "stdout",
     "output_type": "stream",
     "text": [
      "-------------------------------------------------------\n",
      "Preview of the 'has_entity' column and the new binary columns:\n",
      "                        has_entity  ORG  PRODUCT  PERSON\n",
      "0   ORG_YES_PRODUCT_NO_PERSON_YES_    1        0       1\n",
      "1    ORG_YES_PRODUCT_NO_PERSON_NO_    1        0       0\n",
      "2    ORG_YES_PRODUCT_NO_PERSON_NO_    1        0       0\n",
      "3    ORG_NO_PRODUCT_YES_PERSON_NO_    0        1       0\n",
      "4  ORG_YES_PRODUCT_YES_PERSON_YES_    1        1       1\n",
      "-------------------------------------------------------\n"
     ]
    }
   ],
   "source": [
    "# Transform the \"has_entity\" column into three binary columns for entity types\n",
    "def split_entity_column(df):\n",
    "    # Create binary columns based on the presence of specific entity types in the 'has_entity' column\n",
    "    df['ORG'] = df['has_entity'].apply(lambda x: 'ORG_YES' in x).astype(int)\n",
    "    df['PRODUCT'] = df['has_entity'].apply(lambda x: 'PRODUCT_YES' in x).astype(int)\n",
    "    df['PERSON'] = df['has_entity'].apply(lambda x: 'PERSON_YES' in x).astype(int)\n",
    "\n",
    "    # Display the first few rows to verify the newly added binary columns alongside the 'has_entity' column\n",
    "    print(\"-\" * 55)\n",
    "    print(\"Preview of the 'has_entity' column and the new binary columns:\")\n",
    "    print(df[['has_entity', 'ORG', 'PRODUCT', 'PERSON']].head())\n",
    "    print(\"-\" * 55)\n",
    "\n",
    "    return df\n",
    "\n",
    "'''\n",
    "\t- Function usage: df = split_entity_column(df)\n",
    "\t- Replace `df` with your original DataFrame.\n",
    "'''\n",
    "\n",
    "df = split_entity_column(df)\n"
   ]
  },
  {
   "cell_type": "code",
   "execution_count": 32,
   "metadata": {},
   "outputs": [
    {
     "name": "stdout",
     "output_type": "stream",
     "text": [
      "-------------------------------------------------------\n",
      "Original paragraph:\n",
      " Ramsay was born in Glasgow on 2 October 1852. He was a nephew of the geologist Sir Andrew Ramsay. His father, William, Sr., was a civil engineer. His mother was Catherine Robertson. He studied at Glasgow Academy, at the University of Glasgow and at University of Tubingen in Germany. \n",
      "\n",
      "Cleaned paragraph:\n",
      " Ramsay was born in Glasgow on October He was a nephew of the geologist Sir Andrew Ramsay His father William Sr was a civil engineer His mother was Catherine Robertson He studied at Glasgow Academy at the University of Glasgow and at University of Tubingen in Germany\n",
      "-------------------------------------------------------\n"
     ]
    }
   ],
   "source": [
    "def clean_text(text):\n",
    "    # Remove punctuation marks and special characters\n",
    "    text = re.sub(r'[^a-zA-Z\\s]', '', text)\n",
    "    # Remove numbers\n",
    "    text = re.sub(r'\\d+', '', text)\n",
    "    # Remove extra whitespaces\n",
    "    text = re.sub(r'\\s+', ' ', text).strip()\n",
    "    return text\n",
    "\n",
    "def clean_column(df, column_name):\n",
    "    # Ensure the column exists in the DataFrame\n",
    "    if column_name in df.columns:\n",
    "        unclean = df[column_name]\n",
    "        df[column_name + '_cleaned'] = df[column_name].apply(clean_text)\n",
    "        clean = df[column_name + '_cleaned']\n",
    "        print(\"-\"*55)\n",
    "        print(\"Original paragraph:\\n\", unclean.iloc[0])\n",
    "        print(\"\\nCleaned paragraph:\\n\", clean.iloc[0])\n",
    "        print(\"-\"*55)\n",
    "    else:\n",
    "        print(f\"The column '{column_name}' does not exist in the DataFrame.\")\n",
    "    return df\n",
    "\n",
    "'''\n",
    "\t- Function usage: df = clean_column(df, 'paragraph')\n",
    "\t- Replace `paragraph` with your original value.\n",
    "'''\n",
    "\n",
    "df = clean_column(df, 'paragraph')"
   ]
  },
  {
   "cell_type": "code",
   "execution_count": 33,
   "metadata": {},
   "outputs": [
    {
     "name": "stdout",
     "output_type": "stream",
     "text": [
      "<class 'pandas.core.frame.DataFrame'>\n",
      "Index: 9244 entries, 0 to 9346\n",
      "Data columns (total 12 columns):\n",
      " #   Column              Non-Null Count  Dtype  \n",
      "---  ------              --------------  -----  \n",
      " 0   par_id              9244 non-null   int64  \n",
      " 1   paragraph           9244 non-null   object \n",
      " 2   has_entity          9244 non-null   object \n",
      " 3   lexicon_count       9244 non-null   int64  \n",
      " 4   difficult_words     9244 non-null   float64\n",
      " 5   last_editor_gender  9244 non-null   object \n",
      " 6   category            9244 non-null   object \n",
      " 7   index               9244 non-null   int64  \n",
      " 8   ORG                 9244 non-null   int64  \n",
      " 9   PRODUCT             9244 non-null   int64  \n",
      " 10  PERSON              9244 non-null   int64  \n",
      " 11  paragraph_cleaned   9244 non-null   object \n",
      "dtypes: float64(1), int64(6), object(5)\n",
      "memory usage: 938.8+ KB\n"
     ]
    }
   ],
   "source": [
    "df.info()"
   ]
  },
  {
   "cell_type": "code",
   "execution_count": 34,
   "metadata": {},
   "outputs": [
    {
     "name": "stdout",
     "output_type": "stream",
     "text": [
      "-------------------------------------------------------\n",
      "Cleaned paragraph:\n",
      " Ramsay was born in Glasgow on October He was a nephew of the geologist Sir Andrew Ramsay His father William Sr was a civil engineer His mother was Catherine Robertson He studied at Glasgow Academy at the University of Glasgow and at University of Tubingen in Germany\n",
      "\n",
      "Tokenized paragraph:\n",
      " ['Ramsay', 'was', 'born', 'in', 'Glasgow', 'on', 'October', 'He', 'was', 'a', 'nephew', 'of', 'the', 'geologist', 'Sir', 'Andrew', 'Ramsay', 'His', 'father', 'William', 'Sr', 'was', 'a', 'civil', 'engineer', 'His', 'mother', 'was', 'Catherine', 'Robertson', 'He', 'studied', 'at', 'Glasgow', 'Academy', 'at', 'the', 'University', 'of', 'Glasgow', 'and', 'at', 'University', 'of', 'Tubingen', 'in', 'Germany']\n",
      "-------------------------------------------------------\n"
     ]
    }
   ],
   "source": [
    "# Tokenize each paragraph and store the tokens in a new column 'tokenized_paragraph'\n",
    "def tokenize_column(df, column_name):\n",
    "    # Ensure the column exists in the DataFrame\n",
    "    if column_name in df.columns:\n",
    "        clean = df[column_name]\n",
    "        df[column_name + '_tokenized'] = df[column_name].apply(lambda x: word_tokenize(x))\n",
    "        tokenized = df[column_name + '_tokenized']\n",
    "        print(\"-\"*55)\n",
    "        print(\"Cleaned paragraph:\\n\", clean.iloc[0])\n",
    "        print(\"\\nTokenized paragraph:\\n\", tokenized.iloc[0])\n",
    "        print(\"-\"*55)\n",
    "    else:\n",
    "        print(f\"The column '{column_name}' does not exist in the DataFrame.\")\n",
    "    return df\n",
    "\n",
    "'''\n",
    "\t- Function usage: df = clean_column(df, 'paragraph')\n",
    "\t- Replace `paragraph` with your original value.\n",
    "'''\n",
    "\n",
    "df = tokenize_column(df, 'paragraph_cleaned')"
   ]
  },
  {
   "cell_type": "code",
   "execution_count": 35,
   "metadata": {},
   "outputs": [
    {
     "name": "stdout",
     "output_type": "stream",
     "text": [
      "<class 'pandas.core.frame.DataFrame'>\n",
      "Index: 9244 entries, 0 to 9346\n",
      "Data columns (total 13 columns):\n",
      " #   Column                       Non-Null Count  Dtype  \n",
      "---  ------                       --------------  -----  \n",
      " 0   par_id                       9244 non-null   int64  \n",
      " 1   paragraph                    9244 non-null   object \n",
      " 2   has_entity                   9244 non-null   object \n",
      " 3   lexicon_count                9244 non-null   int64  \n",
      " 4   difficult_words              9244 non-null   float64\n",
      " 5   last_editor_gender           9244 non-null   object \n",
      " 6   category                     9244 non-null   object \n",
      " 7   index                        9244 non-null   int64  \n",
      " 8   ORG                          9244 non-null   int64  \n",
      " 9   PRODUCT                      9244 non-null   int64  \n",
      " 10  PERSON                       9244 non-null   int64  \n",
      " 11  paragraph_cleaned            9244 non-null   object \n",
      " 12  paragraph_cleaned_tokenized  9244 non-null   object \n",
      "dtypes: float64(1), int64(6), object(6)\n",
      "memory usage: 1011.1+ KB\n"
     ]
    }
   ],
   "source": [
    "df.info()"
   ]
  },
  {
   "cell_type": "code",
   "execution_count": 36,
   "metadata": {},
   "outputs": [
    {
     "name": "stdout",
     "output_type": "stream",
     "text": [
      "-------------------------------------------------------\n",
      "Imbalanced Category Distribution:\n",
      "category\n",
      "biographies                             2940\n",
      "philosophy                              2588\n",
      "programming                             1982\n",
      "artificial intelligence                 1568\n",
      "movies about artificial intelligence     166\n",
      "Name: count, dtype: int64\n",
      "-------------------------------------------------------\n"
     ]
    },
    {
     "name": "stderr",
     "output_type": "stream",
     "text": [
      "Exception ignored on calling ctypes callback function: <function _ThreadpoolInfo._find_modules_with_dl_iterate_phdr.<locals>.match_module_callback at 0x7f69e42061f0>\n",
      "Traceback (most recent call last):\n",
      "  File \"/opt/conda/envs/COMP1804-AML/lib/python3.9/site-packages/threadpoolctl.py\", line 400, in match_module_callback\n",
      "    def switch_backend(self, backend):\n",
      "  File \"/opt/conda/envs/COMP1804-AML/lib/python3.9/site-packages/threadpoolctl.py\", line 515, in _make_module_from_path\n",
      "    # Controllers for the libraries that we'll look for in the loaded libraries.\n",
      "  File \"/opt/conda/envs/COMP1804-AML/lib/python3.9/site-packages/threadpoolctl.py\", line 606, in __init__\n",
      "    \"\"\"Return an instance of this class that can be used as a decorator\"\"\"\n",
      "  File \"/opt/conda/envs/COMP1804-AML/lib/python3.9/site-packages/threadpoolctl.py\", line 646, in get_version\n",
      "    num_threads[user_api] = limit\n",
      "AttributeError: 'NoneType' object has no attribute 'split'\n",
      "Exception ignored on calling ctypes callback function: <function _ThreadpoolInfo._find_modules_with_dl_iterate_phdr.<locals>.match_module_callback at 0x7f69e42061f0>\n",
      "Traceback (most recent call last):\n",
      "  File \"/opt/conda/envs/COMP1804-AML/lib/python3.9/site-packages/threadpoolctl.py\", line 400, in match_module_callback\n",
      "    def switch_backend(self, backend):\n",
      "  File \"/opt/conda/envs/COMP1804-AML/lib/python3.9/site-packages/threadpoolctl.py\", line 515, in _make_module_from_path\n",
      "    # Controllers for the libraries that we'll look for in the loaded libraries.\n",
      "  File \"/opt/conda/envs/COMP1804-AML/lib/python3.9/site-packages/threadpoolctl.py\", line 606, in __init__\n",
      "    \"\"\"Return an instance of this class that can be used as a decorator\"\"\"\n",
      "  File \"/opt/conda/envs/COMP1804-AML/lib/python3.9/site-packages/threadpoolctl.py\", line 646, in get_version\n",
      "    num_threads[user_api] = limit\n",
      "AttributeError: 'NoneType' object has no attribute 'split'\n",
      "Exception ignored on calling ctypes callback function: <function _ThreadpoolInfo._find_modules_with_dl_iterate_phdr.<locals>.match_module_callback at 0x7f69e96edaf0>\n",
      "Traceback (most recent call last):\n",
      "  File \"/opt/conda/envs/COMP1804-AML/lib/python3.9/site-packages/threadpoolctl.py\", line 400, in match_module_callback\n",
      "    def switch_backend(self, backend):\n",
      "  File \"/opt/conda/envs/COMP1804-AML/lib/python3.9/site-packages/threadpoolctl.py\", line 515, in _make_module_from_path\n",
      "    # Controllers for the libraries that we'll look for in the loaded libraries.\n",
      "  File \"/opt/conda/envs/COMP1804-AML/lib/python3.9/site-packages/threadpoolctl.py\", line 606, in __init__\n",
      "    \"\"\"Return an instance of this class that can be used as a decorator\"\"\"\n",
      "  File \"/opt/conda/envs/COMP1804-AML/lib/python3.9/site-packages/threadpoolctl.py\", line 646, in get_version\n",
      "    num_threads[user_api] = limit\n",
      "AttributeError: 'NoneType' object has no attribute 'split'\n",
      "Exception ignored on calling ctypes callback function: <function _ThreadpoolInfo._find_modules_with_dl_iterate_phdr.<locals>.match_module_callback at 0x7f69e96edaf0>\n",
      "Traceback (most recent call last):\n",
      "  File \"/opt/conda/envs/COMP1804-AML/lib/python3.9/site-packages/threadpoolctl.py\", line 400, in match_module_callback\n",
      "    def switch_backend(self, backend):\n",
      "  File \"/opt/conda/envs/COMP1804-AML/lib/python3.9/site-packages/threadpoolctl.py\", line 515, in _make_module_from_path\n",
      "    # Controllers for the libraries that we'll look for in the loaded libraries.\n",
      "  File \"/opt/conda/envs/COMP1804-AML/lib/python3.9/site-packages/threadpoolctl.py\", line 606, in __init__\n",
      "    \"\"\"Return an instance of this class that can be used as a decorator\"\"\"\n",
      "  File \"/opt/conda/envs/COMP1804-AML/lib/python3.9/site-packages/threadpoolctl.py\", line 646, in get_version\n",
      "    num_threads[user_api] = limit\n",
      "AttributeError: 'NoneType' object has no attribute 'split'\n"
     ]
    },
    {
     "name": "stdout",
     "output_type": "stream",
     "text": [
      "-------------------------------------------------------\n",
      "Balanced Category Distribution:\n",
      "balanced_category\n",
      "artificial intelligence                 2940\n",
      "biographies                             2940\n",
      "movies about artificial intelligence    2940\n",
      "philosophy                              2940\n",
      "programming                             2940\n",
      "Name: count, dtype: int64\n",
      "-------------------------------------------------------\n"
     ]
    },
    {
     "data": {
      "image/png": "[encoded data removed]",
      "text/plain": [
       "<Figure size 1600x800 with 2 Axes>"
      ]
     },
     "metadata": {},
     "output_type": "display_data"
    }
   ],
   "source": [
    "# Displaying the imbalanced category distribution\n",
    "from torch import mode\n",
    "\n",
    "\n",
    "print(\"-\"*55)\n",
    "print(\"Imbalanced Category Distribution:\")\n",
    "print(df['category'].value_counts())\n",
    "print(\"-\"*55)\n",
    "\n",
    "# Encode the labels\n",
    "encoder = LabelEncoder()\n",
    "y_encoded = encoder.fit_transform(df['category'])\n",
    "df['paragraph_cleaned_tokenized_str'] = df['paragraph_cleaned_tokenized'].apply(lambda x: ' '.join(x))\n",
    "X_text = df['paragraph_cleaned']\n",
    "\n",
    "# Vectorizing the text data\n",
    "tfidf_vectorizer = TfidfVectorizer(stop_words='english', max_features=1000)\n",
    "X_vectorized = tfidf_vectorizer.fit_transform(X_text)\n",
    "\n",
    "def get_measure_value(class_counts, measure_type):\n",
    "    if measure_type == 'mean':\n",
    "        return class_counts.mean()\n",
    "    elif measure_type == 'median':\n",
    "        return class_counts.median()\n",
    "    elif measure_type == 'mode':\n",
    "        return class_counts.mode()[0] if len(class_counts.mode()) > 0 else None\n",
    "    elif measure_type == 'max':\n",
    "        return class_counts.max()\n",
    "    else:\n",
    "        raise ValueError(f\"Invalid measure_type: {measure_type}\")\n",
    "\n",
    "# Calculate the count of instances in each class\n",
    "class_counts = df['category'].value_counts()\n",
    "\n",
    "# TODO: Mean/median/mode/max calculation result\n",
    "# Set the measure type according to your need\n",
    "measure_type = 'max'  # Choose median or 'mean', 'mode', 'max'\n",
    "\n",
    "# Get the measure value\n",
    "set_count = get_measure_value(class_counts, measure_type)\n",
    "\n",
    "# Define minority_classes as those with counts less than the set_count\n",
    "minority_classes = class_counts[class_counts < set_count].index.tolist()\n",
    "majority_classes = class_counts[class_counts >= set_count].index.tolist()\n",
    "\n",
    "# Encode class names to their numeric labels\n",
    "encoded_minority_classes = encoder.transform(minority_classes)\n",
    "encoded_majority_classes = encoder.transform(majority_classes)\n",
    "\n",
    "# Create sampling strategy dictionaries using encoded labels\n",
    "sampling_strategy_over_encoded = {label: int(set_count) for label in encoded_minority_classes}\n",
    "sampling_strategy_under_encoded = {label: int(set_count) for label in encoded_majority_classes}\n",
    "\n",
    "# Create the resampling pipeline with adjusted strategies\n",
    "resampling_pipeline = IMBPipeline([\n",
    "    ('smote', SMOTE(sampling_strategy=sampling_strategy_over_encoded, random_state=42)),\n",
    "    ('under', RandomUnderSampler(sampling_strategy=sampling_strategy_under_encoded, random_state=42))\n",
    "])\n",
    "\n",
    "# Proceed with resampling\n",
    "X_resampled, y_resampled = resampling_pipeline.fit_resample(X_vectorized, y_encoded)\n",
    "\n",
    "# Decode the labels back to original category names after resampling\n",
    "y_resampled_decoded = encoder.inverse_transform(y_resampled)\n",
    "\n",
    "# Create a DataFrame to display the before and after category distribution\n",
    "resampled_df = pd.DataFrame(y_resampled_decoded, columns=['balanced_category'])\n",
    "\n",
    "print(\"-\"*55)\n",
    "print(\"Balanced Category Distribution:\")\n",
    "print(resampled_df['balanced_category'].value_counts())\n",
    "print(\"-\"*55)\n",
    "\n",
    "# Count the occurrences of each category in the original and resampled data\n",
    "original_category_counts = df['category'].value_counts()\n",
    "resampled_category_counts = resampled_df['balanced_category'].value_counts()\n",
    "\n",
    "# Create a figure with two subplots\n",
    "plt.figure(figsize=(16, 8))\n",
    "\n",
    "# Create the first pie chart for original data\n",
    "plt.subplot(1, 2, 1)\n",
    "plt.pie(original_category_counts.values, labels=original_category_counts.index, autopct='%1.1f%%')\n",
    "plt.title('Distribution of Categories in Original Data')\n",
    "\n",
    "# Create the second pie chart for resampled data\n",
    "plt.subplot(1, 2, 2)\n",
    "plt.pie(resampled_category_counts.values, labels=resampled_category_counts.index, autopct='%1.1f%%')\n",
    "plt.title('Distribution of Categories in Resampled Data')\n",
    "\n",
    "plt.show()"
   ]
  },
  {
   "cell_type": "code",
   "execution_count": 37,
   "metadata": {},
   "outputs": [],
   "source": [
    "# Separating the features and labels\n",
    "X = df.drop(['category', 'par_id', 'lexicon_count', 'difficult_words', 'last_editor_gender', 'index'], axis=1)\n",
    "y = df['category']\n",
    "\n",
    "# Handling the `has_entity` feature by converting into a numerical format\n",
    "X = pd.get_dummies(X, columns=['has_entity'])\n",
    "\n",
    "encoder = LabelEncoder()\n",
    "\n",
    "y = encoder.fit_transform(y)\n",
    "\n",
    "from sklearn.model_selection import train_test_split\n",
    "x_train, x_test, y_train, y_test = train_test_split(X, y, test_size=0.2, stratify=y)\n",
    "\n",
    "v = dict(zip(list(y), df['category'].to_list()))"
   ]
  },
  {
   "cell_type": "code",
   "execution_count": 38,
   "metadata": {},
   "outputs": [],
   "source": [
    "text_clf = Pipeline([\n",
    "    ('vect', CountVectorizer(analyzer=\"word\", stop_words=\"english\")),\n",
    "    ('tfidf', TfidfTransformer(use_idf=True)), \n",
    "    ('clf', MultinomialNB(alpha=.01)),\n",
    "])"
   ]
  },
  {
   "cell_type": "code",
   "execution_count": 39,
   "metadata": {},
   "outputs": [
    {
     "data": {
      "text/html": [
       "<style>#sk-container-id-1 {color: black;}#sk-container-id-1 pre{padding: 0;}#sk-container-id-1 div.sk-toggleable {background-color: white;}#sk-container-id-1 label.sk-toggleable__label {cursor: pointer;display: block;width: 100%;margin-bottom: 0;padding: 0.3em;box-sizing: border-box;text-align: center;}#sk-container-id-1 label.sk-toggleable__label-arrow:before {content: \"▸\";float: left;margin-right: 0.25em;color: #696969;}#sk-container-id-1 label.sk-toggleable__label-arrow:hover:before {color: black;}#sk-container-id-1 div.sk-estimator:hover label.sk-toggleable__label-arrow:before {color: black;}#sk-container-id-1 div.sk-toggleable__content {max-height: 0;max-width: 0;overflow: hidden;text-align: left;background-color: #f0f8ff;}#sk-container-id-1 div.sk-toggleable__content pre {margin: 0.2em;color: black;border-radius: 0.25em;background-color: #f0f8ff;}#sk-container-id-1 input.sk-toggleable__control:checked~div.sk-toggleable__content {max-height: 200px;max-width: 100%;overflow: auto;}#sk-container-id-1 input.sk-toggleable__control:checked~label.sk-toggleable__label-arrow:before {content: \"▾\";}#sk-container-id-1 div.sk-estimator input.sk-toggleable__control:checked~label.sk-toggleable__label {background-color: #d4ebff;}#sk-container-id-1 div.sk-label input.sk-toggleable__control:checked~label.sk-toggleable__label {background-color: #d4ebff;}#sk-container-id-1 input.sk-hidden--visually {border: 0;clip: rect(1px 1px 1px 1px);clip: rect(1px, 1px, 1px, 1px);height: 1px;margin: -1px;overflow: hidden;padding: 0;position: absolute;width: 1px;}#sk-container-id-1 div.sk-estimator {font-family: monospace;background-color: #f0f8ff;border: 1px dotted black;border-radius: 0.25em;box-sizing: border-box;margin-bottom: 0.5em;}#sk-container-id-1 div.sk-estimator:hover {background-color: #d4ebff;}#sk-container-id-1 div.sk-parallel-item::after {content: \"\";width: 100%;border-bottom: 1px solid gray;flex-grow: 1;}#sk-container-id-1 div.sk-label:hover label.sk-toggleable__label {background-color: #d4ebff;}#sk-container-id-1 div.sk-serial::before {content: \"\";position: absolute;border-left: 1px solid gray;box-sizing: border-box;top: 0;bottom: 0;left: 50%;z-index: 0;}#sk-container-id-1 div.sk-serial {display: flex;flex-direction: column;align-items: center;background-color: white;padding-right: 0.2em;padding-left: 0.2em;position: relative;}#sk-container-id-1 div.sk-item {position: relative;z-index: 1;}#sk-container-id-1 div.sk-parallel {display: flex;align-items: stretch;justify-content: center;background-color: white;position: relative;}#sk-container-id-1 div.sk-item::before, #sk-container-id-1 div.sk-parallel-item::before {content: \"\";position: absolute;border-left: 1px solid gray;box-sizing: border-box;top: 0;bottom: 0;left: 50%;z-index: -1;}#sk-container-id-1 div.sk-parallel-item {display: flex;flex-direction: column;z-index: 1;position: relative;background-color: white;}#sk-container-id-1 div.sk-parallel-item:first-child::after {align-self: flex-end;width: 50%;}#sk-container-id-1 div.sk-parallel-item:last-child::after {align-self: flex-start;width: 50%;}#sk-container-id-1 div.sk-parallel-item:only-child::after {width: 0;}#sk-container-id-1 div.sk-dashed-wrapped {border: 1px dashed gray;margin: 0 0.4em 0.5em 0.4em;box-sizing: border-box;padding-bottom: 0.4em;background-color: white;}#sk-container-id-1 div.sk-label label {font-family: monospace;font-weight: bold;display: inline-block;line-height: 1.2em;}#sk-container-id-1 div.sk-label-container {text-align: center;}#sk-container-id-1 div.sk-container {/* jupyter's `normalize.less` sets `[hidden] { display: none; }` but bootstrap.min.css set `[hidden] { display: none !important; }` so we also need the `!important` here to be able to override the default hidden behavior on the sphinx rendered scikit-learn.org. See: https://github.com/scikit-learn/scikit-learn/issues/21755 */display: inline-block !important;position: relative;}#sk-container-id-1 div.sk-text-repr-fallback {display: none;}</style><div id=\"sk-container-id-1\" class=\"sk-top-container\"><div class=\"sk-text-repr-fallback\"><pre>Pipeline(steps=[(&#x27;vect&#x27;, CountVectorizer(stop_words=&#x27;english&#x27;)),\n",
       "                (&#x27;tfidf&#x27;, TfidfTransformer()),\n",
       "                (&#x27;clf&#x27;, MultinomialNB(alpha=0.01))])</pre><b>In a Jupyter environment, please rerun this cell to show the HTML representation or trust the notebook. <br />On GitHub, the HTML representation is unable to render, please try loading this page with nbviewer.org.</b></div><div class=\"sk-container\" hidden><div class=\"sk-item sk-dashed-wrapped\"><div class=\"sk-label-container\"><div class=\"sk-label sk-toggleable\"><input class=\"sk-toggleable__control sk-hidden--visually\" id=\"sk-estimator-id-1\" type=\"checkbox\" ><label for=\"sk-estimator-id-1\" class=\"sk-toggleable__label sk-toggleable__label-arrow\">Pipeline</label><div class=\"sk-toggleable__content\"><pre>Pipeline(steps=[(&#x27;vect&#x27;, CountVectorizer(stop_words=&#x27;english&#x27;)),\n",
       "                (&#x27;tfidf&#x27;, TfidfTransformer()),\n",
       "                (&#x27;clf&#x27;, MultinomialNB(alpha=0.01))])</pre></div></div></div><div class=\"sk-serial\"><div class=\"sk-item\"><div class=\"sk-estimator sk-toggleable\"><input class=\"sk-toggleable__control sk-hidden--visually\" id=\"sk-estimator-id-2\" type=\"checkbox\" ><label for=\"sk-estimator-id-2\" class=\"sk-toggleable__label sk-toggleable__label-arrow\">CountVectorizer</label><div class=\"sk-toggleable__content\"><pre>CountVectorizer(stop_words=&#x27;english&#x27;)</pre></div></div></div><div class=\"sk-item\"><div class=\"sk-estimator sk-toggleable\"><input class=\"sk-toggleable__control sk-hidden--visually\" id=\"sk-estimator-id-3\" type=\"checkbox\" ><label for=\"sk-estimator-id-3\" class=\"sk-toggleable__label sk-toggleable__label-arrow\">TfidfTransformer</label><div class=\"sk-toggleable__content\"><pre>TfidfTransformer()</pre></div></div></div><div class=\"sk-item\"><div class=\"sk-estimator sk-toggleable\"><input class=\"sk-toggleable__control sk-hidden--visually\" id=\"sk-estimator-id-4\" type=\"checkbox\" ><label for=\"sk-estimator-id-4\" class=\"sk-toggleable__label sk-toggleable__label-arrow\">MultinomialNB</label><div class=\"sk-toggleable__content\"><pre>MultinomialNB(alpha=0.01)</pre></div></div></div></div></div></div></div>"
      ],
      "text/plain": [
       "Pipeline(steps=[('vect', CountVectorizer(stop_words='english')),\n",
       "                ('tfidf', TfidfTransformer()),\n",
       "                ('clf', MultinomialNB(alpha=0.01))])"
      ]
     },
     "execution_count": 39,
     "metadata": {},
     "output_type": "execute_result"
    }
   ],
   "source": [
    "# Convert the list of tokens back into a single string per document\n",
    "x_train_processed = x_train['paragraph_cleaned_tokenized'].apply(' '.join)\n",
    "\n",
    "# Now, fit your model\n",
    "text_clf.fit(x_train_processed, y_train)"
   ]
  },
  {
   "cell_type": "code",
   "execution_count": 40,
   "metadata": {},
   "outputs": [],
   "source": [
    "X_TEST = x_test['paragraph_cleaned_tokenized'].to_list()\n",
    "Y_TEST = list(y_test)"
   ]
  },
  {
   "cell_type": "code",
   "execution_count": 41,
   "metadata": {},
   "outputs": [],
   "source": [
    "# Convert the list to a pandas Series\n",
    "X_TEST_series = pd.Series(X_TEST)\n",
    "\n",
    "# Apply the lambda function to process the data\n",
    "X_TEST_processed = X_TEST_series.apply(lambda tokens: ' '.join(tokens))\n",
    "\n",
    "# Now, use this processed data for prediction\n",
    "predicted = text_clf.predict(X_TEST_processed)"
   ]
  },
  {
   "cell_type": "code",
   "execution_count": 42,
   "metadata": {},
   "outputs": [
    {
     "name": "stdout",
     "output_type": "stream",
     "text": [
      "-------------------------------------------------------\n",
      "['In', 'addition', 'to', 'performing', 'preset', 'functions', 'Alexa', 'can', 'also', 'perform', 'additional', 'functions', 'through', 'thirdparty', 'skills', 'that', 'users', 'can', 'enable', 'Some', 'of', 'the', 'most', 'popular', 'Alexa', 'skills', 'in', 'included', 'Question', 'of', 'the', 'Day', 'and', 'National', 'Geographic', 'Geo', 'Quiz', 'for', 'trivia', 'TuneIn', 'Live', 'to', 'listen', 'to', 'live', 'sporting', 'events', 'and', 'news', 'stations', 'Big', 'Sky', 'for', 'hyperlocal', 'weather', 'updates', 'Sleep', 'and', 'Relaxation', 'Sounds', 'for', 'listening', 'to', 'calming', 'sounds', 'Sesame', 'Street', 'for', 'childrens', 'entertainment', 'and', 'Fitbit', 'for', 'Fitbit', 'users', 'who', 'want', 'to', 'check', 'in', 'on', 'their', 'health', 'stats', 'In', 'Apple', 'Google', 'Amazon', 'and', 'Zigbee', 'Alliance', 'announced', 'a', 'partnership', 'to', 'make', 'their', 'smart', 'home', 'products', 'work', 'together']\n",
      "artificial intelligence\n",
      "-------------------------------------------------------\n",
      "-------------------------------------------------------\n",
      "['Binney', 'assisted', 'in', 'founding', 'the', 'Manchester', 'Geological', 'Society', 'in', 'and', 'was', 'then', 'chosen', 'as', 'one', 'of', 'its', 'Honorary', 'Secretaries', 'later', 'being', 'elected', 'President', 'in', 'and', 'again', 'in', 'He', 'was', 'also', 'successively', 'Secretary', 'and', 'fourtimes', 'President', 'of', 'the', 'Manchester', 'Literary', 'and', 'Philosophical', 'Society']\n",
      "biographies\n",
      "-------------------------------------------------------\n"
     ]
    }
   ],
   "source": [
    "c = 0\n",
    "\n",
    "for doc, category in zip(X_TEST, predicted):\n",
    "\n",
    "    if c == 2:break\n",
    "\n",
    "    print(\"-\"*55)\n",
    "    print(doc)\n",
    "    print(v[category])\n",
    "    print(\"-\"*55)\n",
    "\n",
    "    c = c + 1 "
   ]
  },
  {
   "cell_type": "code",
   "execution_count": 43,
   "metadata": {},
   "outputs": [
    {
     "name": "stdout",
     "output_type": "stream",
     "text": [
      "Accuracy: 93.40%\n"
     ]
    }
   ],
   "source": [
    "# Calculate the accuracy\n",
    "accuracy = np.mean(predicted == y_test)\n",
    "\n",
    "# Print the accuracy in percentage format\n",
    "print(f'Accuracy: {accuracy * 100:.2f}%')"
   ]
  },
  {
   "cell_type": "code",
   "execution_count": 44,
   "metadata": {},
   "outputs": [],
   "source": [
    "task_name = 'Task-1'\n",
    "clf_name = 'MNB'\n",
    "model_extn = '.pkl'\n",
    "# Include the folder path in the model name\n",
    "model_name = f'{task_name}.{clf_name}.model{model_extn}'\n",
    "\n",
    "import pickle\n",
    "# Ensure that the 'Model' directory exists before trying to save the file\n",
    "import os\n",
    "if not os.path.exists('./Models'):\n",
    "    os.makedirs('./Models')\n",
    "\n",
    "with open(f'./Models/{model_name}', 'wb') as file:\n",
    "    pickle.dump(text_clf, file)"
   ]
  },
  {
   "cell_type": "code",
   "execution_count": 45,
   "metadata": {},
   "outputs": [],
   "source": [
    "# load\n",
    "with open(f'./Models/{model_name}', 'rb') as file:\n",
    "    model_clf = pickle.load(file)"
   ]
  },
  {
   "cell_type": "code",
   "execution_count": 46,
   "metadata": {},
   "outputs": [],
   "source": [
    "paragrah = [\"Other announcements include a new line of chips for cars which can run chatbots inside the vehicle. The company said Chinese electric vehicle makers BYD and Xpeng would both use its new chips. Mr Huang also outlined a new series of chips for creating humanoid robots, inviting several of the robots to join him on the stage. Founded in 1993, Nvidia was originally known for making the type of computer chips that process graphics, particularly for computer games.\"]"
   ]
  },
  {
   "cell_type": "code",
   "execution_count": 47,
   "metadata": {},
   "outputs": [
    {
     "name": "stdout",
     "output_type": "stream",
     "text": [
      "-------------------------------------------------------\n",
      "artificial intelligence\n",
      "-------------------------------------------------------\n"
     ]
    }
   ],
   "source": [
    "predicted = model_clf.predict(paragrah)\n",
    "print(\"-\"*55)\n",
    "print(v[predicted[0]])\n",
    "print(\"-\"*55)"
   ]
  },
  {
   "cell_type": "code",
   "execution_count": 49,
   "metadata": {},
   "outputs": [
    {
     "name": "stdout",
     "output_type": "stream",
     "text": [
      "9347 rows and 8 columns (without 'text_clarity') loaded successfully for Task 1, including newly added 'index' column.\n",
      "-------------------------------------------------------\n",
      "Checking for unique values in the \"category\" column:\n",
      "['biographies' 'artificial intelligence' 'programming' 'philosophy'\n",
      " 'movies about artificial intelligence' 'Philosophy' nan 'Programming'\n",
      " 'Artificial intelligence' 'Biographies'\n",
      " 'Movies about artificial intelligence']\n",
      "\n",
      "Fixed the case of the \"category\" column, unique values now:\n",
      "['biographies' 'artificial intelligence' 'programming' 'philosophy'\n",
      " 'movies about artificial intelligence' nan]\n",
      "-------------------------------------------------------\n",
      "-------------------------------------------------------\n",
      "Checking for unique values in the \"has_entity\" column:\n",
      "['ORG_YES_PRODUCT_NO_PERSON_YES_' 'ORG_YES_PRODUCT_NO_PERSON_NO_'\n",
      " 'ORG_NO_PRODUCT_YES_PERSON_NO_' 'ORG_YES_PRODUCT_YES_PERSON_YES_'\n",
      " 'ORG_NO_PRODUCT_NO_PERSON_NO_' 'ORG_NO_PRODUCT_YES_PERSON_YES_'\n",
      " 'ORG_NO_PRODUCT_NO_PERSON_YES_' 'ORG_YES_PRODUCT_YES_PERSON_NO_'\n",
      " 'data missing']\n",
      "\n",
      "Removed rows with \"data missing\" in the \"has_entity\" column, unique values now:\n",
      "['ORG_YES_PRODUCT_NO_PERSON_YES_' 'ORG_YES_PRODUCT_NO_PERSON_NO_'\n",
      " 'ORG_NO_PRODUCT_YES_PERSON_NO_' 'ORG_YES_PRODUCT_YES_PERSON_YES_'\n",
      " 'ORG_NO_PRODUCT_NO_PERSON_NO_' 'ORG_NO_PRODUCT_YES_PERSON_YES_'\n",
      " 'ORG_NO_PRODUCT_NO_PERSON_YES_' 'ORG_YES_PRODUCT_YES_PERSON_NO_']\n",
      "-------------------------------------------------------\n",
      "-------------------------------------------------------\n",
      "Original paragraph:\n",
      " Ramsay was born in Glasgow on 2 October 1852. He was a nephew of the geologist Sir Andrew Ramsay. His father, William, Sr., was a civil engineer. His mother was Catherine Robertson. He studied at Glasgow Academy, at the University of Glasgow and at University of Tubingen in Germany. \n",
      "\n",
      "Cleaned paragraph:\n",
      " Ramsay was born in Glasgow on October He was a nephew of the geologist Sir Andrew Ramsay His father William Sr was a civil engineer His mother was Catherine Robertson He studied at Glasgow Academy at the University of Glasgow and at University of Tubingen in Germany\n",
      "-------------------------------------------------------\n",
      "                                           paragraph       predicted_category\n",
      "0  Ramsay was born in Glasgow on 2 October 1852. ...              biographies\n",
      "1  It has been widely estimated for at least the ...  artificial intelligence\n",
      "2  He went on to win the Royal Medal of the Royal...              biographies\n",
      "3  The changes have altered many underlying assum...              programming\n",
      "4  After these novels were published, Disraeli de...              biographies\n"
     ]
    }
   ],
   "source": [
    "# Load the dataset\n",
    "df = load_t1_df('../Datasets/dataset.csv')\n",
    "\n",
    "# Apply the preprocessing functions\n",
    "df = process_df(df)\n",
    "\n",
    "# Clean the 'paragraph' column\n",
    "df = clean_column(df, 'paragraph')\n",
    "\n",
    "# Prepare the data for prediction\n",
    "X_to_predict = df['paragraph_cleaned']\n",
    "\n",
    "# Predict categories\n",
    "predicted_categories = model_clf.predict(X_to_predict)\n",
    "# inverse_v = {value: key for key, value in v.items()}\n",
    "\n",
    "df['predicted_category'] = [v[category] for category in predicted_categories]\n",
    "\n",
    "df.drop(['paragraph_cleaned', 'index'], axis=1, inplace=True)\n",
    "\n",
    "# Save or view the predictions\n",
    "print(df[['paragraph', 'predicted_category']].head())  # For quick check\n",
    "df.to_csv('../Datasets/predicted_dataset.csv', index=False)  # To save the results"
   ]
  }
 ],
 "metadata": {
  "kernelspec": {
   "display_name": "COMP1804-AML",
   "language": "python",
   "name": "comp1804-aml"
  },
  "language_info": {
   "codemirror_mode": {
    "name": "ipython",
    "version": 3
   },
   "file_extension": ".py",
   "mimetype": "text/x-python",
   "name": "python",
   "nbconvert_exporter": "python",
   "pygments_lexer": "ipython3",
   "version": "3.9.18"
  }
 },
 "nbformat": 4,
 "nbformat_minor": 2
}
