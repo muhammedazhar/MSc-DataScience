{
 "cells": [
  {
   "cell_type": "code",
   "execution_count": 2,
   "metadata": {},
   "outputs": [],
   "source": [
    "import pandas as pd\n",
    "\n",
    "file_path = '../Datasets/cleaned_dataset.csv'\n",
    "df = pd.read_csv(file_path)"
   ]
  },
  {
   "cell_type": "code",
   "execution_count": 3,
   "metadata": {},
   "outputs": [
    {
     "data": {
      "text/plain": [
       "category\n",
       "biographies                             0.318044\n",
       "philosophy                              0.279965\n",
       "programming                             0.214409\n",
       "artificial intelligence                 0.169624\n",
       "movies about artificial intelligence    0.017958\n",
       "Name: proportion, dtype: float64"
      ]
     },
     "execution_count": 3,
     "metadata": {},
     "output_type": "execute_result"
    }
   ],
   "source": [
    "# Check the balance of the categories in the target variable\n",
    "category_distribution = df['category'].value_counts(normalize=True)\n",
    "\n",
    "category_distribution"
   ]
  },
  {
   "cell_type": "code",
   "execution_count": 4,
   "metadata": {},
   "outputs": [
    {
     "data": {
      "text/plain": [
       "((7395, 1003), (1849, 1003), (7395,), (1849,))"
      ]
     },
     "execution_count": 4,
     "metadata": {},
     "output_type": "execute_result"
    }
   ],
   "source": [
    "from sklearn.model_selection import train_test_split\n",
    "from sklearn.feature_extraction.text import TfidfVectorizer\n",
    "from sklearn.preprocessing import LabelEncoder\n",
    "import numpy as np\n",
    "\n",
    "# Preprocessing the 'has_entity' feature by encoding it as binary features\n",
    "# Extracting whether the paragraph contains references to an organization, product, or person\n",
    "df['has_org'] = df['has_entity'].apply(lambda x: 'ORG_YES' in x).astype(int)\n",
    "df['has_product'] = df['has_entity'].apply(lambda x: 'PRODUCT_YES' in x).astype(int)\n",
    "df['has_person'] = df['has_entity'].apply(lambda x: 'PERSON_YES' in x).astype(int)\n",
    "\n",
    "# Vectorizing the 'paragraph' text with TF-IDF\n",
    "tfidf = TfidfVectorizer(stop_words='english', max_features=1000)\n",
    "X_text = tfidf.fit_transform(df['paragraph'])\n",
    "\n",
    "# Encoding the categorical target variable\n",
    "label_encoder = LabelEncoder()\n",
    "y = label_encoder.fit_transform(df['category'])\n",
    "\n",
    "# Combining the TF-IDF features with the 'has_entity' binary features\n",
    "X_other_features = df[['has_org', 'has_product', 'has_person']].to_numpy()\n",
    "X = np.hstack((X_text.toarray(), X_other_features))\n",
    "\n",
    "# Splitting the dataset into training and testing sets\n",
    "X_train, X_test, y_train, y_test = train_test_split(X, y, test_size=0.2, random_state=42, stratify=y)\n",
    "\n",
    "# Output the shape of the training and testing sets to confirm the preprocessing steps\n",
    "X_train.shape, X_test.shape, y_train.shape, y_test.shape"
   ]
  },
  {
   "cell_type": "code",
   "execution_count": 5,
   "metadata": {},
   "outputs": [],
   "source": [
    "from sklearn.linear_model import LogisticRegression\n",
    "from sklearn.metrics import confusion_matrix, classification_report, accuracy_score, f1_score\n",
    "from sklearn.model_selection import cross_val_score, StratifiedKFold\n",
    "\n",
    "# Initialize the Logistic Regression model\n",
    "lr_model = LogisticRegression(C=1, solver='saga', class_weight='balanced', random_state=42, max_iter=500)\n",
    "\n",
    "# Train the model\n",
    "lr_model.fit(X_train, y_train)\n",
    "\n",
    "# Predictions\n",
    "y_pred = lr_model.predict(X_test)\n",
    "\n",
    "# Evaluation\n",
    "conf_matrix = confusion_matrix(y_test, y_pred)\n",
    "class_report = classification_report(y_test, y_pred)\n",
    "accuracy = accuracy_score(y_test, y_pred)\n",
    "macro_f1 = f1_score(y_test, y_pred, average='macro')\n",
    "\n",
    "print(\"Confusion Matrix:\\n\", conf_matrix)\n",
    "print(\"\\nClassification Report:\\n\", class_report)\n",
    "print(\"\\nAccuracy:\", accuracy)\n",
    "print(\"Macro F1-Score:\", macro_f1)\n",
    "\n",
    "# Cross-validation for stability check\n",
    "cv_scores = cross_val_score(lr_model, X, y, cv=StratifiedKFold(5), scoring='f1_macro')\n",
    "print(\"\\nCV Macro F1-Scores:\", cv_scores)"
   ]
  },
  {
   "cell_type": "code",
   "execution_count": null,
   "metadata": {},
   "outputs": [
    {
     "name": "stderr",
     "output_type": "stream",
     "text": [
      "c:\\Users\\muhammedazhar\\miniconda3\\envs\\COMP1804-AML\\lib\\site-packages\\sklearn\\linear_model\\_sag.py:350: ConvergenceWarning: The max_iter was reached which means the coef_ did not converge\n",
      "  warnings.warn(\n"
     ]
    },
    {
     "name": "stdout",
     "output_type": "stream",
     "text": [
      "Confusion Matrix:\n",
      " [[272  12   3   8  19]\n",
      " [ 11 534   4  35   4]\n",
      " [  3   3  27   0   0]\n",
      " [ 19  30   5 453  11]\n",
      " [ 17   7   1   6 365]]\n",
      "\n",
      "Classification Report:\n",
      "               precision    recall  f1-score   support\n",
      "\n",
      "           0       0.84      0.87      0.86       314\n",
      "           1       0.91      0.91      0.91       588\n",
      "           2       0.68      0.82      0.74        33\n",
      "           3       0.90      0.87      0.89       518\n",
      "           4       0.91      0.92      0.92       396\n",
      "\n",
      "    accuracy                           0.89      1849\n",
      "   macro avg       0.85      0.88      0.86      1849\n",
      "weighted avg       0.89      0.89      0.89      1849\n",
      "\n",
      "\n",
      "Accuracy: 0.8929150892374257\n",
      "Macro F1-Score: 0.8622513237996225\n",
      "\n",
      "CV Macro F1-Scores: [0.85944666 0.86617209 0.83527784 0.85549689 0.85791021]\n"
     ]
    }
   ],
   "source": [
    "from sklearn.linear_model import LogisticRegression\n",
    "from sklearn.metrics import confusion_matrix, classification_report, accuracy_score, f1_score\n",
    "from sklearn.model_selection import cross_val_score, StratifiedKFold\n",
    "\n",
    "# Initialize the Logistic Regression model with optimized parameters\n",
    "lr_model = LogisticRegression(C=1, solver='saga', class_weight='balanced', random_state=42, max_iter=5000)\n",
    "\n",
    "# Train the model\n",
    "lr_model.fit(X_train, y_train)\n",
    "\n",
    "# Predictions\n",
    "y_pred = lr_model.predict(X_test)\n",
    "\n",
    "# Evaluation\n",
    "conf_matrix = confusion_matrix(y_test, y_pred)\n",
    "class_report = classification_report(y_test, y_pred)\n",
    "accuracy = accuracy_score(y_test, y_pred)\n",
    "macro_f1 = f1_score(y_test, y_pred, average='macro')\n",
    "\n",
    "print(\"Confusion Matrix:\\n\", conf_matrix)\n",
    "print(\"\\nClassification Report:\\n\", class_report)\n",
    "print(\"\\nAccuracy:\", accuracy)\n",
    "print(\"Macro F1-Score:\", macro_f1)\n",
    "\n",
    "# Cross-validation for stability check, with parallel processing\n",
    "cv_scores = cross_val_score(lr_model, X, y, cv=StratifiedKFold(5), scoring='f1_macro', n_jobs=-1)\n",
    "print(\"\\nCV Macro F1-Scores:\", cv_scores)"
   ]
  }
 ],
 "metadata": {
  "kernelspec": {
   "display_name": "COMP1804-AML(JPNB)",
   "language": "python",
   "name": "comp1804-aml"
  },
  "language_info": {
   "codemirror_mode": {
    "name": "ipython",
    "version": 3
   },
   "file_extension": ".py",
   "mimetype": "text/x-python",
   "name": "python",
   "nbconvert_exporter": "python",
   "pygments_lexer": "ipython3",
   "version": "3.10.13"
  }
 },
 "nbformat": 4,
 "nbformat_minor": 2
}
