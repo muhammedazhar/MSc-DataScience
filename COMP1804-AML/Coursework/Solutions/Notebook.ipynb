{
 "cells": [
  {
   "cell_type": "markdown",
   "metadata": {},
   "source": [
    "# COMP1804 - Applied Machine Learning (Coursework)\n",
    "*The coursework is about a consulting scenario for a non-profit organization known as *NotTheRealWikipedia*, to explore if ML can assist in analyzing new content on their site. It comprises two main tasks:*\n",
    "\n",
    "1. **Topic Classification**: Utilizing ML to categorize paragraphs of text into one of five topics based on the content and the presence of references to a person, organization, and/or product. Success criteria include outperforming a trivial baseline, avoiding overfitting, and ensuring low misclassification rates for each class.\n",
    "2. **Text Clarity Classification Prototype**: Developing a prototype to automatically assess if a paragraph is written clearly enough, employing a subset of the data for training. This task also requires addressing ethical implications and suggesting improvements based on the prototype's performance.\n",
    "\n",
    "Here is the given dataset structure as follows,\n",
    "| FEATURE NAME       | BRIEF DESCRIPTION                                                                          |\n",
    "|--------------------|---------------------------------------------------------------------------------------------|\n",
    "| `par_id`             | Unique identifier for each paragraph to classify.                                           |\n",
    "| `paragraph`          | Text to classify.                                                                           |\n",
    "| `has_entity`         | Whether the text contains a reference to a product (yes/no), an organisation (yes/no), or a person (yes/no). |\n",
    "| `lexicon_count`      | The number of words in the text.                                                            |\n",
    "| `difficult_words`    | The number of difficult words in the text.                                                  |\n",
    "| `last_editor_gender` | The gender of the latest person to edit the text.                                           |\n",
    "| `category`           | The category into which the text should be classified.                                      |\n",
    "| `text_clarity`       | The clarity level of the text. Very few data points are labelled at first.                 |\n",
    "\n",
    "### Setup a Python Environment\n",
    "\n",
    "This is crucial for any  data science project. You can use Anaconda or Miniconda to create virtual environments.\n",
    "\n",
    "**Usage**:\n",
    "```bash\n",
    "conda create --name COMP1804-AML python=3.10.10\n",
    "conda activate COMP1804-AML\n",
    "```\n",
    "\n",
    "\n",
    "\n",
    "### Prerequisite Packages\n",
    "Before proceeding with the actual code, it's crucial to ensure all necessary Python packages are installed. This is achieved by running a `pip install` command that references a [`requirements.txt`](../Docs/requirements.txt) file. This file must be located in a relative path from the notebook (`../Docs/requirements.txt`). The command `%pip install --user -r ../Docs/requirements.txt --quiet` takes care of installing these packages. The [`requirements.txt`](../Docs/requirements.txt) file contains necessary packages for running the Jupyter notebook.\n",
    "\n",
    "**Usage**:\n",
    "```python\n",
    "%pip install --user -r ../Docs/requirements.txt --quiet\n",
    "```\n",
    "\n",
    "After install the required packages, run the following command in the terminal.\n",
    "```bash\n",
    "python -m ipykernel install --user --name=COMP1804-AML --display-name \"COMP1804-AML(IPYNB)\"\n",
    "conda install -n COMP1804-AML ipykernel --update-deps --force-reinstall\n",
    "```\n",
    "These command installs a new IPython kernel for Jupyter with the name `COMP1804-AML` and the display name `COMP1804-AML(IPYNB)`. This allows Jupyter to use the Python environment associated with this kernel. The `--update-deps` option updates dependencies as needed, and the `--force-reinstall` option ensures that all packages use the same Python version as the new package."
   ]
  },
  {
   "cell_type": "code",
   "execution_count": 55,
   "metadata": {},
   "outputs": [
    {
     "name": "stdout",
     "output_type": "stream",
     "text": [
      "Note: you may need to restart the kernel to use updated packages.\n"
     ]
    }
   ],
   "source": [
    "%pip install --user -r ../Docs/requirements.txt --quiet"
   ]
  },
  {
   "cell_type": "markdown",
   "metadata": {},
   "source": [
    "### Importing Libraries\n",
    "The following code block is responsible for importing a comprehensive set of libraries that are essential for data manipulation, visualization, natural language processing (NLP), and machine learning tasks. A `try` and `except` block is utilized to gracefully handle any errors that might occur during the import process. This approach ensures that any missing libraries or other issues are flagged immediately, facilitating troubleshooting."
   ]
  },
  {
   "cell_type": "code",
   "execution_count": 56,
   "metadata": {},
   "outputs": [],
   "source": [
    "# Import necessary libraries\n",
    "try:\n",
    "    # Standard libraries\n",
    "    import os # For file operations\n",
    "    import pickle # For saving and loading objects\n",
    "    import joblib # For saving and loading models\n",
    "    import re # For regular expressions\n",
    "    import time # For tracking time\n",
    "    \n",
    "    # Data manipulation and numerical libraries\n",
    "    import numpy as np # For numerical operations\n",
    "    import pandas as pd # For data manipulation\n",
    "\n",
    "    # Visualization libraries\n",
    "    import matplotlib.pyplot as plt # For plotting graphs\n",
    "    import seaborn as sns # For plotting graphs with more features\n",
    "    \n",
    "    # Natural Language Processing (NLP) libraries\n",
    "    import nltk # For basic NLP tasks\n",
    "    import spacy # For advanced NLP tasks\n",
    "    import swifter # For applying functions in a fast and efficient way\n",
    "    import textstat # For calculating readability scores\n",
    "    from gensim.models import KeyedVectors, Word2Vec # For word embeddings\n",
    "    from nltk.corpus import stopwords # For removing stopwords\n",
    "    from nltk.stem import WordNetLemmatizer # For lemmatization\n",
    "    from nltk.tokenize import word_tokenize # For tokenization\n",
    "    from sentence_transformers import SentenceTransformer # For sentence embeddings\n",
    "    from textblob import TextBlob # For sentiment analysis\n",
    "    \n",
    "    # Machine Learning/Deep Learning library imports\n",
    "    import tensorflow as tf # For deep learning\n",
    "    from tensorflow import keras # For deep learning functionalities\n",
    "    from keras.preprocessing.sequence import pad_sequences # For padding sequences\n",
    "    from tensorflow.keras.layers import Concatenate, Dense, Dropout, Input # For building neural networks\n",
    "    from tensorflow.keras.models import Model # For modeling neural networks\n",
    "\n",
    "    # Imbalanced dataset handling imports from imbalanced-learn\n",
    "    from imblearn.over_sampling import SMOTE # For oversampling minority classes\n",
    "    from imblearn.under_sampling import RandomUnderSampler # For undersampling majority classes\n",
    "    from imblearn.pipeline import Pipeline as IMBPipeline # For creating pipelines with imbalanced-learn\n",
    "\n",
    "    # Scikit-learn imports for model building, preprocessing, and evaluation\n",
    "    from sklearn.base import BaseEstimator, TransformerMixin # For creating custom transformers\n",
    "    from sklearn.compose import ColumnTransformer # For creating column transformers\n",
    "    from sklearn.ensemble import RandomForestClassifier # For random forest classifier\n",
    "    from sklearn.feature_extraction import DictVectorizer # For converting dictionaries to feature matrices\n",
    "    from sklearn.feature_extraction.text import CountVectorizer, TfidfTransformer, TfidfVectorizer # For text vectorization\n",
    "    from sklearn.linear_model import LogisticRegression # For logistic regression\n",
    "    from sklearn.metrics import accuracy_score, classification_report, confusion_matrix # For model evaluation\n",
    "    from sklearn.model_selection import cross_val_score, learning_curve, train_test_split # For model training\n",
    "    from sklearn.naive_bayes import MultinomialNB # For Naive Bayes classifier\n",
    "    from sklearn.pipeline import FeatureUnion, Pipeline # For creating pipelines\n",
    "    from sklearn.preprocessing import FunctionTransformer, LabelEncoder, OneHotEncoder, StandardScaler # For preprocessing with scikit-learn\n",
    "    from sklearn.svm import SVC # For Support Vector Classifier\n",
    "    from sklearn.utils.class_weight import compute_class_weight # For computing class weights\n",
    "\n",
    "    # Imports for specific algorithms and model optimization\n",
    "    from xgboost import XGBClassifier # For XGBoost classifier\n",
    "\n",
    "    # Utility imports\n",
    "    from tqdm import tqdm # For progress bars\n",
    "    from langdetect import detect # For language detection\n",
    "    from scipy.spatial.distance import cosine # For cosine similarity\n",
    "\n",
    "    # Setting seaborn theme for better visuals\n",
    "    sns.set_theme(style=\"whitegrid\")\n",
    "\n",
    "    # Enabling progress_apply for pandas series via tqdm\n",
    "    tqdm.pandas() # For progress_apply in pandas\n",
    "\n",
    "# Catching and printing any exception that occurs during the import process\n",
    "except Exception as e:\n",
    "    print(f\"Error : {e}\")"
   ]
  },
  {
   "cell_type": "markdown",
   "metadata": {},
   "source": [
    "### Lazy Loading NLTK and Spacy Resources\n",
    "This function, `download_nlp_resources`, is designed to lazily load specific `NLTK` and `spaCy` resources necessary for natural language processing (NLP) tasks such as tokenization, stopwords removal, POS tagging, and lemmatization. It iterates through a list of required NLTK resources, checking if each is already present and downloading it if not, while also ensuring the spaCy model `en_core_web_sm` is downloaded for tasks requiring a more extensive NLP model. The implementation embraces efficiency by only acquiring resources as needed, minimizing initial setup time and saving disk space.\n",
    "\n",
    "**Usage**:\n",
    "```python\n",
    "download_nlp_resources()\n",
    "```"
   ]
  },
  {
   "cell_type": "code",
   "execution_count": 57,
   "metadata": {},
   "outputs": [
    {
     "name": "stdout",
     "output_type": "stream",
     "text": [
      "NLTK resource \"punkt\" downloaded.\n",
      "NLTK resource \"stopwords\" downloaded.\n",
      "NLTK resource \"averaged_perceptron_tagger\" downloaded.\n",
      "NLTK resource \"wordnet\" downloaded.\n",
      "Spacy model \"en_core_web_sm\" is already downloaded.\n",
      "All required NLTK resources are ready.\n"
     ]
    }
   ],
   "source": [
    "# Improved function to download and verify necessary NLTK resources\n",
    "def download_nlp_resources():\n",
    "    # Specifying the NLTK resources required for various NLP tasks\n",
    "    resources = ['punkt', 'stopwords', 'averaged_perceptron_tagger', 'wordnet'] # Needed for tokenization, stopwords removal, POS tagging, and lemmatization respectively\n",
    "\n",
    "    # Iterating over each resource to check its presence, and download if missing\n",
    "    for resource in resources:\n",
    "        try:\n",
    "            # Check if the resource is already downloaded to avoid re-downloading\n",
    "            nltk.data.find(f'tokenizers/punkt/{resource}.pickle')\n",
    "        except LookupError:\n",
    "            # Resource not found; proceed to download\n",
    "            nltk.download(resource, quiet=True) # quiet=True suppresses the output to keep the log cleaner\n",
    "            print(f'NLTK resource \"{resource}\" downloaded.')\n",
    "\n",
    "    # Download the spacy model\n",
    "    try:\n",
    "        spacy.load('en_core_web_sm')\n",
    "        print('Spacy model \"en_core_web_sm\" is already downloaded.')\n",
    "    except OSError:\n",
    "        # Model not found; proceed to download\n",
    "        print('Spacy model \"en_core_web_sm\" not found. Downloading...')\n",
    "        os.system('python -m spacy download en_core_web_sm')\n",
    "\n",
    "    # Notification upon successful verification or download of all resources\n",
    "    print('All required NLTK resources are ready.')\n",
    "'''\n",
    "\t- This code is copied from my previous college project. It is called Lazy Loading NLTK Resources. \n",
    "\t- The idea behind it was that we don't need to download all the resources at once.\n",
    "\t- We can download them as and when needed.\n",
    "\t- This way, we can save time and space by downloading only the necessary resources.\n",
    "'''\n",
    "\n",
    "# Initiating the download and verification of NLTK resources\n",
    "download_nlp_resources()"
   ]
  },
  {
   "cell_type": "markdown",
   "metadata": {},
   "source": [
    "---\n",
    "# Task 1: Text Topic Classification\n",
    "*This task contains a machine learning approach for classifying text into five categories: **artificial intelligence**, **movies about artificial intelligence**, **programming**, **philosophy**, and **biographies**.*\n",
    "\n",
    "**Objectives**:\n",
    "1. Predict the topic `category` of a paragraph using `paragraph` and `has_entity` as features.\n",
    "2. Success criteria such as, **better than trivial baseline**, **avoids overfitting**, **misclassification below 10%** for unrelated categories.\n",
    "3. Identify the **most informative scalar performance metric**.\n",
    "\n",
    "## Loading the dataset\n",
    "\n",
    "These functions are designed to load and preprocess datasets for two distinct tasks, ensuring they are ready for further analysis or machine learning models. The following two functions `load_t1_df()` and `load_t2_df()` will efficiently load datasets for Task 1 and Task 2, respectively. Both functions enhance the dataset by adding an `'index'` column starting from 1.\n",
    "\n",
    "**Usage**:\n",
    "```python\n",
    "df1 = load_t1_df('filename_with_path')\n",
    "```"
   ]
  },
  {
   "cell_type": "code",
   "execution_count": 58,
   "metadata": {},
   "outputs": [
    {
     "name": "stdout",
     "output_type": "stream",
     "text": [
      "9347 rows and 6 columns (without 'text_clarity') loaded successfully for Task-1, including newly added 'index' column.\n"
     ]
    }
   ],
   "source": [
    "# Function to load and preprocess the dataset for Task 1\n",
    "def load_t1_df(filename):\n",
    "    # Define the columns to be loaded from the file\n",
    "    columns = ['paragraph', 'has_entity', 'category', 'lexicon_count', 'difficult_words']\n",
    "    # Load the dataset with specified columns\n",
    "    df = pd.read_csv(filename, usecols=columns)\n",
    "    # Add an 'index' column that starts from 1\n",
    "    df['index'] = df.index + 1\n",
    "    # Check if the DataFrame is empty and print a message accordingly\n",
    "    if not df.empty:\n",
    "        task_name = 'Task-1'\n",
    "        print(f\"{df.shape[0]} rows and {df.shape[1]} columns (without 'text_clarity') loaded successfully for {task_name}, including newly added 'index' column.\")\n",
    "    else:\n",
    "        print(\"The dataset is empty.\")\n",
    "    return df\n",
    "\n",
    "# Function to load and preprocess the dataset for Task 2\n",
    "def load_t2_df(filename):\n",
    "    df = pd.read_csv(filename)\n",
    "    # Add an 'index' column that starts from 1\n",
    "    df['index'] = df.index + 1\n",
    "    # Check if the DataFrame is empty and print a message accordingly\n",
    "    if not df.empty:\n",
    "        task_name = 'Task-2'\n",
    "        print(f\"{df.shape[0]} rows and {df.shape[1]} columns loaded successfully for {task_name}, including newly added 'index' column.\")\n",
    "    else:\n",
    "        print(\"The dataset is empty.\")\n",
    "    return df\n",
    "\n",
    "'''\n",
    "\t- Function usage: df = load_t1_df('filename_with_path')\n",
    "\t- Replace `filename_with_path` with your original value.\n",
    "'''\n",
    "\n",
    "df1 = load_t1_df('../Datasets/dataset.csv')\n",
    "task_name = 'Task-1'"
   ]
  },
  {
   "cell_type": "markdown",
   "metadata": {},
   "source": [
    "## Data Cleaning\n",
    "\n",
    "### Function: `clean_df`\n",
    "This function is designed for preprocessing a DataFrame by removing rows with any missing values, except those in the `'text_clarity'` column. It provides insights into the DataFrame's state before and after cleaning by printing the shape and the count of missing values.\n",
    "\n",
    "*Steps Performed*:\n",
    "1. **Initial Check**: Prints the initial shape of the DataFrame and a count of missing values for each column.\n",
    "2. **Removing Missing Values**: Excludes rows with missing values across all columns except `'text_clarity'`. It also prints the columns from which rows are being removed due to missing values.\n",
    "3. **Verification**: After removal, prints the updated shape of the DataFrame and verifies that no missing values remain, except possibly in `'text_clarity'`.\n",
    "\n",
    "**Usage**:\n",
    "To clean your DataFrame `df`, call the function as follows:\n",
    "```python\n",
    "df1 = clean_df(df)"
   ]
  },
  {
   "cell_type": "code",
   "execution_count": 59,
   "metadata": {},
   "outputs": [
    {
     "name": "stdout",
     "output_type": "stream",
     "text": [
      "-------------------------------------------------------\n",
      "Initial shape: (9347, 6). Checking for missing values...\n",
      "paragraph           0\n",
      "has_entity          0\n",
      "lexicon_count       0\n",
      "difficult_words    18\n",
      "category           61\n",
      "index               0\n",
      "dtype: int64\n",
      "-------------------------------------------------------\n",
      "Removing rows with missing values...\n",
      "difficult_words    18\n",
      "category           61\n",
      "dtype: int64\n",
      "-------------------------------------------------------\n",
      "Updated shape: (9268, 6). Verifying no missing values remain...\n",
      "paragraph          0\n",
      "has_entity         0\n",
      "lexicon_count      0\n",
      "difficult_words    0\n",
      "category           0\n",
      "index              0\n",
      "dtype: int64\n",
      "-------------------------------------------------------\n"
     ]
    }
   ],
   "source": [
    "def clean_df(df):\n",
    "    # Print initial shape and missing values count\n",
    "    print(\"-\" * 55)\n",
    "    print(f'Initial shape: {df.shape}. Checking for missing values...')\n",
    "    missing_values_initial = df.isnull().sum()\n",
    "    print(missing_values_initial)\n",
    "    print(\"-\" * 55)\n",
    "\n",
    "    # Remove rows with missing values\n",
    "    df_cleaned = df.dropna(subset=df.columns.difference(['text_clarity']))\n",
    "    print('Removing rows with missing values...')\n",
    "    print(missing_values_initial[missing_values_initial > 0]) # Print only columns with missing values\n",
    "\n",
    "    # Print shape after removal and verify no missing values\n",
    "    print(\"-\" * 55)\n",
    "    print(f'Updated shape: {df_cleaned.shape}. Verifying no missing values remain...')\n",
    "    missing_values_final = df_cleaned.isnull().sum()\n",
    "    print(missing_values_final)\n",
    "    print(\"-\" * 55)\n",
    "\n",
    "    return df_cleaned\n",
    "\n",
    "'''\n",
    "\t- Function usage: df = clean_df(df)\n",
    "\t- Replace `df` with your original DataFrame.\n",
    "'''\n",
    "\n",
    "df1 = clean_df(df1)"
   ]
  },
  {
   "cell_type": "markdown",
   "metadata": {},
   "source": [
    "## Data Preprocessing\n",
    "\n",
    "### Function: `process_df`\n",
    "This function performs specific preprocessing tasks on a DataFrame to ensure data consistency and integrity, focusing on the 'category' and 'has_entity' columns.\n",
    "\n",
    "*Steps Performed*:\n",
    "1. **Standardize 'category' Column**:\n",
    "    - Initially prints unique values in the 'category' column.\n",
    "    - Converts all text in the 'category' column to lowercase to standardize the data.\n",
    "    - Prints the unique values in the 'category' column post-conversion for verification.\n",
    "\n",
    "2. **Clean 'has_entity' Column**:\n",
    "    - Prints unique values in the 'has_entity' column to show initial data state.\n",
    "    - Removes rows where the 'has_entity' column has the value 'data missing', ensuring data quality.\n",
    "    - Prints the unique values in the 'has_entity' column after removal for verification.\n",
    "\n",
    "**Usage**:\n",
    "To preprocess your DataFrame `df`, use the function as follows:\n",
    "```python\n",
    "df1 = process_df(df)\n",
    "```"
   ]
  },
  {
   "cell_type": "code",
   "execution_count": 60,
   "metadata": {},
   "outputs": [
    {
     "name": "stdout",
     "output_type": "stream",
     "text": [
      "-------------------------------------------------------\n",
      "Checking for unique values in the \"category\" column:\n",
      "['biographies' 'artificial intelligence' 'programming' 'philosophy'\n",
      " 'movies about artificial intelligence' 'Philosophy' 'Programming'\n",
      " 'Artificial intelligence' 'Biographies'\n",
      " 'Movies about artificial intelligence']\n",
      "\n",
      "Fixed the case of the \"category\" column, unique values now:\n",
      "['biographies' 'artificial intelligence' 'programming' 'philosophy'\n",
      " 'movies about artificial intelligence']\n",
      "-------------------------------------------------------\n",
      "-------------------------------------------------------\n",
      "Checking for unique values in the \"has_entity\" column:\n",
      "['ORG_YES_PRODUCT_NO_PERSON_YES_' 'ORG_YES_PRODUCT_NO_PERSON_NO_'\n",
      " 'ORG_NO_PRODUCT_YES_PERSON_NO_' 'ORG_YES_PRODUCT_YES_PERSON_YES_'\n",
      " 'ORG_NO_PRODUCT_NO_PERSON_NO_' 'ORG_NO_PRODUCT_YES_PERSON_YES_'\n",
      " 'ORG_NO_PRODUCT_NO_PERSON_YES_' 'ORG_YES_PRODUCT_YES_PERSON_NO_'\n",
      " 'data missing']\n",
      "\n",
      "Removed rows with \"data missing\" in the \"has_entity\" column, unique values now:\n",
      "['ORG_YES_PRODUCT_NO_PERSON_YES_' 'ORG_YES_PRODUCT_NO_PERSON_NO_'\n",
      " 'ORG_NO_PRODUCT_YES_PERSON_NO_' 'ORG_YES_PRODUCT_YES_PERSON_YES_'\n",
      " 'ORG_NO_PRODUCT_NO_PERSON_NO_' 'ORG_NO_PRODUCT_YES_PERSON_YES_'\n",
      " 'ORG_NO_PRODUCT_NO_PERSON_YES_' 'ORG_YES_PRODUCT_YES_PERSON_NO_']\n",
      "-------------------------------------------------------\n"
     ]
    }
   ],
   "source": [
    "def process_df(df):\n",
    "    # Standardize 'category' column to lowercase\n",
    "    print(\"-\" * 55)\n",
    "    print('Checking for unique values in the \"category\" column:')\n",
    "    print(df['category'].unique())\n",
    "    df['category'] = df['category'].str.lower()\n",
    "    print('\\nFixed the case of the \"category\" column, unique values now:')\n",
    "    print(df['category'].unique())\n",
    "    print(\"-\" * 55)\n",
    "\n",
    "    # Remove rows where 'has_entity' column has 'data missing'\n",
    "    print(\"-\" * 55)\n",
    "    print('Checking for unique values in the \"has_entity\" column:')\n",
    "    print(df['has_entity'].unique())\n",
    "    df = df[df['has_entity'] != 'data missing']\n",
    "    print('\\nRemoved rows with \"data missing\" in the \"has_entity\" column, unique values now:')\n",
    "    print(df['has_entity'].unique())\n",
    "    print(\"-\" * 55)\n",
    "\n",
    "    return df\n",
    "\n",
    "'''\n",
    "\t- Function usage: df = process_df(df)\n",
    "\t- Replace `df` with your original DataFrame.\n",
    "'''\n",
    "\n",
    "df1 = process_df(df1)"
   ]
  },
  {
   "cell_type": "markdown",
   "metadata": {},
   "source": [
    "## Feature Extraction \n",
    "\n",
    "### Function: `split_entity_column`\n",
    "This function enhances data representation by splitting the `'has_entity'` column of a DataFrame into three separate binary columns. Each new column represents the presence (1) or absence (0) of specific entity types: organizations, products, and persons.\n",
    "\n",
    "*Details*:\n",
    "- **ORG Column**: Indicates the presence of organizations with `ORG_YES`.\n",
    "- **PRODUCT Column**: Flags the presence of products with `PRODUCT_YES`.\n",
    "- **PERSON Column**: Marks the presence of persons with `PERSON_YES`.\n",
    "  \n",
    "The function applies a lambda function to check for the existence of each entity type within the `'has_entity'` column, then converts these checks into binary columns.\n",
    "\n",
    "After the transformation, the function prints a preview of the DataFrame showing the original `'has_entity'` column alongside the newly created `'ORG'`, `'PRODUCT'`, and `'PERSON'` binary columns for verification.\n",
    "\n",
    "**Usage**:\n",
    "To apply this transformation to your DataFrame, use the function as follows:\n",
    "```python\n",
    "df1 = split_entity_column(df)\n",
    "```"
   ]
  },
  {
   "cell_type": "code",
   "execution_count": 61,
   "metadata": {},
   "outputs": [
    {
     "name": "stdout",
     "output_type": "stream",
     "text": [
      "-------------------------------------------------------\n",
      "Preview of the 'has_entity' column and the new binary columns:\n",
      "                        has_entity  ORG  PRODUCT  PERSON\n",
      "0   ORG_YES_PRODUCT_NO_PERSON_YES_    1        0       1\n",
      "1    ORG_YES_PRODUCT_NO_PERSON_NO_    1        0       0\n",
      "2    ORG_YES_PRODUCT_NO_PERSON_NO_    1        0       0\n",
      "3    ORG_NO_PRODUCT_YES_PERSON_NO_    0        1       0\n",
      "4  ORG_YES_PRODUCT_YES_PERSON_YES_    1        1       1\n",
      "-------------------------------------------------------\n",
      "-------------------------------------------------------\n",
      "Distribution of the 'has_entity' column:\n",
      "has_entity\n",
      "ORG_YES_PRODUCT_NO_PERSON_YES_     3029\n",
      "ORG_NO_PRODUCT_NO_PERSON_NO_       2851\n",
      "ORG_YES_PRODUCT_NO_PERSON_NO_      1462\n",
      "ORG_NO_PRODUCT_NO_PERSON_YES_      1373\n",
      "ORG_YES_PRODUCT_YES_PERSON_YES_     298\n",
      "ORG_YES_PRODUCT_YES_PERSON_NO_      125\n",
      "ORG_NO_PRODUCT_YES_PERSON_YES_       64\n",
      "ORG_NO_PRODUCT_YES_PERSON_NO_        42\n",
      "Name: count, dtype: int64\n",
      "-------------------------------------------------------\n"
     ]
    }
   ],
   "source": [
    "# Transform the \"has_entity\" column into three binary columns for entity types\n",
    "def split_entity_column(df):\n",
    "    # Create binary columns based on the presence of specific entity types in the 'has_entity' column\n",
    "    df['ORG'] = df['has_entity'].apply(lambda x: 'ORG_YES' in x).astype(int)\n",
    "    df['PRODUCT'] = df['has_entity'].apply(lambda x: 'PRODUCT_YES' in x).astype(int)\n",
    "    df['PERSON'] = df['has_entity'].apply(lambda x: 'PERSON_YES' in x).astype(int)\n",
    "\n",
    "    # Display the first few rows to verify the newly added binary columns alongside the 'has_entity' column\n",
    "    print(\"-\" * 55)\n",
    "    print(\"Preview of the 'has_entity' column and the new binary columns:\")\n",
    "    print(df[['has_entity', 'ORG', 'PRODUCT', 'PERSON']].head())\n",
    "    print(\"-\" * 55)\n",
    "    print(\"-\" * 55)\n",
    "    print(\"Distribution of the 'has_entity' column:\")\n",
    "    print(df['has_entity'].value_counts())\n",
    "    print(\"-\" * 55)\n",
    "\n",
    "    return df\n",
    "\n",
    "'''\n",
    "\t- Function usage: df = split_entity_column(df)\n",
    "\t- Replace `df` with your original DataFrame.\n",
    "'''\n",
    "\n",
    "df1 = split_entity_column(df1)"
   ]
  },
  {
   "cell_type": "markdown",
   "metadata": {},
   "source": [
    "## Text Cleaning\n",
    "### Functions: `clean_text` and `clean_column`\n",
    "These functions are designed to preprocess textual data within a DataFrame, removing unnecessary characters and whitespace, thereby standardizing the text for analysis or machine learning tasks.\n",
    "\n",
    "#### `clean_text` \n",
    "- **Purpose**: Cleans a given text string by removing punctuation, numbers, and extra spaces.\n",
    "- **Implementation**:\n",
    "  - Uses regular expressions (`re.sub`) to strip out non-alphabetic characters and numbers.\n",
    "  - Condenses multiple whitespace characters down to a single space and trims leading/trailing whitespace.\n",
    "\n",
    "#### `clean_column`\n",
    "- **Purpose**: Applies the `clean_text` function to a specified column in a DataFrame, creating a new \"_cleaned\" version of the column.\n",
    "- **Verification**: Prints the original and cleaned version of the first text entry in the specified column for a quick comparison and verification of the cleaning process.\n",
    "- **Error Handling**: Checks if the specified column exists in the DataFrame, printing an error message if it does not.\n",
    "\n",
    "**Usage**:\n",
    "To clean a text column in your DataFrame, use the `clean_column` function as follows:\n",
    "```python\n",
    "df1 = clean_column(df, 'column_name')\n",
    "```"
   ]
  },
  {
   "cell_type": "code",
   "execution_count": 62,
   "metadata": {},
   "outputs": [
    {
     "name": "stdout",
     "output_type": "stream",
     "text": [
      "-------------------------------------------------------\n",
      "Original paragraph:\n",
      " Ramsay was born in Glasgow on 2 October 1852. He was a nephew of the geologist Sir Andrew Ramsay. His father, William, Sr., was a civil engineer. His mother was Catherine Robertson. He studied at Glasgow Academy, at the University of Glasgow and at University of Tubingen in Germany. \n",
      "\n",
      "Cleaned paragraph:\n",
      " Ramsay was born in Glasgow on October He was a nephew of the geologist Sir Andrew Ramsay His father William Sr was a civil engineer His mother was Catherine Robertson He studied at Glasgow Academy at the University of Glasgow and at University of Tubingen in Germany\n",
      "-------------------------------------------------------\n"
     ]
    }
   ],
   "source": [
    "def clean_text(text):\n",
    "    # Remove punctuation marks and special characters\n",
    "    text = re.sub(r'[^a-zA-Z\\s]', '', text)\n",
    "    # Remove numbers\n",
    "    text = re.sub(r'\\d+', '', text)\n",
    "    # Remove extra whitespaces\n",
    "    text = re.sub(r'\\s+', ' ', text).strip()\n",
    "    return text\n",
    "\n",
    "def clean_column(df, column_name):\n",
    "    # Ensure the column exists in the DataFrame\n",
    "    if column_name in df.columns:\n",
    "        unclean = df[column_name]\n",
    "        df[column_name + '_cleaned'] = df[column_name].apply(clean_text)\n",
    "        clean = df[column_name + '_cleaned']\n",
    "        print(\"-\"*55)\n",
    "        print(\"Original paragraph:\\n\", unclean.iloc[0])\n",
    "        print(\"\\nCleaned paragraph:\\n\", clean.iloc[0])\n",
    "        print(\"-\"*55)\n",
    "    else:\n",
    "        print(f\"The column '{column_name}' does not exist in the DataFrame.\")\n",
    "    return df\n",
    "\n",
    "'''\n",
    "\t- Function usage: df = clean_column(df, 'paragraph')\n",
    "\t- Replace `paragraph` with your original value.\n",
    "'''\n",
    "\n",
    "df1 = clean_column(df1, 'paragraph')"
   ]
  },
  {
   "cell_type": "markdown",
   "metadata": {},
   "source": [
    "## Language Filtering\n",
    "Removing Non-English Paragraphs: This code block introduces a function `is_english` to identify whether the text in a DataFrame's column is in English. It then applies this function to filter out non-English paragraphs from the dataset."
   ]
  },
  {
   "cell_type": "code",
   "execution_count": 63,
   "metadata": {},
   "outputs": [
    {
     "data": {
      "application/vnd.jupyter.widget-view+json": {
       "model_id": "f2d6d04b8cd54ccfb3132c85ff82fd90",
       "version_major": 2,
       "version_minor": 0
      },
      "text/plain": [
       "Pandas Apply:   0%|          | 0/9244 [00:00<?, ?it/s]"
      ]
     },
     "metadata": {},
     "output_type": "display_data"
    },
    {
     "name": "stdout",
     "output_type": "stream",
     "text": [
      "-------------------------------------------------------\n",
      "Number of rows after removing non-English paragraphs:\n",
      "\n",
      "is_english\n",
      "True    9184\n",
      "Name: count, dtype: int64\n",
      "-------------------------------------------------------\n",
      "Present columns:\n",
      "\n",
      "paragraph\n",
      "has_entity\n",
      "lexicon_count\n",
      "difficult_words\n",
      "category\n",
      "index\n",
      "ORG\n",
      "PRODUCT\n",
      "PERSON\n",
      "paragraph_cleaned\n",
      "is_english\n",
      "-------------------------------------------------------\n"
     ]
    }
   ],
   "source": [
    "def is_english(text):\n",
    "    try:\n",
    "        return detect(text) == 'en'\n",
    "    except:\n",
    "        return False\n",
    "\n",
    "# Apply the function to the 'paragraph_cleaned' column and store the result in a new column 'is_english'\n",
    "df1['is_english'] = df1['paragraph_cleaned'].swifter.apply(is_english)\n",
    "df1 = df1[df1['is_english'] != False]\n",
    "print(\"-\" * 55)\n",
    "print(\"Number of rows after removing non-English paragraphs:\\n\")\n",
    "print(df1['is_english'].value_counts())\n",
    "print(\"-\" * 55)\n",
    "\n",
    "print(\"Present columns:\\n\")\n",
    "column_names = df1.columns.tolist()\n",
    "for name in column_names:\n",
    "    print(name)\n",
    "print(\"-\" * 55)"
   ]
  },
  {
   "cell_type": "markdown",
   "metadata": {},
   "source": [
    "## Text Tokenization\n",
    "### Function: `tokenize_column`\n",
    "This function is designed to tokenize textual data within a specified column of a DataFrame, converting text into a list of tokens (words) and storing the result in a new column.\n",
    "\n",
    "<u>Summary</u>: A **token** refers to a single unit of linguistic data. It's the result of taking a text or set of text and breaking it up into pieces such as words, keywords, phrases, symbols and other elements, which are then used as input for further processing.\n",
    "\n",
    "*Details*:\n",
    "- **Column Verification**: Checks if the specified column exists in the DataFrame. If it does not, prints an error message.\n",
    "- **Tokenization**: Utilizes the `word_tokenize` function from the NLTK library to break down text into individual words or tokens.\n",
    "- **New Column Creation**: Appends a \"_tokenized\" suffix to the original column name and stores the tokenized lists in this new column.\n",
    "- **Preview**: Prints the first entry from both the original (cleaned) column and the new (tokenized) column to demonstrate the tokenization effect.\n",
    "\n",
    "**Usage**:\n",
    "To apply text tokenization to a column in your DataFrame, execute the function as follows:\n",
    "```python\n",
    "df1 = tokenize_column(df, 'column_name_cleaned')\n",
    "```"
   ]
  },
  {
   "cell_type": "code",
   "execution_count": 64,
   "metadata": {},
   "outputs": [
    {
     "name": "stdout",
     "output_type": "stream",
     "text": [
      "-------------------------------------------------------\n",
      "Cleaned paragraph:\n",
      " Ramsay was born in Glasgow on October He was a nephew of the geologist Sir Andrew Ramsay His father William Sr was a civil engineer His mother was Catherine Robertson He studied at Glasgow Academy at the University of Glasgow and at University of Tubingen in Germany\n",
      "\n",
      "Tokenized paragraph:\n",
      " ['Ramsay', 'was', 'born', 'in', 'Glasgow', 'on', 'October', 'He', 'was', 'a', 'nephew', 'of', 'the', 'geologist', 'Sir', 'Andrew', 'Ramsay', 'His', 'father', 'William', 'Sr', 'was', 'a', 'civil', 'engineer', 'His', 'mother', 'was', 'Catherine', 'Robertson', 'He', 'studied', 'at', 'Glasgow', 'Academy', 'at', 'the', 'University', 'of', 'Glasgow', 'and', 'at', 'University', 'of', 'Tubingen', 'in', 'Germany']\n",
      "-------------------------------------------------------\n"
     ]
    }
   ],
   "source": [
    "# Tokenize each paragraph and store the tokens in a new column 'tokenized_paragraph'\n",
    "def tokenize_column(df, column_name):\n",
    "    # Ensure the column exists in the DataFrame\n",
    "    if column_name in df.columns:\n",
    "        clean = df[column_name]\n",
    "        df[column_name + '_tokenized'] = df[column_name].apply(lambda x: word_tokenize(x))\n",
    "        tokenized = df[column_name + '_tokenized']\n",
    "        print(\"-\"*55)\n",
    "        print(\"Cleaned paragraph:\\n\", clean.iloc[0])\n",
    "        print(\"\\nTokenized paragraph:\\n\", tokenized.iloc[0])\n",
    "        print(\"-\"*55)\n",
    "    else:\n",
    "        print(f\"The column '{column_name}' does not exist in the DataFrame.\")\n",
    "    return df\n",
    "\n",
    "'''\n",
    "\t- Function usage: df = clean_column(df, 'paragraph')\n",
    "\t- Replace `paragraph` with your original value.\n",
    "'''\n",
    "\n",
    "df1 = tokenize_column(df1, 'paragraph_cleaned')"
   ]
  },
  {
   "cell_type": "markdown",
   "metadata": {},
   "source": [
    "## Data Preparation and Model Training Pipeline\n",
    "This code segment outlines the process of preparing a dataset for machine learning tasks and constructing a training pipeline that incorporates preprocessing, resampling, and classification steps.\n",
    "\n",
    "*Description*:\n",
    "- **Feature Selection and Encoding**: The features selected include `'paragraph_cleaned'` for TF-IDF vectorization and `'has_entity'` for one-hot encoding. The target variable `'category'` undergoes label encoding to convert category names into numeric labels.\n",
    "- **Train-Test Split**: The dataset is split into training and test sets, ensuring a balanced representation of categories in both sets.\n",
    "- **Preprocessing**: A ColumnTransformer preprocesses features differently—applying TF-IDF vectorization to `'paragraph_cleaned'` and one-hot encoding to `'has_entity'`.\n",
    "- **Classifier Selection**: A dictionary of classifiers provides flexibility in choosing a model for training. The selection is made based on the `chosen_clf` variable, which refers to a key in the classifiers dictionary.\n",
    "- **Pipeline Creation**: An `IMBPipeline` is constructed, encompassing steps for preprocessing, resampling with `SMOTE` to address class imbalance, and classification using the selected model.\n",
    "- **Model Training**: The pipeline is trained on the prepared training set, making it ready for predictions or further evaluation."
   ]
  },
  {
   "cell_type": "code",
   "execution_count": 65,
   "metadata": {},
   "outputs": [
    {
     "data": {
      "text/html": [
       "<style>#sk-container-id-2 {\n",
       "  /* Definition of color scheme common for light and dark mode */\n",
       "  --sklearn-color-text: black;\n",
       "  --sklearn-color-line: gray;\n",
       "  /* Definition of color scheme for unfitted estimators */\n",
       "  --sklearn-color-unfitted-level-0: #fff5e6;\n",
       "  --sklearn-color-unfitted-level-1: #f6e4d2;\n",
       "  --sklearn-color-unfitted-level-2: #ffe0b3;\n",
       "  --sklearn-color-unfitted-level-3: chocolate;\n",
       "  /* Definition of color scheme for fitted estimators */\n",
       "  --sklearn-color-fitted-level-0: #f0f8ff;\n",
       "  --sklearn-color-fitted-level-1: #d4ebff;\n",
       "  --sklearn-color-fitted-level-2: #b3dbfd;\n",
       "  --sklearn-color-fitted-level-3: cornflowerblue;\n",
       "\n",
       "  /* Specific color for light theme */\n",
       "  --sklearn-color-text-on-default-background: var(--sg-text-color, var(--theme-code-foreground, var(--jp-content-font-color1, black)));\n",
       "  --sklearn-color-background: var(--sg-background-color, var(--theme-background, var(--jp-layout-color0, white)));\n",
       "  --sklearn-color-border-box: var(--sg-text-color, var(--theme-code-foreground, var(--jp-content-font-color1, black)));\n",
       "  --sklearn-color-icon: #696969;\n",
       "\n",
       "  @media (prefers-color-scheme: dark) {\n",
       "    /* Redefinition of color scheme for dark theme */\n",
       "    --sklearn-color-text-on-default-background: var(--sg-text-color, var(--theme-code-foreground, var(--jp-content-font-color1, white)));\n",
       "    --sklearn-color-background: var(--sg-background-color, var(--theme-background, var(--jp-layout-color0, #111)));\n",
       "    --sklearn-color-border-box: var(--sg-text-color, var(--theme-code-foreground, var(--jp-content-font-color1, white)));\n",
       "    --sklearn-color-icon: #878787;\n",
       "  }\n",
       "}\n",
       "\n",
       "#sk-container-id-2 {\n",
       "  color: var(--sklearn-color-text);\n",
       "}\n",
       "\n",
       "#sk-container-id-2 pre {\n",
       "  padding: 0;\n",
       "}\n",
       "\n",
       "#sk-container-id-2 input.sk-hidden--visually {\n",
       "  border: 0;\n",
       "  clip: rect(1px 1px 1px 1px);\n",
       "  clip: rect(1px, 1px, 1px, 1px);\n",
       "  height: 1px;\n",
       "  margin: -1px;\n",
       "  overflow: hidden;\n",
       "  padding: 0;\n",
       "  position: absolute;\n",
       "  width: 1px;\n",
       "}\n",
       "\n",
       "#sk-container-id-2 div.sk-dashed-wrapped {\n",
       "  border: 1px dashed var(--sklearn-color-line);\n",
       "  margin: 0 0.4em 0.5em 0.4em;\n",
       "  box-sizing: border-box;\n",
       "  padding-bottom: 0.4em;\n",
       "  background-color: var(--sklearn-color-background);\n",
       "}\n",
       "\n",
       "#sk-container-id-2 div.sk-container {\n",
       "  /* jupyter's `normalize.less` sets `[hidden] { display: none; }`\n",
       "     but bootstrap.min.css set `[hidden] { display: none !important; }`\n",
       "     so we also need the `!important` here to be able to override the\n",
       "     default hidden behavior on the sphinx rendered scikit-learn.org.\n",
       "     See: https://github.com/scikit-learn/scikit-learn/issues/21755 */\n",
       "  display: inline-block !important;\n",
       "  position: relative;\n",
       "}\n",
       "\n",
       "#sk-container-id-2 div.sk-text-repr-fallback {\n",
       "  display: none;\n",
       "}\n",
       "\n",
       "div.sk-parallel-item,\n",
       "div.sk-serial,\n",
       "div.sk-item {\n",
       "  /* draw centered vertical line to link estimators */\n",
       "  background-image: linear-gradient(var(--sklearn-color-text-on-default-background), var(--sklearn-color-text-on-default-background));\n",
       "  background-size: 2px 100%;\n",
       "  background-repeat: no-repeat;\n",
       "  background-position: center center;\n",
       "}\n",
       "\n",
       "/* Parallel-specific style estimator block */\n",
       "\n",
       "#sk-container-id-2 div.sk-parallel-item::after {\n",
       "  content: \"\";\n",
       "  width: 100%;\n",
       "  border-bottom: 2px solid var(--sklearn-color-text-on-default-background);\n",
       "  flex-grow: 1;\n",
       "}\n",
       "\n",
       "#sk-container-id-2 div.sk-parallel {\n",
       "  display: flex;\n",
       "  align-items: stretch;\n",
       "  justify-content: center;\n",
       "  background-color: var(--sklearn-color-background);\n",
       "  position: relative;\n",
       "}\n",
       "\n",
       "#sk-container-id-2 div.sk-parallel-item {\n",
       "  display: flex;\n",
       "  flex-direction: column;\n",
       "}\n",
       "\n",
       "#sk-container-id-2 div.sk-parallel-item:first-child::after {\n",
       "  align-self: flex-end;\n",
       "  width: 50%;\n",
       "}\n",
       "\n",
       "#sk-container-id-2 div.sk-parallel-item:last-child::after {\n",
       "  align-self: flex-start;\n",
       "  width: 50%;\n",
       "}\n",
       "\n",
       "#sk-container-id-2 div.sk-parallel-item:only-child::after {\n",
       "  width: 0;\n",
       "}\n",
       "\n",
       "/* Serial-specific style estimator block */\n",
       "\n",
       "#sk-container-id-2 div.sk-serial {\n",
       "  display: flex;\n",
       "  flex-direction: column;\n",
       "  align-items: center;\n",
       "  background-color: var(--sklearn-color-background);\n",
       "  padding-right: 1em;\n",
       "  padding-left: 1em;\n",
       "}\n",
       "\n",
       "\n",
       "/* Toggleable style: style used for estimator/Pipeline/ColumnTransformer box that is\n",
       "clickable and can be expanded/collapsed.\n",
       "- Pipeline and ColumnTransformer use this feature and define the default style\n",
       "- Estimators will overwrite some part of the style using the `sk-estimator` class\n",
       "*/\n",
       "\n",
       "/* Pipeline and ColumnTransformer style (default) */\n",
       "\n",
       "#sk-container-id-2 div.sk-toggleable {\n",
       "  /* Default theme specific background. It is overwritten whether we have a\n",
       "  specific estimator or a Pipeline/ColumnTransformer */\n",
       "  background-color: var(--sklearn-color-background);\n",
       "}\n",
       "\n",
       "/* Toggleable label */\n",
       "#sk-container-id-2 label.sk-toggleable__label {\n",
       "  cursor: pointer;\n",
       "  display: block;\n",
       "  width: 100%;\n",
       "  margin-bottom: 0;\n",
       "  padding: 0.5em;\n",
       "  box-sizing: border-box;\n",
       "  text-align: center;\n",
       "}\n",
       "\n",
       "#sk-container-id-2 label.sk-toggleable__label-arrow:before {\n",
       "  /* Arrow on the left of the label */\n",
       "  content: \"▸\";\n",
       "  float: left;\n",
       "  margin-right: 0.25em;\n",
       "  color: var(--sklearn-color-icon);\n",
       "}\n",
       "\n",
       "#sk-container-id-2 label.sk-toggleable__label-arrow:hover:before {\n",
       "  color: var(--sklearn-color-text);\n",
       "}\n",
       "\n",
       "/* Toggleable content - dropdown */\n",
       "\n",
       "#sk-container-id-2 div.sk-toggleable__content {\n",
       "  max-height: 0;\n",
       "  max-width: 0;\n",
       "  overflow: hidden;\n",
       "  text-align: left;\n",
       "  /* unfitted */\n",
       "  background-color: var(--sklearn-color-unfitted-level-0);\n",
       "}\n",
       "\n",
       "#sk-container-id-2 div.sk-toggleable__content.fitted {\n",
       "  /* fitted */\n",
       "  background-color: var(--sklearn-color-fitted-level-0);\n",
       "}\n",
       "\n",
       "#sk-container-id-2 div.sk-toggleable__content pre {\n",
       "  margin: 0.2em;\n",
       "  border-radius: 0.25em;\n",
       "  color: var(--sklearn-color-text);\n",
       "  /* unfitted */\n",
       "  background-color: var(--sklearn-color-unfitted-level-0);\n",
       "}\n",
       "\n",
       "#sk-container-id-2 div.sk-toggleable__content.fitted pre {\n",
       "  /* unfitted */\n",
       "  background-color: var(--sklearn-color-fitted-level-0);\n",
       "}\n",
       "\n",
       "#sk-container-id-2 input.sk-toggleable__control:checked~div.sk-toggleable__content {\n",
       "  /* Expand drop-down */\n",
       "  max-height: 200px;\n",
       "  max-width: 100%;\n",
       "  overflow: auto;\n",
       "}\n",
       "\n",
       "#sk-container-id-2 input.sk-toggleable__control:checked~label.sk-toggleable__label-arrow:before {\n",
       "  content: \"▾\";\n",
       "}\n",
       "\n",
       "/* Pipeline/ColumnTransformer-specific style */\n",
       "\n",
       "#sk-container-id-2 div.sk-label input.sk-toggleable__control:checked~label.sk-toggleable__label {\n",
       "  color: var(--sklearn-color-text);\n",
       "  background-color: var(--sklearn-color-unfitted-level-2);\n",
       "}\n",
       "\n",
       "#sk-container-id-2 div.sk-label.fitted input.sk-toggleable__control:checked~label.sk-toggleable__label {\n",
       "  background-color: var(--sklearn-color-fitted-level-2);\n",
       "}\n",
       "\n",
       "/* Estimator-specific style */\n",
       "\n",
       "/* Colorize estimator box */\n",
       "#sk-container-id-2 div.sk-estimator input.sk-toggleable__control:checked~label.sk-toggleable__label {\n",
       "  /* unfitted */\n",
       "  background-color: var(--sklearn-color-unfitted-level-2);\n",
       "}\n",
       "\n",
       "#sk-container-id-2 div.sk-estimator.fitted input.sk-toggleable__control:checked~label.sk-toggleable__label {\n",
       "  /* fitted */\n",
       "  background-color: var(--sklearn-color-fitted-level-2);\n",
       "}\n",
       "\n",
       "#sk-container-id-2 div.sk-label label.sk-toggleable__label,\n",
       "#sk-container-id-2 div.sk-label label {\n",
       "  /* The background is the default theme color */\n",
       "  color: var(--sklearn-color-text-on-default-background);\n",
       "}\n",
       "\n",
       "/* On hover, darken the color of the background */\n",
       "#sk-container-id-2 div.sk-label:hover label.sk-toggleable__label {\n",
       "  color: var(--sklearn-color-text);\n",
       "  background-color: var(--sklearn-color-unfitted-level-2);\n",
       "}\n",
       "\n",
       "/* Label box, darken color on hover, fitted */\n",
       "#sk-container-id-2 div.sk-label.fitted:hover label.sk-toggleable__label.fitted {\n",
       "  color: var(--sklearn-color-text);\n",
       "  background-color: var(--sklearn-color-fitted-level-2);\n",
       "}\n",
       "\n",
       "/* Estimator label */\n",
       "\n",
       "#sk-container-id-2 div.sk-label label {\n",
       "  font-family: monospace;\n",
       "  font-weight: bold;\n",
       "  display: inline-block;\n",
       "  line-height: 1.2em;\n",
       "}\n",
       "\n",
       "#sk-container-id-2 div.sk-label-container {\n",
       "  text-align: center;\n",
       "}\n",
       "\n",
       "/* Estimator-specific */\n",
       "#sk-container-id-2 div.sk-estimator {\n",
       "  font-family: monospace;\n",
       "  border: 1px dotted var(--sklearn-color-border-box);\n",
       "  border-radius: 0.25em;\n",
       "  box-sizing: border-box;\n",
       "  margin-bottom: 0.5em;\n",
       "  /* unfitted */\n",
       "  background-color: var(--sklearn-color-unfitted-level-0);\n",
       "}\n",
       "\n",
       "#sk-container-id-2 div.sk-estimator.fitted {\n",
       "  /* fitted */\n",
       "  background-color: var(--sklearn-color-fitted-level-0);\n",
       "}\n",
       "\n",
       "/* on hover */\n",
       "#sk-container-id-2 div.sk-estimator:hover {\n",
       "  /* unfitted */\n",
       "  background-color: var(--sklearn-color-unfitted-level-2);\n",
       "}\n",
       "\n",
       "#sk-container-id-2 div.sk-estimator.fitted:hover {\n",
       "  /* fitted */\n",
       "  background-color: var(--sklearn-color-fitted-level-2);\n",
       "}\n",
       "\n",
       "/* Specification for estimator info (e.g. \"i\" and \"?\") */\n",
       "\n",
       "/* Common style for \"i\" and \"?\" */\n",
       "\n",
       ".sk-estimator-doc-link,\n",
       "a:link.sk-estimator-doc-link,\n",
       "a:visited.sk-estimator-doc-link {\n",
       "  float: right;\n",
       "  font-size: smaller;\n",
       "  line-height: 1em;\n",
       "  font-family: monospace;\n",
       "  background-color: var(--sklearn-color-background);\n",
       "  border-radius: 1em;\n",
       "  height: 1em;\n",
       "  width: 1em;\n",
       "  text-decoration: none !important;\n",
       "  margin-left: 1ex;\n",
       "  /* unfitted */\n",
       "  border: var(--sklearn-color-unfitted-level-1) 1pt solid;\n",
       "  color: var(--sklearn-color-unfitted-level-1);\n",
       "}\n",
       "\n",
       ".sk-estimator-doc-link.fitted,\n",
       "a:link.sk-estimator-doc-link.fitted,\n",
       "a:visited.sk-estimator-doc-link.fitted {\n",
       "  /* fitted */\n",
       "  border: var(--sklearn-color-fitted-level-1) 1pt solid;\n",
       "  color: var(--sklearn-color-fitted-level-1);\n",
       "}\n",
       "\n",
       "/* On hover */\n",
       "div.sk-estimator:hover .sk-estimator-doc-link:hover,\n",
       ".sk-estimator-doc-link:hover,\n",
       "div.sk-label-container:hover .sk-estimator-doc-link:hover,\n",
       ".sk-estimator-doc-link:hover {\n",
       "  /* unfitted */\n",
       "  background-color: var(--sklearn-color-unfitted-level-3);\n",
       "  color: var(--sklearn-color-background);\n",
       "  text-decoration: none;\n",
       "}\n",
       "\n",
       "div.sk-estimator.fitted:hover .sk-estimator-doc-link.fitted:hover,\n",
       ".sk-estimator-doc-link.fitted:hover,\n",
       "div.sk-label-container:hover .sk-estimator-doc-link.fitted:hover,\n",
       ".sk-estimator-doc-link.fitted:hover {\n",
       "  /* fitted */\n",
       "  background-color: var(--sklearn-color-fitted-level-3);\n",
       "  color: var(--sklearn-color-background);\n",
       "  text-decoration: none;\n",
       "}\n",
       "\n",
       "/* Span, style for the box shown on hovering the info icon */\n",
       ".sk-estimator-doc-link span {\n",
       "  display: none;\n",
       "  z-index: 9999;\n",
       "  position: relative;\n",
       "  font-weight: normal;\n",
       "  right: .2ex;\n",
       "  padding: .5ex;\n",
       "  margin: .5ex;\n",
       "  width: min-content;\n",
       "  min-width: 20ex;\n",
       "  max-width: 50ex;\n",
       "  color: var(--sklearn-color-text);\n",
       "  box-shadow: 2pt 2pt 4pt #999;\n",
       "  /* unfitted */\n",
       "  background: var(--sklearn-color-unfitted-level-0);\n",
       "  border: .5pt solid var(--sklearn-color-unfitted-level-3);\n",
       "}\n",
       "\n",
       ".sk-estimator-doc-link.fitted span {\n",
       "  /* fitted */\n",
       "  background: var(--sklearn-color-fitted-level-0);\n",
       "  border: var(--sklearn-color-fitted-level-3);\n",
       "}\n",
       "\n",
       ".sk-estimator-doc-link:hover span {\n",
       "  display: block;\n",
       "}\n",
       "\n",
       "/* \"?\"-specific style due to the `<a>` HTML tag */\n",
       "\n",
       "#sk-container-id-2 a.estimator_doc_link {\n",
       "  float: right;\n",
       "  font-size: 1rem;\n",
       "  line-height: 1em;\n",
       "  font-family: monospace;\n",
       "  background-color: var(--sklearn-color-background);\n",
       "  border-radius: 1rem;\n",
       "  height: 1rem;\n",
       "  width: 1rem;\n",
       "  text-decoration: none;\n",
       "  /* unfitted */\n",
       "  color: var(--sklearn-color-unfitted-level-1);\n",
       "  border: var(--sklearn-color-unfitted-level-1) 1pt solid;\n",
       "}\n",
       "\n",
       "#sk-container-id-2 a.estimator_doc_link.fitted {\n",
       "  /* fitted */\n",
       "  border: var(--sklearn-color-fitted-level-1) 1pt solid;\n",
       "  color: var(--sklearn-color-fitted-level-1);\n",
       "}\n",
       "\n",
       "/* On hover */\n",
       "#sk-container-id-2 a.estimator_doc_link:hover {\n",
       "  /* unfitted */\n",
       "  background-color: var(--sklearn-color-unfitted-level-3);\n",
       "  color: var(--sklearn-color-background);\n",
       "  text-decoration: none;\n",
       "}\n",
       "\n",
       "#sk-container-id-2 a.estimator_doc_link.fitted:hover {\n",
       "  /* fitted */\n",
       "  background-color: var(--sklearn-color-fitted-level-3);\n",
       "}\n",
       "</style><div id=\"sk-container-id-2\" class=\"sk-top-container\"><div class=\"sk-text-repr-fallback\"><pre>Pipeline(steps=[(&#x27;preprocessing&#x27;,\n",
       "                 ColumnTransformer(transformers=[(&#x27;tfidf&#x27;,\n",
       "                                                  TfidfVectorizer(max_features=3000,\n",
       "                                                                  stop_words=&#x27;english&#x27;),\n",
       "                                                  &#x27;paragraph&#x27;),\n",
       "                                                 (&#x27;ohe&#x27;, OneHotEncoder(),\n",
       "                                                  [&#x27;has_entity&#x27;])])),\n",
       "                (&#x27;resample&#x27;, SMOTE(random_state=42)),\n",
       "                (&#x27;classify&#x27;,\n",
       "                 LogisticRegression(class_weight=&#x27;balanced&#x27;, random_state=42))])</pre><b>In a Jupyter environment, please rerun this cell to show the HTML representation or trust the notebook. <br />On GitHub, the HTML representation is unable to render, please try loading this page with nbviewer.org.</b></div><div class=\"sk-container\" hidden><div class=\"sk-item sk-dashed-wrapped\"><div class=\"sk-label-container\"><div class=\"sk-label fitted sk-toggleable\"><input class=\"sk-toggleable__control sk-hidden--visually\" id=\"sk-estimator-id-9\" type=\"checkbox\" ><label for=\"sk-estimator-id-9\" class=\"sk-toggleable__label fitted sk-toggleable__label-arrow fitted\">&nbsp;Pipeline<span class=\"sk-estimator-doc-link fitted\">i<span>Fitted</span></span></label><div class=\"sk-toggleable__content fitted\"><pre>Pipeline(steps=[(&#x27;preprocessing&#x27;,\n",
       "                 ColumnTransformer(transformers=[(&#x27;tfidf&#x27;,\n",
       "                                                  TfidfVectorizer(max_features=3000,\n",
       "                                                                  stop_words=&#x27;english&#x27;),\n",
       "                                                  &#x27;paragraph&#x27;),\n",
       "                                                 (&#x27;ohe&#x27;, OneHotEncoder(),\n",
       "                                                  [&#x27;has_entity&#x27;])])),\n",
       "                (&#x27;resample&#x27;, SMOTE(random_state=42)),\n",
       "                (&#x27;classify&#x27;,\n",
       "                 LogisticRegression(class_weight=&#x27;balanced&#x27;, random_state=42))])</pre></div> </div></div><div class=\"sk-serial\"><div class=\"sk-item sk-dashed-wrapped\"><div class=\"sk-label-container\"><div class=\"sk-label fitted sk-toggleable\"><input class=\"sk-toggleable__control sk-hidden--visually\" id=\"sk-estimator-id-10\" type=\"checkbox\" ><label for=\"sk-estimator-id-10\" class=\"sk-toggleable__label fitted sk-toggleable__label-arrow fitted\">&nbsp;preprocessing: ColumnTransformer<a class=\"sk-estimator-doc-link fitted\" rel=\"noreferrer\" target=\"_blank\" href=\"https://scikit-learn.org/1.4/modules/generated/sklearn.compose.ColumnTransformer.html\">?<span>Documentation for preprocessing: ColumnTransformer</span></a></label><div class=\"sk-toggleable__content fitted\"><pre>ColumnTransformer(transformers=[(&#x27;tfidf&#x27;,\n",
       "                                 TfidfVectorizer(max_features=3000,\n",
       "                                                 stop_words=&#x27;english&#x27;),\n",
       "                                 &#x27;paragraph&#x27;),\n",
       "                                (&#x27;ohe&#x27;, OneHotEncoder(), [&#x27;has_entity&#x27;])])</pre></div> </div></div><div class=\"sk-parallel\"><div class=\"sk-parallel-item\"><div class=\"sk-item\"><div class=\"sk-label-container\"><div class=\"sk-label fitted sk-toggleable\"><input class=\"sk-toggleable__control sk-hidden--visually\" id=\"sk-estimator-id-11\" type=\"checkbox\" ><label for=\"sk-estimator-id-11\" class=\"sk-toggleable__label fitted sk-toggleable__label-arrow fitted\">tfidf</label><div class=\"sk-toggleable__content fitted\"><pre>paragraph</pre></div> </div></div><div class=\"sk-serial\"><div class=\"sk-item\"><div class=\"sk-estimator fitted sk-toggleable\"><input class=\"sk-toggleable__control sk-hidden--visually\" id=\"sk-estimator-id-12\" type=\"checkbox\" ><label for=\"sk-estimator-id-12\" class=\"sk-toggleable__label fitted sk-toggleable__label-arrow fitted\">&nbsp;TfidfVectorizer<a class=\"sk-estimator-doc-link fitted\" rel=\"noreferrer\" target=\"_blank\" href=\"https://scikit-learn.org/1.4/modules/generated/sklearn.feature_extraction.text.TfidfVectorizer.html\">?<span>Documentation for TfidfVectorizer</span></a></label><div class=\"sk-toggleable__content fitted\"><pre>TfidfVectorizer(max_features=3000, stop_words=&#x27;english&#x27;)</pre></div> </div></div></div></div></div><div class=\"sk-parallel-item\"><div class=\"sk-item\"><div class=\"sk-label-container\"><div class=\"sk-label fitted sk-toggleable\"><input class=\"sk-toggleable__control sk-hidden--visually\" id=\"sk-estimator-id-13\" type=\"checkbox\" ><label for=\"sk-estimator-id-13\" class=\"sk-toggleable__label fitted sk-toggleable__label-arrow fitted\">ohe</label><div class=\"sk-toggleable__content fitted\"><pre>[&#x27;has_entity&#x27;]</pre></div> </div></div><div class=\"sk-serial\"><div class=\"sk-item\"><div class=\"sk-estimator fitted sk-toggleable\"><input class=\"sk-toggleable__control sk-hidden--visually\" id=\"sk-estimator-id-14\" type=\"checkbox\" ><label for=\"sk-estimator-id-14\" class=\"sk-toggleable__label fitted sk-toggleable__label-arrow fitted\">&nbsp;OneHotEncoder<a class=\"sk-estimator-doc-link fitted\" rel=\"noreferrer\" target=\"_blank\" href=\"https://scikit-learn.org/1.4/modules/generated/sklearn.preprocessing.OneHotEncoder.html\">?<span>Documentation for OneHotEncoder</span></a></label><div class=\"sk-toggleable__content fitted\"><pre>OneHotEncoder()</pre></div> </div></div></div></div></div></div></div><div class=\"sk-item\"><div class=\"sk-estimator fitted sk-toggleable\"><input class=\"sk-toggleable__control sk-hidden--visually\" id=\"sk-estimator-id-15\" type=\"checkbox\" ><label for=\"sk-estimator-id-15\" class=\"sk-toggleable__label fitted sk-toggleable__label-arrow fitted\">SMOTE</label><div class=\"sk-toggleable__content fitted\"><pre>SMOTE(random_state=42)</pre></div> </div></div><div class=\"sk-item\"><div class=\"sk-estimator fitted sk-toggleable\"><input class=\"sk-toggleable__control sk-hidden--visually\" id=\"sk-estimator-id-16\" type=\"checkbox\" ><label for=\"sk-estimator-id-16\" class=\"sk-toggleable__label fitted sk-toggleable__label-arrow fitted\">&nbsp;LogisticRegression<a class=\"sk-estimator-doc-link fitted\" rel=\"noreferrer\" target=\"_blank\" href=\"https://scikit-learn.org/1.4/modules/generated/sklearn.linear_model.LogisticRegression.html\">?<span>Documentation for LogisticRegression</span></a></label><div class=\"sk-toggleable__content fitted\"><pre>LogisticRegression(class_weight=&#x27;balanced&#x27;, random_state=42)</pre></div> </div></div></div></div></div></div>"
      ],
      "text/plain": [
       "Pipeline(steps=[('preprocessing',\n",
       "                 ColumnTransformer(transformers=[('tfidf',\n",
       "                                                  TfidfVectorizer(max_features=3000,\n",
       "                                                                  stop_words='english'),\n",
       "                                                  'paragraph'),\n",
       "                                                 ('ohe', OneHotEncoder(),\n",
       "                                                  ['has_entity'])])),\n",
       "                ('resample', SMOTE(random_state=42)),\n",
       "                ('classify',\n",
       "                 LogisticRegression(class_weight='balanced', random_state=42))])"
      ]
     },
     "execution_count": 65,
     "metadata": {},
     "output_type": "execute_result"
    }
   ],
   "source": [
    "label_encoder = LabelEncoder()\n",
    "vectorizer = TfidfVectorizer(stop_words='english', max_features=3000)\n",
    "ohecoder = OneHotEncoder()\n",
    "\n",
    "# Prepare the data\n",
    "X = df1.drop(columns=['category', 'is_english'])\n",
    "# X = df1[['paragraph_cleaned', 'has_entity']]\n",
    "y = df1['category']\n",
    "\n",
    "# Label encoding for the target variable\n",
    "y_encoded = label_encoder.fit_transform(y)\n",
    "\n",
    "# Split the dataset into training and testing sets\n",
    "X_train, X_test, y_train, y_test = train_test_split(X, y_encoded, test_size=0.2, stratify=y_encoded)\n",
    "\n",
    "# Define a column transformer for preprocessing the features\n",
    "preprocessor = ColumnTransformer(\n",
    "    transformers=[\n",
    "        ('tfidf', vectorizer, 'paragraph'),\n",
    "        ('ohe', ohecoder, ['has_entity'])\n",
    "    ]\n",
    ")\n",
    "\n",
    "# TODO: Extended classifier choice\n",
    "chosen_clf = 3 # Update this to choose a classifier\n",
    "\n",
    "# Define the classifiers in a dictionary for easier selection\n",
    "classifiers = {\n",
    "    1: {'model': SVC(kernel='linear', probability=True, random_state=42), 'name': 'SVM'},\n",
    "    2: {'model': MultinomialNB(), 'name': 'MultinomialNB'},\n",
    "    3: {'model': LogisticRegression(random_state=42, class_weight='balanced'), 'name': 'LogisticRegression'},\n",
    "    4: {'model': RandomForestClassifier(random_state=42), 'name': 'RandomForest'},\n",
    "    5: {'model': XGBClassifier(use_label_encoder=False, eval_metric='mlogloss'), 'name': 'XGBClassifier'},\n",
    "    # Add more classifiers here\n",
    "}\n",
    "\n",
    "# Select the classifier based on chosen_clf\n",
    "if chosen_clf in classifiers:\n",
    "    classifier = classifiers[chosen_clf]['model']\n",
    "    clf_name = classifiers[chosen_clf]['name']\n",
    "else:\n",
    "    raise ValueError(\"Invalid classifier choice.\")\n",
    "\n",
    "# Create a pipeline that includes preprocessing, resampling, and classifier\n",
    "model_pipeline = IMBPipeline(steps=[\n",
    "    ('preprocessing', preprocessor),\n",
    "    ('resample', SMOTE(sampling_strategy='auto', random_state=42)), \n",
    "    ('classify', classifier)\n",
    "])\n",
    "\n",
    "# Train the model pipeline\n",
    "model_pipeline.fit(X_train, y_train)"
   ]
  },
  {
   "cell_type": "markdown",
   "metadata": {},
   "source": [
    "## Model Training, Prediction, and Evaluation\n",
    "This code snippet outlines the steps for training a machine learning model using a predefined pipeline, predicting labels on a test set, and evaluating the model's performance through a classification report.\n",
    "\n",
    "**Training Phase**:\n",
    "- Announces the training commencement of the specified classifier (`clf_name`) to provide clear feedback in the console.\n",
    "- Measures the time taken to train the model using the `time` module, offering insights into the efficiency of the model training process.\n",
    "- Utilizes the `fit` method on `model_pipeline` to train the model with the training set (`X_train`, `y_train`).\n",
    "\n",
    "**Prediction and Evaluation**:\n",
    "- After training, predictions are made on the test set (`X_test`) using the predict method of the trained pipeline.\n",
    "- Predicted labels are decoded back to their original category names using the inverse transformation method of `label_encoder`, enhancing the interpretability of the results.\n",
    "- A classification report is generated, comparing the decoded test labels (`y_test_decoded`) and the decoded predictions (`y_pred_decoded`). This report provides detailed performance metrics such as *precision*, *recall*, *f1-score*, and *support* for each class."
   ]
  },
  {
   "cell_type": "code",
   "execution_count": 66,
   "metadata": {},
   "outputs": [
    {
     "name": "stdout",
     "output_type": "stream",
     "text": [
      "Training LogisticRegression...\n",
      "-------------------------------------------------------\n",
      "LogisticRegression classifier trained on [1.59] seconds.\n",
      "                                      precision    recall  f1-score   support\n",
      "\n",
      "             artificial intelligence       0.93      0.91      0.92       312\n",
      "                         biographies       0.95      0.93      0.94       583\n",
      "movies about artificial intelligence       1.00      0.91      0.95        33\n",
      "                          philosophy       0.91      0.93      0.92       515\n",
      "                         programming       0.96      0.97      0.97       394\n",
      "\n",
      "                            accuracy                           0.94      1837\n",
      "                           macro avg       0.95      0.93      0.94      1837\n",
      "                        weighted avg       0.94      0.94      0.94      1837\n",
      "\n"
     ]
    }
   ],
   "source": [
    "print('Training {}...'.format(clf_name))\n",
    "print(\"-\" * 55)\n",
    "start_time = time.time()\n",
    "\n",
    "# Train the model on the training set\n",
    "model_pipeline.fit(X_train, y_train)\n",
    "\n",
    "end_time = time.time() - start_time\n",
    "print(\"{} classifier trained on [{:.2f}] seconds.\".format(clf_name, end_time))\n",
    "\n",
    "# Predictions and Evaluation\n",
    "y_pred = model_pipeline.predict(X_test)\n",
    "\n",
    "# Decode the predictions back to original category names for interpretability\n",
    "y_pred_decoded = label_encoder.inverse_transform(y_pred)\n",
    "y_test_decoded = label_encoder.inverse_transform(y_test)\n",
    "\n",
    "# Classification Report\n",
    "print(classification_report(y_test_decoded, y_pred_decoded))"
   ]
  },
  {
   "cell_type": "markdown",
   "metadata": {},
   "source": [
    "## Model Prediction and Quick Evaluation\n",
    "This section outlines the procedure for making predictions with a trained model pipeline on a test dataset and evaluating the model's accuracy succinctly.\n",
    "\n",
    "**Process Overview**:\n",
    "- Predictions: Utilize the trained `model_pipeline` on `X_test`, which includes all necessary features.\n",
    "- Decoding: Transform numeric predictions back to categorical labels for clarity.\n",
    "- Sample Outputs: Display the cleaned paragraph and entity presence from the first two documents in `X_test`, alongside their predicted categories.\n",
    "- Accuracy: Calculate the model's accuracy by comparing predictions with actual labels in `y_test`."
   ]
  },
  {
   "cell_type": "code",
   "execution_count": 67,
   "metadata": {},
   "outputs": [
    {
     "name": "stdout",
     "output_type": "stream",
     "text": [
      "-------------------------------------------------------\n",
      "Document: Mark Catesby . The Natural History of Carolina, Florida and . Online scanned edition from Rare Book Room.\n",
      "Entity Presence: [ORG_NO_PRODUCT_NO_PERSON_YES_]\n",
      "\n",
      "Predicted Category: 'biographies'\n",
      "-------------------------------------------------------\n",
      "-------------------------------------------------------\n",
      "Document: The terms originated in a competition in the news-sheet Indian Opinion in South Africa in 1906. Mr. Maganlal Gandhi, grandson of an uncle of Mahatma Gandhi, came up with the word \"Sadagraha\" and won the prize. Subsequently, to make it clearer, Gandhi changed it to Satyagraha. \"Satyagraha\" is a tatpurusa compound of the Sanskrit words satya  and agraha . Satya is derived from the word \"sat\", which means \"being\". Nothing is or exists in reality except Truth. In the context of satyagraha, Truth, therefore, includes a) Truth in speech, as opposed to falsehood, b) knowledge of what is real, as opposed to nonexistent , and c) good as opposed to evil or bad. This was critical to Gandhi's understanding of and faith in nonviolence: \"The world rests upon the bedrock of satya or truth. Asatya, meaning untruth, also means nonexistent, and satya or truth, also means that which is. If untruth does not so much as exist, its victory is out of the question. And truth being that which is, can never be destroyed. This is the doctrine of satyagraha in a nutshell.\"\n",
      "Entity Presence: [ORG_YES_PRODUCT_NO_PERSON_YES_]\n",
      "\n",
      "Predicted Category: 'philosophy'\n",
      "-------------------------------------------------------\n",
      "Accuracy: 93.74%\n"
     ]
    }
   ],
   "source": [
    "# Just use X_test which already contains the required columns\n",
    "X_TEST = X_test # X_test should be a DataFrame with the necessary columns\n",
    "\n",
    "# Use the model_pipeline to predict\n",
    "predicted = model_pipeline.predict(X_TEST)\n",
    "\n",
    "# Decoding the predicted labels back to original category names for interpretability\n",
    "predicted_decoded = label_encoder.inverse_transform(predicted)\n",
    "\n",
    "# Print the first two predictions\n",
    "c = 0\n",
    "for index, (doc, category) in enumerate(zip(X_TEST.itertuples(index=False), predicted_decoded)):\n",
    "    if c == 2:\n",
    "        break\n",
    "\n",
    "    print(\"-\"*55)\n",
    "    print(f\"Document: {doc.paragraph}\") # Assuming 'paragraph_cleaned' is the correct column name\n",
    "    print(f\"Entity Presence: [{doc.has_entity}]\\n\")\n",
    "    print(f\"Predicted Category: '{category}'\")\n",
    "    print(\"-\"*55)\n",
    "\n",
    "    c += 1\n",
    "\n",
    "# Calculate and print the accuracy\n",
    "accuracy = np.mean(predicted == y_test)\n",
    "print(f'Accuracy: {accuracy * 100:.2f}%')"
   ]
  },
  {
   "cell_type": "markdown",
   "metadata": {},
   "source": [
    "## Visualizing the Learning Curve\n",
    "This code block illustrates how to generate a learning curve, which visualizes the model's performance across varying sizes of the training dataset. Learning curves are crucial for diagnosing bias and variance in machine learning models."
   ]
  },
  {
   "cell_type": "code",
   "execution_count": 68,
   "metadata": {},
   "outputs": [
    {
     "data": {
      "image/png": "[encoded data removed]",
      "text/plain": [
       "<Figure size 640x480 with 1 Axes>"
      ]
     },
     "metadata": {},
     "output_type": "display_data"
    }
   ],
   "source": [
    "train_sizes, train_scores, test_scores = learning_curve(model_pipeline, X, y, cv=5)\n",
    "\n",
    "# Calculate mean and standard deviation for training set scores\n",
    "train_mean = np.mean(train_scores, axis=1)\n",
    "train_std = np.std(train_scores, axis=1)\n",
    "\n",
    "# Calculate mean and standard deviation for test set scores\n",
    "test_mean = np.mean(test_scores, axis=1)\n",
    "test_std = np.std(test_scores, axis=1)\n",
    "\n",
    "# Plot learning curves\n",
    "plt.plot(train_sizes, train_mean, '--', color=\"#111111\",  label=\"Training score\")\n",
    "plt.plot(train_sizes, test_mean, color=\"#111111\", label=\"Cross-validation score\")\n",
    "\n",
    "# Draw bands\n",
    "plt.fill_between(train_sizes, train_mean - train_std, train_mean + train_std, color=\"#DDDDDD\")\n",
    "plt.fill_between(train_sizes, test_mean - test_std, test_mean + test_std, color=\"#DDDDDD\")\n",
    "\n",
    "# Create plot\n",
    "plt.title(\"Learning Curve\")\n",
    "plt.xlabel(\"Training Set Size\"), plt.ylabel(\"Accuracy Score\"), plt.legend(loc=\"best\")\n",
    "plt.tight_layout()\n",
    "plt.show()"
   ]
  },
  {
   "cell_type": "markdown",
   "metadata": {},
   "source": [
    "## Cross-Validation and Confusion Matrix\n",
    "This segment demonstrates evaluating a machine learning model using cross-validation and visualizing the results with a confusion matrix."
   ]
  },
  {
   "cell_type": "code",
   "execution_count": 69,
   "metadata": {},
   "outputs": [
    {
     "name": "stdout",
     "output_type": "stream",
     "text": [
      "-------------------------------------------------------\n",
      "Cross-validation scores:\n",
      "92.81%, 92.32%, 92.38%, 92.16%, 91.61%\n",
      "\n",
      "Mean cross-validation score: 92.26%\n",
      "-------------------------------------------------------\n"
     ]
    },
    {
     "data": {
      "image/png": "[encoded data removed]",
      "text/plain": [
       "<Figure size 1000x700 with 2 Axes>"
      ]
     },
     "metadata": {},
     "output_type": "display_data"
    }
   ],
   "source": [
    "# Assume that we are using a pipeline named `model_pipeline`\n",
    "scores = cross_val_score(model_pipeline, X, y, cv=5)\n",
    "\n",
    "print(\"-\" * 55)\n",
    "print(\"Cross-validation scores:\")\n",
    "print(f'{\", \".join([f\"{score:.2f}%\" for score in scores * 100])}\\n')\n",
    "print(f'Mean cross-validation score: {np.mean(scores) * 100:.2f}%')\n",
    "print(\"-\" * 55)\n",
    "\n",
    "# Compute the confusion matrix\n",
    "cm = confusion_matrix(y_test, y_pred)\n",
    "\n",
    "# Create a DataFrame from the confusion matrix\n",
    "cm_df = pd.DataFrame(cm, index=model_pipeline.classes_, columns=model_pipeline.classes_)\n",
    "\n",
    "# Plot the confusion matrix using Seaborn\n",
    "plt.figure(figsize=(10, 7))\n",
    "sns.heatmap(cm_df, annot=True, fmt='g', cmap='Blues')\n",
    "plt.title('Confusion Matrix')\n",
    "plt.ylabel('Actual Labels')\n",
    "plt.xlabel('Predicted Labels')\n",
    "plt.show()"
   ]
  },
  {
   "cell_type": "markdown",
   "metadata": {},
   "source": [
    "## Saving the Model and Components\n",
    "The following code block illustrates the process of bundling and saving a machine learning model along with its associated components for later use or deployment."
   ]
  },
  {
   "cell_type": "code",
   "execution_count": 70,
   "metadata": {},
   "outputs": [
    {
     "name": "stdout",
     "output_type": "stream",
     "text": [
      "-------------------------------------------------------\n",
      "Model saved successfully to '../Models/Task-1LogisticRegression.pkl' file.\n",
      "-------------------------------------------------------\n"
     ]
    }
   ],
   "source": [
    "# Save classifiers, transformers and encoders in a single object\n",
    "model_to_save = {\n",
    "    'model': model_pipeline,\n",
    "    'encoder': label_encoder,\n",
    "    'ohecoder': ohecoder,\n",
    "    'vectorizer': vectorizer\n",
    "}\n",
    "\n",
    "# Define the name and path for the model file\n",
    "model_extn = '.pkl' # Extension for the model file\n",
    "model_name = f'{task_name}{clf_name}{model_extn}' # Name of the model file\n",
    "dir_name = '../Models/' # Directory to save the model\n",
    "path_name = os.path.join(dir_name, model_name) # Complete path to save the model\n",
    "\n",
    "# Ensure that the 'Models' directory exists before trying to save the file\n",
    "if not os.path.exists(dir_name):\n",
    "    os.makedirs(dir_name)\n",
    "\n",
    "# Save the model to the specified path\n",
    "with open(path_name, 'wb') as file:\n",
    "    pickle.dump(model_to_save, file)\n",
    "\n",
    "# Notify the user about the successful saving of the model\n",
    "print(\"-\" * 55)\n",
    "print(f\"Model saved successfully to '{path_name}' file.\")\n",
    "print(\"-\" * 55)"
   ]
  },
  {
   "cell_type": "markdown",
   "metadata": {},
   "source": [
    "## Model Deployment for Data Imputation\n",
    "This code illustrates how to deploy a previously saved machine learning model to impute missing values in a dataset, specifically for predicting and filling missing categories."
   ]
  },
  {
   "cell_type": "code",
   "execution_count": 71,
   "metadata": {},
   "outputs": [
    {
     "name": "stdout",
     "output_type": "stream",
     "text": [
      "9347 rows and 9 columns loaded successfully for Task-2, including newly added 'index' column.\n",
      "\n",
      "Total categories predicted and filled: 61\n"
     ]
    }
   ],
   "source": [
    "# Load the saved model from the file\n",
    "loaded_model_path = path_name\n",
    "with open(loaded_model_path, 'rb') as file:\n",
    "    loaded_file = pickle.load(file)\n",
    "\n",
    "loaded_model = loaded_file['model']\n",
    "loaded_encoder = loaded_file['encoder']\n",
    "loaded_ohecoder = loaded_file['ohecoder']\n",
    "loaded_vectorizer = loaded_file['vectorizer']\n",
    "\n",
    "# Load the dataset\n",
    "df = load_t2_df('../Datasets/dataset.csv')\n",
    "\n",
    "# Clean the dataset\n",
    "# df = clean_column(df, 'paragraph')\n",
    "\n",
    "# Identify rows with missing 'category' values AND 'has_entity' NOT 'data missing'\n",
    "missing_category_mask = df['category'].isnull() & (df['has_entity'] != 'data missing')\n",
    "\n",
    "# Prepare data for prediction (only 'paragraph' and 'has_entity' columns)\n",
    "data_to_predict = df.loc[missing_category_mask, ['paragraph', 'has_entity']]\n",
    "\n",
    "# Predict missing categories\n",
    "predicted_categories = loaded_model.predict(data_to_predict)\n",
    "decoded_predictions = loaded_encoder.inverse_transform(predicted_categories)\n",
    "\n",
    "# Fill missing values in the original dataframe\n",
    "df.loc[missing_category_mask, 'category'] = decoded_predictions\n",
    "df.drop(columns=['index'], inplace=True)\n",
    "\n",
    "df.to_csv('../Datasets/task1-final_dataset.csv', index=False)\n",
    "\n",
    "# Count how many categories were predicted and filled\n",
    "predicted_count = df.loc[missing_category_mask, 'category'].notnull().sum()\n",
    "\n",
    "print(f\"\\nTotal categories predicted and filled: {predicted_count}\")"
   ]
  },
  {
   "cell_type": "markdown",
   "metadata": {},
   "source": [
    "---\n",
    "# Task 2: Text Clarity Classification\n",
    "*Client wants to detect text clarity of the writings for automatic website content filtering. They lack labeled data, so propose building a prototype.*\n",
    "\n",
    "**Objectives**:\n",
    "- Label a subset of data (100 points suggested).\n",
    "- Build a machine learning model predicting `'clear_enough'` or `'not_clear_enough'` labels for `'text_clarity'` column.\n",
    "- Add labels to 'text_clarity' column as the output feature.\n",
    "\n",
    "## Loading the dataset and update values\n",
    "The following code block will load the `task1-final_dataset.csv` dataset by using `load_t2_df()` function previously saved after filling in predictions to `'category'` column. Then, insert the 100 data points from `labeled_dataset.csv` dataset which was previously labelled manually by reading and analysing the `'paragraph'` column content.\n",
    "\n",
    "**Usage**:\n",
    "```python\n",
    "df2 = load_t2_df('filename_with_path')\n",
    "```"
   ]
  },
  {
   "cell_type": "code",
   "execution_count": 72,
   "metadata": {},
   "outputs": [
    {
     "name": "stdout",
     "output_type": "stream",
     "text": [
      "9347 rows and 9 columns loaded successfully for Task-2, including newly added 'index' column.\n",
      "Initial labeled values: 9\n",
      "Acquired labels: 100\n",
      "Sum of labeled rows: 109\n",
      "Unique index in main dataset: 9347\n",
      "Unique index in updated dataset: 9347\n"
     ]
    }
   ],
   "source": [
    "path = '../Datasets/'\n",
    "file = 'task1-final_dataset.csv'\n",
    "file_path = path + file\n",
    "\n",
    "# Function to load the dataset (assuming it's defined elsewhere, replace it with actual loading if not)\n",
    "main_df = load_t2_df(file_path)\n",
    "# Use the followings lines if load_t2_df is not defined\n",
    "# main_df = pd.read_csv(file_path)\n",
    "# main_df = main_df.index + 1\n",
    "\n",
    "print('Initial labeled values:', main_df['text_clarity'].notnull().sum())\n",
    "labeled_df = pd.read_csv(f'{path}labeled_dataset.csv')\n",
    "print('Acquired labels:', labeled_df['text_clarity'].notnull().sum())\n",
    "\n",
    "# Ensure both datasets have 'index' and 'text_clarity' columns\n",
    "assert 'index' in main_df.columns and 'text_clarity' in main_df.columns\n",
    "assert 'index' in labeled_df.columns and 'text_clarity' in labeled_df.columns\n",
    "\n",
    "# Select unique indices and limit to 100 rows\n",
    "selected_labeled_data = labeled_df.drop_duplicates(subset='index').head(100)\n",
    "\n",
    "# Update the 'text_clarity' column in the main dataset\n",
    "# Map the 'text_clarity' values from selected_labeled_data to main_df based on 'index'\n",
    "for idx, row in selected_labeled_data.iterrows():\n",
    "    main_df.loc[main_df['index'] == row['index'], 'text_clarity'] = row['text_clarity']\n",
    "\n",
    "print('Sum of labeled rows:', main_df['text_clarity'].notnull().sum())\n",
    "print('Unique index in main dataset:', main_df['index'].nunique())\n",
    "print('Unique index in updated dataset:', main_df['index'].nunique())\n",
    "\n",
    "# Optionally drop the 'index' column if it's no longer needed\n",
    "main_df.drop(columns=['index'], inplace=True, errors='ignore')\n",
    "\n",
    "# Write the updated main dataset to a new CSV file (or overwrite the existing one)\n",
    "updated_file_path = f'{path}filled_dataset.csv' # TODO: Rename the file if needed\n",
    "main_df.to_csv(updated_file_path, index=False)"
   ]
  },
  {
   "cell_type": "markdown",
   "metadata": {},
   "source": [
    "## Dataset Preparation for Task 2\n",
    "This code block focuses on loading and preprocessing a dataset for Task 2, ensuring it's clean and ready for analysis."
   ]
  },
  {
   "cell_type": "code",
   "execution_count": 73,
   "metadata": {},
   "outputs": [
    {
     "name": "stdout",
     "output_type": "stream",
     "text": [
      "9347 rows and 9 columns loaded successfully for Task-2, including newly added 'index' column.\n",
      "-------------------------------------------------------\n",
      "Initial shape: (9323, 9). Checking for missing values...\n",
      "par_id                   0\n",
      "paragraph                0\n",
      "has_entity               0\n",
      "lexicon_count            0\n",
      "difficult_words          0\n",
      "last_editor_gender       0\n",
      "category                 0\n",
      "text_clarity          9214\n",
      "index                    0\n",
      "dtype: int64\n",
      "-------------------------------------------------------\n",
      "Removing rows with missing values...\n",
      "text_clarity    9214\n",
      "dtype: int64\n",
      "-------------------------------------------------------\n",
      "Updated shape: (9323, 9). Verifying no missing values remain...\n",
      "par_id                   0\n",
      "paragraph                0\n",
      "has_entity               0\n",
      "lexicon_count            0\n",
      "difficult_words          0\n",
      "last_editor_gender       0\n",
      "category                 0\n",
      "text_clarity          9214\n",
      "index                    0\n",
      "dtype: int64\n",
      "-------------------------------------------------------\n"
     ]
    }
   ],
   "source": [
    "df2 = load_t2_df('../Datasets/filled_dataset.csv')\n",
    "df2 = df2[df2['has_entity'] != 'data missing']\n",
    "df2['difficult_words'].fillna(df2['difficult_words'].mean(), inplace=True)\n",
    "df2 = clean_df(df2)"
   ]
  },
  {
   "cell_type": "markdown",
   "metadata": {},
   "source": [
    "## Feature Extraction\n",
    "This code block introduces a method for transforming cryptic 'has_entity' values into a more interpretable format, facilitating better understanding and analysis of the data."
   ]
  },
  {
   "cell_type": "code",
   "execution_count": 74,
   "metadata": {},
   "outputs": [
    {
     "name": "stdout",
     "output_type": "stream",
     "text": [
      "Entity presence mapping has been done.\n",
      "-------------------------------------------------------\n",
      "Preview of the 'has_entity' column and the new binary columns:\n",
      "                        has_entity  ORG  PRODUCT  PERSON\n",
      "0   ORG_YES_PRODUCT_NO_PERSON_YES_    1        0       1\n",
      "1    ORG_YES_PRODUCT_NO_PERSON_NO_    1        0       0\n",
      "2    ORG_YES_PRODUCT_NO_PERSON_NO_    1        0       0\n",
      "3    ORG_NO_PRODUCT_YES_PERSON_NO_    0        1       0\n",
      "4  ORG_YES_PRODUCT_YES_PERSON_YES_    1        1       1\n",
      "-------------------------------------------------------\n",
      "-------------------------------------------------------\n",
      "Distribution of the 'has_entity' column:\n",
      "has_entity\n",
      "ORG_YES_PRODUCT_NO_PERSON_YES_     3060\n",
      "ORG_NO_PRODUCT_NO_PERSON_NO_       2874\n",
      "ORG_YES_PRODUCT_NO_PERSON_NO_      1474\n",
      "ORG_NO_PRODUCT_NO_PERSON_YES_      1382\n",
      "ORG_YES_PRODUCT_YES_PERSON_YES_     299\n",
      "ORG_YES_PRODUCT_YES_PERSON_NO_      127\n",
      "ORG_NO_PRODUCT_YES_PERSON_YES_       65\n",
      "ORG_NO_PRODUCT_YES_PERSON_NO_        42\n",
      "Name: count, dtype: int64\n",
      "-------------------------------------------------------\n"
     ]
    }
   ],
   "source": [
    "def map_entity_presence(df):\n",
    "    # Define a mapping from the unique 'has_entity' values to the human-readable format\n",
    "    entity_presence_mapping = {\n",
    "        'ORG_YES_PRODUCT_NO_PERSON_YES_': 'organisation and person',\n",
    "        'ORG_YES_PRODUCT_NO_PERSON_NO_': 'organisation',\n",
    "        'ORG_NO_PRODUCT_YES_PERSON_NO_': 'product',\n",
    "        'ORG_YES_PRODUCT_YES_PERSON_YES_': 'organisation, product and person',\n",
    "        'ORG_NO_PRODUCT_NO_PERSON_NO_': 'no entities',\n",
    "        'ORG_NO_PRODUCT_YES_PERSON_YES_': 'product and person',\n",
    "        'ORG_NO_PRODUCT_NO_PERSON_YES_': 'person',\n",
    "        'ORG_YES_PRODUCT_YES_PERSON_NO_': 'organisation and product'\n",
    "    }\n",
    "\n",
    "    # Apply the mapping to the 'has_entity' column to create the 'entity_presence' column\n",
    "    df['entity_presence'] = df['has_entity'].map(entity_presence_mapping)\n",
    "    print(\"Entity presence mapping has been done.\")\n",
    "    return df\n",
    "\n",
    "df2 = map_entity_presence(df2)\n",
    "\n",
    "df2 = split_entity_column(df2)"
   ]
  },
  {
   "cell_type": "markdown",
   "metadata": {},
   "source": [
    "## Calculating Relevance Scores with TF-IDF\n",
    "This segment demonstrates a method to assign relevance scores to paragraphs based on their TF-IDF scores within groups categorized by `'category'`."
   ]
  },
  {
   "cell_type": "code",
   "execution_count": 75,
   "metadata": {},
   "outputs": [],
   "source": [
    "def compute_relevance_scores(grouped_paragraphs):\n",
    "    # Initialize TF-IDF Vectorizer\n",
    "    vectorizer = TfidfVectorizer()\n",
    "    # Fit and transform the paragraphs to TF-IDF matrix\n",
    "    tfidf_matrix = vectorizer.fit_transform(grouped_paragraphs)\n",
    "    # Compute average TF-IDF score for each paragraph as its relevance score\n",
    "    avg_scores = tfidf_matrix.mean(axis=1)\n",
    "    # Convert matrix to flat list and return\n",
    "    return avg_scores.A.flatten()\n",
    "\n",
    "# Apply the function to each group and store the relevance scores in a new column\n",
    "df2['relevance_score'] = df2.groupby('category')['paragraph'].transform(compute_relevance_scores)"
   ]
  },
  {
   "cell_type": "markdown",
   "metadata": {},
   "source": [
    "## Computing Specificity Scores using spaCy\n",
    "This code demonstrates how to calculate specificity scores for paragraphs based on the variety of unique entities identified using the `spaCy` NLP library."
   ]
  },
  {
   "cell_type": "code",
   "execution_count": 76,
   "metadata": {},
   "outputs": [
    {
     "name": "stdout",
     "output_type": "stream",
     "text": [
      "NLTK resource \"punkt\" downloaded.\n",
      "NLTK resource \"stopwords\" downloaded.\n",
      "NLTK resource \"averaged_perceptron_tagger\" downloaded.\n",
      "NLTK resource \"wordnet\" downloaded.\n",
      "Spacy model \"en_core_web_sm\" is already downloaded.\n",
      "All required NLTK resources are ready.\n"
     ]
    },
    {
     "data": {
      "application/vnd.jupyter.widget-view+json": {
       "model_id": "98f85108f3d640c487b405588bd0f1c6",
       "version_major": 2,
       "version_minor": 0
      },
      "text/plain": [
       "Pandas Apply:   0%|          | 0/9323 [00:00<?, ?it/s]"
      ]
     },
     "metadata": {},
     "output_type": "display_data"
    }
   ],
   "source": [
    "download_nlp_resources()\n",
    "\n",
    "# Load the spaCy model\n",
    "nlp = spacy.load(\"en_core_web_sm\")\n",
    "\n",
    "def compute_specificity_score(paragraph):\n",
    "    # Process the text with spaCy\n",
    "    doc = nlp(paragraph)\n",
    "    # Count the number of unique entities\n",
    "    unique_entities = set([ent.label_ for ent in doc.ents])\n",
    "    specificity_score = len(unique_entities)\n",
    "    return specificity_score\n",
    "\n",
    "# Apply the function to each row in the 'paragraph' column to compute specificity scores\n",
    "df2['specificity_score'] = df2['paragraph'].swifter.apply(compute_specificity_score)"
   ]
  },
  {
   "cell_type": "markdown",
   "metadata": {},
   "source": [
    "## Calculating Clarity Scores with Flesch Reading Ease\n",
    "This code outlines the approach to compute clarity scores for paragraphs using the Flesch Reading Ease formula, facilitated by the `textstat` library."
   ]
  },
  {
   "cell_type": "code",
   "execution_count": 77,
   "metadata": {},
   "outputs": [
    {
     "data": {
      "application/vnd.jupyter.widget-view+json": {
       "model_id": "20b3e83b42564ab494531b6a7b1ea2a3",
       "version_major": 2,
       "version_minor": 0
      },
      "text/plain": [
       "Pandas Apply:   0%|          | 0/9323 [00:00<?, ?it/s]"
      ]
     },
     "metadata": {},
     "output_type": "display_data"
    }
   ],
   "source": [
    "# Function to compute the Flesch Reading Ease Score for a paragraph\n",
    "def compute_clarity_score(paragraph):\n",
    "    return textstat.flesch_reading_ease(paragraph)\n",
    "\n",
    "# Apply the function to each paragraph to compute the clarity scores\n",
    "df2['clarity_score'] = df2['paragraph'].swifter.apply(compute_clarity_score)"
   ]
  },
  {
   "cell_type": "markdown",
   "metadata": {},
   "source": [
    "## Evaluating Logical Flow with Sentence Embeddings\n",
    "This code demonstrates the process of assessing the logical flow within paragraphs by leveraging pre-trained sentence embeddings and cosine similarity measures."
   ]
  },
  {
   "cell_type": "code",
   "execution_count": 78,
   "metadata": {},
   "outputs": [],
   "source": [
    "# Setting path variables\n",
    "word2vec_path = '../WordEmbeddings/word2vec.model'\n",
    "mlm_path = '../WordEmbeddings/MiniLM.model'\n",
    "task2_prototype_path = '../Models/Task-2CN-Proto.keras'\n",
    "task2_enc_path = '../Models/task2-enc_models.joblib'\n"
   ]
  },
  {
   "cell_type": "code",
   "execution_count": 79,
   "metadata": {},
   "outputs": [
    {
     "data": {
      "application/vnd.jupyter.widget-view+json": {
       "model_id": "3fea9536c5a545da80c3926d5b8007cb",
       "version_major": 2,
       "version_minor": 0
      },
      "text/plain": [
       "Pandas Apply:   0%|          | 0/9323 [00:00<?, ?it/s]"
      ]
     },
     "metadata": {},
     "output_type": "display_data"
    }
   ],
   "source": [
    "# Load a pre-trained sentence embeddings model\n",
    "mlm_model = SentenceTransformer(mlm_path)\n",
    "\n",
    "def compute_logical_flow(paragraph):\n",
    "    # Split the paragraph into sentences\n",
    "    sentences = paragraph.split('. ') # Simple split, might need refinement\n",
    "    if len(sentences) < 2:\n",
    "        return np.nan # Not applicable for paragraphs with less than 2 sentences\n",
    "    \n",
    "    # Generate embeddings for each sentence\n",
    "    embeddings = mlm_model.encode(sentences)\n",
    "    \n",
    "    # Compute cosine similarity between consecutive sentences\n",
    "    similarities = [1 - cosine(embeddings[i], embeddings[i + 1]) for i in range(len(embeddings) - 1)]\n",
    "    \n",
    "    # Return the average similarity as the logical flow score\n",
    "    return np.mean(similarities)\n",
    "\n",
    "# Compute logical flow scores\n",
    "df2['logical_flow_score'] = df2['paragraph'].swifter.apply(compute_logical_flow)"
   ]
  },
  {
   "cell_type": "markdown",
   "metadata": {},
   "source": [
    "## Visualizing Text Clarity Distribution\n",
    "This code block illustrates how to analyze and visualize the distribution of values in the `'text_clarity'` column of a DataFrame, offering insights into the balance of labeled data."
   ]
  },
  {
   "cell_type": "code",
   "execution_count": 80,
   "metadata": {},
   "outputs": [
    {
     "data": {
      "image/png": "[encoded data removed]",
      "text/plain": [
       "<Figure size 640x480 with 1 Axes>"
      ]
     },
     "metadata": {},
     "output_type": "display_data"
    },
    {
     "name": "stdout",
     "output_type": "stream",
     "text": [
      "Distribution of 'text_clarity' column:\n",
      "\n",
      "text_clarity\n",
      "clear_enough        80\n",
      "not_clear_enough    29\n",
      "Name: count, dtype: int64\n",
      "\n",
      "Present columns:\n",
      "\n",
      "par_id\n",
      "paragraph\n",
      "has_entity\n",
      "lexicon_count\n",
      "difficult_words\n",
      "last_editor_gender\n",
      "category\n",
      "text_clarity\n",
      "index\n",
      "entity_presence\n",
      "ORG\n",
      "PRODUCT\n",
      "PERSON\n",
      "relevance_score\n",
      "specificity_score\n",
      "clarity_score\n",
      "logical_flow_score\n"
     ]
    }
   ],
   "source": [
    "# Count the occurrences of each value in the 'text_clarity' column\n",
    "text_clarity_counts = df2['text_clarity'].value_counts()\n",
    "\n",
    "# Plot the distribution\n",
    "text_clarity_counts.plot(kind='bar')\n",
    "\n",
    "# Add labels and title\n",
    "plt.xlabel('Text Clarity')\n",
    "plt.ylabel('Count')\n",
    "plt.title('Distribution of Text Clarity')\n",
    "\n",
    "# Show the plot\n",
    "plt.show()\n",
    "\n",
    "print(\"Distribution of 'text_clarity' column:\\n\")\n",
    "print(df2['text_clarity'].value_counts())\n",
    "\n",
    "def print_column_names(df):\n",
    "    print(\"\\nPresent columns:\\n\")\n",
    "    column_names = df.columns.tolist()\n",
    "    for column in column_names:\n",
    "        print(column)\n",
    "\n",
    "print_column_names(df2)"
   ]
  },
  {
   "cell_type": "markdown",
   "metadata": {},
   "source": [
    "## Preparing Labeled and Unlabeled Data for Semi-Supervised Learning (Optional)\n",
    "The following code block demonstrate the process of segregating a dataset into labeled and unlabeled subsets, facilitating semi-supervised learning or further exploratory data analysis."
   ]
  },
  {
   "cell_type": "code",
   "execution_count": 81,
   "metadata": {},
   "outputs": [],
   "source": [
    "# Save the updated dataset to a new dataframe file\n",
    "new_df = df2.copy()\n",
    "\n",
    "# Separate labeled and unlabeled data\n",
    "labeled_df2 = df2.dropna(subset=['text_clarity']) # Removing rows with missing 'text_clarity'\n",
    "unlabeled_df2 = df2[df2['text_clarity'].isna()] # Keeping rows with missing 'text_clarity'\n",
    "\n",
    "# Preparing unlabeled data (features only as it doesn't include the 'text_clarity' column)\n",
    "X_unlabeled = unlabeled_df2.drop(columns=['text_clarity', 'par_id', 'last_editor_gender'])"
   ]
  },
  {
   "cell_type": "markdown",
   "metadata": {},
   "source": [
    "## Dataset Splitting Strategy for Model Evaluation\n",
    "This code demonstrates a meticulous approach to splitting labeled data into distinct subsets for training, validation, and testing, ensuring a comprehensive evaluation framework for machine learning models."
   ]
  },
  {
   "cell_type": "code",
   "execution_count": 82,
   "metadata": {},
   "outputs": [],
   "source": [
    "# Split labeled data into training and a temporary set (for validation and testing)\n",
    "X_train, X_temp, y_train, y_temp = train_test_split(\n",
    "    labeled_df2.drop(columns=['text_clarity', 'par_id', 'index', 'last_editor_gender']), # Excluding the label column from splitting\n",
    "    labeled_df2['text_clarity'], # 'text_clarity' is the label\n",
    "    test_size=0.3, # 30% for the temp set (validation + test)\n",
    "    random_state=42)\n",
    "\n",
    "# Adjusting the second split to divide the temporary set into validation and test sets equally (50% of 30% = 15% of the total each)\n",
    "X_val, X_test, y_val, y_test = train_test_split(\n",
    "    X_temp,\n",
    "    y_temp,\n",
    "    test_size=0.5, # Splitting the temp set equally into validation and test\n",
    "    random_state=42)\n",
    "\n",
    "# Now the split is:\n",
    "# - X_train, y_train: Training set (70%)\n",
    "# - X_val, y_val: Validation set (15%)\n",
    "# - X_test, y_test: Test set (15%)"
   ]
  },
  {
   "cell_type": "markdown",
   "metadata": {},
   "source": [
    "## Generating Paragraph Embeddings with Word2Vec\n",
    "This code outlines the process of transforming paragraphs into embeddings using a pre-trained **Word2Vec** model, facilitating their use in machine learning models.\n",
    "\n",
    "*Details*:\n",
    "- Model Loading: Loads a pre-trained **Word2Vec** model from a specified path, using memory mapping for efficient access.\n",
    "- Text Preprocessing: \n",
    "  * Tokenizes each paragraph and converts tokens to lowercase.\n",
    "  * Filters out tokens not present in the **Word2Vec** model's vocabulary.\n",
    "- Embedding Generation:\n",
    "  * Converts preprocessed tokens into embeddings using the **Word2Vec** model.\n",
    "  * Averages token embeddings to create a single embedding vector for each paragraph."
   ]
  },
  {
   "cell_type": "code",
   "execution_count": 83,
   "metadata": {},
   "outputs": [
    {
     "data": {
      "application/vnd.jupyter.widget-view+json": {
       "model_id": "cb107999fd594934975f8cead1766000",
       "version_major": 2,
       "version_minor": 0
      },
      "text/plain": [
       "Pandas Apply:   0%|          | 0/9323 [00:00<?, ?it/s]"
      ]
     },
     "metadata": {},
     "output_type": "display_data"
    },
    {
     "name": "stdout",
     "output_type": "stream",
     "text": [
      "Shape of paragraph embeddings: 300\n"
     ]
    }
   ],
   "source": [
    "# Load the pre-trained Word2Vec model with memory mapping\n",
    "word2vec_model = KeyedVectors.load(word2vec_path, mmap='r')\n",
    "\n",
    "def preprocess_text(text):\n",
    "    # Tokenize the text and convert to lowercase\n",
    "    tokens = word_tokenize(text.lower())\n",
    "    # Corrected: directly check if token is in the KeyedVectors' vocabulary\n",
    "    tokens = [token for token in tokens if token in word2vec_model.key_to_index]\n",
    "    return tokens\n",
    "\n",
    "def paragraph_to_embedding(paragraph, model):\n",
    "    tokens = preprocess_text(paragraph)\n",
    "    if not tokens:\n",
    "        return np.zeros(model.vector_size)\n",
    "    # Corrected: directly access vectors from the KeyedVectors object\n",
    "    word_embeddings = [model[token] for token in tokens]\n",
    "    paragraph_embedding = np.mean(word_embeddings, axis=0)\n",
    "    return paragraph_embedding\n",
    "\n",
    "# Convert each paragraph to an embedding and stack them into a matrix\n",
    "paragraph_embeddings = np.vstack(df2['paragraph'].swifter.apply(lambda x: paragraph_to_embedding(x, word2vec_model)))\n",
    "\n",
    "# Define the input shape for the paragraph embeddings pathway\n",
    "paragraph_input_shape = (paragraph_embeddings.shape[1],)\n",
    "# Print the shape of the paragraph embeddings\n",
    "print(\"Shape of paragraph embeddings:\", paragraph_embeddings.shape[1])"
   ]
  },
  {
   "cell_type": "markdown",
   "metadata": {},
   "source": [
    "## Feature Encoding and Normalization for Task 2\n",
    "This code encompasses a comprehensive approach for preparing features, including encoding categorical variables, normalizing numerical features, and integrating binary attributes for a dataset in Task 2."
   ]
  },
  {
   "cell_type": "code",
   "execution_count": 84,
   "metadata": {},
   "outputs": [
    {
     "name": "stdout",
     "output_type": "stream",
     "text": [
      "Structured features shape: 27\n"
     ]
    }
   ],
   "source": [
    "# Encoder for 'has_entity'\n",
    "encoder_entity = OneHotEncoder(sparse_output=False)\n",
    "encoded_entities = encoder_entity.fit_transform(df2[['has_entity']])\n",
    "\n",
    "# Encoder for 'category'\n",
    "encoder_category = OneHotEncoder(sparse_output=False)\n",
    "encoded_categories = encoder_category.fit_transform(df2[['category']])\n",
    "\n",
    "# Selecting the columns to be normalized\n",
    "features_to_scale = df2[['relevance_score', 'specificity_score', 'clarity_score', 'logical_flow_score', 'lexicon_count', 'difficult_words']]\n",
    "# binary_features are correctly binary and do not need scaling\n",
    "binary_features = df2[['ORG', 'PRODUCT', 'PERSON']]\n",
    "\n",
    "# Initialize the StandardScaler\n",
    "scaler = StandardScaler()\n",
    "# Fit the scaler to the data and transform it in one step\n",
    "scaled_features = scaler.fit_transform(features_to_scale)\n",
    "\n",
    "# Create a new DataFrame from the scaled features, with the same column names for convenience\n",
    "scaled_features_df = pd.DataFrame(scaled_features, columns=features_to_scale.columns)\n",
    "# Concatenate scaled features with binary features\n",
    "complete_features = pd.concat([scaled_features_df, binary_features.reset_index(drop=True)], axis=1)\n",
    "\n",
    "# Put the models into a dictionary\n",
    "models = {\n",
    "    'encoder_entity': encoder_entity,\n",
    "    'encoder_category': encoder_category,\n",
    "    'scaler': scaler\n",
    "}\n",
    "\n",
    "# Save the dictionary\n",
    "joblib.dump(models, task2_enc_path)\n",
    "\n",
    "# Calculating the number of features for the structured input layer of the model\n",
    "num_encoded_entities = encoded_entities.shape[1]\n",
    "num_encoded_categories = encoded_categories.shape[1]\n",
    "num_binary_features = binary_features.shape[1] # Number of binary features\n",
    "\n",
    "# Numerical features based on feature selection\n",
    "num_numerical_features = 6 # Originally listed features to scale\n",
    "\n",
    "# Calculate the total number of structured features (+ num_encoded_presences)\n",
    "structured_features_shape = num_encoded_entities + num_encoded_categories + num_numerical_features + num_binary_features\n",
    "\n",
    "print(\"Structured features shape:\", structured_features_shape)"
   ]
  },
  {
   "cell_type": "markdown",
   "metadata": {},
   "source": [
    "## Generating Embeddings for Different Data Splits\n",
    "This code block focuses on converting text data within various subsets of a dataset into embeddings using a pre-trained Word2Vec model, suitable for deep learning or other machine learning models that require numerical input."
   ]
  },
  {
   "cell_type": "code",
   "execution_count": 85,
   "metadata": {},
   "outputs": [
    {
     "data": {
      "application/vnd.jupyter.widget-view+json": {
       "model_id": "943ebd81a11a40188b082a4a74daaeab",
       "version_major": 2,
       "version_minor": 0
      },
      "text/plain": [
       "Pandas Apply:   0%|          | 0/76 [00:00<?, ?it/s]"
      ]
     },
     "metadata": {},
     "output_type": "display_data"
    },
    {
     "data": {
      "application/vnd.jupyter.widget-view+json": {
       "model_id": "f41e2c9ecdb24ab187401e0a72b8e58d",
       "version_major": 2,
       "version_minor": 0
      },
      "text/plain": [
       "Pandas Apply:   0%|          | 0/16 [00:00<?, ?it/s]"
      ]
     },
     "metadata": {},
     "output_type": "display_data"
    },
    {
     "data": {
      "application/vnd.jupyter.widget-view+json": {
       "model_id": "20046f7a4eec4d1aa36372b3e2aa2d2a",
       "version_major": 2,
       "version_minor": 0
      },
      "text/plain": [
       "Pandas Apply:   0%|          | 0/17 [00:00<?, ?it/s]"
      ]
     },
     "metadata": {},
     "output_type": "display_data"
    },
    {
     "data": {
      "application/vnd.jupyter.widget-view+json": {
       "model_id": "d6bbfa2a8c6249dfad6844d612028599",
       "version_major": 2,
       "version_minor": 0
      },
      "text/plain": [
       "Pandas Apply:   0%|          | 0/9214 [00:00<?, ?it/s]"
      ]
     },
     "metadata": {},
     "output_type": "display_data"
    }
   ],
   "source": [
    "# Assuming 'paragraph' is the column containing text data you wish to convert\n",
    "train_paragraph_embeddings = np.vstack(X_train['paragraph'].swifter.apply(lambda x: paragraph_to_embedding(x, word2vec_model)))\n",
    "val_paragraph_embeddings = np.vstack(X_val['paragraph'].swifter.apply(lambda x: paragraph_to_embedding(x, word2vec_model)))\n",
    "test_paragraph_embeddings = np.vstack(X_test['paragraph'].swifter.apply(lambda x: paragraph_to_embedding(x, word2vec_model)))\n",
    "unlabeled_paragraph_embeddings = np.vstack(X_unlabeled['paragraph'].swifter.apply(lambda x: paragraph_to_embedding(x, word2vec_model)))"
   ]
  },
  {
   "cell_type": "markdown",
   "metadata": {},
   "source": [
    "## Generating Sentence Embeddings for Dataset Splits\n",
    "This section details the process of generating sentence embeddings for the training, validation, and testing splits of a dataset using a pre-trained machine learning model."
   ]
  },
  {
   "cell_type": "code",
   "execution_count": 86,
   "metadata": {},
   "outputs": [],
   "source": [
    "# Generate embeddings\n",
    "train_embeddings = mlm_model.encode(X_train['paragraph'].tolist())\n",
    "val_embeddings = mlm_model.encode(X_val['paragraph'].tolist())\n",
    "test_embeddings = mlm_model.encode(X_test['paragraph'].tolist())"
   ]
  },
  {
   "cell_type": "markdown",
   "metadata": {},
   "source": [
    "## Preprocessing Features with Encodings and Scaling\n",
    "This code describes loading previously saved encoders and a scaler to apply one-hot encodings and numerical scaling to features of a dataset, preparing it for machine learning model input."
   ]
  },
  {
   "cell_type": "code",
   "execution_count": 87,
   "metadata": {},
   "outputs": [],
   "source": [
    "# Load the dictionary\n",
    "enc_models = joblib.load(task2_enc_path)\n",
    "\n",
    "# Access each model\n",
    "encoder_entity = enc_models['encoder_entity']\n",
    "encoder_category = enc_models['encoder_category']\n",
    "scaler = enc_models['scaler']\n",
    "\n",
    "# Function to apply encodings and scaling\n",
    "def preprocess_features(df):\n",
    "    # Apply one-hot encodings\n",
    "    entity_features = encoder_entity.transform(df[['has_entity']])\n",
    "    # presence_features = encoder_presence.transform(df[['entity_presence']])\n",
    "    category_features = encoder_category.transform(df[['category']])\n",
    "\n",
    "    # Scaling\n",
    "    numerical_features = scaler.transform(df[['relevance_score', 'specificity_score', 'clarity_score', 'logical_flow_score', 'lexicon_count', 'difficult_words']])\n",
    "    \n",
    "    # Concatenate all features (, presence_features)\n",
    "    features = np.concatenate([entity_features, category_features, numerical_features], axis=1)\n",
    "    return features\n",
    "\n",
    "# Applying preprocessing to labeled data\n",
    "train_features = preprocess_features(X_train)\n",
    "val_features = preprocess_features(X_val)\n",
    "test_features = preprocess_features(X_test)\n",
    "\n",
    "# Applying preprocessing to unlabeled data for semi-supervised learning\n",
    "unlabeled_features = preprocess_features(X_unlabeled)"
   ]
  },
  {
   "cell_type": "markdown",
   "metadata": {},
   "source": [
    "## Building a Multi-Input Neural Network for Classification\n",
    "This code outlines the construction of a neural network model that integrates paragraph embeddings and structured features into a unified architecture for binary classification.\n",
    "\n",
    "*Model Architecture*:\n",
    "- Input Layers: Defines two separate inputs for the model:\n",
    "    * `paragraph_input`: Accepts paragraph embeddings with the shape determined by input_shape_paragraph.\n",
    "    * `structured_input`: Accepts preprocessed structured features with the shape determined by input_shape_structured.\n",
    "- Embeddings Pathway:\n",
    "    * Processes paragraph embeddings through a dense layer followed by dropout to reduce overfitting.\n",
    "- Structured Features Pathway:\n",
    "    * Processes structured features through a dense layer, focusing on capturing relationships within these data.\n",
    "- Combination and Classification:\n",
    "    * Concatenates the outputs from both pathways.\n",
    "    * Further processes the combined data through a dense layer and dropout.\n",
    "    * Culminates in a dense layer with a sigmoid activation function for binary classification."
   ]
  },
  {
   "cell_type": "code",
   "execution_count": 88,
   "metadata": {},
   "outputs": [
    {
     "data": {
      "text/html": [
       "<pre style=\"white-space:pre;overflow-x:auto;line-height:normal;font-family:Menlo,'DejaVu Sans Mono',consolas,'Courier New',monospace\"><span style=\"font-weight: bold\">Model: \"functional_3\"</span>\n",
       "</pre>\n"
      ],
      "text/plain": [
       "\u001b[1mModel: \"functional_3\"\u001b[0m\n"
      ]
     },
     "metadata": {},
     "output_type": "display_data"
    },
    {
     "data": {
      "text/html": [
       "<pre style=\"white-space:pre;overflow-x:auto;line-height:normal;font-family:Menlo,'DejaVu Sans Mono',consolas,'Courier New',monospace\">┏━━━━━━━━━━━━━━━━━━━━━┳━━━━━━━━━━━━━━━━━━━┳━━━━━━━━━━━━┳━━━━━━━━━━━━━━━━━━━┓\n",
       "┃<span style=\"font-weight: bold\"> Layer (type)        </span>┃<span style=\"font-weight: bold\"> Output Shape      </span>┃<span style=\"font-weight: bold\">    Param # </span>┃<span style=\"font-weight: bold\"> Connected to      </span>┃\n",
       "┡━━━━━━━━━━━━━━━━━━━━━╇━━━━━━━━━━━━━━━━━━━╇━━━━━━━━━━━━╇━━━━━━━━━━━━━━━━━━━┩\n",
       "│ paragraph_input     │ (<span style=\"color: #00d7ff; text-decoration-color: #00d7ff\">None</span>, <span style=\"color: #00af00; text-decoration-color: #00af00\">300</span>)       │          <span style=\"color: #00af00; text-decoration-color: #00af00\">0</span> │ -                 │\n",
       "│ (<span style=\"color: #0087ff; text-decoration-color: #0087ff\">InputLayer</span>)        │                   │            │                   │\n",
       "├─────────────────────┼───────────────────┼────────────┼───────────────────┤\n",
       "│ dense_3 (<span style=\"color: #0087ff; text-decoration-color: #0087ff\">Dense</span>)     │ (<span style=\"color: #00d7ff; text-decoration-color: #00d7ff\">None</span>, <span style=\"color: #00af00; text-decoration-color: #00af00\">128</span>)       │     <span style=\"color: #00af00; text-decoration-color: #00af00\">38,528</span> │ paragraph_input[<span style=\"color: #00af00; text-decoration-color: #00af00\">…</span> │\n",
       "├─────────────────────┼───────────────────┼────────────┼───────────────────┤\n",
       "│ structured_input    │ (<span style=\"color: #00d7ff; text-decoration-color: #00d7ff\">None</span>, <span style=\"color: #00af00; text-decoration-color: #00af00\">24</span>)        │          <span style=\"color: #00af00; text-decoration-color: #00af00\">0</span> │ -                 │\n",
       "│ (<span style=\"color: #0087ff; text-decoration-color: #0087ff\">InputLayer</span>)        │                   │            │                   │\n",
       "├─────────────────────┼───────────────────┼────────────┼───────────────────┤\n",
       "│ dropout_2 (<span style=\"color: #0087ff; text-decoration-color: #0087ff\">Dropout</span>) │ (<span style=\"color: #00d7ff; text-decoration-color: #00d7ff\">None</span>, <span style=\"color: #00af00; text-decoration-color: #00af00\">128</span>)       │          <span style=\"color: #00af00; text-decoration-color: #00af00\">0</span> │ dense_3[<span style=\"color: #00af00; text-decoration-color: #00af00\">0</span>][<span style=\"color: #00af00; text-decoration-color: #00af00\">0</span>]     │\n",
       "├─────────────────────┼───────────────────┼────────────┼───────────────────┤\n",
       "│ dense_4 (<span style=\"color: #0087ff; text-decoration-color: #0087ff\">Dense</span>)     │ (<span style=\"color: #00d7ff; text-decoration-color: #00d7ff\">None</span>, <span style=\"color: #00af00; text-decoration-color: #00af00\">64</span>)        │      <span style=\"color: #00af00; text-decoration-color: #00af00\">1,600</span> │ structured_input… │\n",
       "├─────────────────────┼───────────────────┼────────────┼───────────────────┤\n",
       "│ concatenate_1       │ (<span style=\"color: #00d7ff; text-decoration-color: #00d7ff\">None</span>, <span style=\"color: #00af00; text-decoration-color: #00af00\">192</span>)       │          <span style=\"color: #00af00; text-decoration-color: #00af00\">0</span> │ dropout_2[<span style=\"color: #00af00; text-decoration-color: #00af00\">0</span>][<span style=\"color: #00af00; text-decoration-color: #00af00\">0</span>],  │\n",
       "│ (<span style=\"color: #0087ff; text-decoration-color: #0087ff\">Concatenate</span>)       │                   │            │ dense_4[<span style=\"color: #00af00; text-decoration-color: #00af00\">0</span>][<span style=\"color: #00af00; text-decoration-color: #00af00\">0</span>]     │\n",
       "├─────────────────────┼───────────────────┼────────────┼───────────────────┤\n",
       "│ dense_5 (<span style=\"color: #0087ff; text-decoration-color: #0087ff\">Dense</span>)     │ (<span style=\"color: #00d7ff; text-decoration-color: #00d7ff\">None</span>, <span style=\"color: #00af00; text-decoration-color: #00af00\">128</span>)       │     <span style=\"color: #00af00; text-decoration-color: #00af00\">24,704</span> │ concatenate_1[<span style=\"color: #00af00; text-decoration-color: #00af00\">0</span>]… │\n",
       "├─────────────────────┼───────────────────┼────────────┼───────────────────┤\n",
       "│ dropout_3 (<span style=\"color: #0087ff; text-decoration-color: #0087ff\">Dropout</span>) │ (<span style=\"color: #00d7ff; text-decoration-color: #00d7ff\">None</span>, <span style=\"color: #00af00; text-decoration-color: #00af00\">128</span>)       │          <span style=\"color: #00af00; text-decoration-color: #00af00\">0</span> │ dense_5[<span style=\"color: #00af00; text-decoration-color: #00af00\">0</span>][<span style=\"color: #00af00; text-decoration-color: #00af00\">0</span>]     │\n",
       "├─────────────────────┼───────────────────┼────────────┼───────────────────┤\n",
       "│ output (<span style=\"color: #0087ff; text-decoration-color: #0087ff\">Dense</span>)      │ (<span style=\"color: #00d7ff; text-decoration-color: #00d7ff\">None</span>, <span style=\"color: #00af00; text-decoration-color: #00af00\">1</span>)         │        <span style=\"color: #00af00; text-decoration-color: #00af00\">129</span> │ dropout_3[<span style=\"color: #00af00; text-decoration-color: #00af00\">0</span>][<span style=\"color: #00af00; text-decoration-color: #00af00\">0</span>]   │\n",
       "└─────────────────────┴───────────────────┴────────────┴───────────────────┘\n",
       "</pre>\n"
      ],
      "text/plain": [
       "┏━━━━━━━━━━━━━━━━━━━━━┳━━━━━━━━━━━━━━━━━━━┳━━━━━━━━━━━━┳━━━━━━━━━━━━━━━━━━━┓\n",
       "┃\u001b[1m \u001b[0m\u001b[1mLayer (type)       \u001b[0m\u001b[1m \u001b[0m┃\u001b[1m \u001b[0m\u001b[1mOutput Shape     \u001b[0m\u001b[1m \u001b[0m┃\u001b[1m \u001b[0m\u001b[1m   Param #\u001b[0m\u001b[1m \u001b[0m┃\u001b[1m \u001b[0m\u001b[1mConnected to     \u001b[0m\u001b[1m \u001b[0m┃\n",
       "┡━━━━━━━━━━━━━━━━━━━━━╇━━━━━━━━━━━━━━━━━━━╇━━━━━━━━━━━━╇━━━━━━━━━━━━━━━━━━━┩\n",
       "│ paragraph_input     │ (\u001b[38;5;45mNone\u001b[0m, \u001b[38;5;34m300\u001b[0m)       │          \u001b[38;5;34m0\u001b[0m │ -                 │\n",
       "│ (\u001b[38;5;33mInputLayer\u001b[0m)        │                   │            │                   │\n",
       "├─────────────────────┼───────────────────┼────────────┼───────────────────┤\n",
       "│ dense_3 (\u001b[38;5;33mDense\u001b[0m)     │ (\u001b[38;5;45mNone\u001b[0m, \u001b[38;5;34m128\u001b[0m)       │     \u001b[38;5;34m38,528\u001b[0m │ paragraph_input[\u001b[38;5;34m…\u001b[0m │\n",
       "├─────────────────────┼───────────────────┼────────────┼───────────────────┤\n",
       "│ structured_input    │ (\u001b[38;5;45mNone\u001b[0m, \u001b[38;5;34m24\u001b[0m)        │          \u001b[38;5;34m0\u001b[0m │ -                 │\n",
       "│ (\u001b[38;5;33mInputLayer\u001b[0m)        │                   │            │                   │\n",
       "├─────────────────────┼───────────────────┼────────────┼───────────────────┤\n",
       "│ dropout_2 (\u001b[38;5;33mDropout\u001b[0m) │ (\u001b[38;5;45mNone\u001b[0m, \u001b[38;5;34m128\u001b[0m)       │          \u001b[38;5;34m0\u001b[0m │ dense_3[\u001b[38;5;34m0\u001b[0m][\u001b[38;5;34m0\u001b[0m]     │\n",
       "├─────────────────────┼───────────────────┼────────────┼───────────────────┤\n",
       "│ dense_4 (\u001b[38;5;33mDense\u001b[0m)     │ (\u001b[38;5;45mNone\u001b[0m, \u001b[38;5;34m64\u001b[0m)        │      \u001b[38;5;34m1,600\u001b[0m │ structured_input… │\n",
       "├─────────────────────┼───────────────────┼────────────┼───────────────────┤\n",
       "│ concatenate_1       │ (\u001b[38;5;45mNone\u001b[0m, \u001b[38;5;34m192\u001b[0m)       │          \u001b[38;5;34m0\u001b[0m │ dropout_2[\u001b[38;5;34m0\u001b[0m][\u001b[38;5;34m0\u001b[0m],  │\n",
       "│ (\u001b[38;5;33mConcatenate\u001b[0m)       │                   │            │ dense_4[\u001b[38;5;34m0\u001b[0m][\u001b[38;5;34m0\u001b[0m]     │\n",
       "├─────────────────────┼───────────────────┼────────────┼───────────────────┤\n",
       "│ dense_5 (\u001b[38;5;33mDense\u001b[0m)     │ (\u001b[38;5;45mNone\u001b[0m, \u001b[38;5;34m128\u001b[0m)       │     \u001b[38;5;34m24,704\u001b[0m │ concatenate_1[\u001b[38;5;34m0\u001b[0m]… │\n",
       "├─────────────────────┼───────────────────┼────────────┼───────────────────┤\n",
       "│ dropout_3 (\u001b[38;5;33mDropout\u001b[0m) │ (\u001b[38;5;45mNone\u001b[0m, \u001b[38;5;34m128\u001b[0m)       │          \u001b[38;5;34m0\u001b[0m │ dense_5[\u001b[38;5;34m0\u001b[0m][\u001b[38;5;34m0\u001b[0m]     │\n",
       "├─────────────────────┼───────────────────┼────────────┼───────────────────┤\n",
       "│ output (\u001b[38;5;33mDense\u001b[0m)      │ (\u001b[38;5;45mNone\u001b[0m, \u001b[38;5;34m1\u001b[0m)         │        \u001b[38;5;34m129\u001b[0m │ dropout_3[\u001b[38;5;34m0\u001b[0m][\u001b[38;5;34m0\u001b[0m]   │\n",
       "└─────────────────────┴───────────────────┴────────────┴───────────────────┘\n"
      ]
     },
     "metadata": {},
     "output_type": "display_data"
    },
    {
     "data": {
      "text/html": [
       "<pre style=\"white-space:pre;overflow-x:auto;line-height:normal;font-family:Menlo,'DejaVu Sans Mono',consolas,'Courier New',monospace\"><span style=\"font-weight: bold\"> Total params: </span><span style=\"color: #00af00; text-decoration-color: #00af00\">64,961</span> (253.75 KB)\n",
       "</pre>\n"
      ],
      "text/plain": [
       "\u001b[1m Total params: \u001b[0m\u001b[38;5;34m64,961\u001b[0m (253.75 KB)\n"
      ]
     },
     "metadata": {},
     "output_type": "display_data"
    },
    {
     "data": {
      "text/html": [
       "<pre style=\"white-space:pre;overflow-x:auto;line-height:normal;font-family:Menlo,'DejaVu Sans Mono',consolas,'Courier New',monospace\"><span style=\"font-weight: bold\"> Trainable params: </span><span style=\"color: #00af00; text-decoration-color: #00af00\">64,961</span> (253.75 KB)\n",
       "</pre>\n"
      ],
      "text/plain": [
       "\u001b[1m Trainable params: \u001b[0m\u001b[38;5;34m64,961\u001b[0m (253.75 KB)\n"
      ]
     },
     "metadata": {},
     "output_type": "display_data"
    },
    {
     "data": {
      "text/html": [
       "<pre style=\"white-space:pre;overflow-x:auto;line-height:normal;font-family:Menlo,'DejaVu Sans Mono',consolas,'Courier New',monospace\"><span style=\"font-weight: bold\"> Non-trainable params: </span><span style=\"color: #00af00; text-decoration-color: #00af00\">0</span> (0.00 B)\n",
       "</pre>\n"
      ],
      "text/plain": [
       "\u001b[1m Non-trainable params: \u001b[0m\u001b[38;5;34m0\u001b[0m (0.00 B)\n"
      ]
     },
     "metadata": {},
     "output_type": "display_data"
    }
   ],
   "source": [
    "# Create the input layers\n",
    "paragraph_input = paragraph_input_shape\n",
    "structured_input = structured_features_shape\n",
    "\n",
    "# Define classification model architecture\n",
    "def build_model(input_shape_paragraph, input_shape_structured):\n",
    "    # Paragraph embeddings input\n",
    "    paragraph_input = Input(shape=(input_shape_paragraph,), name='paragraph_input')\n",
    "    x = Dense(128, activation='relu')(paragraph_input)\n",
    "    x = Dropout(0.5)(x)\n",
    "\n",
    "    # Structured features input\n",
    "    structured_input = Input(shape=(input_shape_structured,), name='structured_input')\n",
    "    y = Dense(64, activation='relu')(structured_input)\n",
    "    \n",
    "    # Combine the two inputs\n",
    "    combined = Concatenate()([x, y])\n",
    "    combined = Dense(128, activation='relu')(combined)\n",
    "    combined = Dropout(0.5)(combined)\n",
    "    output = Dense(1, activation='sigmoid', name='output')(combined) # Binary classification output\n",
    "    \n",
    "    model = Model(inputs=[paragraph_input, structured_input], outputs=output)\n",
    "    model.compile(optimizer='adam', loss='binary_crossentropy', metrics=['accuracy'])\n",
    "    return model\n",
    "\n",
    "# Assuming input_shape_paragraph and input_shape_structured are correctly set based on your data\n",
    "model = build_model(train_paragraph_embeddings.shape[1], train_features.shape[1])\n",
    "\n",
    "model.summary()"
   ]
  },
  {
   "cell_type": "markdown",
   "metadata": {},
   "source": [
    "## Training a Neural Network with Balanced Class Weights\n",
    "This code segment focuses on preparing labels for model training, applying class weights for balance, and conducting the training process on a dual-input neural network.\n",
    "\n",
    "- **Label Encoding**: Converts `'text_clarity'` labels from categorical to binary numerical format, with `'clear_enough'` mapped to 1 and `'not_clear_enough'` mapped to 0 for both training and validation sets.\n",
    "- **Class Weights Calculation**: Calculates class weights using `compute_class_weight` to address class imbalance, ensuring the model does not favor the more frequent class."
   ]
  },
  {
   "cell_type": "code",
   "execution_count": 97,
   "metadata": {},
   "outputs": [
    {
     "name": "stdout",
     "output_type": "stream",
     "text": [
      "Class weights:  {0: 1.9, 1: 0.6785714285714286}\n",
      "Epoch 1/10\n"
     ]
    },
    {
     "name": "stdout",
     "output_type": "stream",
     "text": [
      "\u001b[1m3/3\u001b[0m \u001b[32m━━━━━━━━━━━━━━━━━━━━\u001b[0m\u001b[37m\u001b[0m \u001b[1m1s\u001b[0m 65ms/step - accuracy: 0.7434 - loss: 0.7900 - val_accuracy: 0.6875 - val_loss: 0.6891\n",
      "Epoch 2/10\n",
      "\u001b[1m3/3\u001b[0m \u001b[32m━━━━━━━━━━━━━━━━━━━━\u001b[0m\u001b[37m\u001b[0m \u001b[1m0s\u001b[0m 29ms/step - accuracy: 0.7278 - loss: 0.8320 - val_accuracy: 0.6875 - val_loss: 0.6893\n",
      "Epoch 3/10\n",
      "\u001b[1m3/3\u001b[0m \u001b[32m━━━━━━━━━━━━━━━━━━━━\u001b[0m\u001b[37m\u001b[0m \u001b[1m0s\u001b[0m 45ms/step - accuracy: 0.7630 - loss: 0.7733 - val_accuracy: 0.6875 - val_loss: 0.6897\n",
      "Epoch 4/10\n",
      "\u001b[1m3/3\u001b[0m \u001b[32m━━━━━━━━━━━━━━━━━━━━\u001b[0m\u001b[37m\u001b[0m \u001b[1m0s\u001b[0m 34ms/step - accuracy: 0.7356 - loss: 0.7567 - val_accuracy: 0.6875 - val_loss: 0.6901\n",
      "Epoch 5/10\n",
      "\u001b[1m3/3\u001b[0m \u001b[32m━━━━━━━━━━━━━━━━━━━━\u001b[0m\u001b[37m\u001b[0m \u001b[1m0s\u001b[0m 32ms/step - accuracy: 0.7278 - loss: 0.6920 - val_accuracy: 0.6875 - val_loss: 0.6906\n",
      "Epoch 6/10\n",
      "\u001b[1m3/3\u001b[0m \u001b[32m━━━━━━━━━━━━━━━━━━━━\u001b[0m\u001b[37m\u001b[0m \u001b[1m0s\u001b[0m 32ms/step - accuracy: 0.7225 - loss: 0.6590 - val_accuracy: 0.6875 - val_loss: 0.6910\n",
      "Epoch 7/10\n",
      "\u001b[1m3/3\u001b[0m \u001b[32m━━━━━━━━━━━━━━━━━━━━\u001b[0m\u001b[37m\u001b[0m \u001b[1m0s\u001b[0m 34ms/step - accuracy: 0.7173 - loss: 0.6771 - val_accuracy: 0.6875 - val_loss: 0.6913\n",
      "Epoch 8/10\n",
      "\u001b[1m3/3\u001b[0m \u001b[32m━━━━━━━━━━━━━━━━━━━━\u001b[0m\u001b[37m\u001b[0m \u001b[1m0s\u001b[0m 28ms/step - accuracy: 0.7303 - loss: 0.6670 - val_accuracy: 0.6875 - val_loss: 0.6915\n",
      "Epoch 9/10\n",
      "\u001b[1m3/3\u001b[0m \u001b[32m━━━━━━━━━━━━━━━━━━━━\u001b[0m\u001b[37m\u001b[0m \u001b[1m0s\u001b[0m 26ms/step - accuracy: 0.7617 - loss: 0.6664 - val_accuracy: 0.6875 - val_loss: 0.6917\n",
      "Epoch 10/10\n",
      "\u001b[1m3/3\u001b[0m \u001b[32m━━━━━━━━━━━━━━━━━━━━\u001b[0m\u001b[37m\u001b[0m \u001b[1m0s\u001b[0m 27ms/step - accuracy: 0.5890 - loss: 0.6722 - val_accuracy: 0.6875 - val_loss: 0.6917\n"
     ]
    }
   ],
   "source": [
    "# Convert 'text_clarity' labels to numerical format for training\n",
    "y_train_encoded = y_train.map({'clear_enough': 1, 'not_clear_enough': 0}).values\n",
    "y_val_encoded = y_val.map({'clear_enough': 1, 'not_clear_enough': 0}).values\n",
    "\n",
    "classes = np.unique(y_train_encoded)\n",
    "class_weights = compute_class_weight(class_weight='balanced', classes=classes, y=y_train_encoded)\n",
    "\n",
    "class_weights_dict = {classes[i]: weight for i, weight in enumerate(class_weights)}\n",
    "print(\"Class weights: \", class_weights_dict)\n",
    "\n",
    "# Train the model\n",
    "clf_name = 'CN-Proto' # Convolutional Neural Network for Prototype\n",
    "history = model.fit(\n",
    "    [train_paragraph_embeddings, train_features], y_train_encoded,\n",
    "    validation_data=([val_paragraph_embeddings, val_features], y_val_encoded),\n",
    "    epochs=10,\n",
    "    batch_size=32,\n",
    "    class_weight=class_weights_dict\n",
    ")"
   ]
  },
  {
   "cell_type": "markdown",
   "metadata": {},
   "source": [
    "## Evaluating Model Performance on Test Data\n",
    "This code block details the evaluation of a trained model on a test dataset, focusing on calculating the loss and accuracy to assess performance."
   ]
  },
  {
   "cell_type": "code",
   "execution_count": 99,
   "metadata": {},
   "outputs": [
    {
     "name": "stdout",
     "output_type": "stream",
     "text": [
      "\u001b[1m1/1\u001b[0m \u001b[32m━━━━━━━━━━━━━━━━━━━━\u001b[0m\u001b[37m\u001b[0m \u001b[1m0s\u001b[0m 40ms/step - accuracy: 0.7647 - loss: 0.6912\n",
      "Test Loss: 0.6911691427230835, Test Accuracy: 0.7647058963775635\n",
      "Accuracy: 76.47%\n"
     ]
    }
   ],
   "source": [
    "# y_test contains 'clear_enough' and 'not_clear_enough' strings\n",
    "y_test_encoded = y_test.map({'clear_enough': 1, 'not_clear_enough': 0}).astype(int)\n",
    "\n",
    "test_loss, test_accuracy = model.evaluate(\n",
    "    [test_paragraph_embeddings, test_features], y_test_encoded\n",
    ")\n",
    "print(f\"Test Loss: {test_loss}, Test Accuracy: {test_accuracy}\")\n",
    "# Before calculating accuracy, ensure 'predicted' is correctly shaped and comparable to 'y_test_encoded'\n",
    "if len(predicted) == len(y_test_encoded):\n",
    "    # Convert 'predicted' to the same format as 'y_test_encoded'\n",
    "    predicted_encoded = np.round(predicted).astype(int)\n",
    "\n",
    "    # Calculate accuracy\n",
    "    accuracy = np.mean(predicted_encoded == y_test_encoded.values)\n",
    "    print(f'Accuracy: {accuracy * 100:.2f}%')\n",
    "else:\n",
    "    print(\"Error: Mismatched lengths between predicted and actual labels.\")"
   ]
  },
  {
   "cell_type": "markdown",
   "metadata": {},
   "source": [
    "## Test Set Predictions and Sample Evaluation\n",
    "This snippet focuses on generating and evaluating model predictions for the test set, showcasing the model's performance with sample outputs and accuracy calculation."
   ]
  },
  {
   "cell_type": "code",
   "execution_count": 100,
   "metadata": {},
   "outputs": [
    {
     "name": "stdout",
     "output_type": "stream",
     "text": [
      "\u001b[1m1/1\u001b[0m \u001b[32m━━━━━━━━━━━━━━━━━━━━\u001b[0m\u001b[37m\u001b[0m \u001b[1m0s\u001b[0m 24ms/step\n"
     ]
    },
    {
     "name": "stdout",
     "output_type": "stream",
     "text": [
      "-------------------------------------------------------\n",
      "Document: Suppose a coach trains long-distance runners for one month using two methods. Group A has 5 runners, and Group B has 4 runners. The hypothesis is that method A produces faster runners. The race to assess the results finds that the runners from Group A do indeed run faster, with the following ranks: 1, 2, 3, 4, and 6. The slower runners from Group B thus have ranks of 5, 7, 8, and 9. \n",
      "True Clarity: 'not_clear_enough', Predicted Clarity: 'clear_enough'\n",
      "-------------------------------------------------------\n",
      "-------------------------------------------------------\n",
      "Document: Kotlin provides the following keywords to restrict visibility for top-level declaration, such as classes, and for class members: public, internal, protected, and private.\n",
      "True Clarity: 'clear_enough', Predicted Clarity: 'clear_enough'\n",
      "-------------------------------------------------------\n",
      "Accuracy: 76.47%\n"
     ]
    }
   ],
   "source": [
    "# Generate predictions for the test set\n",
    "predicted_probabilities = model.predict([test_paragraph_embeddings, test_features])\n",
    "# Apply threshold to determine class labels\n",
    "predicted = (predicted_probabilities > 0.5).astype(int).flatten()\n",
    "\n",
    "# Mapping predicted labels back to 'clear_enough' or 'not_clear_enough'\n",
    "predicted_labels = np.where(predicted == 1, 'clear_enough', 'not_clear_enough')\n",
    "\n",
    "# Reset index on X_test and y_test for consistent indexing\n",
    "X_test = X_test.reset_index(drop=True)\n",
    "y_test = y_test.reset_index(drop=True)\n",
    "\n",
    "# Select random examples to display\n",
    "np.random.seed(42) # Ensure reproducibility\n",
    "random_indices = np.random.choice(len(X_test), size=2, replace=False)\n",
    "\n",
    "for i in random_indices:\n",
    "    doc = X_test.loc[i, 'paragraph'] # Replace 'paragraph' with the correct column name if necessary\n",
    "    true_label = y_test.iloc[i]\n",
    "    pred_label = predicted_labels[i]\n",
    "\n",
    "    print(\"-\"*55)\n",
    "    print(f\"Document: {doc}\")\n",
    "    print(f\"True Clarity: '{true_label}', Predicted Clarity: '{pred_label}'\")\n",
    "    print(\"-\"*55)\n",
    "\n",
    "# Calculate and print the accuracy\n",
    "y_test_encoded = y_test.map({'clear_enough': 1, 'not_clear_enough': 0}).astype(int)\n",
    "accuracy = accuracy_score(y_test_encoded, predicted)\n",
    "print(f'Accuracy: {accuracy * 100:.2f}%')"
   ]
  },
  {
   "cell_type": "markdown",
   "metadata": {},
   "source": [
    "## Saving the Trained Model Prototype\n",
    "This code outlines the process for saving a trained model to disk, specifying the file naming convention and ensuring the existence of the target directory."
   ]
  },
  {
   "cell_type": "code",
   "execution_count": 92,
   "metadata": {},
   "outputs": [],
   "source": [
    "# Define the name and path for the model file\n",
    "task_name = 'Task-2' # Task name\n",
    "model_extn = '.keras' # Extension for the model file\n",
    "model_name = f'{task_name}{clf_name}{model_extn}' # Name of the model file\n",
    "dir_name = '../Models/' # Directory to save the model\n",
    "path_name = os.path.join(dir_name, model_name) # Complete path to save the model\n",
    "\n",
    "# Ensure that the 'Models' directory exists before trying to save the file\n",
    "if not os.path.exists(dir_name):\n",
    "    os.makedirs(dir_name)\n",
    "\n",
    "# Save the model\n",
    "model.save(path_name)"
   ]
  },
  {
   "cell_type": "markdown",
   "metadata": {},
   "source": [
    "## Generating Predictions for Unlabeled Data\n",
    "This segment demonstrates generating predictions for unlabeled data to infer `'text_clarity'` values using a trained model, and saving these predictions to a new CSV file."
   ]
  },
  {
   "cell_type": "code",
   "execution_count": 93,
   "metadata": {},
   "outputs": [
    {
     "data": {
      "application/vnd.jupyter.widget-view+json": {
       "model_id": "8bb6f30135544a878eeb71d9c33eab88",
       "version_major": 2,
       "version_minor": 0
      },
      "text/plain": [
       "Pandas Apply:   0%|          | 0/9323 [00:00<?, ?it/s]"
      ]
     },
     "metadata": {},
     "output_type": "display_data"
    }
   ],
   "source": [
    "new_paragraph_embeddings = np.vstack(new_df['paragraph'].swifter.apply(lambda x: paragraph_to_embedding(x, word2vec_model)))\n",
    "new_embeddings = mlm_model.encode(new_df['paragraph'].tolist())\n",
    "new_features = preprocess_features(new_df)"
   ]
  },
  {
   "cell_type": "code",
   "execution_count": 96,
   "metadata": {},
   "outputs": [
    {
     "name": "stdout",
     "output_type": "stream",
     "text": [
      "\u001b[1m292/292\u001b[0m \u001b[32m━━━━━━━━━━━━━━━━━━━━\u001b[0m\u001b[37m\u001b[0m \u001b[1m1s\u001b[0m 2ms/step\n"
     ]
    },
    {
     "data": {
      "image/png": "[encoded data removed]",
      "text/plain": [
       "<Figure size 640x480 with 1 Axes>"
      ]
     },
     "metadata": {},
     "output_type": "display_data"
    }
   ],
   "source": [
    "# Predict the 'text_clarity' values using the model\n",
    "predicted_clarity = model.predict([new_paragraph_embeddings, new_features])\n",
    "\n",
    "# Convert predictions to the desired label (e.g., clear_enough, not_clear_enough)\n",
    "predicted_clarity_labels = ['clear_enough' if x > 0.5 else 'not_clear_enough' for x in predicted_clarity.flatten()]\n",
    "\n",
    "import matplotlib.pyplot as plt\n",
    "\n",
    "counts = pd.value_counts(predicted_clarity_labels)\n",
    "plt.bar(counts.index, counts.values)\n",
    "plt.title('Predicted Clarity Label Distribution')\n",
    "plt.xlabel('Clarity Label')\n",
    "plt.ylabel('Count')\n",
    "\n",
    "\n",
    "new_df['clarity_predicted'] = predicted_clarity_labels\n",
    "\n",
    "# Save the updated dataframe to a new CSV file\n",
    "updated_file_path = '../Datasets/task2-final_dataset.csv' # TODO: Rename the file if needed\n",
    "new_df.to_csv(updated_file_path, index=False)"
   ]
  }
 ],
 "metadata": {
  "kernelspec": {
   "display_name": "COMP1804-AML",
   "language": "python",
   "name": "python3"
  },
  "language_info": {
   "codemirror_mode": {
    "name": "ipython",
    "version": 3
   },
   "file_extension": ".py",
   "mimetype": "text/x-python",
   "name": "python",
   "nbconvert_exporter": "python",
   "pygments_lexer": "ipython3",
   "version": "3.10.13"
  }
 },
 "nbformat": 4,
 "nbformat_minor": 2
}
